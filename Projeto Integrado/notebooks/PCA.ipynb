{
 "cells": [
  {
   "cell_type": "markdown",
   "id": "20b237db",
   "metadata": {},
   "source": [
    "# Principal Component Analysis"
   ]
  },
  {
   "cell_type": "code",
   "execution_count": 93,
   "id": "df20ec25",
   "metadata": {},
   "outputs": [],
   "source": [
    "## NOTE: This is Python 3 code.\n",
    "import pandas as pd\n",
    "import numpy as np\n",
    "import random as rd\n",
    "from sklearn.decomposition import PCA\n",
    "from sklearn import preprocessing\n",
    "import matplotlib.pyplot as plt # NOTE: This was tested with matplotlib v. 2.1.0"
   ]
  },
  {
   "cell_type": "code",
   "execution_count": 94,
   "id": "06fdc7a7",
   "metadata": {},
   "outputs": [
    {
     "name": "stdout",
     "output_type": "stream",
     "text": [
      "(2666, 20)\n"
     ]
    },
    {
     "data": {
      "text/plain": "  State  Account length  Area code International plan Voice mail plan  \\\n0    KS             128        415                 No             Yes   \n1    OH             107        415                 No             Yes   \n2    NJ             137        415                 No              No   \n3    OH              84        408                Yes              No   \n4    OK              75        415                Yes              No   \n\n   Number vmail messages  Total day minutes  Total day calls  \\\n0                     25              265.1              110   \n1                     26              161.6              123   \n2                      0              243.4              114   \n3                      0              299.4               71   \n4                      0              166.7              113   \n\n   Total day charge  Total eve minutes  Total eve calls  Total eve charge  \\\n0             45.07              197.4               99             16.78   \n1             27.47              195.5              103             16.62   \n2             41.38              121.2              110             10.30   \n3             50.90               61.9               88              5.26   \n4             28.34              148.3              122             12.61   \n\n   Total night minutes  Total night calls  Total night charge  \\\n0                244.7                 91               11.01   \n1                254.4                103               11.45   \n2                162.6                104                7.32   \n3                196.9                 89                8.86   \n4                186.9                121                8.41   \n\n   Total intl minutes  Total intl calls  Total intl charge  \\\n0                10.0                 3               2.70   \n1                13.7                 3               3.70   \n2                12.2                 5               3.29   \n3                 6.6                 7               1.78   \n4                10.1                 3               2.73   \n\n   Customer service calls  Churn  \n0                       1  False  \n1                       1  False  \n2                       0  False  \n3                       2  False  \n4                       3  False  ",
      "text/html": "<div>\n<style scoped>\n    .dataframe tbody tr th:only-of-type {\n        vertical-align: middle;\n    }\n\n    .dataframe tbody tr th {\n        vertical-align: top;\n    }\n\n    .dataframe thead th {\n        text-align: right;\n    }\n</style>\n<table border=\"1\" class=\"dataframe\">\n  <thead>\n    <tr style=\"text-align: right;\">\n      <th></th>\n      <th>State</th>\n      <th>Account length</th>\n      <th>Area code</th>\n      <th>International plan</th>\n      <th>Voice mail plan</th>\n      <th>Number vmail messages</th>\n      <th>Total day minutes</th>\n      <th>Total day calls</th>\n      <th>Total day charge</th>\n      <th>Total eve minutes</th>\n      <th>Total eve calls</th>\n      <th>Total eve charge</th>\n      <th>Total night minutes</th>\n      <th>Total night calls</th>\n      <th>Total night charge</th>\n      <th>Total intl minutes</th>\n      <th>Total intl calls</th>\n      <th>Total intl charge</th>\n      <th>Customer service calls</th>\n      <th>Churn</th>\n    </tr>\n  </thead>\n  <tbody>\n    <tr>\n      <th>0</th>\n      <td>KS</td>\n      <td>128</td>\n      <td>415</td>\n      <td>No</td>\n      <td>Yes</td>\n      <td>25</td>\n      <td>265.1</td>\n      <td>110</td>\n      <td>45.07</td>\n      <td>197.4</td>\n      <td>99</td>\n      <td>16.78</td>\n      <td>244.7</td>\n      <td>91</td>\n      <td>11.01</td>\n      <td>10.0</td>\n      <td>3</td>\n      <td>2.70</td>\n      <td>1</td>\n      <td>False</td>\n    </tr>\n    <tr>\n      <th>1</th>\n      <td>OH</td>\n      <td>107</td>\n      <td>415</td>\n      <td>No</td>\n      <td>Yes</td>\n      <td>26</td>\n      <td>161.6</td>\n      <td>123</td>\n      <td>27.47</td>\n      <td>195.5</td>\n      <td>103</td>\n      <td>16.62</td>\n      <td>254.4</td>\n      <td>103</td>\n      <td>11.45</td>\n      <td>13.7</td>\n      <td>3</td>\n      <td>3.70</td>\n      <td>1</td>\n      <td>False</td>\n    </tr>\n    <tr>\n      <th>2</th>\n      <td>NJ</td>\n      <td>137</td>\n      <td>415</td>\n      <td>No</td>\n      <td>No</td>\n      <td>0</td>\n      <td>243.4</td>\n      <td>114</td>\n      <td>41.38</td>\n      <td>121.2</td>\n      <td>110</td>\n      <td>10.30</td>\n      <td>162.6</td>\n      <td>104</td>\n      <td>7.32</td>\n      <td>12.2</td>\n      <td>5</td>\n      <td>3.29</td>\n      <td>0</td>\n      <td>False</td>\n    </tr>\n    <tr>\n      <th>3</th>\n      <td>OH</td>\n      <td>84</td>\n      <td>408</td>\n      <td>Yes</td>\n      <td>No</td>\n      <td>0</td>\n      <td>299.4</td>\n      <td>71</td>\n      <td>50.90</td>\n      <td>61.9</td>\n      <td>88</td>\n      <td>5.26</td>\n      <td>196.9</td>\n      <td>89</td>\n      <td>8.86</td>\n      <td>6.6</td>\n      <td>7</td>\n      <td>1.78</td>\n      <td>2</td>\n      <td>False</td>\n    </tr>\n    <tr>\n      <th>4</th>\n      <td>OK</td>\n      <td>75</td>\n      <td>415</td>\n      <td>Yes</td>\n      <td>No</td>\n      <td>0</td>\n      <td>166.7</td>\n      <td>113</td>\n      <td>28.34</td>\n      <td>148.3</td>\n      <td>122</td>\n      <td>12.61</td>\n      <td>186.9</td>\n      <td>121</td>\n      <td>8.41</td>\n      <td>10.1</td>\n      <td>3</td>\n      <td>2.73</td>\n      <td>3</td>\n      <td>False</td>\n    </tr>\n  </tbody>\n</table>\n</div>"
     },
     "execution_count": 94,
     "metadata": {},
     "output_type": "execute_result"
    }
   ],
   "source": [
    "# https://www.kaggle.com/datasets/mnassrib/telecom-churn-datasets\n",
    "data = pd.read_csv(\"/home/gustavo/Downloads/archive/churn-bigml-80.csv\")\n",
    "\n",
    "print(data.shape)\n",
    "data.head()"
   ]
  },
  {
   "cell_type": "code",
   "execution_count": 95,
   "id": "e18cfca7",
   "metadata": {},
   "outputs": [
    {
     "data": {
      "text/plain": "      State  Account length  Area code  International plan  Voice mail plan  \\\n0        16             128        415                   0                1   \n1        35             107        415                   0                1   \n2        31             137        415                   0                0   \n3        35              84        408                   1                0   \n4        36              75        415                   1                0   \n...     ...             ...        ...                 ...              ...   \n2661     40              79        415                   0                0   \n2662      3             192        415                   0                1   \n2663     49              68        415                   0                0   \n2664     39              28        510                   0                0   \n2665     42              74        415                   0                1   \n\n      Number vmail messages  Total day minutes  Total day calls  \\\n0                        25              265.1              110   \n1                        26              161.6              123   \n2                         0              243.4              114   \n3                         0              299.4               71   \n4                         0              166.7              113   \n...                     ...                ...              ...   \n2661                      0              134.7               98   \n2662                     36              156.2               77   \n2663                      0              231.1               57   \n2664                      0              180.8              109   \n2665                     25              234.4              113   \n\n      Total day charge  Total eve minutes  Total eve calls  Total eve charge  \\\n0                45.07              197.4               99             16.78   \n1                27.47              195.5              103             16.62   \n2                41.38              121.2              110             10.30   \n3                50.90               61.9               88              5.26   \n4                28.34              148.3              122             12.61   \n...                ...                ...              ...               ...   \n2661             22.90              189.7               68             16.12   \n2662             26.55              215.5              126             18.32   \n2663             39.29              153.4               55             13.04   \n2664             30.74              288.8               58             24.55   \n2665             39.85              265.9               82             22.60   \n\n      Total night minutes  Total night calls  Total night charge  \\\n0                   244.7                 91               11.01   \n1                   254.4                103               11.45   \n2                   162.6                104                7.32   \n3                   196.9                 89                8.86   \n4                   186.9                121                8.41   \n...                   ...                ...                 ...   \n2661                221.4                128                9.96   \n2662                279.1                 83               12.56   \n2663                191.3                123                8.61   \n2664                191.9                 91                8.64   \n2665                241.4                 77               10.86   \n\n      Total intl minutes  Total intl calls  Total intl charge  \\\n0                   10.0                 3               2.70   \n1                   13.7                 3               3.70   \n2                   12.2                 5               3.29   \n3                    6.6                 7               1.78   \n4                   10.1                 3               2.73   \n...                  ...               ...                ...   \n2661                11.8                 5               3.19   \n2662                 9.9                 6               2.67   \n2663                 9.6                 4               2.59   \n2664                14.1                 6               3.81   \n2665                13.7                 4               3.70   \n\n      Customer service calls  Churn  \n0                          1  False  \n1                          1  False  \n2                          0  False  \n3                          2  False  \n4                          3  False  \n...                      ...    ...  \n2661                       2  False  \n2662                       2  False  \n2663                       3  False  \n2664                       2  False  \n2665                       0  False  \n\n[2666 rows x 20 columns]",
      "text/html": "<div>\n<style scoped>\n    .dataframe tbody tr th:only-of-type {\n        vertical-align: middle;\n    }\n\n    .dataframe tbody tr th {\n        vertical-align: top;\n    }\n\n    .dataframe thead th {\n        text-align: right;\n    }\n</style>\n<table border=\"1\" class=\"dataframe\">\n  <thead>\n    <tr style=\"text-align: right;\">\n      <th></th>\n      <th>State</th>\n      <th>Account length</th>\n      <th>Area code</th>\n      <th>International plan</th>\n      <th>Voice mail plan</th>\n      <th>Number vmail messages</th>\n      <th>Total day minutes</th>\n      <th>Total day calls</th>\n      <th>Total day charge</th>\n      <th>Total eve minutes</th>\n      <th>Total eve calls</th>\n      <th>Total eve charge</th>\n      <th>Total night minutes</th>\n      <th>Total night calls</th>\n      <th>Total night charge</th>\n      <th>Total intl minutes</th>\n      <th>Total intl calls</th>\n      <th>Total intl charge</th>\n      <th>Customer service calls</th>\n      <th>Churn</th>\n    </tr>\n  </thead>\n  <tbody>\n    <tr>\n      <th>0</th>\n      <td>16</td>\n      <td>128</td>\n      <td>415</td>\n      <td>0</td>\n      <td>1</td>\n      <td>25</td>\n      <td>265.1</td>\n      <td>110</td>\n      <td>45.07</td>\n      <td>197.4</td>\n      <td>99</td>\n      <td>16.78</td>\n      <td>244.7</td>\n      <td>91</td>\n      <td>11.01</td>\n      <td>10.0</td>\n      <td>3</td>\n      <td>2.70</td>\n      <td>1</td>\n      <td>False</td>\n    </tr>\n    <tr>\n      <th>1</th>\n      <td>35</td>\n      <td>107</td>\n      <td>415</td>\n      <td>0</td>\n      <td>1</td>\n      <td>26</td>\n      <td>161.6</td>\n      <td>123</td>\n      <td>27.47</td>\n      <td>195.5</td>\n      <td>103</td>\n      <td>16.62</td>\n      <td>254.4</td>\n      <td>103</td>\n      <td>11.45</td>\n      <td>13.7</td>\n      <td>3</td>\n      <td>3.70</td>\n      <td>1</td>\n      <td>False</td>\n    </tr>\n    <tr>\n      <th>2</th>\n      <td>31</td>\n      <td>137</td>\n      <td>415</td>\n      <td>0</td>\n      <td>0</td>\n      <td>0</td>\n      <td>243.4</td>\n      <td>114</td>\n      <td>41.38</td>\n      <td>121.2</td>\n      <td>110</td>\n      <td>10.30</td>\n      <td>162.6</td>\n      <td>104</td>\n      <td>7.32</td>\n      <td>12.2</td>\n      <td>5</td>\n      <td>3.29</td>\n      <td>0</td>\n      <td>False</td>\n    </tr>\n    <tr>\n      <th>3</th>\n      <td>35</td>\n      <td>84</td>\n      <td>408</td>\n      <td>1</td>\n      <td>0</td>\n      <td>0</td>\n      <td>299.4</td>\n      <td>71</td>\n      <td>50.90</td>\n      <td>61.9</td>\n      <td>88</td>\n      <td>5.26</td>\n      <td>196.9</td>\n      <td>89</td>\n      <td>8.86</td>\n      <td>6.6</td>\n      <td>7</td>\n      <td>1.78</td>\n      <td>2</td>\n      <td>False</td>\n    </tr>\n    <tr>\n      <th>4</th>\n      <td>36</td>\n      <td>75</td>\n      <td>415</td>\n      <td>1</td>\n      <td>0</td>\n      <td>0</td>\n      <td>166.7</td>\n      <td>113</td>\n      <td>28.34</td>\n      <td>148.3</td>\n      <td>122</td>\n      <td>12.61</td>\n      <td>186.9</td>\n      <td>121</td>\n      <td>8.41</td>\n      <td>10.1</td>\n      <td>3</td>\n      <td>2.73</td>\n      <td>3</td>\n      <td>False</td>\n    </tr>\n    <tr>\n      <th>...</th>\n      <td>...</td>\n      <td>...</td>\n      <td>...</td>\n      <td>...</td>\n      <td>...</td>\n      <td>...</td>\n      <td>...</td>\n      <td>...</td>\n      <td>...</td>\n      <td>...</td>\n      <td>...</td>\n      <td>...</td>\n      <td>...</td>\n      <td>...</td>\n      <td>...</td>\n      <td>...</td>\n      <td>...</td>\n      <td>...</td>\n      <td>...</td>\n      <td>...</td>\n    </tr>\n    <tr>\n      <th>2661</th>\n      <td>40</td>\n      <td>79</td>\n      <td>415</td>\n      <td>0</td>\n      <td>0</td>\n      <td>0</td>\n      <td>134.7</td>\n      <td>98</td>\n      <td>22.90</td>\n      <td>189.7</td>\n      <td>68</td>\n      <td>16.12</td>\n      <td>221.4</td>\n      <td>128</td>\n      <td>9.96</td>\n      <td>11.8</td>\n      <td>5</td>\n      <td>3.19</td>\n      <td>2</td>\n      <td>False</td>\n    </tr>\n    <tr>\n      <th>2662</th>\n      <td>3</td>\n      <td>192</td>\n      <td>415</td>\n      <td>0</td>\n      <td>1</td>\n      <td>36</td>\n      <td>156.2</td>\n      <td>77</td>\n      <td>26.55</td>\n      <td>215.5</td>\n      <td>126</td>\n      <td>18.32</td>\n      <td>279.1</td>\n      <td>83</td>\n      <td>12.56</td>\n      <td>9.9</td>\n      <td>6</td>\n      <td>2.67</td>\n      <td>2</td>\n      <td>False</td>\n    </tr>\n    <tr>\n      <th>2663</th>\n      <td>49</td>\n      <td>68</td>\n      <td>415</td>\n      <td>0</td>\n      <td>0</td>\n      <td>0</td>\n      <td>231.1</td>\n      <td>57</td>\n      <td>39.29</td>\n      <td>153.4</td>\n      <td>55</td>\n      <td>13.04</td>\n      <td>191.3</td>\n      <td>123</td>\n      <td>8.61</td>\n      <td>9.6</td>\n      <td>4</td>\n      <td>2.59</td>\n      <td>3</td>\n      <td>False</td>\n    </tr>\n    <tr>\n      <th>2664</th>\n      <td>39</td>\n      <td>28</td>\n      <td>510</td>\n      <td>0</td>\n      <td>0</td>\n      <td>0</td>\n      <td>180.8</td>\n      <td>109</td>\n      <td>30.74</td>\n      <td>288.8</td>\n      <td>58</td>\n      <td>24.55</td>\n      <td>191.9</td>\n      <td>91</td>\n      <td>8.64</td>\n      <td>14.1</td>\n      <td>6</td>\n      <td>3.81</td>\n      <td>2</td>\n      <td>False</td>\n    </tr>\n    <tr>\n      <th>2665</th>\n      <td>42</td>\n      <td>74</td>\n      <td>415</td>\n      <td>0</td>\n      <td>1</td>\n      <td>25</td>\n      <td>234.4</td>\n      <td>113</td>\n      <td>39.85</td>\n      <td>265.9</td>\n      <td>82</td>\n      <td>22.60</td>\n      <td>241.4</td>\n      <td>77</td>\n      <td>10.86</td>\n      <td>13.7</td>\n      <td>4</td>\n      <td>3.70</td>\n      <td>0</td>\n      <td>False</td>\n    </tr>\n  </tbody>\n</table>\n<p>2666 rows × 20 columns</p>\n</div>"
     },
     "execution_count": 95,
     "metadata": {},
     "output_type": "execute_result"
    }
   ],
   "source": [
    "from sklearn.preprocessing import LabelEncoder\n",
    "\n",
    "le = LabelEncoder()\n",
    "categorical_columns = data.columns[data.dtypes == 'object']\n",
    "for col in categorical_columns:\n",
    "    data[col] = le.fit_transform(data[col])\n",
    "\n",
    "data.dropna(inplace=True)\n",
    "data"
   ]
  },
  {
   "cell_type": "code",
   "execution_count": 96,
   "id": "3f3c3d6a",
   "metadata": {},
   "outputs": [
    {
     "data": {
      "text/plain": "array([[ 1.79526299e+00,  1.56771585e+00,  7.74229133e-01, ...,\n         4.82616014e-04,  1.39287441e-04,  1.85497607e-04],\n       [ 7.59384029e-04, -3.00020551e-01,  4.68553318e-01, ...,\n        -5.89062197e-04,  3.82819661e-04, -1.97181126e-04],\n       [ 6.64732827e-01, -1.63900398e+00,  9.67890516e-01, ...,\n        -8.90815086e-04, -3.79677185e-04,  1.31908207e-04],\n       ...,\n       [ 4.88942933e-01, -6.32868784e-02,  1.04858153e+00, ...,\n        -4.62230682e-04,  1.48989593e-04,  2.05756434e-04],\n       [ 8.81227828e-01, -1.26368013e+00, -1.99599713e+00, ...,\n        -1.49975013e-03,  3.09200739e-04,  2.59265589e-04],\n       [ 1.98926876e+00,  4.57914473e-01, -9.64350123e-01, ...,\n         8.90572072e-04, -2.34608097e-04,  9.71935184e-05]])"
     },
     "execution_count": 96,
     "metadata": {},
     "output_type": "execute_result"
    }
   ],
   "source": [
    "#########################\n",
    "#\n",
    "# Perform PCA on the data\n",
    "#\n",
    "#########################\n",
    "# First center and scale the data\n",
    "scaled_data = preprocessing.scale(data)\n",
    " \n",
    "pca = PCA() # create a PCA object\n",
    "pca.fit(scaled_data) # do the math\n",
    "pca_data = pca.transform(scaled_data) # get PCA coordinates for scaled_data\n",
    "pca_data"
   ]
  },
  {
   "cell_type": "code",
   "execution_count": 97,
   "id": "a083bd41",
   "metadata": {},
   "outputs": [
    {
     "data": {
      "text/plain": "<Figure size 432x288 with 1 Axes>",
      "image/png": "[encoded data removed]"
     },
     "metadata": {
      "needs_background": "light"
     },
     "output_type": "display_data"
    }
   ],
   "source": [
    "#########################\n",
    "#\n",
    "# Draw a scree plot and a PCA plot\n",
    "#\n",
    "#########################\n",
    " \n",
    "#The following code constructs the Scree plot\n",
    "per_var = np.round(pca.explained_variance_ratio_* 100, decimals=1)\n",
    "labels = ['PC' + str(x) for x in range(1, len(per_var)+1)]\n",
    " \n",
    "plt.bar(x=range(1,len(per_var)+1), height=per_var, tick_label=labels)\n",
    "plt.ylabel('Percentage of Explained Variance')\n",
    "plt.xlabel('Principal Component')\n",
    "plt.title('Scree Plot')\n",
    "plt.show()"
   ]
  },
  {
   "cell_type": "code",
   "execution_count": 98,
   "id": "d3734f4b",
   "metadata": {},
   "outputs": [
    {
     "name": "stdout",
     "output_type": "stream",
     "text": [
      "8     0.593826\n",
      "6     0.593824\n",
      "19    0.314524\n",
      "9     0.195997\n",
      "11    0.195988\n",
      "17    0.152381\n",
      "15    0.152319\n",
      "3     0.150147\n",
      "12    0.149292\n",
      "14    0.149269\n",
      "dtype: float64\n"
     ]
    }
   ],
   "source": [
    "#########################\n",
    "#\n",
    "# Determine which genes had the biggest influence on PC1\n",
    "#\n",
    "#########################\n",
    " \n",
    "## get the name of the top 10 measurements (genes) that contribute\n",
    "## most to pc1.\n",
    "## first, get the loading scores\n",
    "loading_scores = pd.Series(pca.components_[0])\n",
    "## now sort the loading scores based on their magnitude\n",
    "sorted_loading_scores = loading_scores.abs().sort_values(ascending=False)\n",
    " \n",
    "# get the names of the top 10 genes\n",
    "top_10_genes = sorted_loading_scores[0:10].index.values\n",
    " \n",
    "## print the gene names and their scores (and +/- sign)\n",
    "print(loading_scores[top_10_genes])"
   ]
  }
 ],
 "metadata": {
  "kernelspec": {
   "display_name": "Python 3 (ipykernel)",
   "language": "python",
   "name": "python3"
  },
  "language_info": {
   "codemirror_mode": {
    "name": "ipython",
    "version": 3
   },
   "file_extension": ".py",
   "mimetype": "text/x-python",
   "name": "python",
   "nbconvert_exporter": "python",
   "pygments_lexer": "ipython3",
   "version": "3.9.14"
  }
 },
 "nbformat": 4,
 "nbformat_minor": 5
}
