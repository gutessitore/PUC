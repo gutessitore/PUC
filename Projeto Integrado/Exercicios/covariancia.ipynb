{
  "nbformat": 4,
  "nbformat_minor": 0,
  "metadata": {
    "colab": {
      "provenance": []
    },
    "kernelspec": {
      "name": "python3",
      "display_name": "Python 3"
    },
    "language_info": {
      "name": "python"
    }
  },
  "cells": [
    {
      "cell_type": "code",
      "execution_count": null,
      "metadata": {
        "id": "GJWsDcReH2UH"
      },
      "outputs": [],
      "source": []
    },
    {
      "cell_type": "markdown",
      "source": [
        "# Covariância"
      ],
      "metadata": {
        "id": "zvy4BjWGH4gn"
      }
    },
    {
      "cell_type": "markdown",
      "source": [
        "A covariância é dada por:"
      ],
      "metadata": {
        "id": "gs1GkzOJJUEu"
      }
    },
    {
      "cell_type": "markdown",
      "source": [
        "$$\n",
        "CoV(X,Y) = \\frac{1}{n-1}\\sum_{i=1}^{n}{(x_{i}-\\bar{x})(y_{i}-\\bar{y})}\n",
        "$$"
      ],
      "metadata": {
        "id": "NUFjLbq2H_OG"
      }
    },
    {
      "cell_type": "markdown",
      "source": [
        "## TAREFA"
      ],
      "metadata": {
        "id": "pdye4jDMJaLi"
      }
    },
    {
      "cell_type": "markdown",
      "source": [
        "**[01]** Implemente a função a seguir sem o uso de bibliotecas externas. **Não pode usar import**, mas você pode criar outras funções (e.g., a média) para auxiliar na função `cov`."
      ],
      "metadata": {
        "id": "vzHIMa3RJdYS"
      }
    },
    {
      "cell_type": "code",
      "source": [
        "# Exemplos de X e Y\n",
        "x = [1,2,3,4,5]\n",
        "y = [3,4,5,6,3]\n",
        "\n",
        "def cov(x, y):\n",
        "  \"\"\"\n",
        "  Calcula e retorna (não imprime na tela) a covariância entre duas distribuições\n",
        "  \"\"\"\n",
        "  assert len(x) == len(y)\n",
        "  # Escreva sua implementação aqui\n",
        "  pass"
      ],
      "metadata": {
        "id": "-baFl2KSJZhM"
      },
      "execution_count": null,
      "outputs": []
    },
    {
      "cell_type": "markdown",
      "source": [
        "**[02]** Crie uma matriz de covariância (2x2) para duas distribuições x, y:\n",
        "\n",
        "```\n",
        "  CoV(x,x)  CoV(x,y)\n",
        "  CoV(y,x)  CoV(y,y)\n",
        "```"
      ],
      "metadata": {
        "id": "2u4YTbXBKYWq"
      }
    },
    {
      "cell_type": "code",
      "source": [
        "def matriz_cov(x,y):\n",
        "  \"\"\"\n",
        "  Retorna (não imprime na tela) a matriz de covariância entre duas distribuições\n",
        "  \"\"\"\n",
        "  assert len(x) == len(y)\n",
        "  # Escreva sua implementação aqui\n",
        "  pass"
      ],
      "metadata": {
        "id": "pVnOMeXcLSEp"
      },
      "execution_count": null,
      "outputs": []
    }
  ]
}