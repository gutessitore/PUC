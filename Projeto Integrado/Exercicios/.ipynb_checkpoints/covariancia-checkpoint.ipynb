{
 "cells": [
  {
   "cell_type": "markdown",
   "metadata": {
    "id": "zvy4BjWGH4gn"
   },
   "source": [
    "# Covariância"
   ]
  },
  {
   "cell_type": "markdown",
   "metadata": {
    "id": "gs1GkzOJJUEu"
   },
   "source": [
    "A covariância é dada por:"
   ]
  },
  {
   "cell_type": "markdown",
   "metadata": {
    "id": "NUFjLbq2H_OG"
   },
   "source": [
    "$$\n",
    "CoV(X,Y) = \\frac{1}{n-1}\\sum_{i=1}^{n}{(x_{i}-\\bar{x})(y_{i}-\\bar{y})}\n",
    "$$"
   ]
  },
  {
   "cell_type": "markdown",
   "metadata": {
    "id": "pdye4jDMJaLi"
   },
   "source": [
    "## TAREFA"
   ]
  },
  {
   "cell_type": "markdown",
   "metadata": {
    "id": "vzHIMa3RJdYS"
   },
   "source": [
    "**[01]** Implemente a função a seguir sem o uso de bibliotecas externas. **Não pode usar import**, mas você pode criar outras funções (e.g., a média) para auxiliar na função `cov`."
   ]
  },
  {
   "cell_type": "code",
   "execution_count": 1,
   "metadata": {
    "id": "-baFl2KSJZhM"
   },
   "outputs": [],
   "source": [
    "# Exemplos de X e Y\n",
    "x = [1,2,3,4,5]\n",
    "y = [3,4,5,6,3]\n",
    "\n",
    "def cov(x, y):\n",
    "  \"\"\"\n",
    "  Calcula e retorna (não imprime na tela) a covariância entre duas distribuições\n",
    "  \"\"\"\n",
    "  assert len(x) == len(y)\n",
    "  # Escreva sua implementação aqui\n",
    "  pass"
   ]
  },
  {
   "cell_type": "markdown",
   "metadata": {
    "id": "2u4YTbXBKYWq"
   },
   "source": [
    "**[02]** Crie uma matriz de covariância (2x2) para duas distribuições x, y:\n",
    "\n",
    "```\n",
    "  CoV(x,x)  CoV(x,y)\n",
    "  CoV(y,x)  CoV(y,y)\n",
    "```"
   ]
  },
  {
   "cell_type": "code",
   "execution_count": null,
   "metadata": {
    "id": "pVnOMeXcLSEp"
   },
   "outputs": [],
   "source": [
    "def matriz_cov(x,y):\n",
    "  \"\"\"\n",
    "  Retorna (não imprime na tela) a matriz de covariância entre duas distribuições\n",
    "  \"\"\"\n",
    "  assert len(x) == len(y)\n",
    "  # Escreva sua implementação aqui\n",
    "  pass"
   ]
  }
 ],
 "metadata": {
  "colab": {
   "provenance": []
  },
  "kernelspec": {
   "display_name": "Python 3 (ipykernel)",
   "language": "python",
   "name": "python3"
  },
  "language_info": {
   "codemirror_mode": {
    "name": "ipython",
    "version": 3
   },
   "file_extension": ".py",
   "mimetype": "text/x-python",
   "name": "python",
   "nbconvert_exporter": "python",
   "pygments_lexer": "ipython3",
   "version": "3.10.6"
  }
 },
 "nbformat": 4,
 "nbformat_minor": 1
}
