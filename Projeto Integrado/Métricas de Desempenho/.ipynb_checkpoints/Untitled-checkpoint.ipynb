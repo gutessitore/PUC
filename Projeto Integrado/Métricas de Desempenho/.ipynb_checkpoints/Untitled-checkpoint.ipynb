{
 "cells": [
  {
   "cell_type": "code",
   "execution_count": 5,
   "id": "9b8d737b",
   "metadata": {},
   "outputs": [
    {
     "data": {
      "text/plain": [
       "([1, 1, 0], [0, 0, 1])"
      ]
     },
     "execution_count": 5,
     "metadata": {},
     "output_type": "execute_result"
    }
   ],
   "source": [
    "NEG, POS =  0, -1\n",
    "\n",
    "def binarizar(v, limiar=0.5):\n",
    "    \"\"\"\n",
    "    Transforma um vetor de entrada v em binário\n",
    "    Args:\n",
    "        v: um vetor de entrada\n",
    "        limiar: um limiar de corte\n",
    "    Retorna:\n",
    "        Um vetor binarizado: acima ou igual ao valor de limiar de cada valor\n",
    "    Exemplos\n",
    "        binarizar([0, 0, 1]) => [0, 0, 1]\n",
    "        binarizar([0.6, 0.7, 0.2]) => [1, 1, 0]\n",
    "    \"\"\"\n",
    "    \n",
    "    return [1 if value > limiar else 0 for value in v]\n",
    "\n",
    "binarizar([0.6, 0.7, 0.2]), binarizar([0, 0, 1])"
   ]
  },
  {
   "cell_type": "code",
   "execution_count": 12,
   "id": "79f0b592",
   "metadata": {},
   "outputs": [
    {
     "data": {
      "text/plain": [
       "[3, 2, 1, 0]"
      ]
     },
     "execution_count": 12,
     "metadata": {},
     "output_type": "execute_result"
    }
   ],
   "source": [
    "def classificar(y, y_pred, limiar=0.5):\n",
    "    if len(y) != len(y_pred):\n",
    "        raise ValueError(\"y and y_pred must have the same length\")\n",
    "            \n",
    "    vp = 0\n",
    "    vn = 0\n",
    "    fn = 0\n",
    "    fp = 0\n",
    "        \n",
    "    for i in range(len(y)):\n",
    "        expected = y[i]\n",
    "        actual = y_pred[i]\n",
    "        \n",
    "        \n",
    "        if expected == 1 and actual == 1:\n",
    "            vp += 1\n",
    "        elif expected == 0 and actual == 0:\n",
    "            vn += 1\n",
    "        elif expected == 1 and actual == 0:\n",
    "            fn += 1\n",
    "        elif expected == 0 and actual == 1:\n",
    "            fp += 1\n",
    "    \n",
    "    return [vp, vn, fp, fn]\n",
    "\n",
    "\n",
    "esperado = [1, 1, 1, 0, 0, 0]\n",
    "predito = [1, 1, 1, 0, 0, 1]\n",
    "\n",
    "\n",
    "classificar(esperado, predito)"
   ]
  },
  {
   "cell_type": "code",
   "execution_count": null,
   "id": "c7365215",
   "metadata": {},
   "outputs": [],
   "source": [
    "def acuracia(y, y_pred, limiar=0.5):\n",
    "    "
   ]
  }
 ],
 "metadata": {
  "kernelspec": {
   "display_name": "Python 3 (ipykernel)",
   "language": "python",
   "name": "python3"
  },
  "language_info": {
   "codemirror_mode": {
    "name": "ipython",
    "version": 3
   },
   "file_extension": ".py",
   "mimetype": "text/x-python",
   "name": "python",
   "nbconvert_exporter": "python",
   "pygments_lexer": "ipython3",
   "version": "3.10.4"
  }
 },
 "nbformat": 4,
 "nbformat_minor": 5
}
