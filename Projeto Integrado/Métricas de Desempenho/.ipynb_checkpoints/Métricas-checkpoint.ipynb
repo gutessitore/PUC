{
 "cells": [
  {
   "cell_type": "markdown",
   "metadata": {
    "pycharm": {
     "name": "#%% md\n"
    }
   },
   "source": [
    "## Métricas de desempenho\n",
    "### Modelos de Classificação\n",
    "    Precisão\n",
    "        Taxa de acerto de valores positivos modelo. (TP) / (TP + FP)\n",
    "\n",
    "    Recall\n",
    "        Taxa de acerto de valores positivos verdadeiros. (TP) / (TP + FN)\n",
    "\n",
    "    F1 Score\n",
    "        Métrica que leva em conta a precisão e a recall. 2 * (precision * recall) / (precision + recall)\n",
    "\n",
    "    Matriz de Confusão\n",
    "        Mostra a quantidade de Falsos e Verdadeiros positivos e negativos\n",
    "\n",
    "    ROC Curve\n",
    "        Avalia a performance de um classificador para diferentes limiares de classificação\n",
    "\n",
    "    AUC\n",
    "        Área bajo o curva ROC\n",
    "\n",
    "    Lift\n",
    "         O Lift é a medida da eficácia do modelo em relação os resultados obtidos através do modelo, e se o modelo não fosse aplicado.\n",
    "\n",
    "### Modelos de Regressão\n",
    "- R^2\n",
    "    Quadrado do coeficiente de correlação\n",
    "\n",
    "- RMSE\n",
    "    raiz quadrada da média dos erros quadrados\n",
    "\n",
    "- MAE\n",
    "    erro médio absoluto\n",
    "\n",
    "- MSE\n",
    "    erro médio quadrado"
   ]
  },
  {
   "cell_type": "markdown",
   "metadata": {},
   "source": [
    "**Acurácia**\n",
    "\n",
    "A taxa de acerto do modelo. (TP + TN) / (TP + TN + FP + FN)"
   ]
  }
 ],
 "metadata": {
  "kernelspec": {
   "display_name": "Python 3 (ipykernel)",
   "language": "python",
   "name": "python3"
  },
  "language_info": {
   "codemirror_mode": {
    "name": "ipython",
    "version": 3
   },
   "file_extension": ".py",
   "mimetype": "text/x-python",
   "name": "python",
   "nbconvert_exporter": "python",
   "pygments_lexer": "ipython3",
   "version": "3.10.4"
  }
 },
 "nbformat": 4,
 "nbformat_minor": 1
}
