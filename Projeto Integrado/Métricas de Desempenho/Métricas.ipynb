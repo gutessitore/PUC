{
 "cells": [
  {
   "cell_type": "markdown",
   "metadata": {
    "pycharm": {
     "name": "#%% md\n"
    }
   },
   "source": [
    "## Métricas de desempenho\n",
    "### Modelos de Classificação"
   ]
  },
  {
   "cell_type": "markdown",
   "source": [
    "**Matriz de Confusão**\n",
    "\n",
    "Mostra a quantidade de Falsos e Verdadeiros positivos e negativos\n",
    "![matriz_conf.png](attachment:matriz_conf.png)"
   ],
   "metadata": {
    "collapsed": false,
    "pycharm": {
     "name": "#%% md\n"
    }
   }
  },
  {
   "cell_type": "markdown",
   "source": [
    "**Acurácia**\n",
    "\n",
    "A taxa de acerto do modelo\n",
    "![acc.png](attachment:acc.png)"
   ],
   "metadata": {
    "collapsed": false,
    "pycharm": {
     "name": "#%% md\n"
    }
   }
  },
  {
   "cell_type": "markdown",
   "source": [
    "**Precisão**\n",
    "\n",
    "Taxa de acerto de valores positivos modelo\n",
    "![pre.png](attachment:pre.png)"
   ],
   "metadata": {
    "collapsed": false,
    "pycharm": {
     "name": "#%% md\n"
    }
   }
  },
  {
   "cell_type": "markdown",
   "source": [
    "**Recall**\n",
    "\n",
    "Taxa de acerto de valores positivos verdadeiros\n",
    "![recall.png](attachment:recall.png)"
   ],
   "metadata": {
    "collapsed": false,
    "pycharm": {
     "name": "#%% md\n"
    }
   }
  },
  {
   "cell_type": "markdown",
   "source": [
    "**F-Beta**\n",
    "\n",
    "$$\n",
    "F_{\\beta} = (1 + \\beta^2) \\cdot \\frac{precision \\cdot recall}{\\beta^2 \\cdot precision + recall}\n",
    "$$"
   ],
   "metadata": {
    "collapsed": false,
    "pycharm": {
     "name": "#%% md\n"
    }
   }
  },
  {
   "cell_type": "markdown",
   "source": [
    "**F1 Score**\n",
    "\n",
    " Métrica que leva em conta a precisão e a recall\n",
    "$$\n",
    "F_{1} = 2 \\cdot \\frac{precision \\cdot recall}{precision + recall}\n",
    "$$"
   ],
   "metadata": {
    "collapsed": false,
    "pycharm": {
     "name": "#%% md\n"
    }
   }
  },
  {
   "cell_type": "markdown",
   "source": [
    "**Curva ROC**\n",
    "\n",
    "Avalia a desempenho de um classificador para diferentes limiares de classificação\n",
    "![ROC.png](attachment:ROC.png)"
   ],
   "metadata": {
    "collapsed": false,
    "pycharm": {
     "name": "#%% md\n"
    }
   }
  },
  {
   "cell_type": "markdown",
   "source": [
    "**AUC**\n",
    "\n",
    "Área bajo o curva ROC\n",
    "![AUC.png](attachment:AUC.png)"
   ],
   "metadata": {
    "collapsed": false,
    "pycharm": {
     "name": "#%% md\n"
    }
   }
  },
  {
   "cell_type": "markdown",
   "metadata": {
    "pycharm": {
     "name": "#%% md\n"
    }
   },
   "source": [
    "**Lift**\n",
    "\n",
    "O Lift é a medida da eficácia do modelo em relação os resultados obtidos através do modelo, e se o modelo não fosse aplicado."
   ]
  },
  {
   "cell_type": "markdown",
   "metadata": {
    "pycharm": {
     "name": "#%% md\n"
    }
   },
   "source": [
    "### Modelos de Regressão\n",
    "- R^2\n",
    "    Quadrado do coeficiente de correlação\n",
    "\n",
    "- RMSE\n",
    "    raiz quadrada da média dos erros quadrados\n",
    "\n",
    "- MAE\n",
    "    erro médio absoluto\n",
    "\n",
    "- MSE\n",
    "    erro médio quadrado"
   ]
  }
 ],
 "metadata": {
  "kernelspec": {
   "display_name": "Python 3 (ipykernel)",
   "language": "python",
   "name": "python3"
  },
  "language_info": {
   "codemirror_mode": {
    "name": "ipython",
    "version": 3
   },
   "file_extension": ".py",
   "mimetype": "text/x-python",
   "name": "python",
   "nbconvert_exporter": "python",
   "pygments_lexer": "ipython3",
   "version": "3.10.4"
  }
 },
 "nbformat": 4,
 "nbformat_minor": 1
}