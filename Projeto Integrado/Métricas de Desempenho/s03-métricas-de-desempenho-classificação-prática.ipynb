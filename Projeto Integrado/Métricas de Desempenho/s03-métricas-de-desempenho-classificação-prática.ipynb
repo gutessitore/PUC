{
 "cells": [
  {
   "cell_type": "markdown",
   "id": "83fc50f1",
   "metadata": {
    "pycharm": {
     "name": "#%% md\n"
    }
   },
   "source": [
    "# Métricas de Desempenho de Classificação\n",
    "\n",
    "## Lista de Exercícios"
   ]
  },
  {
   "cell_type": "markdown",
   "id": "14216706",
   "metadata": {
    "pycharm": {
     "name": "#%% md\n"
    }
   },
   "source": [
    "Na resolução dos exercícios a seguir **NÃO** utilize funções de bibliotecas prontas."
   ]
  },
  {
   "cell_type": "code",
   "execution_count": 74,
   "id": "d4533ca2",
   "metadata": {
    "pycharm": {
     "name": "#%%\n"
    }
   },
   "outputs": [],
   "source": [
    "NEG, POS = 0, 1"
   ]
  },
  {
   "cell_type": "markdown",
   "id": "d133757a",
   "metadata": {
    "pycharm": {
     "name": "#%% md\n"
    }
   },
   "source": [
    "**[01]** Implemente a função `binarizar()` de tal forma que o vetor de entrada `v` seja binarizado de acordo com um limiar especificado."
   ]
  },
  {
   "cell_type": "code",
   "execution_count": 75,
   "id": "28a9de62",
   "metadata": {
    "pycharm": {
     "name": "#%%\n"
    }
   },
   "outputs": [
    {
     "data": {
      "text/plain": "([1, 1, 0], [0, 0, 1])"
     },
     "execution_count": 75,
     "metadata": {},
     "output_type": "execute_result"
    }
   ],
   "source": [
    "def binarizar(v, limiar=0.5):\n",
    "    \"\"\"\n",
    "    Transforma um vetor de entrada v em binário\n",
    "    Args:\n",
    "        v: um vetor de entrada\n",
    "        limiar: um limiar de corte\n",
    "    Retorna:\n",
    "        Um vetor binarizado: acima ou igual ao valor do limiar cada valor em v[i] é considerado 1. Abaixo do limiar, 0.\n",
    "    Exemplos\n",
    "        binarizar([0,0,1]) => [0,0,1]\n",
    "        binarizar([0.6, 0.7, 0.2], limiar=0.5) => [1,1,0]\n",
    "    \"\"\"\n",
    "\n",
    "    return [POS if value > limiar else NEG for value in v]\n",
    "\n",
    "binarizar([0.6, 0.7, 0.2]), binarizar([0, 0, 1])"
   ]
  },
  {
   "cell_type": "markdown",
   "id": "56493082",
   "metadata": {
    "pycharm": {
     "name": "#%% md\n"
    }
   },
   "source": [
    "**[02]** Implemente a função `classificar()`, que deve calcular os verdadeiros positivos (vp), verdadeiros negativos (vn), falsos positivos (fp) e falsos negativos (fn), dados um vetor `y` e `y_pred`."
   ]
  },
  {
   "cell_type": "code",
   "execution_count": 76,
   "id": "dc7284cc",
   "metadata": {
    "pycharm": {
     "name": "#%%\n"
    }
   },
   "outputs": [
    {
     "data": {
      "text/plain": "(3, 2, 1, 0)"
     },
     "execution_count": 76,
     "metadata": {},
     "output_type": "execute_result"
    }
   ],
   "source": [
    "def classificar(y, y_pred, limiar=0.5):\n",
    "    \"\"\"\n",
    "    Contabiliza os VPs, VNs, FPs e FNs a partir dos vetores y e y_pred.\n",
    "    Args:\n",
    "        y: vetor com as classificações reais\n",
    "        y_pred: vetor com as classificações do modelo\n",
    "    Retorna:\n",
    "        As quantidades de VPs, VNs, FPs e FNs\n",
    "    \"\"\"\n",
    "    assert len(y) == len(y_pred)\n",
    "\n",
    "    y_bin = binarizar(y, limiar)\n",
    "    y_pred_bin = binarizar(y_pred, limiar)\n",
    "\n",
    "    vp = 0\n",
    "    vn = 0\n",
    "    fn = 0\n",
    "    fp = 0\n",
    "\n",
    "    for i in range(len(y)):\n",
    "        expected = y_bin[i]\n",
    "        actual = y_pred_bin[i]\n",
    "\n",
    "        if expected == POS and actual == POS:\n",
    "            vp += 1\n",
    "        elif expected == NEG and actual == NEG:\n",
    "            vn += 1\n",
    "        elif expected == POS and actual == NEG:\n",
    "            fn += 1\n",
    "        elif expected == NEG and actual == POS:\n",
    "            fp += 1\n",
    "\n",
    "    return vp, vn, fp, fn\n",
    "\n",
    "\n",
    "esperado = [1, 1, 1, 0, 0, 0]\n",
    "predito = [1, 1, 1, 0, 0, 1]\n",
    "\n",
    "\n",
    "classificar(esperado, predito)"
   ]
  },
  {
   "cell_type": "markdown",
   "id": "5f382888",
   "metadata": {
    "pycharm": {
     "name": "#%% md\n"
    }
   },
   "source": [
    "**[03]** Implemente a função `acurácia()`, que deve calcular a acurácia a partir dos vetores `y` e `y_pred`."
   ]
  },
  {
   "cell_type": "code",
   "execution_count": 77,
   "id": "a0bca92c",
   "metadata": {
    "pycharm": {
     "name": "#%%\n"
    }
   },
   "outputs": [
    {
     "data": {
      "text/plain": "0.8333333333333334"
     },
     "execution_count": 77,
     "metadata": {},
     "output_type": "execute_result"
    }
   ],
   "source": [
    "def acuracia(y, y_pred, limiar=0.5):\n",
    "    \"\"\"\n",
    "    Retorna a acurácia a partir dos vetores y e y_pred\n",
    "    Args:\n",
    "        y: vetor com as classificaçõe reais\n",
    "        y_pred: vetor com as predições\n",
    "    Retorna\n",
    "        O valor da acurácia\n",
    "    \"\"\"\n",
    "    vp, vn, fp, fn = classificar(y, y_pred, limiar)\n",
    "\n",
    "    return (vp + vn) / (vp + vn + fp + fn)\n",
    "\n",
    "acuracia(esperado, predito)"
   ]
  },
  {
   "cell_type": "markdown",
   "id": "09110dec",
   "metadata": {
    "pycharm": {
     "name": "#%% md\n"
    }
   },
   "source": [
    "**[04]** Implemente a função `precisão()`, que deve calcular a precisão a partir dos vetores `y` e `y_pred`."
   ]
  },
  {
   "cell_type": "code",
   "execution_count": 78,
   "id": "88021544",
   "metadata": {
    "pycharm": {
     "name": "#%%\n"
    }
   },
   "outputs": [
    {
     "data": {
      "text/plain": "0.75"
     },
     "execution_count": 78,
     "metadata": {},
     "output_type": "execute_result"
    }
   ],
   "source": [
    "def precisao(y, y_pred, limiar=0.5):\n",
    "    \"\"\"\n",
    "    Retorna a precisão a partir dos vetores y e y_pred\n",
    "    Args:\n",
    "        y: vetor com as classificaçõe reais\n",
    "        y_pred: vetor com as predições\n",
    "    Retorna\n",
    "        O valor da precisão\n",
    "    \"\"\"\n",
    "    vp, vn, fp, fn = classificar(y, y_pred, limiar)\n",
    "    try:\n",
    "        prec = vp / (vp + fp)\n",
    "    except ZeroDivisionError:\n",
    "        prec = 0\n",
    "    return prec\n",
    "\n",
    "precisao(esperado, predito)"
   ]
  },
  {
   "cell_type": "markdown",
   "id": "3e2da194",
   "metadata": {
    "pycharm": {
     "name": "#%% md\n"
    }
   },
   "source": [
    "**[05]** Implemente a função `revocação()`, que deve calcular a revocação a partir dos vetores `y` e `y_pred`."
   ]
  },
  {
   "cell_type": "code",
   "execution_count": 79,
   "id": "1acc24f3",
   "metadata": {
    "pycharm": {
     "name": "#%%\n"
    }
   },
   "outputs": [
    {
     "data": {
      "text/plain": "1.0"
     },
     "execution_count": 79,
     "metadata": {},
     "output_type": "execute_result"
    }
   ],
   "source": [
    "def revocacao(y, y_pred, limiar=0.5):\n",
    "    \"\"\"\n",
    "    Retorna a revocação a partir dos vetores y e y_pred\n",
    "    Args:\n",
    "        y: vetor com as classificaçõe reais\n",
    "        y_pred: vetor com as predições\n",
    "    Retorna\n",
    "        O valor da revocação\n",
    "    \"\"\"\n",
    "    vp, vn, fp, fn = classificar(y, y_pred, limiar)\n",
    "    try:\n",
    "        rev = vp / (vp + fn)\n",
    "    except ZeroDivisionError:\n",
    "        rev = 0\n",
    "    return rev\n",
    "\n",
    "revocacao(esperado, predito)"
   ]
  },
  {
   "cell_type": "markdown",
   "id": "b99ce7f0",
   "metadata": {
    "pycharm": {
     "name": "#%% md\n"
    }
   },
   "source": [
    "**[06]** Implemente a função `fbeta()`, que deve calcular a métrica `F` a partir dos vetores `y` e `y_pred` e um valor de `beta`."
   ]
  },
  {
   "cell_type": "code",
   "execution_count": 80,
   "id": "890573ec",
   "metadata": {
    "pycharm": {
     "name": "#%%\n"
    }
   },
   "outputs": [
    {
     "data": {
      "text/plain": "0.8571428571428571"
     },
     "execution_count": 80,
     "metadata": {},
     "output_type": "execute_result"
    }
   ],
   "source": [
    "def fbeta(y, y_pred, beta=1, limiar=0.5):\n",
    "    \"\"\"\n",
    "    Retorna a revocação a partir dos vetores y e y_pred\n",
    "    Args:\n",
    "        y: vetor com as classificaçõe reais\n",
    "        y_pred: vetor com as predições\n",
    "        beta: Tipicamnete, 0.5, 1 ou 2\n",
    "        limiar: Um valor de corte para a binarização\n",
    "    Retorna\n",
    "        O valor da revocação\n",
    "    \"\"\"\n",
    "    prec = precisao(y, y_pred, limiar)\n",
    "    rec = revocacao(y, y_pred, limiar)\n",
    "    try:\n",
    "        fb = (1 + beta ** 2) * (prec * rec / (beta ** 2 * prec + rec))\n",
    "    except ZeroDivisionError:\n",
    "        fb = 0\n",
    "    return fb\n",
    "\n",
    "fbeta(esperado, predito)"
   ]
  },
  {
   "cell_type": "markdown",
   "id": "0d4f00e2",
   "metadata": {
    "pycharm": {
     "name": "#%% md\n"
    }
   },
   "source": [
    "**[07]** Implemente a função `taxa_erro()`, que deve calcular a taxa de erro $(1 - acurácia)$ a partir dos vetores `y` e `y_pred`."
   ]
  },
  {
   "cell_type": "code",
   "execution_count": 81,
   "id": "8ac1a7c7",
   "metadata": {
    "pycharm": {
     "name": "#%%\n"
    }
   },
   "outputs": [
    {
     "data": {
      "text/plain": "0.16666666666666663"
     },
     "execution_count": 81,
     "metadata": {},
     "output_type": "execute_result"
    }
   ],
   "source": [
    "def taxa_erro(y, y_pred, limiar=0.5):\n",
    "    \"\"\"\n",
    "    Retorna a taxa de erro () a partir dos vetores y e y_pred\n",
    "    Args:\n",
    "        y: vetor com as classificaçõe reais\n",
    "        y_pred: vetor com as predições\n",
    "        limiar: Um valor de corte para a binarização\n",
    "    Retorna\n",
    "        O valor da taxa de erro\n",
    "    \"\"\"\n",
    "    return 1 - acuracia(y, y_pred, limiar)\n",
    "\n",
    "taxa_erro(esperado, predito)"
   ]
  },
  {
   "cell_type": "markdown",
   "id": "26cc87b9",
   "metadata": {
    "pycharm": {
     "name": "#%% md\n"
    }
   },
   "source": [
    "**[08]** Implemente a função `m_confusão()`, que deve imprimir os valores de VPs, VNs, FPs e FNs a partir dos vetores `y` e `y_pred`."
   ]
  },
  {
   "cell_type": "code",
   "execution_count": 82,
   "outputs": [
    {
     "name": "stdout",
     "output_type": "stream",
     "text": [
      "VP: 3 VN: 2\n",
      "FP: 1 FN: 0\n"
     ]
    }
   ],
   "source": [
    "def m_confusão(y, y_pred, limiar=0.5):\n",
    "    \"\"\"\n",
    "    Imprime os VPs, VNs, FPs e FNs\n",
    "    Args:\n",
    "        y: vetor com as classificaçõe reais\n",
    "        y_pred: vetor com as predições\n",
    "        limiar: Um valor de corte para a binarização\n",
    "    Retorna\n",
    "        None. Não há retorno, uma vez que a função deve imprimir seus cálculos\n",
    "    \"\"\"\n",
    "    vp, vn, fp, fn = classificar(y, y_pred, limiar)\n",
    "    print(\"VP:\", vp, \"VN:\", vn)\n",
    "    print(\"FP:\", fp, \"FN:\", fn)\n",
    "\n",
    "m_confusão(esperado, predito)"
   ],
   "metadata": {
    "collapsed": false,
    "pycharm": {
     "name": "#%%\n"
    }
   }
  },
  {
   "cell_type": "code",
   "execution_count": 83,
   "outputs": [],
   "source": [
    "import json\n",
    "def metricas(y, y_pred, limiar=0.5):\n",
    "    \"\"\"\n",
    "    Retorna as métricas de acurácia, precisão, revocação e F-beta a partir dos vetores y e y_pred\n",
    "    Args:\n",
    "        y: vetor com as classificaçõe reais\n",
    "        y_pred: vetor com as predições\n",
    "        limiar: Um valor de corte para a binarização\n",
    "    Retorna\n",
    "        Um dicionário com as métricas de acurácia, precisão, revocação e F-beta\n",
    "    \"\"\"\n",
    "    metric = {\n",
    "        \"acuracia\": round(acuracia(y, y_pred, limiar), 2),\n",
    "        \"precisao\": round(precisao(y, y_pred, limiar), 2),\n",
    "        \"revocacao\": round(revocacao(y, y_pred, limiar), 2),\n",
    "        \"fbeta\": round(fbeta(y, y_pred, limiar), 2)\n",
    "    }\n",
    "    print(json.dumps(metric, indent=4))"
   ],
   "metadata": {
    "collapsed": false,
    "pycharm": {
     "name": "#%%\n"
    }
   }
  },
  {
   "cell_type": "markdown",
   "source": [
    "*a)* `y=[0,0,0,0,0,0,0,0,0,0]` e `y_pred=[1,1,1,1,1,1,1,1,1,1]`:"
   ],
   "metadata": {
    "collapsed": false,
    "pycharm": {
     "name": "#%% md\n"
    }
   }
  },
  {
   "cell_type": "code",
   "execution_count": 84,
   "outputs": [
    {
     "name": "stdout",
     "output_type": "stream",
     "text": [
      "{\n",
      "    \"acuracia\": 0.0,\n",
      "    \"precisao\": 0.0,\n",
      "    \"revocacao\": 0,\n",
      "    \"fbeta\": 0\n",
      "}\n"
     ]
    }
   ],
   "source": [
    "y = [0,0,0,0,0,0,0,0,0,0]\n",
    "y_pred = [1,1,1,1,1,1,1,1,1,1]\n",
    "metricas(y, y_pred)"
   ],
   "metadata": {
    "collapsed": false,
    "pycharm": {
     "name": "#%%\n"
    }
   }
  },
  {
   "cell_type": "markdown",
   "source": [
    "*b)* `y=[1,1,1,1,1,1,1,1,1,1]` e `y_pred=[0,0,0,0,0,0,0,0,0,0]`:"
   ],
   "metadata": {
    "collapsed": false,
    "pycharm": {
     "name": "#%% md\n"
    }
   }
  },
  {
   "cell_type": "code",
   "execution_count": 85,
   "outputs": [
    {
     "name": "stdout",
     "output_type": "stream",
     "text": [
      "{\n",
      "    \"acuracia\": 0.0,\n",
      "    \"precisao\": 0,\n",
      "    \"revocacao\": 0.0,\n",
      "    \"fbeta\": 0\n",
      "}\n"
     ]
    }
   ],
   "source": [
    "y = [1,1,1,1,1,1,1,1,1,1]\n",
    "y_pred = [0,0,0,0,0,0,0,0,0,0]\n",
    "metricas(y, y_pred)"
   ],
   "metadata": {
    "collapsed": false,
    "pycharm": {
     "name": "#%%\n"
    }
   }
  },
  {
   "cell_type": "markdown",
   "source": [
    "*c)* `y=[0,0,0,0,0,0,0,0,0,1]` e `y_pred=[0,0,0,0,0,0,0,0,0,0]`:"
   ],
   "metadata": {
    "collapsed": false,
    "pycharm": {
     "name": "#%% md\n"
    }
   }
  },
  {
   "cell_type": "code",
   "execution_count": 86,
   "outputs": [
    {
     "name": "stdout",
     "output_type": "stream",
     "text": [
      "{\n",
      "    \"acuracia\": 0.9,\n",
      "    \"precisao\": 0,\n",
      "    \"revocacao\": 0.0,\n",
      "    \"fbeta\": 0\n",
      "}\n"
     ]
    }
   ],
   "source": [
    "y = [0,0,0,0,0,0,0,0,0,1]\n",
    "y_pred = [0,0,0,0,0,0,0,0,0,0]\n",
    "metricas(y, y_pred)"
   ],
   "metadata": {
    "collapsed": false,
    "pycharm": {
     "name": "#%%\n"
    }
   }
  },
  {
   "cell_type": "markdown",
   "source": [
    "*d)* `y=[1,1,1,1,1,1,1,1,1,0]` e `y_pred=[1,1,1,1,1,1,1,1,1,1]`:"
   ],
   "metadata": {
    "collapsed": false,
    "pycharm": {
     "name": "#%% md\n"
    }
   }
  },
  {
   "cell_type": "code",
   "execution_count": 87,
   "outputs": [
    {
     "name": "stdout",
     "output_type": "stream",
     "text": [
      "{\n",
      "    \"acuracia\": 0.9,\n",
      "    \"precisao\": 0.9,\n",
      "    \"revocacao\": 1.0,\n",
      "    \"fbeta\": 0.92\n",
      "}\n"
     ]
    }
   ],
   "source": [
    "y = [1,1,1,1,1,1,1,1,1,0]\n",
    "y_pred = [1,1,1,1,1,1,1,1,1,1]\n",
    "metricas(y, y_pred)"
   ],
   "metadata": {
    "collapsed": false,
    "pycharm": {
     "name": "#%%\n"
    }
   }
  },
  {
   "cell_type": "markdown",
   "source": [
    "*e)* `y=[1,1,1,0,0,0]`, `y_pred=[.8, .7, .8, .2, .3, .4]` e `limiar=.5`:"
   ],
   "metadata": {
    "collapsed": false,
    "pycharm": {
     "name": "#%% md\n"
    }
   }
  },
  {
   "cell_type": "code",
   "execution_count": 88,
   "outputs": [
    {
     "name": "stdout",
     "output_type": "stream",
     "text": [
      "{\n",
      "    \"acuracia\": 1.0,\n",
      "    \"precisao\": 1.0,\n",
      "    \"revocacao\": 1.0,\n",
      "    \"fbeta\": 1.0\n",
      "}\n"
     ]
    }
   ],
   "source": [
    "y = [1,1,1,0,0,0]\n",
    "y_pred = [.8, .7, .8, .2, .3, .4]\n",
    "metricas(y, y_pred, .5)"
   ],
   "metadata": {
    "collapsed": false,
    "pycharm": {
     "name": "#%%\n"
    }
   }
  },
  {
   "cell_type": "markdown",
   "source": [
    "*f)* `y=[1,1,1,0,0,0]`, `y_pred=[.2, .7, .8, .2, .3, .4]` e `limiar=.5`:"
   ],
   "metadata": {
    "collapsed": false,
    "pycharm": {
     "name": "#%% md\n"
    }
   }
  },
  {
   "cell_type": "code",
   "execution_count": 89,
   "outputs": [
    {
     "name": "stdout",
     "output_type": "stream",
     "text": [
      "{\n",
      "    \"acuracia\": 0.83,\n",
      "    \"precisao\": 1.0,\n",
      "    \"revocacao\": 0.67,\n",
      "    \"fbeta\": 0.91\n",
      "}\n"
     ]
    }
   ],
   "source": [
    "y = [1,1,1,0,0,0]\n",
    "y_pred = [.2, .7, .8, .2, .3, .4]\n",
    "metricas(y, y_pred, .5)"
   ],
   "metadata": {
    "collapsed": false,
    "pycharm": {
     "name": "#%%\n"
    }
   }
  },
  {
   "cell_type": "markdown",
   "source": [
    "*g)* `y=[1,1,1,0,0,0]`, `y_pred=[.8, .7, .8, .2, .3, .8]` e `limiar=.5`:"
   ],
   "metadata": {
    "collapsed": false,
    "pycharm": {
     "name": "#%% md\n"
    }
   }
  },
  {
   "cell_type": "code",
   "execution_count": 90,
   "outputs": [
    {
     "name": "stdout",
     "output_type": "stream",
     "text": [
      "{\n",
      "    \"acuracia\": 0.83,\n",
      "    \"precisao\": 0.75,\n",
      "    \"revocacao\": 1.0,\n",
      "    \"fbeta\": 0.79\n",
      "}\n"
     ]
    }
   ],
   "source": [
    "y = [1,1,1,0,0,0]\n",
    "y_pred = [.8, .7, .8, .2, .3, .8]\n",
    "metricas(y, y_pred, .5)"
   ],
   "metadata": {
    "collapsed": false,
    "pycharm": {
     "name": "#%%\n"
    }
   }
  },
  {
   "cell_type": "markdown",
   "source": [
    "*h)* `y=[1,1,1,0,0,0]`, `y_pred=[.2, .7, .8, .2, .3, .8]` e `limiar=.5`:"
   ],
   "metadata": {
    "collapsed": false,
    "pycharm": {
     "name": "#%% md\n"
    }
   }
  },
  {
   "cell_type": "code",
   "execution_count": 91,
   "outputs": [
    {
     "name": "stdout",
     "output_type": "stream",
     "text": [
      "{\n",
      "    \"acuracia\": 0.67,\n",
      "    \"precisao\": 0.67,\n",
      "    \"revocacao\": 0.67,\n",
      "    \"fbeta\": 0.67\n",
      "}\n"
     ]
    }
   ],
   "source": [
    "y = [1,1,1,0,0,0]\n",
    "y_pred = [.2, .7, .8, .2, .3, .8]\n",
    "metricas(y, y_pred, .5)"
   ],
   "metadata": {
    "collapsed": false,
    "pycharm": {
     "name": "#%%\n"
    }
   }
  },
  {
   "cell_type": "code",
   "execution_count": null,
   "outputs": [],
   "source": [],
   "metadata": {
    "collapsed": false,
    "pycharm": {
     "name": "#%%\n"
    }
   }
  }
 ],
 "metadata": {
  "kernelspec": {
   "display_name": "Python 3",
   "language": "python",
   "name": "python3"
  },
  "language_info": {
   "codemirror_mode": {
    "name": "ipython",
    "version": 3
   },
   "file_extension": ".py",
   "mimetype": "text/x-python",
   "name": "python",
   "nbconvert_exporter": "python",
   "pygments_lexer": "ipython3",
   "version": "3.8.8"
  }
 },
 "nbformat": 4,
 "nbformat_minor": 5
}