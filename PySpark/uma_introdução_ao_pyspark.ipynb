{
 "cells": [
  {
   "cell_type": "markdown",
   "metadata": {
    "id": "1KYSYfh1BGm8"
   },
   "source": [
    "# Uma Introdução ao PySpark"
   ]
  },
  {
   "cell_type": "markdown",
   "metadata": {
    "id": "1saIfkB3A_W4"
   },
   "source": [
    "\n",
    "## Instalando o PySpark\n"
   ]
  },
  {
   "cell_type": "code",
   "execution_count": 1,
   "metadata": {
    "colab": {
     "base_uri": "https://localhost:8080/"
    },
    "id": "79BCBPYLAzjj",
    "outputId": "48e4ebde-2ec3-4627-a82b-c6c15b9ab510"
   },
   "outputs": [],
   "source": [
    "# !pip install pyspark py4j"
   ]
  },
  {
   "cell_type": "markdown",
   "metadata": {
    "id": "ufvAsiWDBhHF"
   },
   "source": [
    "## Inicializando uma sessão no Spark"
   ]
  },
  {
   "cell_type": "code",
   "execution_count": 2,
   "metadata": {
    "colab": {
     "base_uri": "https://localhost:8080/",
     "height": 219
    },
    "id": "wAPV5EYxBOcS",
    "outputId": "345f4c3b-403b-4abe-f304-35b9d87a844d"
   },
   "outputs": [
    {
     "name": "stdout",
     "output_type": "stream",
     "text": [
      "22/09/18 11:04:42 WARN Utils: Your hostname, gustavo-tessitore resolves to a loopback address: 127.0.1.1; using 192.168.15.23 instead (on interface enp5s0)\n",
      "22/09/18 11:04:42 WARN Utils: Set SPARK_LOCAL_IP if you need to bind to another address\n"
     ]
    },
    {
     "name": "stderr",
     "output_type": "stream",
     "text": [
      "Setting default log level to \"WARN\".\n",
      "To adjust logging level use sc.setLogLevel(newLevel). For SparkR, use setLogLevel(newLevel).\n"
     ]
    },
    {
     "name": "stdout",
     "output_type": "stream",
     "text": [
      "22/09/18 11:04:42 WARN NativeCodeLoader: Unable to load native-hadoop library for your platform... using builtin-java classes where applicable\n",
      "22/09/18 11:04:43 WARN Utils: Service 'SparkUI' could not bind on port 4040. Attempting port 4041.\n"
     ]
    },
    {
     "data": {
      "text/plain": "<pyspark.sql.session.SparkSession at 0x7ff0abf09790>",
      "text/html": "\n            <div>\n                <p><b>SparkSession - in-memory</b></p>\n                \n        <div>\n            <p><b>SparkContext</b></p>\n\n            <p><a href=\"http://192.168.15.23:4041\">Spark UI</a></p>\n\n            <dl>\n              <dt>Version</dt>\n                <dd><code>v3.3.0</code></dd>\n              <dt>Master</dt>\n                <dd><code>local[*]</code></dd>\n              <dt>AppName</dt>\n                <dd><code>CDIA4-22-PySpark</code></dd>\n            </dl>\n        </div>\n        \n            </div>\n        "
     },
     "execution_count": 2,
     "metadata": {},
     "output_type": "execute_result"
    }
   ],
   "source": [
    "from pyspark.sql import SparkSession\n",
    "spark = SparkSession \\\n",
    "          .builder \\\n",
    "          .appName(\"CDIA4-22-PySpark\") \\\n",
    "          .getOrCreate()\n",
    "\n",
    "\n",
    "spark"
   ]
  },
  {
   "cell_type": "code",
   "execution_count": 3,
   "metadata": {
    "colab": {
     "base_uri": "https://localhost:8080/",
     "height": 196
    },
    "id": "g8W-gbwkCIf-",
    "outputId": "cb080d01-1925-42ff-fc6a-b5aad141aa2b"
   },
   "outputs": [
    {
     "data": {
      "text/plain": "<SparkContext master=local[*] appName=CDIA4-22-PySpark>",
      "text/html": "\n        <div>\n            <p><b>SparkContext</b></p>\n\n            <p><a href=\"http://192.168.15.23:4041\">Spark UI</a></p>\n\n            <dl>\n              <dt>Version</dt>\n                <dd><code>v3.3.0</code></dd>\n              <dt>Master</dt>\n                <dd><code>local[*]</code></dd>\n              <dt>AppName</dt>\n                <dd><code>CDIA4-22-PySpark</code></dd>\n            </dl>\n        </div>\n        "
     },
     "execution_count": 3,
     "metadata": {},
     "output_type": "execute_result"
    }
   ],
   "source": [
    "# Obtendo o contexto do spark\n",
    "sc = spark.sparkContext\n",
    "sc"
   ]
  },
  {
   "cell_type": "markdown",
   "metadata": {
    "id": "klrIjpmvDl2x"
   },
   "source": [
    "## Criando um `DataFrame` a partir de uma `RDD`"
   ]
  },
  {
   "cell_type": "code",
   "execution_count": 4,
   "metadata": {
    "colab": {
     "base_uri": "https://localhost:8080/"
    },
    "id": "ZU4EJaotCP1B",
    "outputId": "9d2fdfda-9eaf-4991-b5d4-eeb3557f16d3"
   },
   "outputs": [
    {
     "name": "stdout",
     "output_type": "stream",
     "text": [
      "+-----+----+------+-----+------+\n",
      "|Model|Year|Height|Width|Weight|\n",
      "+-----+----+------+-----+------+\n",
      "|   XS|2018|  5.65| 2.79|  6.24|\n",
      "|   XR|2018|  5.94| 2.98|  6.84|\n",
      "|  X10|2017|  5.65| 2.79|  6.13|\n",
      "|8Plus|2017|  6.23| 3.07|  7.12|\n",
      "+-----+----+------+-----+------+\n",
      "\n"
     ]
    }
   ],
   "source": [
    "# Creates a random list of something\n",
    "rdd = sc.parallelize([\n",
    "  (\"XS\", 2018, 5.65, 2.79, 6.24), \n",
    "  (\"XR\", 2018, 5.94, 2.98, 6.84), \n",
    "  (\"X10\", 2017, 5.65, 2.79, 6.13), \n",
    "  (\"8Plus\", 2017, 6.23, 3.07, 7.12)\n",
    "])\n",
    "\n",
    "# Use these names as the column names\n",
    "cols = ['Model', 'Year', 'Height', 'Width', 'Weight']\n",
    "\n",
    "# Create a DataFrame\n",
    "df = spark.createDataFrame(rdd, schema=cols)\n",
    "df.show()"
   ]
  },
  {
   "cell_type": "markdown",
   "metadata": {
    "id": "GV8zXCX-FEEm"
   },
   "source": [
    "## Criando um `DataFrame` de arquivos"
   ]
  },
  {
   "cell_type": "code",
   "execution_count": 8,
   "metadata": {
    "colab": {
     "base_uri": "https://localhost:8080/"
    },
    "id": "zvU9hYoJFL-4",
    "outputId": "f3815d1f-d21b-4188-d7f8-180875999421"
   },
   "outputs": [
    {
     "ename": "AnalysisException",
     "evalue": "Path does not exist: file:/home/gustavo/Desktop/PUC/PySpark/content/people.csv",
     "output_type": "error",
     "traceback": [
      "\u001B[0;31m---------------------------------------------------------------------------\u001B[0m",
      "\u001B[0;31mAnalysisException\u001B[0m                         Traceback (most recent call last)",
      "\u001B[0;32m/tmp/ipykernel_528878/308408556.py\u001B[0m in \u001B[0;36m<module>\u001B[0;34m\u001B[0m\n\u001B[0;32m----> 1\u001B[0;31m \u001B[0mdf\u001B[0m \u001B[0;34m=\u001B[0m \u001B[0mspark\u001B[0m\u001B[0;34m.\u001B[0m\u001B[0mread\u001B[0m\u001B[0;34m.\u001B[0m\u001B[0mcsv\u001B[0m\u001B[0;34m(\u001B[0m\u001B[0;34m\"content/people.csv\"\u001B[0m\u001B[0;34m,\u001B[0m \u001B[0mheader\u001B[0m\u001B[0;34m=\u001B[0m\u001B[0;32mTrue\u001B[0m\u001B[0;34m,\u001B[0m \u001B[0minferSchema\u001B[0m\u001B[0;34m=\u001B[0m\u001B[0;32mTrue\u001B[0m\u001B[0;34m)\u001B[0m\u001B[0;34m\u001B[0m\u001B[0;34m\u001B[0m\u001B[0m\n\u001B[0m\u001B[1;32m      2\u001B[0m \u001B[0mdf\u001B[0m\u001B[0;34m.\u001B[0m\u001B[0mshow\u001B[0m\u001B[0;34m(\u001B[0m\u001B[0;34m)\u001B[0m\u001B[0;34m\u001B[0m\u001B[0;34m\u001B[0m\u001B[0m\n",
      "\u001B[0;32m~/lib/python3.9/site-packages/pyspark/sql/readwriter.py\u001B[0m in \u001B[0;36mcsv\u001B[0;34m(self, path, schema, sep, encoding, quote, escape, comment, header, inferSchema, ignoreLeadingWhiteSpace, ignoreTrailingWhiteSpace, nullValue, nanValue, positiveInf, negativeInf, dateFormat, timestampFormat, maxColumns, maxCharsPerColumn, maxMalformedLogPerPartition, mode, columnNameOfCorruptRecord, multiLine, charToEscapeQuoteEscaping, samplingRatio, enforceSchema, emptyValue, locale, lineSep, pathGlobFilter, recursiveFileLookup, modifiedBefore, modifiedAfter, unescapedQuoteHandling)\u001B[0m\n\u001B[1;32m    533\u001B[0m         \u001B[0;32mif\u001B[0m \u001B[0mtype\u001B[0m\u001B[0;34m(\u001B[0m\u001B[0mpath\u001B[0m\u001B[0;34m)\u001B[0m \u001B[0;34m==\u001B[0m \u001B[0mlist\u001B[0m\u001B[0;34m:\u001B[0m\u001B[0;34m\u001B[0m\u001B[0;34m\u001B[0m\u001B[0m\n\u001B[1;32m    534\u001B[0m             \u001B[0;32massert\u001B[0m \u001B[0mself\u001B[0m\u001B[0;34m.\u001B[0m\u001B[0m_spark\u001B[0m\u001B[0;34m.\u001B[0m\u001B[0m_sc\u001B[0m\u001B[0;34m.\u001B[0m\u001B[0m_jvm\u001B[0m \u001B[0;32mis\u001B[0m \u001B[0;32mnot\u001B[0m \u001B[0;32mNone\u001B[0m\u001B[0;34m\u001B[0m\u001B[0;34m\u001B[0m\u001B[0m\n\u001B[0;32m--> 535\u001B[0;31m             \u001B[0;32mreturn\u001B[0m \u001B[0mself\u001B[0m\u001B[0;34m.\u001B[0m\u001B[0m_df\u001B[0m\u001B[0;34m(\u001B[0m\u001B[0mself\u001B[0m\u001B[0;34m.\u001B[0m\u001B[0m_jreader\u001B[0m\u001B[0;34m.\u001B[0m\u001B[0mcsv\u001B[0m\u001B[0;34m(\u001B[0m\u001B[0mself\u001B[0m\u001B[0;34m.\u001B[0m\u001B[0m_spark\u001B[0m\u001B[0;34m.\u001B[0m\u001B[0m_sc\u001B[0m\u001B[0;34m.\u001B[0m\u001B[0m_jvm\u001B[0m\u001B[0;34m.\u001B[0m\u001B[0mPythonUtils\u001B[0m\u001B[0;34m.\u001B[0m\u001B[0mtoSeq\u001B[0m\u001B[0;34m(\u001B[0m\u001B[0mpath\u001B[0m\u001B[0;34m)\u001B[0m\u001B[0;34m)\u001B[0m\u001B[0;34m)\u001B[0m\u001B[0;34m\u001B[0m\u001B[0;34m\u001B[0m\u001B[0m\n\u001B[0m\u001B[1;32m    536\u001B[0m         \u001B[0;32melif\u001B[0m \u001B[0misinstance\u001B[0m\u001B[0;34m(\u001B[0m\u001B[0mpath\u001B[0m\u001B[0;34m,\u001B[0m \u001B[0mRDD\u001B[0m\u001B[0;34m)\u001B[0m\u001B[0;34m:\u001B[0m\u001B[0;34m\u001B[0m\u001B[0;34m\u001B[0m\u001B[0m\n\u001B[1;32m    537\u001B[0m \u001B[0;34m\u001B[0m\u001B[0m\n",
      "\u001B[0;32m~/lib/python3.9/site-packages/py4j/java_gateway.py\u001B[0m in \u001B[0;36m__call__\u001B[0;34m(self, *args)\u001B[0m\n\u001B[1;32m   1319\u001B[0m \u001B[0;34m\u001B[0m\u001B[0m\n\u001B[1;32m   1320\u001B[0m         \u001B[0manswer\u001B[0m \u001B[0;34m=\u001B[0m \u001B[0mself\u001B[0m\u001B[0;34m.\u001B[0m\u001B[0mgateway_client\u001B[0m\u001B[0;34m.\u001B[0m\u001B[0msend_command\u001B[0m\u001B[0;34m(\u001B[0m\u001B[0mcommand\u001B[0m\u001B[0;34m)\u001B[0m\u001B[0;34m\u001B[0m\u001B[0;34m\u001B[0m\u001B[0m\n\u001B[0;32m-> 1321\u001B[0;31m         return_value = get_return_value(\n\u001B[0m\u001B[1;32m   1322\u001B[0m             answer, self.gateway_client, self.target_id, self.name)\n\u001B[1;32m   1323\u001B[0m \u001B[0;34m\u001B[0m\u001B[0m\n",
      "\u001B[0;32m~/lib/python3.9/site-packages/pyspark/sql/utils.py\u001B[0m in \u001B[0;36mdeco\u001B[0;34m(*a, **kw)\u001B[0m\n\u001B[1;32m    194\u001B[0m                 \u001B[0;31m# Hide where the exception came from that shows a non-Pythonic\u001B[0m\u001B[0;34m\u001B[0m\u001B[0;34m\u001B[0m\u001B[0m\n\u001B[1;32m    195\u001B[0m                 \u001B[0;31m# JVM exception message.\u001B[0m\u001B[0;34m\u001B[0m\u001B[0;34m\u001B[0m\u001B[0m\n\u001B[0;32m--> 196\u001B[0;31m                 \u001B[0;32mraise\u001B[0m \u001B[0mconverted\u001B[0m \u001B[0;32mfrom\u001B[0m \u001B[0;32mNone\u001B[0m\u001B[0;34m\u001B[0m\u001B[0;34m\u001B[0m\u001B[0m\n\u001B[0m\u001B[1;32m    197\u001B[0m             \u001B[0;32melse\u001B[0m\u001B[0;34m:\u001B[0m\u001B[0;34m\u001B[0m\u001B[0;34m\u001B[0m\u001B[0m\n\u001B[1;32m    198\u001B[0m                 \u001B[0;32mraise\u001B[0m\u001B[0;34m\u001B[0m\u001B[0;34m\u001B[0m\u001B[0m\n",
      "\u001B[0;31mAnalysisException\u001B[0m: Path does not exist: file:/home/gustavo/Desktop/PUC/PySpark/content/people.csv"
     ]
    }
   ],
   "source": [
    "#TODO pedir o arquivo p Jeff\n",
    "df = spark.read.csv(\"content/people.csv\", header=True, inferSchema=True)\n",
    "df.show()"
   ]
  },
  {
   "cell_type": "markdown",
   "metadata": {
    "id": "uYnJ_lJmGcDL"
   },
   "source": [
    "## Inspecionando `DataFrames`"
   ]
  },
  {
   "cell_type": "code",
   "execution_count": null,
   "metadata": {
    "colab": {
     "base_uri": "https://localhost:8080/"
    },
    "id": "SsrH1BO4GbW7",
    "outputId": "c648ec6c-dccf-43e1-d2d9-e8e43d836bc1"
   },
   "outputs": [],
   "source": [
    "df.dtypes"
   ]
  },
  {
   "cell_type": "code",
   "execution_count": null,
   "metadata": {
    "colab": {
     "base_uri": "https://localhost:8080/"
    },
    "id": "y4Ag5j6sGjwc",
    "outputId": "ff0f87c9-4a8e-4bb2-e470-1a19ed7019d2"
   },
   "outputs": [],
   "source": [
    "df.head(3)"
   ]
  },
  {
   "cell_type": "code",
   "execution_count": null,
   "metadata": {
    "colab": {
     "base_uri": "https://localhost:8080/"
    },
    "id": "KxhJa91wGoDy",
    "outputId": "5ef6165a-e3e8-4235-d7c5-fa92ebd1c993"
   },
   "outputs": [],
   "source": [
    "df.first()"
   ]
  },
  {
   "cell_type": "code",
   "execution_count": null,
   "metadata": {
    "colab": {
     "base_uri": "https://localhost:8080/"
    },
    "id": "hGkTwB5lGpx4",
    "outputId": "2a9b4152-a111-409e-d431-a8e178fe80fb"
   },
   "outputs": [],
   "source": [
    "df.take(3)"
   ]
  },
  {
   "cell_type": "code",
   "execution_count": null,
   "metadata": {
    "colab": {
     "base_uri": "https://localhost:8080/"
    },
    "id": "oywVIAkyGtyO",
    "outputId": "c442fb3c-04db-45e6-8ade-a299276f32bc"
   },
   "outputs": [],
   "source": [
    "df.schema"
   ]
  },
  {
   "cell_type": "code",
   "execution_count": null,
   "metadata": {
    "colab": {
     "base_uri": "https://localhost:8080/"
    },
    "id": "UVvlhoTSG59z",
    "outputId": "3b2afa1a-929c-45c6-bfe4-bafac768f395"
   },
   "outputs": [],
   "source": [
    "df.describe().show()"
   ]
  },
  {
   "cell_type": "code",
   "execution_count": null,
   "metadata": {
    "colab": {
     "base_uri": "https://localhost:8080/"
    },
    "id": "C3JsfxmwHai5",
    "outputId": "aed43c25-9a92-43ce-a293-45d87337d2ee"
   },
   "outputs": [],
   "source": [
    "df.columns"
   ]
  },
  {
   "cell_type": "code",
   "execution_count": null,
   "metadata": {
    "colab": {
     "base_uri": "https://localhost:8080/"
    },
    "id": "aTp4CtZJHcqk",
    "outputId": "7182af99-94bc-4487-c7e9-f5f5859948a1"
   },
   "outputs": [],
   "source": [
    "df.count()"
   ]
  },
  {
   "cell_type": "code",
   "execution_count": null,
   "metadata": {
    "colab": {
     "base_uri": "https://localhost:8080/"
    },
    "id": "MKByzwwnHehM",
    "outputId": "7c1241b9-a1c4-4beb-a69a-ff76db0aaced"
   },
   "outputs": [],
   "source": [
    "df.distinct().count()"
   ]
  },
  {
   "cell_type": "code",
   "execution_count": null,
   "metadata": {
    "colab": {
     "base_uri": "https://localhost:8080/"
    },
    "id": "lkP3XesOHiSf",
    "outputId": "5b5c7875-93c3-4c88-ddd6-50944a5dd7ba"
   },
   "outputs": [],
   "source": [
    "df.printSchema()"
   ]
  },
  {
   "cell_type": "code",
   "execution_count": null,
   "metadata": {
    "colab": {
     "base_uri": "https://localhost:8080/"
    },
    "id": "tnnZk8HCHqOW",
    "outputId": "dedd4d60-4eb0-43d8-d90d-38dbe5384045"
   },
   "outputs": [],
   "source": [
    "df.explain()"
   ]
  },
  {
   "cell_type": "markdown",
   "metadata": {
    "id": "QwOaQcXBIoA2"
   },
   "source": [
    "## Queries"
   ]
  },
  {
   "cell_type": "markdown",
   "metadata": {
    "id": "VZLOSeW0I0dc"
   },
   "source": [
    "### `select()`"
   ]
  },
  {
   "cell_type": "code",
   "execution_count": null,
   "metadata": {
    "colab": {
     "base_uri": "https://localhost:8080/"
    },
    "id": "cPnczpnaInS-",
    "outputId": "6f7fcbb3-a494-49da-9c21-4797e7763519"
   },
   "outputs": [],
   "source": [
    "df.select(\"firstname\").show()"
   ]
  },
  {
   "cell_type": "code",
   "execution_count": null,
   "metadata": {
    "colab": {
     "base_uri": "https://localhost:8080/"
    },
    "id": "yagCTDOMI-qg",
    "outputId": "70cc8d07-2fdb-4f1d-ab43-e107cc8c9341"
   },
   "outputs": [],
   "source": [
    "df.select('firstname', 'age').show()"
   ]
  },
  {
   "cell_type": "code",
   "execution_count": null,
   "metadata": {
    "colab": {
     "base_uri": "https://localhost:8080/"
    },
    "id": "bMpWjI3kJGUf",
    "outputId": "75d60e1d-fb52-4521-a6ec-59efff502e47"
   },
   "outputs": [],
   "source": [
    "df.select(df.firstname, df.age + 1).show()"
   ]
  },
  {
   "cell_type": "code",
   "execution_count": null,
   "metadata": {
    "colab": {
     "base_uri": "https://localhost:8080/"
    },
    "id": "WeYhJi_oJV4T",
    "outputId": "cd4cd94e-ae8f-46f1-c6e2-e19bb9116d02"
   },
   "outputs": [],
   "source": [
    "df.select(df.firstname, df.age > 30).show()"
   ]
  },
  {
   "cell_type": "markdown",
   "metadata": {
    "id": "FOP47k8zJvYW"
   },
   "source": [
    "### `.alias()`"
   ]
  },
  {
   "cell_type": "code",
   "execution_count": null,
   "metadata": {
    "colab": {
     "base_uri": "https://localhost:8080/"
    },
    "id": "9_ucQPwvJzor",
    "outputId": "70163fa1-3d42-4696-9526-b368b977363e"
   },
   "outputs": [],
   "source": [
    "df.select(\n",
    "    df.firstname,\n",
    "    (df.age + 1).alias(\"age\")\n",
    ").show()"
   ]
  },
  {
   "cell_type": "markdown",
   "metadata": {
    "id": "PBBNEwQ1KL2e"
   },
   "source": [
    "### `groupBy()`"
   ]
  },
  {
   "cell_type": "code",
   "execution_count": null,
   "metadata": {
    "colab": {
     "base_uri": "https://localhost:8080/"
    },
    "id": "HcGZ-OFxKRI2",
    "outputId": "afec9c5e-0b56-4e43-fadd-a44720e7117e"
   },
   "outputs": [],
   "source": [
    "grouped = df.groupBy(\"age\").count()\n",
    "grouped.show()"
   ]
  },
  {
   "cell_type": "markdown",
   "metadata": {
    "id": "1dI1gcFbK7hJ"
   },
   "source": [
    "### `filter()`"
   ]
  },
  {
   "cell_type": "code",
   "execution_count": null,
   "metadata": {
    "colab": {
     "base_uri": "https://localhost:8080/"
    },
    "id": "BAFLsEuwK-qt",
    "outputId": "6c1d7b8a-46bb-46fb-f2ab-a7c69029bae8"
   },
   "outputs": [],
   "source": [
    "filtered = df.filter(\n",
    "    df.age > 30\n",
    ").show()"
   ]
  },
  {
   "cell_type": "markdown",
   "metadata": {
    "id": "mtH0aPGDLSP3"
   },
   "source": [
    "### `substring`"
   ]
  },
  {
   "cell_type": "code",
   "execution_count": null,
   "metadata": {
    "colab": {
     "base_uri": "https://localhost:8080/"
    },
    "id": "nQw0ZoZoLRBn",
    "outputId": "c85fc712-2612-4059-fe90-bf795ec793da"
   },
   "outputs": [],
   "source": [
    "df.select(\n",
    "    df.firstname.substr(1,3).alias('name')\n",
    ").show()"
   ]
  },
  {
   "cell_type": "markdown",
   "metadata": {
    "id": "nxAfcZP6MGq4"
   },
   "source": [
    "### `like()`"
   ]
  },
  {
   "cell_type": "code",
   "execution_count": null,
   "metadata": {
    "colab": {
     "base_uri": "https://localhost:8080/"
    },
    "id": "qrIpYLvrMJUL",
    "outputId": "35f0add0-6d6d-448a-efb3-6459bb1bc538"
   },
   "outputs": [],
   "source": [
    "from pyspark.sql.functions import col\n",
    "\n",
    "df.select(\n",
    "    col(\"lastname\"),\n",
    "    col(\"lastname\").like(\"%Tay%\")\n",
    ").show()"
   ]
  },
  {
   "cell_type": "markdown",
   "metadata": {
    "id": "JUa81CFJM6yp"
   },
   "source": [
    "### `startswith()`"
   ]
  },
  {
   "cell_type": "code",
   "execution_count": null,
   "metadata": {
    "colab": {
     "base_uri": "https://localhost:8080/"
    },
    "id": "-zwjLfIJM1O2",
    "outputId": "33e80b90-5fba-47e1-bb07-ad21098c28aa"
   },
   "outputs": [],
   "source": [
    "df.select(\n",
    "    col(\"firstname\"),\n",
    "    col(\"firstname\").startswith(\"M\")\n",
    ").show()"
   ]
  },
  {
   "cell_type": "markdown",
   "metadata": {
    "id": "_SXqJPzONMb2"
   },
   "source": [
    "### `endswith()`"
   ]
  },
  {
   "cell_type": "code",
   "execution_count": null,
   "metadata": {
    "colab": {
     "base_uri": "https://localhost:8080/"
    },
    "id": "b2K9tmpZNLzA",
    "outputId": "351a0b42-2a57-48bb-bde0-11518e158917"
   },
   "outputs": [],
   "source": [
    "df.select(\n",
    "    col(\"firstname\"),\n",
    "    col(\"firstname\").endswith(\"a\")\n",
    ").show()"
   ]
  },
  {
   "cell_type": "markdown",
   "metadata": {
    "id": "sZRCJ8R2Nd3K"
   },
   "source": [
    "### `between()`"
   ]
  },
  {
   "cell_type": "code",
   "execution_count": null,
   "metadata": {
    "colab": {
     "base_uri": "https://localhost:8080/"
    },
    "id": "27bnQQ-xNgZ7",
    "outputId": "e6e26026-3e93-4a10-b574-9f52e3a35c54"
   },
   "outputs": [],
   "source": [
    "df.select(\n",
    "    col(\"age\"),\n",
    "    col(\"age\").between(22,30)\n",
    ").show()"
   ]
  },
  {
   "cell_type": "markdown",
   "metadata": {
    "id": "1eGh1s3-NrGU"
   },
   "source": [
    "### Explodindo as colunas"
   ]
  },
  {
   "cell_type": "code",
   "execution_count": null,
   "metadata": {
    "colab": {
     "base_uri": "https://localhost:8080/"
    },
    "id": "yhVoUas2Np26",
    "outputId": "c402b03d-5609-494f-9ff4-673dc6564a74"
   },
   "outputs": [],
   "source": [
    "# Motivação do problema: Situação inicial\n",
    "# nome, idade, cursos em que a pessoa está matriculada\n",
    "data = [('Jaya', '20', ['SQL','Data Science']),\n",
    "        ('Milan', '21', ['ML','AI']),\n",
    "        ('Rohit', '19', ['Programming', 'DSA']),\n",
    "        ('Maria', '20', ['DBMS', 'Networking']),\n",
    "        ('Jay', '22', ['Data Analytics','ML'])]\n",
    "\n",
    "columns = ['Name', 'Age', 'Courses_enrolled']\n",
    "\n",
    "df = spark.createDataFrame(data, columns)\n",
    "df.printSchema()\n",
    "df.show()"
   ]
  },
  {
   "cell_type": "code",
   "execution_count": null,
   "metadata": {
    "colab": {
     "base_uri": "https://localhost:8080/"
    },
    "id": "eiQpu_cSOtFS",
    "outputId": "fc0843b2-bcc6-477d-8c78-a3a22d00222e"
   },
   "outputs": [],
   "source": [
    "from pyspark.sql.functions import explode\n",
    "\n",
    "exploded_df = df.select(\n",
    "    df.Name,\n",
    "    explode(df.Courses_enrolled)\n",
    ")\n",
    "exploded_df.printSchema()\n",
    "exploded_df.show()"
   ]
  },
  {
   "cell_type": "markdown",
   "metadata": {
    "id": "f_xvWuUKV2Km"
   },
   "source": [
    "### Soluções dos Exercícios "
   ]
  },
  {
   "cell_type": "markdown",
   "metadata": {
    "id": "lYw-7OQQXrvb"
   },
   "source": [
    "Considerando o dataset `movies.csv`, responda às questões do Practice 04."
   ]
  },
  {
   "cell_type": "code",
   "execution_count": 9,
   "metadata": {
    "colab": {
     "base_uri": "https://localhost:8080/"
    },
    "id": "_gEK0dFJV1Wv",
    "outputId": "8dcbcdce-955b-4013-800a-f915759fe880"
   },
   "outputs": [
    {
     "name": "stdout",
     "output_type": "stream",
     "text": [
      "+--------------------+---------+--------------------+--------------+-------------+---------------+---------------+----+\n",
      "|                film|    genre|         lead-studio|audience-score|profitability|rotten-tomatoes|worldwide-gross|year|\n",
      "+--------------------+---------+--------------------+--------------+-------------+---------------+---------------+----+\n",
      "|Zack and Miri Mak...|  Romance|The Weinstein Com...|            70|  1.747541667|             64|          41.94|2008|\n",
      "|     Youth in Revolt|   Comedy|The Weinstein Com...|            52|         1.09|             68|          19.62|2010|\n",
      "|You Will Meet a T...|   Comedy|         Independent|            35|  1.211818182|             43|          26.66|2010|\n",
      "|        When in Rome|   Comedy|              Disney|            44|          0.0|             15|          43.04|2010|\n",
      "|What Happens in V...|   Comedy|                 Fox|            72|  6.267647029|             28|         219.37|2008|\n",
      "| Water For Elephants|    Drama|    20th Century Fox|            72|  3.081421053|             60|         117.09|2011|\n",
      "|              WALL-E|Animation|              Disney|            89|  2.896019067|             96|         521.28|2008|\n",
      "|            Waitress|  Romance|         Independent|            67|   11.0897415|             89|          22.18|2007|\n",
      "| Waiting For Forever|  Romance|         Independent|            53|        0.005|              6|           0.03|2011|\n",
      "|     Valentine's Day|   Comedy|        Warner Bros.|            54|  4.184038462|             17|         217.57|2010|\n",
      "|Tyler Perry's Why...|  Romance|         Independent|            47|    3.7241924|             46|          55.86|2007|\n",
      "|Twilight: Breakin...|  Romance|         Independent|            68|  6.383363636|             26|         702.17|2011|\n",
      "|            Twilight|  Romance|              Summit|            82|  10.18002703|             49|         376.66|2008|\n",
      "|      The Ugly Truth|   Comedy|         Independent|            68|  5.402631579|             14|          205.3|2009|\n",
      "|The Twilight Saga...|    Drama|              Summit|            78|      14.1964|             27|         709.82|2009|\n",
      "|The Time Traveler...|    Drama|           Paramount|            65|  2.598205128|             38|         101.33|2009|\n",
      "|        The Proposal|   Comedy|              Disney|            74|       7.8675|             43|          314.7|2009|\n",
      "|The Invention of ...|   Comedy|        Warner Bros.|            47|  1.751351351|             56|           32.4|2009|\n",
      "|  The Heartbreak Kid|   Comedy|           Paramount|            41|  2.129444167|             30|         127.77|2007|\n",
      "|         The Duchess|    Drama|           Paramount|            68|  3.207850222|             60|          43.31|2008|\n",
      "+--------------------+---------+--------------------+--------------+-------------+---------------+---------------+----+\n",
      "only showing top 20 rows\n",
      "\n"
     ]
    }
   ],
   "source": [
    "# Importando o movies.csv\n",
    "df_movies = spark.read.csv(\"data/movies.csv\", header=True, inferSchema=True)\n",
    "df_movies.show()"
   ]
  },
  {
   "cell_type": "code",
   "execution_count": 10,
   "metadata": {
    "colab": {
     "base_uri": "https://localhost:8080/"
    },
    "id": "6Z28uylDWZTV",
    "outputId": "edd04c50-dc69-4064-aee7-c62957387ee3"
   },
   "outputs": [
    {
     "name": "stdout",
     "output_type": "stream",
     "text": [
      "root\n",
      " |-- film: string (nullable = true)\n",
      " |-- genre: string (nullable = true)\n",
      " |-- lead-studio: string (nullable = true)\n",
      " |-- audience-score: integer (nullable = true)\n",
      " |-- profitability: double (nullable = true)\n",
      " |-- rotten-tomatoes: integer (nullable = true)\n",
      " |-- worldwide-gross: double (nullable = true)\n",
      " |-- year: integer (nullable = true)\n",
      "\n"
     ]
    }
   ],
   "source": [
    "df_movies.printSchema()"
   ]
  },
  {
   "cell_type": "markdown",
   "metadata": {
    "id": "5XH4xtwcYXl8"
   },
   "source": [
    "Importação dos módulos para a solução dos exercícios"
   ]
  },
  {
   "cell_type": "code",
   "execution_count": 11,
   "metadata": {
    "id": "wNBXVz9jYfML"
   },
   "outputs": [],
   "source": [
    "from pyspark.sql.functions import col"
   ]
  },
  {
   "cell_type": "code",
   "execution_count": 12,
   "metadata": {
    "colab": {
     "base_uri": "https://localhost:8080/"
    },
    "id": "NxrSn-iYYJAE",
    "outputId": "b277c8e5-477b-4c7e-bcc8-4d94b33f4365"
   },
   "outputs": [
    {
     "name": "stdout",
     "output_type": "stream",
     "text": [
      "+-------+--------------------+-------+----------------+------------------+-----------------+------------------+------------------+------------------+\n",
      "|summary|                film|  genre|     lead-studio|    audience-score|    profitability|   rotten-tomatoes|   worldwide-gross|              year|\n",
      "+-------+--------------------+-------+----------------+------------------+-----------------+------------------+------------------+------------------+\n",
      "|  count|                  74|     74|              74|                74|               74|                74|                74|                74|\n",
      "|   mean|                null|   null|            null| 63.91891891891892|4.549382372391891| 46.91891891891892|136.35081081081074| 2009.054054054054|\n",
      "| stddev|                null|   null|            null|13.683062979972128|8.174251914350178|26.332310876099108|157.06578623243522|1.3537557284756396|\n",
      "|    min|(500) Days of Summer| Action|20th Century Fox|                35|              0.0|                 3|              0.03|              2007|\n",
      "|    max|Zack and Miri Mak...|romance|    Warner Bros.|                89|           66.934|                96|            709.82|              2011|\n",
      "+-------+--------------------+-------+----------------+------------------+-----------------+------------------+------------------+------------------+\n",
      "\n"
     ]
    }
   ],
   "source": [
    "# P01. Obtendo uma descrição estatística para os campos numéricos\n",
    "\n",
    "df_movies.describe().show()"
   ]
  },
  {
   "cell_type": "code",
   "execution_count": 13,
   "metadata": {
    "colab": {
     "base_uri": "https://localhost:8080/"
    },
    "id": "BKlr6a5aYqGV",
    "outputId": "b71a372c-202e-4f96-c6cc-28aa4d2d5831"
   },
   "outputs": [
    {
     "name": "stdout",
     "output_type": "stream",
     "text": [
      "+--------------------+---------+--------------------+--------------+-------------+---------------+---------------+----+\n",
      "|                film|    genre|         lead-studio|audience-score|profitability|rotten-tomatoes|worldwide-gross|year|\n",
      "+--------------------+---------+--------------------+--------------+-------------+---------------+---------------+----+\n",
      "|What Happens in V...|   Comedy|                 Fox|            72|  6.267647029|             28|         219.37|2008|\n",
      "| Water For Elephants|    Drama|    20th Century Fox|            72|  3.081421053|             60|         117.09|2011|\n",
      "|              WALL-E|Animation|              Disney|            89|  2.896019067|             96|         521.28|2008|\n",
      "|            Twilight|  Romance|              Summit|            82|  10.18002703|             49|         376.66|2008|\n",
      "|The Twilight Saga...|    Drama|              Summit|            78|      14.1964|             27|         709.82|2009|\n",
      "|        The Proposal|   Comedy|              Disney|            74|       7.8675|             43|          314.7|2009|\n",
      "|The Curious Case ...|  Fantasy|        Warner Bros.|            81|   1.78394375|             73|         285.43|2008|\n",
      "|             Tangled|Animation|              Disney|            88|  1.365692308|             89|         355.01|2010|\n",
      "|    Sex and the City|   Comedy|        Warner Bros.|            81|  7.221795791|             49|         415.25|2008|\n",
      "|            Penelope|   Comedy|              Summit|            74|  1.382799733|             52|          20.74|2008|\n",
      "|     P.S. I Love You|  Romance|         Independent|            82|  5.103116833|             21|         153.09|2007|\n",
      "|My Week with Marilyn|    Drama|The Weinstein Com...|            84|       0.8258|             83|           8.26|2011|\n",
      "|   Midnight in Paris|  Romence|                Sony|            84|  8.744705882|             93|         148.66|2011|\n",
      "|       Marley and Me|   Comedy|                 Fox|            77|  3.746781818|             63|         206.07|2008|\n",
      "|          Mamma Mia!|   Comedy|           Universal|            76|  9.234453864|             53|         609.47|2008|\n",
      "|          Knocked Up|   Comedy|           Universal|            83|  6.636401848|             91|          219.0|2007|\n",
      "|           Jane Eyre|  Romance|           Universal|            77|          0.0|             85|          30.15|2011|\n",
      "|High School Music...|   Comedy|              Disney|            76|  22.91313646|             65|         252.04|2008|\n",
      "|           Enchanted|   Comedy|              Disney|            80|  4.005737082|             93|         340.49|2007|\n",
      "|           Beginners|   Comedy|         Independent|            80|     4.471875|             84|          14.31|2011|\n",
      "+--------------------+---------+--------------------+--------------+-------------+---------------+---------------+----+\n",
      "only showing top 20 rows\n",
      "\n"
     ]
    }
   ],
   "source": [
    "# P02. Que filmes tem audiência maior que 70?\n",
    "\n",
    "df_movies.filter(\n",
    "    col(\"audience-score\") > 70\n",
    ").show()"
   ]
  },
  {
   "cell_type": "code",
   "execution_count": 14,
   "metadata": {
    "colab": {
     "base_uri": "https://localhost:8080/"
    },
    "id": "vXzznLZHYv86",
    "outputId": "314a77cb-09b0-4794-f669-50db77f0e60d"
   },
   "outputs": [
    {
     "name": "stdout",
     "output_type": "stream",
     "text": [
      "+----+-----+\n",
      "|year|count|\n",
      "+----+-----+\n",
      "|2007|   11|\n",
      "|2009|   12|\n",
      "|2010|   19|\n",
      "|2011|   13|\n",
      "|2008|   19|\n",
      "+----+-----+\n",
      "\n"
     ]
    }
   ],
   "source": [
    "# P03. Conte quantos filmes tem para cada ano\n",
    "\n",
    "df_movies.groupBy(\n",
    "  col(\"year\")\n",
    ").count().show()"
   ]
  },
  {
   "cell_type": "code",
   "execution_count": 15,
   "metadata": {
    "colab": {
     "base_uri": "https://localhost:8080/"
    },
    "id": "295_L3cRY2eo",
    "outputId": "4583ec0e-b616-4190-bbdd-5d98cebfaa4c"
   },
   "outputs": [
    {
     "name": "stdout",
     "output_type": "stream",
     "text": [
      "+--------------------+---------------------+\n",
      "|                film|startswith(film, The)|\n",
      "+--------------------+---------------------+\n",
      "|Zack and Miri Mak...|                false|\n",
      "|     Youth in Revolt|                false|\n",
      "|You Will Meet a T...|                false|\n",
      "|        When in Rome|                false|\n",
      "|What Happens in V...|                false|\n",
      "| Water For Elephants|                false|\n",
      "|              WALL-E|                false|\n",
      "|            Waitress|                false|\n",
      "| Waiting For Forever|                false|\n",
      "|     Valentine's Day|                false|\n",
      "|Tyler Perry's Why...|                false|\n",
      "|Twilight: Breakin...|                false|\n",
      "|            Twilight|                false|\n",
      "|      The Ugly Truth|                 true|\n",
      "|The Twilight Saga...|                 true|\n",
      "|The Time Traveler...|                 true|\n",
      "|        The Proposal|                 true|\n",
      "|The Invention of ...|                 true|\n",
      "|  The Heartbreak Kid|                 true|\n",
      "|         The Duchess|                 true|\n",
      "+--------------------+---------------------+\n",
      "only showing top 20 rows\n",
      "\n"
     ]
    }
   ],
   "source": [
    "# P04. Que filmes começam com a palavra \"The\" nos títulos?\n",
    "\n",
    "df_movies.select(\n",
    "    col(\"film\"),\n",
    "    col(\"film\").startswith(\"The\")\n",
    ").show()"
   ]
  },
  {
   "cell_type": "code",
   "execution_count": 16,
   "metadata": {
    "colab": {
     "base_uri": "https://localhost:8080/"
    },
    "id": "GlXHHqAjY8q3",
    "outputId": "b204d458-b71c-4d48-bbe5-8c5451778bf5"
   },
   "outputs": [
    {
     "name": "stdout",
     "output_type": "stream",
     "text": [
      "+---------------+-------------------------------------------------------+\n",
      "|worldwide-gross|((worldwide-gross >= 100) AND (worldwide-gross <= 200))|\n",
      "+---------------+-------------------------------------------------------+\n",
      "|          41.94|                                                  false|\n",
      "|          19.62|                                                  false|\n",
      "|          26.66|                                                  false|\n",
      "|          43.04|                                                  false|\n",
      "|         219.37|                                                  false|\n",
      "|         117.09|                                                   true|\n",
      "|         521.28|                                                  false|\n",
      "|          22.18|                                                  false|\n",
      "|           0.03|                                                  false|\n",
      "|         217.57|                                                  false|\n",
      "|          55.86|                                                  false|\n",
      "|         702.17|                                                  false|\n",
      "|         376.66|                                                  false|\n",
      "|          205.3|                                                  false|\n",
      "|         709.82|                                                  false|\n",
      "|         101.33|                                                   true|\n",
      "|          314.7|                                                  false|\n",
      "|           32.4|                                                  false|\n",
      "|         127.77|                                                   true|\n",
      "|          43.31|                                                  false|\n",
      "+---------------+-------------------------------------------------------+\n",
      "only showing top 20 rows\n",
      "\n"
     ]
    }
   ],
   "source": [
    "# P05. Que filmes tem receita entre 100 e 200?\n",
    "\n",
    "df_movies.select(\n",
    "    col(\"worldwide-gross\"),\n",
    "    col(\"worldwide-gross\").between(100, 200)\n",
    ").show()"
   ]
  },
  {
   "cell_type": "code",
   "execution_count": null,
   "outputs": [],
   "source": [],
   "metadata": {
    "collapsed": false
   }
  }
 ],
 "metadata": {
  "colab": {
   "collapsed_sections": [],
   "provenance": []
  },
  "kernelspec": {
   "display_name": "Python 3",
   "language": "python",
   "name": "python3"
  },
  "language_info": {
   "codemirror_mode": {
    "name": "ipython",
    "version": 3
   },
   "file_extension": ".py",
   "mimetype": "text/x-python",
   "name": "python",
   "nbconvert_exporter": "python",
   "pygments_lexer": "ipython3",
   "version": "3.8.8"
  }
 },
 "nbformat": 4,
 "nbformat_minor": 1
}
