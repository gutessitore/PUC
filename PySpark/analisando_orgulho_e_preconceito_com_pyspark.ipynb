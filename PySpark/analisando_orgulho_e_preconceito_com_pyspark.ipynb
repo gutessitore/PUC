{
 "nbformat": 4,
 "nbformat_minor": 0,
 "metadata": {
  "colab": {
   "provenance": [],
   "collapsed_sections": []
  },
  "kernelspec": {
   "name": "python3",
   "display_name": "Python 3"
  },
  "language_info": {
   "name": "python"
  }
 },
 "cells": [
  {
   "cell_type": "markdown",
   "source": [
    "# Analisando Orgulho e Preconceito com PySpark"
   ],
   "metadata": {
    "id": "NM-vqw2ndFtU"
   }
  },
  {
   "cell_type": "markdown",
   "source": [
    "## Instalando o PySpark"
   ],
   "metadata": {
    "id": "V5EZJcnreS3p"
   }
  },
  {
   "cell_type": "code",
   "execution_count": 8,
   "metadata": {
    "colab": {
     "base_uri": "https://localhost:8080/"
    },
    "id": "3qKTdXBDc4ed",
    "outputId": "b19a76b5-1627-40e4-b06c-9aaa0fd68ffc"
   },
   "outputs": [],
   "source": [
    "# !pip install pyspark py4j"
   ]
  },
  {
   "cell_type": "code",
   "source": [
    "# Inicializando uma sessão no PySpark\n",
    "\n",
    "from pyspark.sql import SparkSession\n",
    "spark = SparkSession \\\n",
    "          .builder \\\n",
    "          .appName(\"CDIA4-22-PySpark\") \\\n",
    "          .getOrCreate()\n",
    "\n",
    "\n",
    "spark"
   ],
   "metadata": {
    "colab": {
     "base_uri": "https://localhost:8080/",
     "height": 219
    },
    "id": "CdCQyDOJeciW",
    "outputId": "78b6ff16-40e2-4905-c7ba-ae747455a70d"
   },
   "execution_count": 9,
   "outputs": [
    {
     "data": {
      "text/plain": "<pyspark.sql.session.SparkSession at 0x7fd37409c580>",
      "text/html": "\n            <div>\n                <p><b>SparkSession - in-memory</b></p>\n                \n        <div>\n            <p><b>SparkContext</b></p>\n\n            <p><a href=\"http://192.168.15.23:4040\">Spark UI</a></p>\n\n            <dl>\n              <dt>Version</dt>\n                <dd><code>v3.3.0</code></dd>\n              <dt>Master</dt>\n                <dd><code>local[*]</code></dd>\n              <dt>AppName</dt>\n                <dd><code>CDIA4-22-PySpark</code></dd>\n            </dl>\n        </div>\n        \n            </div>\n        "
     },
     "execution_count": 9,
     "metadata": {},
     "output_type": "execute_result"
    }
   ]
  },
  {
   "cell_type": "markdown",
   "source": [
    "## Passo #01. Leitura do livro"
   ],
   "metadata": {
    "id": "gAfZH9rfeXQI"
   }
  },
  {
   "cell_type": "code",
   "source": [
    "book = spark.read.text(\"books/pride-and-prejudice.txt\")\n",
    "book.show()"
   ],
   "metadata": {
    "colab": {
     "base_uri": "https://localhost:8080/"
    },
    "id": "FvHaqHDBc40U",
    "outputId": "7c1b9f3d-36f8-4e16-808a-012c30f664dc"
   },
   "execution_count": 10,
   "outputs": [
    {
     "name": "stdout",
     "output_type": "stream",
     "text": [
      "+--------------------+\n",
      "|               value|\n",
      "+--------------------+\n",
      "|The Project Guten...|\n",
      "|                    |\n",
      "|This eBook is for...|\n",
      "|most other parts ...|\n",
      "|whatsoever. You m...|\n",
      "|of the Project Gu...|\n",
      "|www.gutenberg.org...|\n",
      "|will have to chec...|\n",
      "|   using this eBook.|\n",
      "|                    |\n",
      "|Title: Pride and ...|\n",
      "|                    |\n",
      "| Author: Jane Austen|\n",
      "|                    |\n",
      "|Release Date: Jun...|\n",
      "|[Most recently up...|\n",
      "|                    |\n",
      "|   Language: English|\n",
      "|                    |\n",
      "|Character set enc...|\n",
      "+--------------------+\n",
      "only showing top 20 rows\n",
      "\n"
     ]
    }
   ]
  },
  {
   "cell_type": "markdown",
   "source": [
    "## Passo #02. Tokenização"
   ],
   "metadata": {
    "id": "325gxOCTfZrd"
   }
  },
  {
   "cell_type": "code",
   "source": [
    "from pyspark.sql.functions import split\n",
    "\n",
    "lines = book.select(\n",
    "    split(book.value, \" \").alias(\"line\")\n",
    ")\n",
    "#lines.show()\n",
    "\n",
    "# Dá pra mudar a truncagem, mostrando mais colunas que o padrão\n",
    "lines.show(10, truncate=50)"
   ],
   "metadata": {
    "colab": {
     "base_uri": "https://localhost:8080/"
    },
    "id": "3HQA7gxZfcv6",
    "outputId": "9ad6a115-37d2-4e04-ab4f-a3c4bd12e850"
   },
   "execution_count": 11,
   "outputs": [
    {
     "name": "stdout",
     "output_type": "stream",
     "text": [
      "+--------------------------------------------------+\n",
      "|                                              line|\n",
      "+--------------------------------------------------+\n",
      "|[The, Project, Gutenberg, eBook, of, Pride, and...|\n",
      "|                                                []|\n",
      "|[This, eBook, is, for, the, use, of, anyone, an...|\n",
      "|[most, other, parts, of, the, world, at, no, co...|\n",
      "|[whatsoever., You, may, copy, it,, give, it, aw...|\n",
      "|[of, the, Project, Gutenberg, License, included...|\n",
      "|[www.gutenberg.org., If, you, are, not, located...|\n",
      "|[will, have, to, check, the, laws, of, the, cou...|\n",
      "|                             [using, this, eBook.]|\n",
      "|                                                []|\n",
      "+--------------------------------------------------+\n",
      "only showing top 10 rows\n",
      "\n"
     ]
    }
   ]
  },
  {
   "cell_type": "code",
   "source": [
    "# Explodindo as linhas (que são compostas por listas)\n",
    "\n",
    "from pyspark.sql.functions import explode, col\n",
    "\n",
    "words = lines.select(\n",
    "    explode(col(\"line\")).alias(\"word\")\n",
    ")\n",
    "words.show()"
   ],
   "metadata": {
    "colab": {
     "base_uri": "https://localhost:8080/"
    },
    "id": "XC3IOhpMgeUH",
    "outputId": "5b622e01-7ab1-45b0-9e47-0a8f2ab30bb0"
   },
   "execution_count": 12,
   "outputs": [
    {
     "name": "stdout",
     "output_type": "stream",
     "text": [
      "+----------+\n",
      "|      word|\n",
      "+----------+\n",
      "|       The|\n",
      "|   Project|\n",
      "| Gutenberg|\n",
      "|     eBook|\n",
      "|        of|\n",
      "|     Pride|\n",
      "|       and|\n",
      "|Prejudice,|\n",
      "|        by|\n",
      "|      Jane|\n",
      "|    Austen|\n",
      "|          |\n",
      "|      This|\n",
      "|     eBook|\n",
      "|        is|\n",
      "|       for|\n",
      "|       the|\n",
      "|       use|\n",
      "|        of|\n",
      "|    anyone|\n",
      "+----------+\n",
      "only showing top 20 rows\n",
      "\n"
     ]
    }
   ]
  },
  {
   "cell_type": "markdown",
   "source": [
    "## Passo #03. Limpeza dos dados"
   ],
   "metadata": {
    "id": "AjX0Ss8whdD4"
   }
  },
  {
   "cell_type": "code",
   "source": [
    "# Mudar a caixa das palavras para minúsculo\n",
    "\n",
    "from pyspark.sql.functions import lower\n",
    "\n",
    "lowered_words = words.select(\n",
    "    lower(\n",
    "        col(\"word\")\n",
    "    ).alias(\"lowered_word\")\n",
    ")\n",
    "lowered_words.show(15)"
   ],
   "metadata": {
    "colab": {
     "base_uri": "https://localhost:8080/"
    },
    "id": "1TDuisT-hcYB",
    "outputId": "55bb047d-646e-406e-9d53-cefbff277ee5"
   },
   "execution_count": 13,
   "outputs": [
    {
     "name": "stdout",
     "output_type": "stream",
     "text": [
      "+------------+\n",
      "|lowered_word|\n",
      "+------------+\n",
      "|         the|\n",
      "|     project|\n",
      "|   gutenberg|\n",
      "|       ebook|\n",
      "|          of|\n",
      "|       pride|\n",
      "|         and|\n",
      "|  prejudice,|\n",
      "|          by|\n",
      "|        jane|\n",
      "|      austen|\n",
      "|            |\n",
      "|        this|\n",
      "|       ebook|\n",
      "|          is|\n",
      "+------------+\n",
      "only showing top 15 rows\n",
      "\n"
     ]
    }
   ]
  },
  {
   "cell_type": "markdown",
   "source": [
    "### Removendo a pontuação"
   ],
   "metadata": {
    "id": "WORJgrblih5m"
   }
  },
  {
   "cell_type": "code",
   "source": [
    "from pyspark.sql.functions import regexp_extract\n",
    "\n",
    "cleaned_words = lowered_words.select(\n",
    "    regexp_extract(\n",
    "        col(\"lowered_word\"), # Indico a coluna\n",
    "        \"[a-z]+\", # Seleciona somente o que parece uma palavra\n",
    "        0 # 0 significa dar o match em toda expressão regular\n",
    "    ).alias(\"cleaned_word\")\n",
    ")\n",
    "cleaned_words.show()"
   ],
   "metadata": {
    "colab": {
     "base_uri": "https://localhost:8080/"
    },
    "id": "CpIyJo7lig1l",
    "outputId": "a4130528-987c-42b5-e4ba-f65651f0eb51"
   },
   "execution_count": 14,
   "outputs": [
    {
     "name": "stdout",
     "output_type": "stream",
     "text": [
      "+------------+\n",
      "|cleaned_word|\n",
      "+------------+\n",
      "|         the|\n",
      "|     project|\n",
      "|   gutenberg|\n",
      "|       ebook|\n",
      "|          of|\n",
      "|       pride|\n",
      "|         and|\n",
      "|   prejudice|\n",
      "|          by|\n",
      "|        jane|\n",
      "|      austen|\n",
      "|            |\n",
      "|        this|\n",
      "|       ebook|\n",
      "|          is|\n",
      "|         for|\n",
      "|         the|\n",
      "|         use|\n",
      "|          of|\n",
      "|      anyone|\n",
      "+------------+\n",
      "only showing top 20 rows\n",
      "\n"
     ]
    }
   ]
  },
  {
   "cell_type": "markdown",
   "source": [
    "### Filtrando os valores NULL"
   ],
   "metadata": {
    "id": "Wj98wLG1kbrn"
   }
  },
  {
   "cell_type": "code",
   "source": [
    "words_nonull = cleaned_words.where(\n",
    "    col(\"cleaned_word\") != \"\"\n",
    ")\n",
    "words_nonull = words_nonull.select(\n",
    "    col(\"cleaned_word\").alias(\"word\")\n",
    ")\n",
    "words_nonull.show()"
   ],
   "metadata": {
    "colab": {
     "base_uri": "https://localhost:8080/"
    },
    "id": "AyYkzD4gka3Y",
    "outputId": "b4111d59-bb6a-4bf7-ca0b-3fbddb028654"
   },
   "execution_count": 15,
   "outputs": [
    {
     "name": "stdout",
     "output_type": "stream",
     "text": [
      "+---------+\n",
      "|     word|\n",
      "+---------+\n",
      "|      the|\n",
      "|  project|\n",
      "|gutenberg|\n",
      "|    ebook|\n",
      "|       of|\n",
      "|    pride|\n",
      "|      and|\n",
      "|prejudice|\n",
      "|       by|\n",
      "|     jane|\n",
      "|   austen|\n",
      "|     this|\n",
      "|    ebook|\n",
      "|       is|\n",
      "|      for|\n",
      "|      the|\n",
      "|      use|\n",
      "|       of|\n",
      "|   anyone|\n",
      "| anywhere|\n",
      "+---------+\n",
      "only showing top 20 rows\n",
      "\n"
     ]
    }
   ]
  },
  {
   "cell_type": "markdown",
   "source": [
    "### Contagem das palavras"
   ],
   "metadata": {
    "id": "sXyLmXqhlQo7"
   }
  },
  {
   "cell_type": "code",
   "source": [
    "counts = words_nonull.groupBy(\n",
    "    col(\"word\")\n",
    ").count()\n",
    "counts.show()"
   ],
   "metadata": {
    "colab": {
     "base_uri": "https://localhost:8080/"
    },
    "id": "tt1jTugllTF6",
    "outputId": "f6df9005-c9de-43d6-b603-859bc218a3a7"
   },
   "execution_count": 16,
   "outputs": [
    {
     "name": "stdout",
     "output_type": "stream",
     "text": [
      "+-------------+-----+\n",
      "|         word|count|\n",
      "+-------------+-----+\n",
      "|       online|    4|\n",
      "|         some|  208|\n",
      "|        still|   72|\n",
      "|          few|   72|\n",
      "|         hope|  122|\n",
      "|        those|   59|\n",
      "|     cautious|    4|\n",
      "|    imitation|    1|\n",
      "|          art|    3|\n",
      "|      solaced|    1|\n",
      "|       poetry|    2|\n",
      "|    arguments|    5|\n",
      "| premeditated|    1|\n",
      "|      elevate|    1|\n",
      "|       doubts|    2|\n",
      "|    destitute|    1|\n",
      "|    solemnity|    5|\n",
      "|   lieutenant|    1|\n",
      "|gratification|    1|\n",
      "|    connected|   14|\n",
      "+-------------+-----+\n",
      "only showing top 20 rows\n",
      "\n"
     ]
    }
   ]
  },
  {
   "cell_type": "markdown",
   "source": [
    "### Ordenação das contagens"
   ],
   "metadata": {
    "id": "F4h2uPdIlryu"
   }
  },
  {
   "cell_type": "code",
   "source": [
    "counts.orderBy(\n",
    "    col(\"count\"),\n",
    "    ascending=False\n",
    ").show()"
   ],
   "metadata": {
    "colab": {
     "base_uri": "https://localhost:8080/"
    },
    "id": "eZ4ZwF8Xlq3J",
    "outputId": "cf9345c1-32a9-4c43-eadd-e5660462b6c5"
   },
   "execution_count": 17,
   "outputs": [
    {
     "name": "stdout",
     "output_type": "stream",
     "text": [
      "+----+-----+\n",
      "|word|count|\n",
      "+----+-----+\n",
      "| the| 4511|\n",
      "|  to| 4237|\n",
      "|  of| 3724|\n",
      "| and| 3599|\n",
      "| her| 2224|\n",
      "|   i| 2052|\n",
      "|   a| 1997|\n",
      "|  in| 1922|\n",
      "| was| 1847|\n",
      "| she| 1703|\n",
      "|that| 1583|\n",
      "|  it| 1542|\n",
      "| not| 1454|\n",
      "| you| 1431|\n",
      "|  he| 1334|\n",
      "| his| 1268|\n",
      "|  be| 1256|\n",
      "|  as| 1193|\n",
      "| had| 1176|\n",
      "|with| 1099|\n",
      "+----+-----+\n",
      "only showing top 20 rows\n",
      "\n"
     ]
    }
   ]
  },
  {
   "cell_type": "markdown",
   "source": [
    "# Retomando"
   ],
   "metadata": {
    "id": "UZ7vw00FrDzl"
   }
  },
  {
   "cell_type": "markdown",
   "source": [
    "## Passo #2.1"
   ],
   "metadata": {
    "id": "KkQsSYQj4kFx"
   }
  },
  {
   "cell_type": "code",
   "source": [
    "words_lst_df = words_nonull.select(\n",
    "    split(\n",
    "        col(\"word\"),\n",
    "        \" \"\n",
    "    ).alias(\"word\")\n",
    ")\n",
    "words_lst_df.show(10)"
   ],
   "metadata": {
    "colab": {
     "base_uri": "https://localhost:8080/"
    },
    "id": "SnhRdEs73iBQ",
    "outputId": "7e64b972-e689-45bd-f065-e9d9346953f8"
   },
   "execution_count": 18,
   "outputs": [
    {
     "name": "stdout",
     "output_type": "stream",
     "text": [
      "+-----------+\n",
      "|       word|\n",
      "+-----------+\n",
      "|      [the]|\n",
      "|  [project]|\n",
      "|[gutenberg]|\n",
      "|    [ebook]|\n",
      "|       [of]|\n",
      "|    [pride]|\n",
      "|      [and]|\n",
      "|[prejudice]|\n",
      "|       [by]|\n",
      "|     [jane]|\n",
      "+-----------+\n",
      "only showing top 10 rows\n",
      "\n"
     ]
    }
   ]
  },
  {
   "cell_type": "code",
   "source": [
    "# Remove as stop words\n",
    "from pyspark.ml.feature import StopWordsRemover\n",
    "\n",
    "swr = StopWordsRemover(\n",
    "    inputCol=\"word\",\n",
    "    outputCol=\"meaningful\"\n",
    ")\n",
    "\n",
    "swr_df = swr.transform(words_lst_df)\n",
    "swr_df.show()"
   ],
   "metadata": {
    "colab": {
     "base_uri": "https://localhost:8080/"
    },
    "id": "dbHU6cVB6S6p",
    "outputId": "59f2a49a-140a-4c0d-bc6d-4bde18e9b91d"
   },
   "execution_count": 19,
   "outputs": [
    {
     "name": "stdout",
     "output_type": "stream",
     "text": [
      "+-----------+-----------+\n",
      "|       word| meaningful|\n",
      "+-----------+-----------+\n",
      "|      [the]|         []|\n",
      "|  [project]|  [project]|\n",
      "|[gutenberg]|[gutenberg]|\n",
      "|    [ebook]|    [ebook]|\n",
      "|       [of]|         []|\n",
      "|    [pride]|    [pride]|\n",
      "|      [and]|         []|\n",
      "|[prejudice]|[prejudice]|\n",
      "|       [by]|         []|\n",
      "|     [jane]|     [jane]|\n",
      "|   [austen]|   [austen]|\n",
      "|     [this]|         []|\n",
      "|    [ebook]|    [ebook]|\n",
      "|       [is]|         []|\n",
      "|      [for]|         []|\n",
      "|      [the]|         []|\n",
      "|      [use]|      [use]|\n",
      "|       [of]|         []|\n",
      "|   [anyone]|   [anyone]|\n",
      "| [anywhere]| [anywhere]|\n",
      "+-----------+-----------+\n",
      "only showing top 20 rows\n",
      "\n"
     ]
    }
   ]
  },
  {
   "cell_type": "code",
   "source": [
    "# Removing the NULLs\n",
    "meaningful = swr_df.select(\n",
    "    (col(\"meaningful\")[0]).alias(\"meaningful\")\n",
    ")\n",
    "meaningful.show()"
   ],
   "metadata": {
    "colab": {
     "base_uri": "https://localhost:8080/"
    },
    "id": "oM9uoKGr8kiJ",
    "outputId": "7c819cca-4ae7-43ad-ea30-4cd1d3e6085f"
   },
   "execution_count": 20,
   "outputs": [
    {
     "name": "stdout",
     "output_type": "stream",
     "text": [
      "+----------+\n",
      "|meaningful|\n",
      "+----------+\n",
      "|      null|\n",
      "|   project|\n",
      "| gutenberg|\n",
      "|     ebook|\n",
      "|      null|\n",
      "|     pride|\n",
      "|      null|\n",
      "| prejudice|\n",
      "|      null|\n",
      "|      jane|\n",
      "|    austen|\n",
      "|      null|\n",
      "|     ebook|\n",
      "|      null|\n",
      "|      null|\n",
      "|      null|\n",
      "|       use|\n",
      "|      null|\n",
      "|    anyone|\n",
      "|  anywhere|\n",
      "+----------+\n",
      "only showing top 20 rows\n",
      "\n"
     ]
    }
   ]
  },
  {
   "cell_type": "code",
   "source": [
    "# Filtrar os valores NULLs\n",
    "meaningful_nonull = meaningful.where(\n",
    "    col(\"meaningful\") != \"null\"\n",
    ")\n",
    "meaningful_nonull.show(5)"
   ],
   "metadata": {
    "colab": {
     "base_uri": "https://localhost:8080/"
    },
    "id": "9CaFUSzO9W6i",
    "outputId": "e324e529-5c27-4eea-ca3c-072ffb3c166b"
   },
   "execution_count": 21,
   "outputs": [
    {
     "name": "stdout",
     "output_type": "stream",
     "text": [
      "+----------+\n",
      "|meaningful|\n",
      "+----------+\n",
      "|   project|\n",
      "| gutenberg|\n",
      "|     ebook|\n",
      "|     pride|\n",
      "| prejudice|\n",
      "+----------+\n",
      "only showing top 5 rows\n",
      "\n"
     ]
    }
   ]
  },
  {
   "cell_type": "markdown",
   "source": [
    "### Recontagem dos valores"
   ],
   "metadata": {
    "id": "e5kVKmVc9vxM"
   }
  },
  {
   "cell_type": "code",
   "source": [
    "words_counts = meaningful_nonull.groupby(\n",
    "    col(\"meaningful\")\n",
    ").count()\n",
    "\n",
    "words_counts.show()"
   ],
   "metadata": {
    "colab": {
     "base_uri": "https://localhost:8080/"
    },
    "id": "Ygkw7r7w9u5a",
    "outputId": "28de12fe-ca46-445b-ea09-3288735fbe4d"
   },
   "execution_count": 22,
   "outputs": [
    {
     "name": "stdout",
     "output_type": "stream",
     "text": [
      "+-------------+-----+\n",
      "|   meaningful|count|\n",
      "+-------------+-----+\n",
      "|       online|    4|\n",
      "|        still|   72|\n",
      "|         hope|  122|\n",
      "|     cautious|    4|\n",
      "|    imitation|    1|\n",
      "|          art|    3|\n",
      "|      solaced|    1|\n",
      "|       poetry|    2|\n",
      "|    arguments|    5|\n",
      "| premeditated|    1|\n",
      "|      elevate|    1|\n",
      "|       doubts|    2|\n",
      "|    destitute|    1|\n",
      "|    solemnity|    5|\n",
      "|   lieutenant|    1|\n",
      "|gratification|    1|\n",
      "|    connected|   14|\n",
      "|   likelihood|    5|\n",
      "|        pools|    1|\n",
      "|       coaxed|    1|\n",
      "+-------------+-----+\n",
      "only showing top 20 rows\n",
      "\n"
     ]
    }
   ]
  },
  {
   "cell_type": "code",
   "source": [
    "# Classificação da contagem\n",
    "words_counts = words_counts.orderBy(\n",
    "    col(\"count\"), \n",
    "    ascending=False\n",
    ")\n",
    "words_counts.show()\n"
   ],
   "metadata": {
    "colab": {
     "base_uri": "https://localhost:8080/"
    },
    "id": "4uWS9txY-GXi",
    "outputId": "14c955db-7eb0-47e1-e3b4-4e3d9bb19294"
   },
   "execution_count": 23,
   "outputs": [
    {
     "name": "stdout",
     "output_type": "stream",
     "text": [
      "+----------+-----+\n",
      "|meaningful|count|\n",
      "+----------+-----+\n",
      "|        mr|  783|\n",
      "| elizabeth|  633|\n",
      "|     darcy|  418|\n",
      "|      said|  402|\n",
      "|       mrs|  344|\n",
      "|      much|  329|\n",
      "|    bennet|  324|\n",
      "|      must|  318|\n",
      "|   bingley|  307|\n",
      "|      jane|  294|\n",
      "|      miss|  283|\n",
      "|       one|  276|\n",
      "|      know|  239|\n",
      "|      well|  224|\n",
      "|    though|  221|\n",
      "|     never|  220|\n",
      "|    sister|  218|\n",
      "|      soon|  215|\n",
      "|     think|  211|\n",
      "|       may|  207|\n",
      "+----------+-----+\n",
      "only showing top 20 rows\n",
      "\n"
     ]
    }
   ]
  },
  {
   "cell_type": "code",
   "source": [],
   "metadata": {
    "id": "-XUNYqVtxXbU"
   },
   "execution_count": 23,
   "outputs": []
  }
 ]
}
