{
 "cells": [
  {
   "cell_type": "markdown",
   "source": [
    "### Estrutura das redes neurais\n",
    "- Redes neurais são compostas por nós ou unidades conectadas por ligações direcionadas.\n",
    "- Cada ligação tem um peso associado que determina a força e o sinal da conexão.\n",
    "- Cada unidade calcula uma soma ponderada de suas entradas e aplica uma função de ativação não linear para obter a saída.\n",
    "- Existem duas formas fundamentalmente distintas de conectar neurônios: a rede com alimentação para a frente e a rede recorrente.\n",
    "- As redes com alimentação para a frente têm conexões somente em uma direção e representam uma função de sua entrada atual.\n",
    "- As redes recorrentes alimentam suas saídas de volta às suas próprias entradas e podem suportar memória de curto prazo.\n",
    "- As redes com alimentação para a frente são geralmente dispostas em camadas, com cada unidade recebendo entrada apenas de unidades na camada imediatamente anterior.\n",
    "- As redes neurais podem ter múltiplas camadas ocultas que não estão conectadas às saídas da rede.\n",
    "- As redes neurais podem ter saídas múltiplas para problemas que envolvem mais de uma variável de saída, como adicionar dois bits de entrada.\n",
    "- As redes neurais são frequentemente usadas em problemas de classificação com mais de duas classes, com uma unidade de saída para cada classe.\n",
    "\n",
    "##### A estrutura de uma rede neural pode ser representada matematicamente como:\n",
    "$$ f(x) = f^{(L)}( W^{(L)} \\cdot f^{(L-1)}( W^{(L -1)} ... f^{(1)}( W^{(1)} \\cdot x ) ) ) $$\n",
    "\n",
    "$$ f(x) = f^{(L)}( W^{(L)} \\cdot f^{(L-1)}( W^{(L -1)} ... f^{(1)}( W^{(1)} \\cdot x + b^{(1)} ) + b^{(L-1)} ) + b^{(L)} ) $$\n",
    " TODO pq n tem baias aqui?\n",
    "\n",
    "$x$ é o vetor de entrada,\n",
    "$f^{(l)}$ é a função de ativação da camada $l$,\n",
    "$W^{(l)}$ é a matriz de pesos da camada $l - 1$\n",
    "A cadamada de entrada é $l = 0$ e camada de saída é denotada como $l = L$\n",
    "O vetor de saida é representado por $y = f^{(L)}(z^{(L)})$\n",
    "Onde $z^{(L)}$ é $W^{(L)} \\cdot f^{(L-1)}(z^{(L-1)})$"
   ],
   "metadata": {
    "collapsed": false
   }
  }
 ],
 "metadata": {
  "kernelspec": {
   "display_name": "Python 3",
   "language": "python",
   "name": "python3"
  },
  "language_info": {
   "codemirror_mode": {
    "name": "ipython",
    "version": 2
   },
   "file_extension": ".py",
   "mimetype": "text/x-python",
   "name": "python",
   "nbconvert_exporter": "python",
   "pygments_lexer": "ipython2",
   "version": "2.7.6"
  }
 },
 "nbformat": 4,
 "nbformat_minor": 0
}
