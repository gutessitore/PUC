{
 "cells": [
  {
   "cell_type": "markdown",
   "metadata": {
    "pycharm": {
     "name": "#%% md\n"
    }
   },
   "source": [
    "Lembremos qual é o nosso projeto: desenvolver, em Python, um\n",
    "prompt de comando em que se pode inserir frases, formuladas numa\n",
    "sintaxe próxima da linguagem natural (que definiremos em momento\n",
    "oportuno), que irão compor uma “base de crenças” de uma pessoa.\n",
    "Para cada nova inserção *p*, deve-se verificar"
   ]
  },
  {
   "cell_type": "markdown",
   "metadata": {
    "pycharm": {
     "name": "#%% md\n"
    }
   },
   "source": [
    "1. se *p* é uma tautologia ou contradição; se esse for o caso, não adicionar *p* na base de dados e imprimir “*p* não possui conteúdo\n",
    "informacional”.\n",
    "2. se *p* é uma consequência dedutiva de outras sentenças já inseridas;\n",
    "se esse for o caso, não adicionar *p* na base de dados e imprimir\n",
    "“informação redundante”;\n",
    "3. se a adição de *p* faz a base de dados ficar inconsistente; nesse\n",
    "caso, não adicionar *p* na base de dados e imprimir “informação\n",
    "conflitante com a base de crenças” (opcional: deixar o usuário\n",
    "escolher entre desistir de adicionar *p* ou remover outras frases já\n",
    "inseridas até que a inserção de *p* não torne mais a base de crenças\n",
    "inconsistente).\n"
   ]
  },
  {
   "cell_type": "markdown",
   "metadata": {
    "pycharm": {
     "name": "#%% md\n"
    }
   },
   "source": [
    "### Especificação da sintaxe de entrada de dados\n",
    "A sintaxe da entrada de dados que escolheremos, em um primeiro\n",
    "momento, será muito próxima à da linguagem da lógica proposicional; exceto que, ao invés de P, Q, R, etc., (i.e., dos símbolos usados\n",
    "para frases atômicas) utilizaremos frases do português. A título de\n",
    "exemplo, as frases ‘ “(a gasolina acabou ∨ o motor fundiu)”, “(a\n",
    "gasolina não acabou ⊃ o motor fundiu)” e “¬ a gasolina acabou” são\n",
    "frases bem formadas para a entrada de dados de nosso prompt."
   ]
  },
  {
   "cell_type": "markdown",
   "metadata": {
    "pycharm": {
     "name": "#%% md\n"
    }
   },
   "source": [
    "Se a frase começar com uma negação, então ela é o conectivo principal\n",
    "Se encontrar um conectivo e a contagem de parenteses for 1, então ele é o conectivo principal\n",
    "\n",
    "Cada conectivo principal vai ser um nó da árvore\n",
    "As expressões atômicas vão ser os nós filhos do nó principal\n",
    "\n",
    "Uma expressão atômica é uma letra proposicional\n",
    "\n",
    "Ao somar 1 para cada parêntese aberto e subtrair 1 para cada parêntese fechado, o resultado deve ser 0"
   ]
  },
  {
   "cell_type": "markdown",
   "metadata": {
    "pycharm": {
     "name": "#%% md\n"
    }
   },
   "source": [
    "**Tarefa 1**: defina uma função `is_wff(input)` para determinar se\n",
    "uma frase da lógica proposicional é bem formada ou não.\n",
    "\n",
    "Para definir se uma frase é bem formada é preciso:\n",
    "\n",
    "Achar o primeiro conectivo principal\n",
    "Verificar se o conectivo principal é válido\n",
    "Separar a expressão pelo conectivo encontrado\n",
    "Verificar se as expressões separadas são bem formadas\n",
    "\n"
   ]
  },
  {
   "cell_type": "code",
   "execution_count": 87,
   "metadata": {
    "ExecuteTime": {
     "end_time": "2023-10-06T10:47:40.590594Z",
     "start_time": "2023-10-06T10:47:40.573207Z"
    },
    "pycharm": {
     "name": "#%%\n"
    }
   },
   "outputs": [
    {
     "data": {
      "text/plain": [
       "[True, True, True, True, True, True, True, True]"
      ]
     },
     "execution_count": 87,
     "metadata": {},
     "output_type": "execute_result"
    }
   ],
   "source": [
    "class Node:\n",
    "    def __init__(self, value):\n",
    "        self.value = value\n",
    "        self.children = []\n",
    "\n",
    "    def __repr__(self, level=0):\n",
    "        ret = \"\\t\" * level + repr(self.value) + \"\\n\"\n",
    "        for child in self.children:\n",
    "            ret += child.__repr__(level+1)\n",
    "        return ret\n",
    "\n",
    "\n",
    "class Formula:\n",
    "    def __init__(self, formula):\n",
    "        self.original_formula = formula.replace(\" \", \"\")\n",
    "        self.formula = self.original_formula\n",
    "        self.replace_operators()\n",
    "\n",
    "    def replace_operators(self):\n",
    "        list_op = [\"∧\", \"∨\", \"≡\", \"⊃\", \"&\"]\n",
    "        for op in list_op:\n",
    "            self.formula = self.formula.replace(op, \"*\")\n",
    "\n",
    "    def handle_negation(self, formula):\n",
    "        \"\"\"Check if formula starts with the negation symbol and handle it.\"\"\"\n",
    "        negation = ['¬', '~']\n",
    "        return formula[0] in negation and self.is_well_formed(formula[1:])\n",
    "\n",
    "    def find_operator_position(self, formula):\n",
    "        \"\"\"Find the position of the '*' operator at the top level.\"\"\"\n",
    "        count, index = 0, -1\n",
    "        for i, char in enumerate(formula):\n",
    "            if char == '(':\n",
    "                count += 1\n",
    "            elif char == ')':\n",
    "                count -= 1\n",
    "            elif char in [\"∧\", \"∨\", \"≡\", \"⊃\", \"&\", \"*\"] and count == 1:\n",
    "                index = i\n",
    "                return i\n",
    "        return index\n",
    "\n",
    "    def has_disallowed_chars(self, formula):\n",
    "        \"\"\"Check if formula contains any of the disallowed characters.\"\"\"\n",
    "        for char in ['(', ')', '*']:\n",
    "            if char in formula:\n",
    "                return True\n",
    "        return False\n",
    "\n",
    "    def is_well_formed(self, formula):\n",
    "        \"\"\"Check if a formula is well-formed recursively.\"\"\"\n",
    "        # Base cases\n",
    "        if not formula:\n",
    "            return False\n",
    "\n",
    "        # Handle negation\n",
    "        if formula[0] in ['¬', '~']:\n",
    "            return self.handle_negation(formula)\n",
    "\n",
    "        # Check for balanced parentheses and presence of the '*' operator\n",
    "        if formula[0] == '(' and formula[-1] == ')':\n",
    "            operator_position = self.find_operator_position(formula)\n",
    "            return operator_position > 0 and self.is_well_formed(formula[1:operator_position]) and self.is_well_formed(formula[operator_position + 1:-1])\n",
    "\n",
    "        # Check for any disallowed characters in the formula\n",
    "        return not self.has_disallowed_chars(formula)\n",
    "\n",
    "    def is_wff(self):\n",
    "        return self.is_well_formed(self.formula)\n",
    "\n",
    "    def get_tree(self):\n",
    "        # If the formula is atomic, return a node with that formula\n",
    "        formula = self.original_formula\n",
    "        if self.is_wff() and len(formula) == 1:\n",
    "            return Node(self.formula)\n",
    "\n",
    "        # If the formula starts with a negation, create a node for the negation and a child node for the rest of the formula\n",
    "        if self.formula[0] in ['¬', '~']:\n",
    "            node = Node(formula[0])\n",
    "            node.children.append(Formula(formula[1:]).get_tree())\n",
    "            return node\n",
    "\n",
    "        # Find the position of the main connective\n",
    "        operator_position = self.find_operator_position(formula)\n",
    "\n",
    "        # Create a node for the main connective\n",
    "        node = Node(formula[operator_position])\n",
    "\n",
    "        # Split the formula into subformulas and call the function recursively for each one\n",
    "        left_subformula = formula[1:operator_position]\n",
    "        right_subformula = formula[operator_position + 1:-1]\n",
    "\n",
    "        node.children.append(Formula(left_subformula).get_tree())\n",
    "        node.children.append(Formula(right_subformula).get_tree())\n",
    "\n",
    "        return node\n",
    "\n",
    "    def to_list(self):\n",
    "        tree = self.get_tree()\n",
    "        return tree.to_list()\n",
    "\n",
    "\n",
    "\n",
    "tests = [\n",
    "    Formula('((P ∨ (R ∧ ¬S)) ∨ ¬(Q ∧ ¬P))').is_wff(),\n",
    "    Formula('¬(P ∧ ¬(¬Q ∨ R))').is_wff(),\n",
    "    Formula('(((((R ∧ S) ∨ ¬P) ∨ ¬¬Q) ∨ ¬(S ∧ (¬Q ∨ R))) ∧ ¬(P ∧ ¬(¬Q ∨R)))').is_wff(),\n",
    "    Formula('bla').is_wff(),\n",
    "    not Formula('P & Q').is_wff(),\n",
    "    Formula('~(P&Q)').is_wff(),\n",
    "    Formula('¬(P ∧ ¬(¬Q ∨ R))').is_wff(),\n",
    "    not Formula('((P ∨ (R ∧ ¬S)) ∨∨ ¬(Q ∧ ¬P))').is_wff()\n",
    "]\n",
    "\n",
    "tests"
   ]
  },
  {
   "cell_type": "markdown",
   "metadata": {
    "pycharm": {
     "name": "#%% md\n"
    }
   },
   "source": [
    "**Tarefa 2**: defina uma função `get_tree(input)` que retorna a árvore sintática de uma frase bem formada. Para isso, construa uma\n",
    "classe Node que representa um nó da árvore. A classe nó deve conter\n",
    "um campo para guardar uma informação (que será um conectivo ou\n",
    "uma frase atômica) e uma lista de nós-filho."
   ]
  },
  {
   "cell_type": "code",
   "execution_count": 60,
   "metadata": {
    "ExecuteTime": {
     "end_time": "2023-10-06T10:49:03.704432Z",
     "start_time": "2023-10-06T10:49:03.694428Z"
    },
    "pycharm": {
     "name": "#%%\n"
    }
   },
   "outputs": [
    {
     "data": {
      "text/plain": [
       "'¬'\n",
       "\t'∧'\n",
       "\t\t'∨'\n",
       "\t\t\t'P'\n",
       "\t\t\t'Q'\n",
       "\t\t'R'"
      ]
     },
     "execution_count": 60,
     "metadata": {},
     "output_type": "execute_result"
    }
   ],
   "source": [
    "test_formula = \"¬((P ∨ Q) ∧ R)\"\n",
    "formula = Formula(test_formula)\n",
    "formula.get_tree()"
   ]
  },
  {
   "cell_type": "markdown",
   "metadata": {
    "pycharm": {
     "name": "#%% md\n"
    }
   },
   "source": [
    "**Tarefa 3**: implemente a técnica de tableaux semânticos ensinada em\n",
    "sala de aula."
   ]
  },
  {
   "cell_type": "code",
   "execution_count": 89,
   "metadata": {
    "pycharm": {
     "name": "#%%\n"
    }
   },
   "outputs": [
    {
     "data": {
      "text/plain": [
       "'∨'\n",
       "\t'∧'\n",
       "\t\t'¬'\n",
       "\t\t\t'P'\n",
       "\t\t'¬'\n",
       "\t\t\t'Q'\n",
       "\t'¬'\n",
       "\t\t'R'"
      ]
     },
     "execution_count": 89,
     "metadata": {},
     "output_type": "execute_result"
    }
   ],
   "source": [
    "import re\n",
    "\n",
    "\n",
    "def rule_double_negation(formula):\n",
    "    \"\"\"Apply the rule for double negation.\"\"\"\n",
    "    return re.sub(r\"¬¬(\\w)\", r\"\\1\", formula)\n",
    "\n",
    "def rule_negation_and(formula):\n",
    "    \"\"\"Apply the rule for negation of conjunction.\"\"\"\n",
    "    return re.sub(r\"¬\\((\\w) ∧ (\\w)\\)\", r\"(¬\\1 ∨ ¬\\2)\", formula)\n",
    "\n",
    "def rule_negation_or(formula):\n",
    "    \"\"\"Apply the rule for negation of disjunction.\"\"\"\n",
    "    return re.sub(r\"¬\\((\\w) ∨ (\\w)\\)\", r\"(¬\\1 ∧ ¬\\2)\", formula)\n",
    "\n",
    "def rule_negation_implication(formula):\n",
    "    \"\"\"Apply the rule for negation of implication.\"\"\"\n",
    "    return re.sub(r\"¬\\((\\w) ⊃ (\\w)\\)\", r\"(\\1 ∧ ¬\\2)\", formula)\n",
    "\n",
    "def rule_negation_biconditional(formula):\n",
    "    \"\"\"Apply the rule for negation of biconditional.\"\"\"\n",
    "    return re.sub(r\"¬\\((\\w) ≡ (\\w)\\)\", r\"((¬\\1 ∧ \\2) ∨ (\\1 ∧ ¬\\2))\", formula)\n",
    "\n",
    "def rule_implication(formula):\n",
    "    \"\"\"Apply the rule for implication.\"\"\"\n",
    "    return re.sub(r\"(\\w) ⊃ (\\w)\", r\"(¬\\1 ∨ \\2)\", formula)\n",
    "\n",
    "def rule_biconditional(formula):\n",
    "    \"\"\"Apply the rule for biconditional.\"\"\"\n",
    "    return re.sub(r\"(\\w) ≡ (\\w)\", r\"((\\1 ∧ \\2) ∨ (¬\\1 ∧ ¬\\2))\", formula)\n",
    "\n",
    "def apply_rules_general(formula):\n",
    "    \"\"\"Apply all the rules iteratively.\"\"\"\n",
    "\n",
    "    transformed = formula\n",
    "    transformed = rule_double_negation(transformed)\n",
    "    transformed = rule_negation_and(transformed)\n",
    "    transformed = rule_negation_or(transformed)\n",
    "    transformed = rule_negation_implication(transformed)\n",
    "    transformed = rule_negation_biconditional(transformed)\n",
    "    transformed = rule_implication(transformed)\n",
    "    transformed = rule_biconditional(transformed)\n",
    "\n",
    "    return transformed\n",
    "\n",
    "def decompose_formula(formula):\n",
    "    \"\"\"Decompose a formula into its basic components and apply the conversion rules.\"\"\"\n",
    "    # Check for outer negation\n",
    "    if formula.startswith(\"¬(\") and formula.endswith(\")\"):\n",
    "        inner_formula = formula[2:-1]\n",
    "\n",
    "        # ¬(A ∧ B)\n",
    "        if \"∧\" in inner_formula:\n",
    "            parts = inner_formula.split(\"∧\")\n",
    "            return f\"({decompose_formula('¬' + parts[0].strip())} ∨ {decompose_formula('¬' + parts[1].strip())})\"\n",
    "\n",
    "        # ¬(A ∨ B)\n",
    "        if \"∨\" in inner_formula:\n",
    "            parts = inner_formula.split(\"∨\")\n",
    "            return f\"({decompose_formula('¬' + parts[0].strip())} ∧ {decompose_formula('¬' + parts[1].strip())})\"\n",
    "\n",
    "    # For other cases, apply the general rules\n",
    "    transformed = apply_rules_general(formula)\n",
    "    return transformed\n",
    "\n",
    "def convert_formula_recursive(formula):\n",
    "    \"\"\"Recursively apply the conversion rules.\"\"\"\n",
    "    while True:\n",
    "        transformed = decompose_formula(formula)\n",
    "        if transformed == formula:\n",
    "            break\n",
    "        formula = transformed\n",
    "    return formula\n",
    "\n",
    "converted_formula = convert_formula_recursive(\"¬((P ∨ Q) ∧ R)\")\n",
    "Formula(converted_formula).get_tree()"
   ]
  },
  {
   "cell_type": "markdown",
   "metadata": {
    "pycharm": {
     "name": "#%% md\n"
    }
   },
   "source": [
    "**Tarefa 4**: defina uma função `is_tautology(formula)` que retorna\n",
    "`True` se formula é uma tautologia, e False caso contrário. Use, para\n",
    "isso, a técnica de tableaux semânticos."
   ]
  },
  {
   "cell_type": "code",
   "execution_count": 51,
   "metadata": {
    "pycharm": {
     "name": "#%%\n"
    }
   },
   "outputs": [
    {
     "data": {
      "text/plain": [
       "{'P': 'P',\n",
       " '¬P': '¬P',\n",
       " '(P ∧ Q)': '(P ∧ Q)',\n",
       " '(P ∨ Q)': '(P ∨ Q)',\n",
       " '¬(P ∧ Q)': '¬(P ∧ Q)'\n",
       " \t'¬P '\n",
       " \t'¬ Q',\n",
       " '¬(P ∨ Q)': '¬(P ∨ Q)'\n",
       " \t'¬P '\n",
       " \t'¬ Q',\n",
       " '((P ∨ Q) ∧ R)': '((P ∨ Q) ∧ R)',\n",
       " '(P ∧ (Q ∨ R))': '(P ∧ (Q ∨ R))',\n",
       " '¬((P ∨ Q) ∧ R)': '¬((P ∨ Q) ∧ R)'\n",
       " \t'¬P ∨ Q) '\n",
       " \t\t'¬P '\n",
       " \t\t' Q) '\n",
       " \t'¬ R',\n",
       " '¬(P ∧ (Q ∨ R))': '¬(P ∧ (Q ∨ R))'\n",
       " \t'¬P '\n",
       " \t'¬ (Q ∨ R'}"
      ]
     },
     "execution_count": 51,
     "metadata": {},
     "output_type": "execute_result"
    }
   ],
   "source": []
  },
  {
   "cell_type": "markdown",
   "metadata": {
    "pycharm": {
     "name": "#%% md\n"
    }
   },
   "source": [
    "**Tarefa 5**: defina uma função `is_contradiction(formula)` que\n",
    "retorna True se formula é uma contradição, e False caso contrário.\n",
    "Use, para isso, a técnica de tableaux semânticos"
   ]
  },
  {
   "cell_type": "markdown",
   "metadata": {
    "pycharm": {
     "name": "#%% md\n"
    }
   },
   "source": [
    "**Tarefa 6**: defina uma função `follows_from(conclusion, premisses)`\n",
    "que retorna `True` se conclusion é uma consequência de premisses,\n",
    "e False caso contrário. Use, para isso, a técnica de tableaux semânticos."
   ]
  },
  {
   "cell_type": "markdown",
   "metadata": {
    "pycharm": {
     "name": "#%% md\n"
    }
   },
   "source": [
    "**Tarefa 7**: defina uma função `get_sentences_with_atoms(beliefs,\n",
    "atoms)` que retorna uma lista dos beliefs que contêm ao menos\n",
    "um átomo proposicional de atoms."
   ]
  },
  {
   "cell_type": "markdown",
   "metadata": {
    "pycharm": {
     "name": "#%% md\n"
    }
   },
   "source": [
    "**Tarefa 8**: use todas as funções definidas anteriormente para definir a\n",
    "função `main` de seu programa."
   ]
  },
  {
   "cell_type": "code",
   "execution_count": 4,
   "metadata": {
    "pycharm": {
     "name": "#%%\n"
    }
   },
   "outputs": [
    {
     "ename": "SyntaxError",
     "evalue": "unterminated string literal (detected at line 20) (2398592453.py, line 20)",
     "output_type": "error",
     "traceback": [
      "\u001b[1;36m  Cell \u001b[1;32mIn[4], line 20\u001b[1;36m\u001b[0m\n\u001b[1;33m    print(orig_new_belief, ' conduz a uma fórmula mal formada.)\u001b[0m\n\u001b[1;37m                           ^\u001b[0m\n\u001b[1;31mSyntaxError\u001b[0m\u001b[1;31m:\u001b[0m unterminated string literal (detected at line 20)\n"
     ]
    }
   ],
   "source": [
    "if __name__ == '__main__':\n",
    "    dict = {}\n",
    "    beliefs = []\n",
    "    new_belief = ''\n",
    "    while True:\n",
    "        new_belief = input('Insira uma nova informação ou a palavra \\'sair\\' para terminar:')\n",
    "        if new_belief == 'sair': break\n",
    "        else:\n",
    "            orig_new_belief = new_belief\n",
    "\n",
    "            atomic = get_atomic_sentences(new_belief)\n",
    "            atoms = []\n",
    "            for atom in atomic:\n",
    "                if atom not in dict: dict[atom] = 'p' + (len(dict)+1).__str__()\n",
    "                new_belief = new_belief.replace(atom, dict[atom])\n",
    "                atoms.append(dict[atom])\n",
    "            print(\"new_belief = \", new_belief)\n",
    "            #test whether new_belief is a well-formed formula\n",
    "            if not is_wff(new_belief):\n",
    "                print(orig_new_belief, ' conduz a uma fórmula mal formada.)\n",
    "            #test whether new_belief is a tautology or a contradiction\n",
    "            if is_tautology(new_belief) or is_contradiction(new_belief):\n",
    "                print(orig_new_belief, ' não possui conteúdo informacional.')\n",
    "                continue\n",
    "\n",
    "            premisses = get_sentences_with_atoms(beliefs, atoms)\n",
    "            if premisses:\n",
    "                # test whether new_belief is redundant with respect to beliefs\n",
    "                #print(\"new_belief = \", new_belief)\n",
    "                #print(\"beliefs = \", beliefs)\n",
    "                if follows_from(new_belief, beliefs):\n",
    "                    print(orig_new_belief, ' é uma informação redundante em relação à base atual de crenças.')\n",
    "                    continue\n",
    "                # test whether new_belief is contradictory with respect to beliefs\n",
    "                if follows_from('~'+new_belief, beliefs):\n",
    "                    print(orig_new_belief, ' é uma informação conflitante com a base atual de crenças.')\n",
    "                    continue\n",
    "\n",
    "            beliefs.append(new_belief)\n",
    "            print(orig_new_belief, ' adicionada à base de crenças')"
   ]
  }
 ],
 "metadata": {
  "kernelspec": {
   "display_name": "Python 3 (ipykernel)",
   "language": "python",
   "name": "python3"
  },
  "language_info": {
   "codemirror_mode": {
    "name": "ipython",
    "version": 3
   },
   "file_extension": ".py",
   "mimetype": "text/x-python",
   "name": "python",
   "nbconvert_exporter": "python",
   "pygments_lexer": "ipython3",
   "version": "3.10.2"
  }
 },
 "nbformat": 4,
 "nbformat_minor": 1
}
