{
 "cells": [
  {
   "cell_type": "markdown",
   "source": [
    "Lembremos qual é o nosso projeto: desenvolver, em Python, um\n",
    "prompt de comando em que se pode inserir frases, formuladas numa\n",
    "sintaxe próxima da linguagem natural (que definiremos em momento\n",
    "oportuno), que irão compor uma “base de crenças” de uma pessoa.\n",
    "Para cada nova inserção *p*, deve-se verificar"
   ],
   "metadata": {
    "collapsed": false
   }
  },
  {
   "cell_type": "markdown",
   "source": [
    "1. se *p* é uma tautologia ou contradição; se esse for o caso, não adicionar *p* na base de dados e imprimir “*p* não possui conteúdo\n",
    "informacional”.\n",
    "2. se *p* é uma consequência dedutiva de outras sentenças já inseridas;\n",
    "se esse for o caso, não adicionar *p* na base de dados e imprimir\n",
    "“informação redundante”;\n",
    "3. se a adição de *p* faz a base de dados ficar inconsistente; nesse\n",
    "caso, não adicionar *p* na base de dados e imprimir “informação\n",
    "conflitante com a base de crenças” (opcional: deixar o usuário\n",
    "escolher entre desistir de adicionar *p* ou remover outras frases já\n",
    "inseridas até que a inserção de *p* não torne mais a base de crenças\n",
    "inconsistente).\n"
   ],
   "metadata": {
    "collapsed": false
   }
  },
  {
   "cell_type": "markdown",
   "source": [
    "### Especificação da sintaxe de entrada de dados\n",
    "A sintaxe da entrada de dados que escolheremos, em um primeiro\n",
    "momento, será muito próxima à da linguagem da lógica proposicional; exceto que, ao invés de P, Q, R, etc., (i.e., dos símbolos usados\n",
    "para frases atômicas) utilizaremos frases do português. A título de\n",
    "exemplo, as frases ‘ “(a gasolina acabou ∨ o motor fundiu)”, “(a\n",
    "gasolina não acabou ⊃ o motor fundiu)” e “¬ a gasolina acabou” são\n",
    "frases bem formadas para a entrada de dados de nosso prompt."
   ],
   "metadata": {
    "collapsed": false
   }
  },
  {
   "cell_type": "markdown",
   "source": [
    "Se a frase começar com uma negação, então ela é o conectivo principal\n",
    "Se encontrar um conectivo e a contagem de parenteses for 1, então ele é o conectivo principal\n",
    "\n",
    "Cada conectivo principal vai ser um nó da árvore\n",
    "As expressões atômicas vão ser os nós filhos do nó principal\n",
    "\n",
    "Uma expressão atômica é uma letra proposicional\n",
    "\n",
    "Ao somar 1 para cada parêntese aberto e subtrair 1 para cada parêntese fechado, o resultado deve ser 0"
   ],
   "metadata": {
    "collapsed": false
   }
  },
  {
   "cell_type": "markdown",
   "source": [
    "**Tarefa 1**: defina uma função `is_wff(input)` para determinar se\n",
    "uma frase da lógica proposicional é bem formada ou não.\n",
    "\n",
    "Para definir se uma frase é bem formada é preciso:\n",
    "\n",
    "Achar o primeiro conectivo principal\n",
    "Verificar se o conectivo principal é válido\n",
    "Separar a expressão pelo conectivo encontrado\n",
    "Verificar se as expressões separadas são bem formadas\n",
    "\n"
   ],
   "metadata": {
    "collapsed": false
   }
  },
  {
   "cell_type": "code",
   "execution_count": 31,
   "outputs": [],
   "source": [
    "def handle_negation(formula):\n",
    "    \"\"\"Check if formula starts with the negation symbol and handle it.\"\"\"\n",
    "    negation = ['¬', '~']\n",
    "    return formula[0] in negation and is_well_formed(formula[1:])\n",
    "\n",
    "\n",
    "def find_operator_position(formula):\n",
    "    \"\"\"Find the position of the '*' operator at the top level.\"\"\"\n",
    "    count, index = 0, -1\n",
    "    for i, char in enumerate(formula):\n",
    "        if char == '(':\n",
    "            count += 1\n",
    "        elif char == ')':\n",
    "            count -= 1\n",
    "        elif char in [\"∧\", \"∨\", \"≡\", \"⊃\", \"&\", \"*\"] and count == 1:\n",
    "            index = i\n",
    "            return i\n",
    "    return index\n",
    "\n",
    "\n",
    "def has_disallowed_chars(formula):\n",
    "    \"\"\"Check if formula contains any of the disallowed characters.\"\"\"\n",
    "    for char in ['(', ')', '*']:\n",
    "        if char in formula: return True\n",
    "    return False\n",
    "\n",
    "\n",
    "def is_well_formed(formula):\n",
    "    \"\"\"Check if a formula is well-formed recursively.\"\"\"\n",
    "    # Base cases\n",
    "    if not formula: return False\n",
    "\n",
    "    # Handle negation\n",
    "    if handle_negation(formula): return True\n",
    "\n",
    "    # Check for balanced parentheses and presence of the '*' operator\n",
    "    if formula[0] == '(' and formula[-1] == ')':\n",
    "        operator_position = find_operator_position(formula)\n",
    "        return operator_position > 0 and is_well_formed(formula[1:operator_position]) and is_well_formed(\n",
    "            formula[operator_position + 1:-1])\n",
    "\n",
    "    # Check for any disallowed characters in the formula\n",
    "    return not has_disallowed_chars(formula)\n",
    "\n",
    "\n",
    "def is_wff(formula):\n",
    "    list_op = [\"∧\", \"∨\", \"≡\", \"⊃\", \"&\"]\n",
    "    for op in list_op: formula = formula.replace(op, \"*\")\n",
    "    formula = formula.replace(\" \", \"\")\n",
    "    return is_well_formed(formula)\n",
    "\n",
    "\n",
    "\n",
    "\n",
    "assert is_wff('((P ∨ (R ∧ ¬S)) ∨ ¬(Q ∧ ¬P))') is True\n",
    "assert is_wff('¬(P ∧ ¬(¬Q ∨ R))') is True\n",
    "assert is_wff('((P ∨ (R ∧ ¬S)) ∨ ¬(Q ∧ ¬P))') is True\n",
    "assert is_wff('(((((R ∧ S) ∨ ¬P) ∨ ¬¬Q) ∨ ¬(S ∧ (¬Q ∨ R))) ∧ ¬(P ∧ ¬(¬Q ∨R)))') is True\n",
    "assert is_wff('bla') is True\n",
    "assert is_wff('P & Q') is False\n",
    "assert is_wff('~(P&Q)') is True\n",
    "assert is_wff('¬(P ∧ ¬(¬Q ∨ R))') is True\n",
    "assert is_wff('((P ∨ (R ∧ ¬S)) ∨∨ ¬(Q ∧ ¬P))') is False"
   ],
   "metadata": {
    "collapsed": false,
    "ExecuteTime": {
     "start_time": "2023-10-06T10:47:40.573207Z",
     "end_time": "2023-10-06T10:47:40.590594Z"
    }
   }
  },
  {
   "cell_type": "markdown",
   "source": [
    "**Tarefa 2**: defina uma função `get_tree(input)` que retorna a árvore sintática de uma frase bem formada. Para isso, construa uma\n",
    "classe Node que representa um nó da árvore. A classe nó deve conter\n",
    "um campo para guardar uma informação (que será um conectivo ou\n",
    "uma frase atômica) e uma lista de nós-filho."
   ],
   "metadata": {
    "collapsed": false
   }
  },
  {
   "cell_type": "code",
   "execution_count": 34,
   "outputs": [
    {
     "data": {
      "text/plain": "Node(∨, \n[Node(∨, \n[Node(P, \n[]), Node(∧, \n[Node(R, \n[]), Node(¬, \n[Node(S, \n[])])])]), Node(¬, \n[Node(∧, \n[Node(Q, \n[]), Node(¬, \n[Node(P, \n[])])])])])"
     },
     "execution_count": 34,
     "metadata": {},
     "output_type": "execute_result"
    }
   ],
   "source": [
    "class Node:\n",
    "    def __init__(self, value):\n",
    "        self.value = value\n",
    "        self.children = []\n",
    "\n",
    "    def __repr__(self):\n",
    "        return f\"Node({self.value}, {self.children})\"\n",
    "\n",
    "def get_tree(formula):\n",
    "    # Se a formula for atômica, retorne um nó com essa formula\n",
    "\n",
    "    formula = formula.replace(\" \", \"\")\n",
    "\n",
    "    if is_wff(formula) and len(formula) == 1:\n",
    "        return Node(formula)\n",
    "\n",
    "    # Se a formula começa com uma negação, crie um nó para a negação e um nó filho para o resto da formula\n",
    "    if formula[0] in ['¬', '~']:\n",
    "        node = Node(formula[0])\n",
    "        node.children.append(get_tree(formula[1:]))\n",
    "        return node\n",
    "\n",
    "    # Encontre a posição do conectivo principal\n",
    "    operator_position = find_operator_position(formula)\n",
    "\n",
    "    # Crie um nó para o conectivo principal\n",
    "    node = Node(formula[operator_position])\n",
    "\n",
    "    # Divida a formula em subfórmulas e chame a função recursivamente para cada uma\n",
    "    left_subformula = formula[1:operator_position]\n",
    "    right_subformula = formula[operator_position + 1:-1]\n",
    "\n",
    "    node.children.append(get_tree(left_subformula))\n",
    "    node.children.append(get_tree(right_subformula))\n",
    "\n",
    "    return node\n",
    "\n",
    "# Teste inicial\n",
    "test_formula = \"((P ∨ (R ∧ ¬S)) ∨ ¬(Q ∧ ¬P))\"\n",
    "result = get_tree(test_formula)\n",
    "result"
   ],
   "metadata": {
    "collapsed": false,
    "ExecuteTime": {
     "start_time": "2023-10-06T10:49:03.694428Z",
     "end_time": "2023-10-06T10:49:03.704432Z"
    }
   }
  },
  {
   "cell_type": "markdown",
   "source": [
    "**Tarefa 3**: implemente a técnica de tableaux semânticos ensinada em\n",
    "sala de aula."
   ],
   "metadata": {
    "collapsed": false
   }
  },
  {
   "cell_type": "markdown",
   "source": [
    "**Tarefa 4**: defina uma função `is_tautology(formula)` que retorna\n",
    "`True` se formula é uma tautologia, e False caso contrário. Use, para\n",
    "isso, a técnica de tableaux semânticos."
   ],
   "metadata": {
    "collapsed": false
   }
  },
  {
   "cell_type": "markdown",
   "source": [
    "**Tarefa 5**: defina uma função `is_contradiction(formula)` que\n",
    "retorna True se formula é uma contradição, e False caso contrário.\n",
    "Use, para isso, a técnica de tableaux semânticos"
   ],
   "metadata": {
    "collapsed": false
   }
  },
  {
   "cell_type": "markdown",
   "source": [
    "**Tarefa 6**: defina uma função `follows_from(conclusion, premisses)`\n",
    "que retorna `True` se conclusion é uma consequência de premisses,\n",
    "e False caso contrário. Use, para isso, a técnica de tableaux semânticos."
   ],
   "metadata": {
    "collapsed": false
   }
  },
  {
   "cell_type": "markdown",
   "source": [
    "**Tarefa 7**: defina uma função `get_sentences_with_atoms(beliefs,\n",
    "atoms)` que retorna uma lista dos beliefs que contêm ao menos\n",
    "um átomo proposicional de atoms."
   ],
   "metadata": {
    "collapsed": false
   }
  },
  {
   "cell_type": "markdown",
   "source": [
    "**Tarefa 8**: use todas as funções definidas anteriormente para definir a\n",
    "função `main` de seu programa."
   ],
   "metadata": {
    "collapsed": false
   }
  },
  {
   "cell_type": "code",
   "execution_count": null,
   "outputs": [],
   "source": [
    "if __name__ == '__main__':\n",
    "    dict = {}\n",
    "    beliefs = []\n",
    "    new_belief = ''\n",
    "    while True:\n",
    "        new_belief = input('Insira uma nova informação ou a palavra \\'sair\\' para terminar:')\n",
    "        if new_belief == 'sair': break\n",
    "        else:\n",
    "            orig_new_belief = new_belief\n",
    "\n",
    "            atomic = get_atomic_sentences(new_belief)\n",
    "            atoms = []\n",
    "            for atom in atomic:\n",
    "                if atom not in dict: dict[atom] = 'p' + (len(dict)+1).__str__()\n",
    "                new_belief = new_belief.replace(atom, dict[atom])\n",
    "                atoms.append(dict[atom])\n",
    "            print(\"new_belief = \", new_belief)\n",
    "            #test whether new_belief is a well-formed formula\n",
    "            if not is_wff(new_belief):\n",
    "                print(orig_new_belief, ' conduz a uma fórmula mal formada.)\n",
    "            #test whether new_belief is a tautology or a contradiction\n",
    "            if is_tautology(new_belief) or is_contradiction(new_belief):\n",
    "                print(orig_new_belief, ' não possui conteúdo informacional.')\n",
    "                continue\n",
    "\n",
    "            premisses = get_sentences_with_atoms(beliefs, atoms)\n",
    "            if premisses:\n",
    "                # test whether new_belief is redundant with respect to beliefs\n",
    "                #print(\"new_belief = \", new_belief)\n",
    "                #print(\"beliefs = \", beliefs)\n",
    "                if follows_from(new_belief, beliefs):\n",
    "                    print(orig_new_belief, ' é uma informação redundante em relação à base atual de crenças.')\n",
    "                    continue\n",
    "                # test whether new_belief is contradictory with respect to beliefs\n",
    "                if follows_from('~'+new_belief, beliefs):\n",
    "                    print(orig_new_belief, ' é uma informação conflitante com a base atual de crenças.')\n",
    "                    continue\n",
    "\n",
    "            beliefs.append(new_belief)\n",
    "            print(orig_new_belief, ' adicionada à base de crenças')"
   ],
   "metadata": {
    "collapsed": false
   }
  }
 ],
 "metadata": {
  "kernelspec": {
   "display_name": "Python 3",
   "language": "python",
   "name": "python3"
  },
  "language_info": {
   "codemirror_mode": {
    "name": "ipython",
    "version": 2
   },
   "file_extension": ".py",
   "mimetype": "text/x-python",
   "name": "python",
   "nbconvert_exporter": "python",
   "pygments_lexer": "ipython2",
   "version": "2.7.6"
  }
 },
 "nbformat": 4,
 "nbformat_minor": 0
}
