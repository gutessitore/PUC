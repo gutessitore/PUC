{
 "cells": [
  {
   "cell_type": "markdown",
   "metadata": {},
   "source": [
    "## Diferença entre Inteligencia Artificial Machine learning e Deep learning\n",
    "\n",
    "**Inteligência Artificial (IA)**: É o campo da ciência da computação dedicado a criar sistemas capazes de realizar tarefas que normalmente exigiriam inteligência humana. Isso inclui raciocínio, percepção, aprendizado, compreensão de linguagem e interação. A IA é o guarda-chuva sob o qual ML e DL se encaixam, abrangendo uma ampla gama de técnicas e metodologias, desde sistemas baseados em regras e árvores de decisão até aprendizado de máquina e redes neurais.\n",
    "\n",
    "**Aprendizado de Máquina (ML)**: É um subcampo da IA que foca em desenvolver algoritmos e técnicas que permitem aos computadores \"aprender\" a partir de dados. Ao invés de serem explicitamente programados para realizar uma tarefa específica, os sistemas de ML usam dados e algoritmos para melhorar seu desempenho em uma tarefa ao longo do tempo. ML inclui uma variedade de abordagens como aprendizado supervisionado, não supervisionado e por reforço.\n",
    "\n",
    "**Aprendizado Profundo (DL)**: É um subconjunto do ML que utiliza redes neurais profundas, uma técnica que imita a estrutura e função do cérebro humano, para aprender a partir de grandes volumes de dados. DL é particularmente poderoso para tarefas complexas como reconhecimento de fala, visão computacional e processamento de linguagem natural, onde pode automaticamente identificar padrões complexos que seriam difíceis ou impossíveis para um ser humano ou uma técnica de ML mais simples.\n",
    "\n",
    "\n",
    "\n",
    "O conceito de Deep Learning (Aprendizado Profundo), como conhecemos hoje, tem suas raízes nas décadas de 1940 e 1950 com o desenvolvimento das primeiras redes neurais. No entanto, o termo \"deep learning\" e o uso moderno de redes neurais profundas só ganharam destaque e se desenvolveram significativamente nas últimas décadas.\n",
    "\n",
    "Um marco importante na história do deep learning foi o desenvolvimento do algoritmo de retropropagação (backpropagation) por David E. Rumelhart, Geoffrey E. Hinton e Ronald J. Williams, publicado em 1986. Esse algoritmo permitiu o treinamento eficaz de redes neurais profundas ao ajustar os pesos das conexões na rede de forma eficiente.\n",
    "\n",
    "A pesquisa e o interesse em deep learning começaram a acelerar na década de 2000, especialmente após 2006, quando Geoffrey Hinton e seus colegas publicaram um trabalho que mostrava como treinar redes neurais profundas de maneira eficiente usando uma técnica chamada \"treinamento prévio não supervisionado\".\n",
    "\n",
    "O reconhecimento de fala e a visão computacional foram duas áreas que se beneficiaram enormemente dos avanços em deep learning, com marcos significativos ocorrendo nos anos 2010. Por exemplo, em 2012, a equipe de Geoffrey Hinton ganhou a competição ImageNet, uma competição de visão computacional, usando uma rede neural profunda. Esse evento marcou um ponto de virada para o deep learning, demonstrando sua superioridade sobre as técnicas tradicionais de ML para tarefas complexas de processamento de imagens e visão computacional.\n",
    "\n",
    "Portanto, enquanto as ideias fundamentais por trás do deep learning foram concebidas há décadas, sua formulação e uso no sentido moderno realmente começaram a tomar forma nos anos 1980 e só ganharam destaque e aceitação generalizada na última década, impulsionadas por avanços computacionais e pela disponibilidade de grandes conjuntos de dados.\n",
    "\n",
    "\n",
    "### Como depplearing funciona\n",
    "\n",
    "https://www.youtube.com/watch?v=aircAruvnKk&ab_channel=3Blue1Brown\n",
    "https://www.youtube.com/watch?v=IHZwWFHWa-w&ab_channel=3Blue1Brown\n",
    "https://www.youtube.com/watch?v=Ilg3gGewQ5U&ab_channel=3Blue1Brown\n",
    "https://www.youtube.com/watch?v=tIeHLnjs5U8&ab_channel=3Blue1Brown\n",
    "\n",
    "\n",
    "\n"
   ]
  },
  {
   "cell_type": "markdown",
   "metadata": {},
   "source": []
  }
 ],
 "metadata": {
  "language_info": {
   "name": "python"
  }
 },
 "nbformat": 4,
 "nbformat_minor": 2
}
