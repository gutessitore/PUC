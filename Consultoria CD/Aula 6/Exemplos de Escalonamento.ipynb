{
 "cells": [
  {
   "cell_type": "markdown",
   "id": "44edb24c",
   "metadata": {},
   "source": [
    "Exemplo 1 Matriz de Distâncias"
   ]
  },
  {
   "cell_type": "code",
   "execution_count": 23,
   "id": "ad542a38",
   "metadata": {},
   "outputs": [],
   "source": [
    "#Bibliotecas necessárias\n",
    "import numpy as np\n",
    "from sklearn.manifold import MDS\n",
    "import matplotlib.pyplot as plt\n",
    "import pandas as pd\n",
    "from scipy.spatial import distance\n",
    "from sklearn.metrics import pairwise_distances\n",
    "from sklearn.metrics import euclidean_distances\n",
    "\n",
    "\n",
    "# local do arquivo\n",
    "Caminho='C:/_Academico/PUC/Ciência de Dados I/Distancia.xlsx'\n",
    "\n"
   ]
  },
  {
   "cell_type": "code",
   "execution_count": 27,
   "id": "749380dc",
   "metadata": {},
   "outputs": [
    {
     "data": {
      "text/html": [
       "<div>\n",
       "<style scoped>\n",
       "    .dataframe tbody tr th:only-of-type {\n",
       "        vertical-align: middle;\n",
       "    }\n",
       "\n",
       "    .dataframe tbody tr th {\n",
       "        vertical-align: top;\n",
       "    }\n",
       "\n",
       "    .dataframe thead th {\n",
       "        text-align: right;\n",
       "    }\n",
       "</style>\n",
       "<table border=\"1\" class=\"dataframe\">\n",
       "  <thead>\n",
       "    <tr style=\"text-align: right;\">\n",
       "      <th></th>\n",
       "      <th>Cidade</th>\n",
       "      <th>ARACAJÚ</th>\n",
       "      <th>BELÉM</th>\n",
       "      <th>BELO HORIZONTE</th>\n",
       "      <th>BRASÍLIA</th>\n",
       "      <th>CAMPO GRANDE</th>\n",
       "      <th>CUIABÁ</th>\n",
       "      <th>CURITIBA</th>\n",
       "      <th>FLORIANÓPOLIS</th>\n",
       "      <th>FORTALEZA</th>\n",
       "      <th>...</th>\n",
       "      <th>PORTO ALEGRE</th>\n",
       "      <th>PORTO VELHO</th>\n",
       "      <th>RECIFE</th>\n",
       "      <th>RIO BRANCO</th>\n",
       "      <th>RIO DE JANEIRO</th>\n",
       "      <th>SALVADOR</th>\n",
       "      <th>SÃO LUÍS</th>\n",
       "      <th>SÃO PAULO</th>\n",
       "      <th>TERESINA</th>\n",
       "      <th>VITÓRIA</th>\n",
       "    </tr>\n",
       "  </thead>\n",
       "  <tbody>\n",
       "    <tr>\n",
       "      <th>0</th>\n",
       "      <td>ARACAJÚ</td>\n",
       "      <td>0</td>\n",
       "      <td>2079</td>\n",
       "      <td>1578</td>\n",
       "      <td>1650</td>\n",
       "      <td>2764</td>\n",
       "      <td>2773</td>\n",
       "      <td>2595</td>\n",
       "      <td>2892</td>\n",
       "      <td>1183</td>\n",
       "      <td>...</td>\n",
       "      <td>3296</td>\n",
       "      <td>4229</td>\n",
       "      <td>501</td>\n",
       "      <td>4763</td>\n",
       "      <td>1855</td>\n",
       "      <td>356</td>\n",
       "      <td>1578</td>\n",
       "      <td>2188</td>\n",
       "      <td>1142</td>\n",
       "      <td>1408</td>\n",
       "    </tr>\n",
       "    <tr>\n",
       "      <th>1</th>\n",
       "      <td>BELÉM</td>\n",
       "      <td>2079</td>\n",
       "      <td>0</td>\n",
       "      <td>2824</td>\n",
       "      <td>2140</td>\n",
       "      <td>2942</td>\n",
       "      <td>2941</td>\n",
       "      <td>3193</td>\n",
       "      <td>3500</td>\n",
       "      <td>1611</td>\n",
       "      <td>...</td>\n",
       "      <td>3854</td>\n",
       "      <td>4397</td>\n",
       "      <td>2074</td>\n",
       "      <td>4931</td>\n",
       "      <td>3250</td>\n",
       "      <td>2100</td>\n",
       "      <td>806</td>\n",
       "      <td>2933</td>\n",
       "      <td>947</td>\n",
       "      <td>3108</td>\n",
       "    </tr>\n",
       "    <tr>\n",
       "      <th>2</th>\n",
       "      <td>BELO HORIZONTE</td>\n",
       "      <td>1578</td>\n",
       "      <td>2824</td>\n",
       "      <td>0</td>\n",
       "      <td>741</td>\n",
       "      <td>1453</td>\n",
       "      <td>1594</td>\n",
       "      <td>1004</td>\n",
       "      <td>1301</td>\n",
       "      <td>2528</td>\n",
       "      <td>...</td>\n",
       "      <td>1712</td>\n",
       "      <td>3050</td>\n",
       "      <td>2061</td>\n",
       "      <td>3584</td>\n",
       "      <td>434</td>\n",
       "      <td>1372</td>\n",
       "      <td>2738</td>\n",
       "      <td>586</td>\n",
       "      <td>2302</td>\n",
       "      <td>524</td>\n",
       "    </tr>\n",
       "    <tr>\n",
       "      <th>3</th>\n",
       "      <td>BRASÍLIA</td>\n",
       "      <td>1650</td>\n",
       "      <td>2140</td>\n",
       "      <td>741</td>\n",
       "      <td>0</td>\n",
       "      <td>1134</td>\n",
       "      <td>1133</td>\n",
       "      <td>1366</td>\n",
       "      <td>1673</td>\n",
       "      <td>2208</td>\n",
       "      <td>...</td>\n",
       "      <td>2027</td>\n",
       "      <td>2589</td>\n",
       "      <td>2135</td>\n",
       "      <td>3123</td>\n",
       "      <td>1148</td>\n",
       "      <td>1446</td>\n",
       "      <td>2157</td>\n",
       "      <td>1015</td>\n",
       "      <td>1789</td>\n",
       "      <td>1238</td>\n",
       "    </tr>\n",
       "    <tr>\n",
       "      <th>4</th>\n",
       "      <td>CAMPO GRANDE</td>\n",
       "      <td>2764</td>\n",
       "      <td>2942</td>\n",
       "      <td>1453</td>\n",
       "      <td>1134</td>\n",
       "      <td>0</td>\n",
       "      <td>694</td>\n",
       "      <td>991</td>\n",
       "      <td>1298</td>\n",
       "      <td>3407</td>\n",
       "      <td>...</td>\n",
       "      <td>1518</td>\n",
       "      <td>2150</td>\n",
       "      <td>3247</td>\n",
       "      <td>2684</td>\n",
       "      <td>1444</td>\n",
       "      <td>2568</td>\n",
       "      <td>2979</td>\n",
       "      <td>1014</td>\n",
       "      <td>2911</td>\n",
       "      <td>1892</td>\n",
       "    </tr>\n",
       "  </tbody>\n",
       "</table>\n",
       "<p>5 rows × 25 columns</p>\n",
       "</div>"
      ],
      "text/plain": [
       "           Cidade  ARACAJÚ  BELÉM  BELO HORIZONTE  BRASÍLIA  CAMPO GRANDE  \\\n",
       "0         ARACAJÚ        0   2079            1578      1650          2764   \n",
       "1           BELÉM     2079      0            2824      2140          2942   \n",
       "2  BELO HORIZONTE     1578   2824               0       741          1453   \n",
       "3        BRASÍLIA     1650   2140             741         0          1134   \n",
       "4    CAMPO GRANDE     2764   2942            1453      1134             0   \n",
       "\n",
       "   CUIABÁ  CURITIBA  FLORIANÓPOLIS  FORTALEZA  ...  PORTO ALEGRE  PORTO VELHO  \\\n",
       "0    2773      2595           2892       1183  ...          3296         4229   \n",
       "1    2941      3193           3500       1611  ...          3854         4397   \n",
       "2    1594      1004           1301       2528  ...          1712         3050   \n",
       "3    1133      1366           1673       2208  ...          2027         2589   \n",
       "4     694       991           1298       3407  ...          1518         2150   \n",
       "\n",
       "   RECIFE  RIO BRANCO  RIO DE JANEIRO  SALVADOR  SÃO LUÍS  SÃO PAULO  \\\n",
       "0     501        4763            1855       356      1578       2188   \n",
       "1    2074        4931            3250      2100       806       2933   \n",
       "2    2061        3584             434      1372      2738        586   \n",
       "3    2135        3123            1148      1446      2157       1015   \n",
       "4    3247        2684            1444      2568      2979       1014   \n",
       "\n",
       "   TERESINA  VITÓRIA  \n",
       "0      1142     1408  \n",
       "1       947     3108  \n",
       "2      2302      524  \n",
       "3      1789     1238  \n",
       "4      2911     1892  \n",
       "\n",
       "[5 rows x 25 columns]"
      ]
     },
     "execution_count": 27,
     "metadata": {},
     "output_type": "execute_result"
    }
   ],
   "source": [
    "# Matriz de distância\n",
    "df =  pd.read_excel(Caminho)\n",
    "df.head()"
   ]
  },
  {
   "cell_type": "code",
   "execution_count": 28,
   "id": "0fe47a85",
   "metadata": {},
   "outputs": [
    {
     "name": "stdout",
     "output_type": "stream",
     "text": [
      "[[   0 2079 1578 1650 2764 2773 2595 2892 1183 1849  611  294 5215  788\n",
      "  3296 4229  501 4763 1855  356 1578 2188 1142 1408]\n",
      " [2079    0 2824 2140 2942 2941 3193 3500 1611 2017 2161 2173 5298 2108\n",
      "  3854 4397 2074 4931 3250 2100  806 2933  947 3108]\n",
      " [1578 2824    0  741 1453 1594 1004 1301 2528  906 2171 1854 3951 2348\n",
      "  1712 3050 2061 3584  434 1372 2738  586 2302  524]\n",
      " [1650 2140  741    0 1134 1133 1366 1673 2208  209 2245 1928 3490 2422\n",
      "  2027 2589 2135 3123 1148 1446 2157 1015 1789 1238]\n",
      " [2764 2942 1453 1134    0  694  991 1298 3407  935 3357 3040 3051 3537\n",
      "  1518 2150 3247 2684 1444 2568 2979 1014 2911 1892]\n",
      " [2773 2941 1594 1133  694    0 1679 1986 3406  934 3366 3049 2357 3543\n",
      "  2206 1456 3256 1990 2017 2567 2978 1614 2910 2119]\n",
      " [2595 3193 1004 1366  991 1679    0  300 3541 1186 3188 2871 4036 3365\n",
      "   711 3135 3078 3669  852 2385 3230  408 3143 1300]\n",
      " [2892 3500 1301 1673 1298 1986  300    0 3838 1493 3485 3168 4343 3662\n",
      "   476 3442 3375 3976 1144 2682 3537  705 3450 1597]\n",
      " [1183 1611 2528 2208 3407 3406 3541 3838    0 2482  688 1075 5763  537\n",
      "  4242 4865  800 5396 2805 1389 1070 3127  634 2397]\n",
      " [1849 2017  906  209  935  934 1186 1493 2482    0 2442 2105 3291 2619\n",
      "  1847 2390 2332 2924 1338 1643 2054  926 1986 1428]\n",
      " [ 611 2161 2171 2245 3357 3366 3188 3485  688 2442    0  395 5808  185\n",
      "  3889 4822  120 5356 2448  949 1660 2770 1224 2001]\n",
      " [ 294 2173 1854 1928 3040 3049 2871 3168 1075 2105  395    0 5491  572\n",
      "  3572 4505  285 5039 2131  632 1672 2453 1236 1684]\n",
      " [5215 5298 3951 3490 3051 2357 4036 4343 5763 3291 5808 5491    0 5985\n",
      "  4563  901 5698 1445 4374 5009 5335 3971 5267 4476]\n",
      " [ 788 2108 2348 2422 3537 3543 3365 3662  537 2619  185  572 5985    0\n",
      "  4066 4999  297 5533 2625 1126 1607 2947 1171 2178]\n",
      " [3296 3854 1712 2027 1518 2206  711  476 4242 1847 3889 3572 4563 4066\n",
      "     0 3662 3779 4196 1553 3090 3891 1109 3804 2001]\n",
      " [4229 4397 3050 2589 2150 1456 3135 3442 4865 2390 4822 4505  901 4999\n",
      "  3662    0 4712  544 3473 4023 4434 3070 4366 3575]\n",
      " [ 501 2074 2061 2135 3247 3256 3078 3375  800 2332  120  285 5698  297\n",
      "  3779 4712    0 5243 2338  839 1573 2660 1137 1891]\n",
      " [4763 4931 3584 3123 2684 1990 3669 3976 5396 2924 5356 5039 1445 5533\n",
      "  4196  544 5243    0 4007 4457 4968 3604 4900 4109]\n",
      " [1855 3250  434 1148 1444 2017  852 1144 2805 1338 2448 2131 4374 2625\n",
      "  1553 3473 2338 4007    0 1649 3015  429 2579  521]\n",
      " [ 356 2100 1372 1446 2568 2567 2385 2682 1389 1643  949  632 5009 1126\n",
      "  3090 4023  839 4457 1649    0 1599 1962 1163 1202]\n",
      " [1578  806 2738 2157 2979 2978 3230 3537 1070 2054 1660 1672 5335 1607\n",
      "  3891 4434 1573 4968 3015 1599    0 2970  446 2607]\n",
      " [2188 2933  586 1015 1014 1614  408  705 3127  926 2770 2453 3971 2947\n",
      "  1109 3070 2660 3604  429 1962 2970    0 2792  882]\n",
      " [1142  947 2302 1789 2911 2910 3143 3450  634 1986 1224 1236 5267 1171\n",
      "  3804 4366 1137 4900 2579 1163  446 2792    0 2171]\n",
      " [1408 3108  524 1238 1892 2119 1300 1597 2397 1428 2001 1684 4476 2178\n",
      "  2001 3575 1891 4109  521 1202 2607  882 2171    0]]\n"
     ]
    }
   ],
   "source": [
    "\n",
    "df = df.set_index('Cidade')\n",
    "# Extraia as cidades (rótulos) e a matriz de distância dos dados do DataFrame\n",
    "cidades = df.index\n",
    "matriz_distancia = df.values\n",
    "print(matriz_distancia)"
   ]
  },
  {
   "cell_type": "code",
   "execution_count": 46,
   "id": "97f6e260",
   "metadata": {},
   "outputs": [],
   "source": [
    "# Realiza o escalonamento multidimensional (MDS)\n",
    "mds = MDS(n_components=2, dissimilarity='precomputed') # aqui a distância está precomputada\n",
    "low_dim_data = mds.fit_transform(matriz_distancia)\n"
   ]
  },
  {
   "cell_type": "code",
   "execution_count": 47,
   "id": "f3c07b1e",
   "metadata": {},
   "outputs": [
    {
     "name": "stdout",
     "output_type": "stream",
     "text": [
      "0.05124089162520962\n"
     ]
    }
   ],
   "source": [
    "\n",
    "# Calcula o Stress manualmente\n",
    "orig_distances = matriz_distancia.flatten()\n",
    "low_dim_distances = pairwise_distances(low_dim_data, metric='euclidean').flatten()\n",
    "stress = np.sqrt(np.sum((orig_distances - low_dim_distances)**2) / np.sum(orig_distances**2))\n",
    "print(stress)"
   ]
  },
  {
   "cell_type": "code",
   "execution_count": 55,
   "id": "ead92ef2",
   "metadata": {},
   "outputs": [
    {
     "data": {
      "image/png": "[encoded data removed]",
      "text/plain": [
       "<Figure size 1080x720 with 1 Axes>"
      ]
     },
     "metadata": {
      "needs_background": "light"
     },
     "output_type": "display_data"
    },
    {
     "ename": "TypeError",
     "evalue": "'NoneType' object is not callable",
     "output_type": "error",
     "traceback": [
      "\u001b[1;31m---------------------------------------------------------------------------\u001b[0m",
      "\u001b[1;31mTypeError\u001b[0m                                 Traceback (most recent call last)",
      "\u001b[1;32m~\\AppData\\Local\\Temp/ipykernel_15348/803478380.py\u001b[0m in \u001b[0;36m<module>\u001b[1;34m\u001b[0m\n\u001b[0;32m     12\u001b[0m \u001b[1;33m\u001b[0m\u001b[0m\n\u001b[0;32m     13\u001b[0m \u001b[1;31m#display scatterplot\u001b[0m\u001b[1;33m\u001b[0m\u001b[1;33m\u001b[0m\u001b[0m\n\u001b[1;32m---> 14\u001b[1;33m \u001b[0mplt\u001b[0m\u001b[1;33m.\u001b[0m\u001b[0mshow\u001b[0m\u001b[1;33m(\u001b[0m\u001b[1;33m)\u001b[0m\u001b[1;33m(\u001b[0m\u001b[0mtxt\u001b[0m\u001b[1;33m,\u001b[0m \u001b[1;33m(\u001b[0m\u001b[0mlow_dim_data\u001b[0m\u001b[1;33m[\u001b[0m\u001b[1;33m:\u001b[0m\u001b[1;33m,\u001b[0m\u001b[1;36m0\u001b[0m\u001b[1;33m]\u001b[0m\u001b[1;33m[\u001b[0m\u001b[0mi\u001b[0m\u001b[1;33m]\u001b[0m\u001b[1;33m+\u001b[0m\u001b[1;36m.3\u001b[0m\u001b[1;33m,\u001b[0m \u001b[0mlow_dim_data\u001b[0m\u001b[1;33m[\u001b[0m\u001b[1;33m:\u001b[0m\u001b[1;33m,\u001b[0m\u001b[1;36m1\u001b[0m\u001b[1;33m]\u001b[0m\u001b[1;33m[\u001b[0m\u001b[0mi\u001b[0m\u001b[1;33m]\u001b[0m\u001b[1;33m)\u001b[0m\u001b[1;33m)\u001b[0m\u001b[1;33m\u001b[0m\u001b[1;33m\u001b[0m\u001b[0m\n\u001b[0m\u001b[0;32m     15\u001b[0m \u001b[0mplt\u001b[0m\u001b[1;33m.\u001b[0m\u001b[0mshow\u001b[0m\u001b[1;33m(\u001b[0m\u001b[1;33m)\u001b[0m\u001b[1;33m\u001b[0m\u001b[1;33m\u001b[0m\u001b[0m\n",
      "\u001b[1;31mTypeError\u001b[0m: 'NoneType' object is not callable"
     ]
    }
   ],
   "source": [
    "\n",
    "plt.figure(figsize=(15,10))\n",
    "#Cria Scatter Plot\n",
    "plt.scatter(low_dim_data[:,0], low_dim_data[:,1])\n",
    "\n",
    "#Adiciona os eixos\n",
    "plt.xlabel('Coordenada 1')\n",
    "plt.ylabel('Coordenada 2')\n",
    "\n",
    "#Coloca os labels\n",
    "for i, txt in enumerate(df.index):\n",
    "    plt.annotate(txt, (low_dim_data[:,0][i]+.3, low_dim_data[:,1][i]))\n",
    "\n",
    "#display scatterplot\n",
    "plt.show()(txt, (low_dim_data[:,0][i]+.3, low_dim_data[:,1][i]))\n",
    "plt.show()"
   ]
  },
  {
   "cell_type": "markdown",
   "id": "fcb09585",
   "metadata": {},
   "source": [
    "Exemplo 2 Tabela de variáveis"
   ]
  },
  {
   "cell_type": "code",
   "execution_count": 48,
   "id": "bb0e84b0",
   "metadata": {},
   "outputs": [
    {
     "name": "stdout",
     "output_type": "stream",
     "text": [
      "        points  assists  blocks  rebounds\n",
      "player                                   \n",
      "A            4        3       7         4\n",
      "B            4        2       3         5\n",
      "C            6        2       6         5\n",
      "D            7        5       7         6\n",
      "E            8        4       5         5\n",
      "F           14        8       8         8\n",
      "G           16        7       8        10\n",
      "H           19        6       4         4\n",
      "I           25        8       2         3\n",
      "J           25       10       2         2\n",
      "K           28       11       1         2\n"
     ]
    }
   ],
   "source": [
    "import pandas as pd\n",
    "\n",
    "#create DataFrane\n",
    "df = pd.DataFrame({'player': ['A', 'B', 'C', 'D', 'E', 'F', 'G', 'H', 'I', 'J', 'K'],\n",
    "                   'points': [4, 4, 6, 7, 8, 14, 16, 19, 25, 25, 28],\n",
    "                   'assists': [3, 2, 2, 5, 4, 8, 7, 6, 8, 10, 11],\n",
    "                   'blocks': [7, 3, 6, 7, 5, 8, 8, 4, 2, 2, 1],\n",
    "                   'rebounds': [4, 5, 5, 6, 5, 8, 10, 4, 3, 2, 2]})\n",
    "\n",
    "#set player column as index column\n",
    "df = df.set_index('player')\n",
    "\n",
    "#view Dataframe\n",
    "print(df)"
   ]
  },
  {
   "cell_type": "code",
   "execution_count": 50,
   "id": "c82c62a5",
   "metadata": {},
   "outputs": [],
   "source": [
    "# Realiza o escalonamento multidimensional (MDS)\n",
    "mds = MDS(n_components=2, dissimilarity='euclidean') #aqui vamos calcular a distancia euclidiana\n",
    "low_dim_data = mds.fit_transform(df)\n"
   ]
  },
  {
   "cell_type": "code",
   "execution_count": 52,
   "id": "815978a6",
   "metadata": {},
   "outputs": [
    {
     "name": "stdout",
     "output_type": "stream",
     "text": [
      "0.019546228419997865\n"
     ]
    }
   ],
   "source": [
    "# Calcula o Stress manualmente\n",
    "orig_distances = pairwise_distances(df, metric='euclidean').flatten()\n",
    "low_dim_distances = pairwise_distances(low_dim_data, metric='euclidean').flatten()\n",
    "stress = np.sqrt(np.sum((orig_distances - low_dim_distances)**2) / np.sum(orig_distances**2))\n",
    "print(stress)"
   ]
  },
  {
   "cell_type": "code",
   "execution_count": 56,
   "id": "587f37dc",
   "metadata": {},
   "outputs": [
    {
     "data": {
      "image/png": "[encoded data removed]",
      "text/plain": [
       "<Figure size 1080x720 with 1 Axes>"
      ]
     },
     "metadata": {
      "needs_background": "light"
     },
     "output_type": "display_data"
    },
    {
     "ename": "TypeError",
     "evalue": "'NoneType' object is not callable",
     "output_type": "error",
     "traceback": [
      "\u001b[1;31m---------------------------------------------------------------------------\u001b[0m",
      "\u001b[1;31mTypeError\u001b[0m                                 Traceback (most recent call last)",
      "\u001b[1;32m~\\AppData\\Local\\Temp/ipykernel_15348/803478380.py\u001b[0m in \u001b[0;36m<module>\u001b[1;34m\u001b[0m\n\u001b[0;32m     12\u001b[0m \u001b[1;33m\u001b[0m\u001b[0m\n\u001b[0;32m     13\u001b[0m \u001b[1;31m#display scatterplot\u001b[0m\u001b[1;33m\u001b[0m\u001b[1;33m\u001b[0m\u001b[0m\n\u001b[1;32m---> 14\u001b[1;33m \u001b[0mplt\u001b[0m\u001b[1;33m.\u001b[0m\u001b[0mshow\u001b[0m\u001b[1;33m(\u001b[0m\u001b[1;33m)\u001b[0m\u001b[1;33m(\u001b[0m\u001b[0mtxt\u001b[0m\u001b[1;33m,\u001b[0m \u001b[1;33m(\u001b[0m\u001b[0mlow_dim_data\u001b[0m\u001b[1;33m[\u001b[0m\u001b[1;33m:\u001b[0m\u001b[1;33m,\u001b[0m\u001b[1;36m0\u001b[0m\u001b[1;33m]\u001b[0m\u001b[1;33m[\u001b[0m\u001b[0mi\u001b[0m\u001b[1;33m]\u001b[0m\u001b[1;33m+\u001b[0m\u001b[1;36m.3\u001b[0m\u001b[1;33m,\u001b[0m \u001b[0mlow_dim_data\u001b[0m\u001b[1;33m[\u001b[0m\u001b[1;33m:\u001b[0m\u001b[1;33m,\u001b[0m\u001b[1;36m1\u001b[0m\u001b[1;33m]\u001b[0m\u001b[1;33m[\u001b[0m\u001b[0mi\u001b[0m\u001b[1;33m]\u001b[0m\u001b[1;33m)\u001b[0m\u001b[1;33m)\u001b[0m\u001b[1;33m\u001b[0m\u001b[1;33m\u001b[0m\u001b[0m\n\u001b[0m\u001b[0;32m     15\u001b[0m \u001b[0mplt\u001b[0m\u001b[1;33m.\u001b[0m\u001b[0mshow\u001b[0m\u001b[1;33m(\u001b[0m\u001b[1;33m)\u001b[0m\u001b[1;33m\u001b[0m\u001b[1;33m\u001b[0m\u001b[0m\n",
      "\u001b[1;31mTypeError\u001b[0m: 'NoneType' object is not callable"
     ]
    }
   ],
   "source": [
    "\n",
    "plt.figure(figsize=(15,10))\n",
    "#Cria Scatter Plot\n",
    "plt.scatter(low_dim_data[:,0], low_dim_data[:,1])\n",
    "\n",
    "#Adiciona os eixos\n",
    "plt.xlabel('Coordenada 1')\n",
    "plt.ylabel('Coordenada 2')\n",
    "\n",
    "#Coloca os labels\n",
    "for i, txt in enumerate(df.index):\n",
    "    plt.annotate(txt, (low_dim_data[:,0][i]+.3, low_dim_data[:,1][i]))\n",
    "\n",
    "#display scatterplot\n",
    "plt.show()(txt, (low_dim_data[:,0][i]+.3, low_dim_data[:,1][i]))\n",
    "plt.show()"
   ]
  },
  {
   "cell_type": "markdown",
   "id": "99247473",
   "metadata": {},
   "source": [
    "Exemplo 3 Matriz de similaridade"
   ]
  },
  {
   "cell_type": "code",
   "execution_count": 58,
   "id": "4ce56364",
   "metadata": {},
   "outputs": [],
   "source": [
    "#Bibliotecas necessárias\n",
    "import numpy as np\n",
    "from sklearn.manifold import MDS\n",
    "import matplotlib.pyplot as plt\n",
    "import pandas as pd\n",
    "from scipy.spatial import distance\n",
    "from sklearn.metrics import pairwise_distances\n",
    "from sklearn.metrics import euclidean_distances\n",
    "\n",
    "\n",
    "# local do arquivo\n",
    "Caminho='C:/_Academico/PUC/Ciência de Dados I/Paises.xlsx'"
   ]
  },
  {
   "cell_type": "code",
   "execution_count": 59,
   "id": "a6353f4a",
   "metadata": {},
   "outputs": [
    {
     "data": {
      "text/html": [
       "<div>\n",
       "<style scoped>\n",
       "    .dataframe tbody tr th:only-of-type {\n",
       "        vertical-align: middle;\n",
       "    }\n",
       "\n",
       "    .dataframe tbody tr th {\n",
       "        vertical-align: top;\n",
       "    }\n",
       "\n",
       "    .dataframe thead th {\n",
       "        text-align: right;\n",
       "    }\n",
       "</style>\n",
       "<table border=\"1\" class=\"dataframe\">\n",
       "  <thead>\n",
       "    <tr style=\"text-align: right;\">\n",
       "      <th></th>\n",
       "      <th>Pais</th>\n",
       "      <th>BRA</th>\n",
       "      <th>COM</th>\n",
       "      <th>CUB</th>\n",
       "      <th>EGI</th>\n",
       "      <th>FRA</th>\n",
       "      <th>IND</th>\n",
       "      <th>ISR</th>\n",
       "      <th>JAP</th>\n",
       "      <th>CHI</th>\n",
       "      <th>URSS</th>\n",
       "      <th>EUA</th>\n",
       "      <th>IUG</th>\n",
       "    </tr>\n",
       "  </thead>\n",
       "  <tbody>\n",
       "    <tr>\n",
       "      <th>0</th>\n",
       "      <td>BRA</td>\n",
       "      <td>0.00</td>\n",
       "      <td>4.83</td>\n",
       "      <td>5.28</td>\n",
       "      <td>3.44</td>\n",
       "      <td>4.72</td>\n",
       "      <td>4.50</td>\n",
       "      <td>3.83</td>\n",
       "      <td>3.50</td>\n",
       "      <td>2.39</td>\n",
       "      <td>3.06</td>\n",
       "      <td>5.39</td>\n",
       "      <td>3.17</td>\n",
       "    </tr>\n",
       "    <tr>\n",
       "      <th>1</th>\n",
       "      <td>COM</td>\n",
       "      <td>4.83</td>\n",
       "      <td>0.00</td>\n",
       "      <td>4.56</td>\n",
       "      <td>5.00</td>\n",
       "      <td>4.00</td>\n",
       "      <td>4.83</td>\n",
       "      <td>3.33</td>\n",
       "      <td>3.39</td>\n",
       "      <td>4.00</td>\n",
       "      <td>3.39</td>\n",
       "      <td>2.39</td>\n",
       "      <td>3.50</td>\n",
       "    </tr>\n",
       "    <tr>\n",
       "      <th>2</th>\n",
       "      <td>CUB</td>\n",
       "      <td>5.28</td>\n",
       "      <td>4.56</td>\n",
       "      <td>0.00</td>\n",
       "      <td>5.17</td>\n",
       "      <td>4.11</td>\n",
       "      <td>4.00</td>\n",
       "      <td>3.61</td>\n",
       "      <td>2.94</td>\n",
       "      <td>5.50</td>\n",
       "      <td>5.44</td>\n",
       "      <td>3.17</td>\n",
       "      <td>5.11</td>\n",
       "    </tr>\n",
       "    <tr>\n",
       "      <th>3</th>\n",
       "      <td>EGI</td>\n",
       "      <td>3.44</td>\n",
       "      <td>5.00</td>\n",
       "      <td>5.17</td>\n",
       "      <td>0.00</td>\n",
       "      <td>4.78</td>\n",
       "      <td>5.83</td>\n",
       "      <td>4.67</td>\n",
       "      <td>3.83</td>\n",
       "      <td>4.39</td>\n",
       "      <td>4.39</td>\n",
       "      <td>3.33</td>\n",
       "      <td>4.28</td>\n",
       "    </tr>\n",
       "    <tr>\n",
       "      <th>4</th>\n",
       "      <td>FRA</td>\n",
       "      <td>4.72</td>\n",
       "      <td>4.00</td>\n",
       "      <td>4.11</td>\n",
       "      <td>4.78</td>\n",
       "      <td>0.00</td>\n",
       "      <td>3.44</td>\n",
       "      <td>4.00</td>\n",
       "      <td>4.22</td>\n",
       "      <td>3.67</td>\n",
       "      <td>5.06</td>\n",
       "      <td>5.94</td>\n",
       "      <td>4.72</td>\n",
       "    </tr>\n",
       "  </tbody>\n",
       "</table>\n",
       "</div>"
      ],
      "text/plain": [
       "  Pais   BRA   COM   CUB   EGI   FRA   IND   ISR   JAP   CHI  URSS   EUA   IUG\n",
       "0  BRA  0.00  4.83  5.28  3.44  4.72  4.50  3.83  3.50  2.39  3.06  5.39  3.17\n",
       "1  COM  4.83  0.00  4.56  5.00  4.00  4.83  3.33  3.39  4.00  3.39  2.39  3.50\n",
       "2  CUB  5.28  4.56  0.00  5.17  4.11  4.00  3.61  2.94  5.50  5.44  3.17  5.11\n",
       "3  EGI  3.44  5.00  5.17  0.00  4.78  5.83  4.67  3.83  4.39  4.39  3.33  4.28\n",
       "4  FRA  4.72  4.00  4.11  4.78  0.00  3.44  4.00  4.22  3.67  5.06  5.94  4.72"
      ]
     },
     "execution_count": 59,
     "metadata": {},
     "output_type": "execute_result"
    }
   ],
   "source": [
    "# Matriz de similaridade\n",
    "df =  pd.read_excel(Caminho)\n",
    "df.head()"
   ]
  },
  {
   "cell_type": "code",
   "execution_count": 62,
   "id": "98d8628a",
   "metadata": {},
   "outputs": [
    {
     "name": "stdout",
     "output_type": "stream",
     "text": [
      "[[9.   4.17 3.72 5.56 4.28 4.5  5.17 5.5  6.61 5.94 3.61 5.83]\n",
      " [4.17 9.   4.44 4.   5.   4.17 5.67 5.61 5.   5.61 6.61 5.5 ]\n",
      " [3.72 4.44 9.   3.83 4.89 5.   5.39 6.06 3.5  3.56 5.83 3.89]\n",
      " [5.56 4.   3.83 9.   4.22 3.17 4.33 5.17 4.61 4.61 5.67 4.72]\n",
      " [4.28 5.   4.89 4.22 9.   5.56 5.   4.78 5.33 3.94 3.06 4.28]\n",
      " [4.5  4.17 5.   3.17 5.56 9.   4.89 4.5  4.89 4.5  4.72 5.  ]\n",
      " [5.17 5.67 5.39 4.33 5.   4.89 9.   4.17 6.   4.83 3.06 4.56]\n",
      " [5.5  5.61 6.06 5.17 4.78 4.5  4.17 9.   4.83 4.39 2.94 4.72]\n",
      " [6.61 5.   3.5  4.61 5.33 4.89 6.   4.83 9.   4.28 6.44 3.94]\n",
      " [5.94 5.61 3.56 4.61 3.94 4.5  4.83 4.39 4.28 9.   4.   2.33]\n",
      " [3.61 6.61 5.83 5.67 3.06 4.72 3.06 2.94 6.44 4.   9.   5.44]\n",
      " [5.83 5.5  3.89 4.72 4.28 5.   4.56 4.72 3.94 2.33 5.44 9.  ]]\n"
     ]
    }
   ],
   "source": [
    "\n",
    "df = df.set_index('Pais')\n",
    "Paises = df.index\n",
    "\n",
    "#Temos que inverter para obter a matriz de similaridade, segundo  o enunciado a nota ia de 1 a 9, logo vamos subtrair cada valor da nota máxima.\n",
    "\n",
    "matriz_distancia = 9-df.values\n",
    "print(matriz_distancia)"
   ]
  },
  {
   "cell_type": "code",
   "execution_count": 69,
   "id": "b3086b4c",
   "metadata": {},
   "outputs": [],
   "source": [
    "# Realiza o escalonamento multidimensional (MDS)\n",
    "mds = MDS(n_components=2, dissimilarity='precomputed') # aqui a distância está precomputada\n",
    "low_dim_data = mds.fit_transform(matriz_distancia)\n"
   ]
  },
  {
   "cell_type": "code",
   "execution_count": 70,
   "id": "0f5db64a",
   "metadata": {},
   "outputs": [
    {
     "name": "stdout",
     "output_type": "stream",
     "text": [
      "0.5354853378658329\n"
     ]
    }
   ],
   "source": [
    "# Calcula o Stress manualmente\n",
    "orig_distances = matriz_distancia.flatten()\n",
    "low_dim_distances = pairwise_distances(low_dim_data, metric='euclidean').flatten()\n",
    "stress = np.sqrt(np.sum((orig_distances - low_dim_distances)**2) / np.sum(orig_distances**2))\n",
    "print(stress)"
   ]
  },
  {
   "cell_type": "code",
   "execution_count": 83,
   "id": "2ddecec5",
   "metadata": {},
   "outputs": [
    {
     "ename": "IndexError",
     "evalue": "index 4 is out of bounds for axis 0 with size 4",
     "output_type": "error",
     "traceback": [
      "\u001b[1;31m---------------------------------------------------------------------------\u001b[0m",
      "\u001b[1;31mIndexError\u001b[0m                                Traceback (most recent call last)",
      "\u001b[1;32m~\\AppData\\Local\\Temp/ipykernel_15348/3919546068.py\u001b[0m in \u001b[0;36m<module>\u001b[1;34m\u001b[0m\n\u001b[0;32m      9\u001b[0m \u001b[1;31m#Coloca os labels\u001b[0m\u001b[1;33m\u001b[0m\u001b[1;33m\u001b[0m\u001b[0m\n\u001b[0;32m     10\u001b[0m \u001b[1;32mfor\u001b[0m \u001b[0mi\u001b[0m\u001b[1;33m,\u001b[0m \u001b[0mtxt\u001b[0m \u001b[1;32min\u001b[0m \u001b[0menumerate\u001b[0m\u001b[1;33m(\u001b[0m\u001b[0mdf\u001b[0m\u001b[1;33m.\u001b[0m\u001b[0mindex\u001b[0m\u001b[1;33m)\u001b[0m\u001b[1;33m:\u001b[0m\u001b[1;33m\u001b[0m\u001b[1;33m\u001b[0m\u001b[0m\n\u001b[1;32m---> 11\u001b[1;33m     \u001b[0mplt\u001b[0m\u001b[1;33m.\u001b[0m\u001b[0mannotate\u001b[0m\u001b[1;33m(\u001b[0m\u001b[0mtxt\u001b[0m\u001b[1;33m,\u001b[0m \u001b[1;33m(\u001b[0m\u001b[0mlow_dim_data\u001b[0m\u001b[1;33m[\u001b[0m\u001b[1;33m:\u001b[0m\u001b[1;33m,\u001b[0m\u001b[1;36m0\u001b[0m\u001b[1;33m]\u001b[0m\u001b[1;33m[\u001b[0m\u001b[0mi\u001b[0m\u001b[1;33m]\u001b[0m\u001b[1;33m+\u001b[0m\u001b[1;36m.3\u001b[0m\u001b[1;33m,\u001b[0m \u001b[0mlow_dim_data\u001b[0m\u001b[1;33m[\u001b[0m\u001b[1;33m:\u001b[0m\u001b[1;33m,\u001b[0m\u001b[1;36m1\u001b[0m\u001b[1;33m]\u001b[0m\u001b[1;33m[\u001b[0m\u001b[0mi\u001b[0m\u001b[1;33m]\u001b[0m\u001b[1;33m)\u001b[0m\u001b[1;33m)\u001b[0m\u001b[1;33m\u001b[0m\u001b[1;33m\u001b[0m\u001b[0m\n\u001b[0m\u001b[0;32m     12\u001b[0m \u001b[1;33m\u001b[0m\u001b[0m\n\u001b[0;32m     13\u001b[0m \u001b[1;31m#display scatterplot\u001b[0m\u001b[1;33m\u001b[0m\u001b[1;33m\u001b[0m\u001b[0m\n",
      "\u001b[1;31mIndexError\u001b[0m: index 4 is out of bounds for axis 0 with size 4"
     ]
    },
    {
     "data": {
      "image/png": "[encoded data removed]",
      "text/plain": [
       "<Figure size 1080x720 with 1 Axes>"
      ]
     },
     "metadata": {
      "needs_background": "light"
     },
     "output_type": "display_data"
    }
   ],
   "source": [
    "\n",
    "plt.figure(figsize=(15,10))\n",
    "#Cria Scatter Plot\n",
    "plt.scatter(low_dim_data[:,0], low_dim_data[:,1])\n",
    "\n",
    "#Adiciona os eixos\n",
    "plt.xlabel('Coordenada 1')\n",
    "plt.ylabel('Coordenada 2')\n",
    "\n",
    "#Coloca os labels\n",
    "for i, txt in enumerate(df.index):\n",
    "    plt.annotate(txt, (low_dim_data[:,0][i]+.3, low_dim_data[:,1][i]))\n",
    "\n",
    "#display scatterplot\n",
    "plt.show()(txt, (low_dim_data[:,0][i]+.3, low_dim_data[:,1][i]))\n",
    "plt.show()"
   ]
  },
  {
   "cell_type": "markdown",
   "id": "916ab2a3",
   "metadata": {},
   "source": [
    "Exemplo 4 Matriz de Presença/ausência"
   ]
  },
  {
   "cell_type": "code",
   "execution_count": 75,
   "id": "7b417f6a",
   "metadata": {},
   "outputs": [],
   "source": [
    "import numpy as np\n",
    "import matplotlib.pyplot as plt\n",
    "from sklearn.manifold import MDS\n",
    "from sklearn.metrics import pairwise_distances\n"
   ]
  },
  {
   "cell_type": "code",
   "execution_count": 76,
   "id": "94b79803",
   "metadata": {},
   "outputs": [],
   "source": [
    "# matriz de presença/ausência (binária)\n",
    "dados_binarios = np.array([[1, 0, 1, 0],\n",
    "                           [0, 1, 1, 0],\n",
    "                           [1, 1, 0, 1],\n",
    "                           [0, 0, 1, 0]])\n",
    "rotulos = ['A', 'B', 'C', 'D'] "
   ]
  },
  {
   "cell_type": "code",
   "execution_count": 77,
   "id": "6ccd9dd9",
   "metadata": {},
   "outputs": [],
   "source": [
    "# Realiza o escalonamento multidimensional (MDS)\n",
    "mds = MDS(n_components=2, dissimilarity='precomputed')\n",
    "distancias = pairwise_distances(dados_binarios, metric='hamming')  # Use Hamming para dados binários\n",
    "low_dim_data = mds.fit_transform(distancias)"
   ]
  },
  {
   "cell_type": "code",
   "execution_count": 80,
   "id": "0a7220d3",
   "metadata": {},
   "outputs": [
    {
     "name": "stdout",
     "output_type": "stream",
     "text": [
      "0.07117531054441242\n"
     ]
    }
   ],
   "source": [
    "# Calcula o Stress manualmente\n",
    "orig_distances = distancias.flatten()\n",
    "low_dim_distances = pairwise_distances(low_dim_data, metric='euclidean').flatten()\n",
    "stress = np.sqrt(np.sum((orig_distances - low_dim_distances)**2) / np.sum(orig_distances**2))\n",
    "\n",
    "print (stress)"
   ]
  },
  {
   "cell_type": "code",
   "execution_count": 82,
   "id": "a0719468",
   "metadata": {},
   "outputs": [
    {
     "data": {
      "text/plain": [
       "Text(0, 0.5, 'Dimensão 2')"
      ]
     },
     "execution_count": 82,
     "metadata": {},
     "output_type": "execute_result"
    },
    {
     "data": {
      "image/png": "[encoded data removed]",
      "text/plain": [
       "<Figure size 576x432 with 1 Axes>"
      ]
     },
     "metadata": {
      "needs_background": "light"
     },
     "output_type": "display_data"
    }
   ],
   "source": [
    "# Gera um gráfico de dispersão com rótulos\n",
    "plt.figure(figsize=(8, 6))\n",
    "plt.scatter(low_dim_data[:, 0], low_dim_data[:, 1])\n",
    "\n",
    "# Adiciona rótulos aos pontos no gráfico\n",
    "for i, label in enumerate(rotulos):\n",
    "    plt.annotate(label, (low_dim_data[i, 0], low_dim_data[i, 1]), textcoords=\"offset points\", xytext=(0,10), ha='center')\n",
    "\n",
    "plt.xlabel('Dimensão 1')\n",
    "plt.ylabel('Dimensão 2')"
   ]
  },
  {
   "cell_type": "code",
   "execution_count": null,
   "id": "65b46922",
   "metadata": {},
   "outputs": [],
   "source": []
  }
 ],
 "metadata": {
  "kernelspec": {
   "display_name": "Python 3 (ipykernel)",
   "language": "python",
   "name": "python3"
  },
  "language_info": {
   "codemirror_mode": {
    "name": "ipython",
    "version": 3
   },
   "file_extension": ".py",
   "mimetype": "text/x-python",
   "name": "python",
   "nbconvert_exporter": "python",
   "pygments_lexer": "ipython3",
   "version": "3.9.7"
  }
 },
 "nbformat": 4,
 "nbformat_minor": 5
}
