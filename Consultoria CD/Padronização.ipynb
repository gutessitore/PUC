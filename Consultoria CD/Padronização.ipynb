{
 "cells": [
  {
   "cell_type": "code",
   "execution_count": 20,
   "id": "4933cc3b",
   "metadata": {
    "ExecuteTime": {
     "start_time": "2023-08-16T11:09:57.421575Z",
     "end_time": "2023-08-16T11:10:04.223313Z"
    }
   },
   "outputs": [],
   "source": [
    "# importa biblioteca pandas\n",
    "import pandas as pd\n",
    "\n",
    "# importa biblioteca scipy\n",
    "import scipy.stats as stats\n",
    "\n",
    "# local do arquivo\n",
    "caminho= 'cadastro_funcionarios.xlsx'\n",
    "\n"
   ]
  },
  {
   "cell_type": "code",
   "execution_count": 21,
   "id": "56968946",
   "metadata": {
    "ExecuteTime": {
     "start_time": "2023-08-16T11:10:04.227319Z",
     "end_time": "2023-08-16T11:10:04.587079Z"
    }
   },
   "outputs": [
    {
     "data": {
      "text/plain": "   ID estado_civil grau_instrucao  n_filhos  salario  idade reg_proc\n0   1            s              f         0     4.00     26      int\n1   2            c              f         1     4.56     32      cap\n2   3            c              f         2     5.25     36      cap\n3   4            s              m         0     5.73     20      out\n4   5            s              f         0     6.26     40      out",
      "text/html": "<div>\n<style scoped>\n    .dataframe tbody tr th:only-of-type {\n        vertical-align: middle;\n    }\n\n    .dataframe tbody tr th {\n        vertical-align: top;\n    }\n\n    .dataframe thead th {\n        text-align: right;\n    }\n</style>\n<table border=\"1\" class=\"dataframe\">\n  <thead>\n    <tr style=\"text-align: right;\">\n      <th></th>\n      <th>ID</th>\n      <th>estado_civil</th>\n      <th>grau_instrucao</th>\n      <th>n_filhos</th>\n      <th>salario</th>\n      <th>idade</th>\n      <th>reg_proc</th>\n    </tr>\n  </thead>\n  <tbody>\n    <tr>\n      <th>0</th>\n      <td>1</td>\n      <td>s</td>\n      <td>f</td>\n      <td>0</td>\n      <td>4.00</td>\n      <td>26</td>\n      <td>int</td>\n    </tr>\n    <tr>\n      <th>1</th>\n      <td>2</td>\n      <td>c</td>\n      <td>f</td>\n      <td>1</td>\n      <td>4.56</td>\n      <td>32</td>\n      <td>cap</td>\n    </tr>\n    <tr>\n      <th>2</th>\n      <td>3</td>\n      <td>c</td>\n      <td>f</td>\n      <td>2</td>\n      <td>5.25</td>\n      <td>36</td>\n      <td>cap</td>\n    </tr>\n    <tr>\n      <th>3</th>\n      <td>4</td>\n      <td>s</td>\n      <td>m</td>\n      <td>0</td>\n      <td>5.73</td>\n      <td>20</td>\n      <td>out</td>\n    </tr>\n    <tr>\n      <th>4</th>\n      <td>5</td>\n      <td>s</td>\n      <td>f</td>\n      <td>0</td>\n      <td>6.26</td>\n      <td>40</td>\n      <td>out</td>\n    </tr>\n  </tbody>\n</table>\n</div>"
     },
     "execution_count": 21,
     "metadata": {},
     "output_type": "execute_result"
    }
   ],
   "source": [
    " #Traz o arquivo para o Python\n",
    "df=pd.read_excel(caminho)\n",
    "df.head()\n"
   ]
  },
  {
   "cell_type": "code",
   "execution_count": 22,
   "id": "7bd9a952",
   "metadata": {
    "ExecuteTime": {
     "start_time": "2023-08-16T11:10:04.588083Z",
     "end_time": "2023-08-16T11:10:04.600227Z"
    }
   },
   "outputs": [],
   "source": [
    "#Separa a variável salário\n",
    "\n",
    "y=df['salario']\n",
    "y= y.values.reshape(-1, 1)\n"
   ]
  },
  {
   "cell_type": "code",
   "execution_count": 23,
   "id": "a4164ade",
   "metadata": {
    "ExecuteTime": {
     "start_time": "2023-08-16T11:10:04.605471Z",
     "end_time": "2023-08-16T11:10:04.753839Z"
    }
   },
   "outputs": [],
   "source": [
    "\n",
    "#Traz a ferramenta\n",
    "from sklearn.preprocessing import StandardScaler\n"
   ]
  },
  {
   "cell_type": "code",
   "execution_count": 24,
   "id": "30bb5866",
   "metadata": {
    "ExecuteTime": {
     "start_time": "2023-08-16T11:10:04.745834Z",
     "end_time": "2023-08-16T11:10:04.758834Z"
    }
   },
   "outputs": [],
   "source": [
    "standard=StandardScaler().fit_transform(y)"
   ]
  },
  {
   "cell_type": "code",
   "execution_count": 25,
   "id": "1451539c",
   "metadata": {
    "ExecuteTime": {
     "start_time": "2023-08-16T11:10:04.761835Z",
     "end_time": "2023-08-16T11:10:04.790733Z"
    }
   },
   "outputs": [
    {
     "data": {
      "text/plain": "-4.6702339439631e-16"
     },
     "execution_count": 25,
     "metadata": {},
     "output_type": "execute_result"
    }
   ],
   "source": [
    "standard.mean()"
   ]
  },
  {
   "cell_type": "code",
   "execution_count": 26,
   "id": "f2f6189b",
   "metadata": {
    "ExecuteTime": {
     "start_time": "2023-08-16T11:10:04.778738Z",
     "end_time": "2023-08-16T11:10:04.835967Z"
    }
   },
   "outputs": [
    {
     "data": {
      "text/plain": "1.0000000000000002"
     },
     "execution_count": 26,
     "metadata": {},
     "output_type": "execute_result"
    }
   ],
   "source": [
    "standard.var()\n"
   ]
  },
  {
   "cell_type": "code",
   "execution_count": 27,
   "id": "20a4709b",
   "metadata": {
    "ExecuteTime": {
     "start_time": "2023-08-16T11:10:04.791734Z",
     "end_time": "2023-08-16T11:10:04.836958Z"
    }
   },
   "outputs": [],
   "source": [
    "from sklearn.preprocessing import MinMaxScaler\n",
    "\n",
    "ampl=MinMaxScaler().fit_transform(y)\n",
    "\n"
   ]
  },
  {
   "cell_type": "code",
   "execution_count": 28,
   "id": "8f1d7890",
   "metadata": {
    "ExecuteTime": {
     "start_time": "2023-08-16T11:10:04.806906Z",
     "end_time": "2023-08-16T11:10:04.837966Z"
    }
   },
   "outputs": [
    {
     "data": {
      "text/plain": "0.3558119234671008"
     },
     "execution_count": 28,
     "metadata": {},
     "output_type": "execute_result"
    }
   ],
   "source": [
    "ampl.mean()"
   ]
  },
  {
   "cell_type": "code",
   "execution_count": 29,
   "id": "2476af1b",
   "metadata": {
    "ExecuteTime": {
     "start_time": "2023-08-16T11:10:04.823960Z",
     "end_time": "2023-08-16T11:10:04.839012Z"
    }
   },
   "outputs": [
    {
     "data": {
      "text/plain": "0.0447787668849025"
     },
     "execution_count": 29,
     "metadata": {},
     "output_type": "execute_result"
    }
   ],
   "source": [
    "ampl.var()"
   ]
  },
  {
   "cell_type": "code",
   "execution_count": 29,
   "id": "9f963bec",
   "metadata": {
    "ExecuteTime": {
     "start_time": "2023-08-16T11:10:04.839990Z",
     "end_time": "2023-08-16T11:10:04.852312Z"
    }
   },
   "outputs": [],
   "source": []
  }
 ],
 "metadata": {
  "kernelspec": {
   "display_name": "Python 3 (ipykernel)",
   "language": "python",
   "name": "python3"
  },
  "language_info": {
   "codemirror_mode": {
    "name": "ipython",
    "version": 3
   },
   "file_extension": ".py",
   "mimetype": "text/x-python",
   "name": "python",
   "nbconvert_exporter": "python",
   "pygments_lexer": "ipython3",
   "version": "3.9.7"
  }
 },
 "nbformat": 4,
 "nbformat_minor": 5
}
