{
 "cells": [
  {
   "cell_type": "markdown",
   "source": [
    "Instruções\n",
    "\n",
    "- Façam grupos até 4 alunos  (não, não pode ser mais e não precisa ser o mesmo do outro trabalho).\n",
    "- Escolham uma base de dados e apliquem  ao menos uma das técnicas vistas neste curso\n",
    "- Postem nessa tarefa quem são os alunos componentes do grupo, ao menos uma amostra da base escolhida com os respectivos metadados.\n",
    "- Pode ser uma base de outro trabalho de vocês ou uma base pública, desde que essa base não seja \"óbvia\" (tipo o Titanic). Outra observação, embora o grupo possa usar base pública, a análise deve ser feita pelo grupo com os códigos etc.. Se o trabalho apresentado for identificado como uma cópia de um trabalho publicado o grupo tira 0.\n",
    "- Apresentação em power point de 15 a 30 minutos, explicando o intuito da análise, o desenvolvimento, os achados e conclusões. Também devo receber a base e o código usado para fazer a análise (vocês podem utilizar outra ferramenta diferente do python)."
   ],
   "metadata": {
    "collapsed": false
   }
  },
  {
   "cell_type": "markdown",
   "source": [
    "### Grupo\n",
    "- Gustavo Schlieper Tessitore\n",
    "- Lucas Lopes Amorim\n",
    "- Isaac Higuchi\n"
   ],
   "metadata": {
    "collapsed": false
   }
  },
  {
   "cell_type": "markdown",
   "source": [
    "### Objetivo\n",
    "Nesta competição, você irá prever as vendas para as milhares de famílias de produtos vendidos nas lojas Favorita localizadas no Equador.\n",
    " Os dados de treinamento incluem:\n",
    "\n",
    "### Base de dados\n",
    "- [Vendas no varejo](https://www.kaggle.com/competitions/store-sales-time-series-forecasting)\n",
    "Colunas da base de dados:\n",
    "- `store_nbr`: O número da loja onde o produto foi vendido\n",
    "- `family`: A família de produtos a que o produto pertence\n",
    "- `sales`: O valor de venda\n",
    "- `onpromotion`: Quantidade de produtos vendidos em promoção dentro da família\n",
    "- `date`: A data em que o produto foi vendido\n",
    "\n"
   ],
   "metadata": {
    "collapsed": false
   }
  },
  {
   "cell_type": "code",
   "execution_count": null,
   "outputs": [],
   "source": [
    "import pandas as pd\n",
    "\n",
    "train_df = pd.read_parquet('store-sales-time-series-forecasting/train.parquet')\n",
    "missing_values = train_df.isnull().sum()\n",
    "descriptive_stats = train_df.describe()\n",
    "\n",
    "missing_values, descriptive_stats"
   ],
   "metadata": {
    "collapsed": false
   }
  },
  {
   "cell_type": "code",
   "execution_count": null,
   "outputs": [],
   "source": [
    "# train test split\n",
    "train_size = int(len(train_df) * 0.8)\n",
    "train_df, test_df = train_df[:train_size], train_df[train_size:]\n",
    "\n",
    "train_df.shape, test_df.shape"
   ],
   "metadata": {
    "collapsed": false
   }
  },
  {
   "cell_type": "markdown",
   "source": [
    "**Valores Faltantes**: \n",
    "Não há valores faltantes em nenhum dos campos do conjunto de dados.\n",
    "\n",
    "**Estatísticas Descritivas**:\n",
    "A coluna sales tem um valor mínimo de 0 e um valor máximo de 124,717. O valor médio das vendas é de aproximadamente 357.78, mas o desvio padrão é alto (1,101.998), indicando uma grande variação nas vendas.\n",
    "A coluna onpromotion parece ser numérica, mas seus valores parecem indicar a contagem de produtos em promoção em vez de um valor binário (0 ou 1). O valor máximo é 741, o que pode representar a contagem de produtos em promoção para uma determinada família de produtos em uma determinada loja em um determinado dia."
   ],
   "metadata": {
    "collapsed": false
   }
  },
  {
   "cell_type": "code",
   "execution_count": null,
   "outputs": [],
   "source": [
    "import matplotlib.pyplot as plt\n",
    "import seaborn as sns\n",
    "\n",
    "# Setting up the aesthetics for the plots\n",
    "sns.set_style(\"whitegrid\")\n",
    "\n",
    "# Initialize the figure\n",
    "plt.figure(figsize=(20, 15))\n",
    "\n",
    "# 1. Distribution of Sales\n",
    "plt.subplot(2, 2, 1)\n",
    "sns.histplot(train_df['sales'], bins=50, kde=True)\n",
    "plt.title('Distribution of Sales')\n",
    "plt.xlabel('Sales')\n",
    "plt.ylabel('Frequency')\n",
    "\n",
    "# 2. Average Sales by Product Family\n",
    "plt.subplot(2, 2, 2)\n",
    "avg_sales_family = train_df.groupby('family')['sales'].mean().sort_values(ascending=False)\n",
    "sns.barplot(x=avg_sales_family.index, y=avg_sales_family.values, palette='viridis')\n",
    "plt.title('Average Sales by Product Family')\n",
    "plt.xlabel('Product Family')\n",
    "plt.ylabel('Average Sales')\n",
    "plt.xticks(rotation=90)\n",
    "\n",
    "# 3. Average Sales by Store\n",
    "plt.subplot(2, 2, 3)\n",
    "avg_sales_store = train_df.groupby('store_nbr')['sales'].mean().sort_values(ascending=False)\n",
    "sns.barplot(x=avg_sales_store.index, y=avg_sales_store.values, palette='magma')\n",
    "plt.title('Average Sales by Store')\n",
    "plt.xlabel('Store Number')\n",
    "plt.ylabel('Average Sales')\n",
    "\n",
    "# 4. Sales Trend over Time\n",
    "plt.subplot(2, 2, 4)\n",
    "train_df['date'] = pd.to_datetime(train_df['date'])\n",
    "sales_trend = train_df.groupby('date')['sales'].sum()\n",
    "sns.lineplot(x=sales_trend.index, y=sales_trend.values, color='blue')\n",
    "plt.title('Sales Trend over Time')\n",
    "plt.xlabel('Date')\n",
    "plt.ylabel('Total Sales')\n",
    "\n",
    "# Adjusting the layout\n",
    "plt.tight_layout()\n",
    "plt.show()"
   ],
   "metadata": {
    "collapsed": false
   }
  },
  {
   "cell_type": "markdown",
   "source": [
    "**Distribuição das Vendas**: A maioria das vendas está concentrada em valores baixos, com alguns valores extremamente altos, indicando a presença de outliers ou dias/eventos de vendas excepcionais.\n",
    "**Vendas Médias por Família de Produtos**: Algumas famílias de produtos têm vendas médias significativamente mais altas do que outras. Isso pode ser devido à natureza do produto, à demanda do cliente ou a promoções.\n",
    "**Vendas Médias por Loja**: A distribuição das vendas médias varia entre as lojas. Algumas lojas têm vendas médias significativamente mais altas, o que pode ser devido à sua localização, tamanho ou clientela.\n",
    "**Tendência de Vendas ao Longo do Tempo**: Há uma tendência ascendente nas vendas ao longo do tempo, com algumas flutuações visíveis. Também há picos sazonais visíveis, possivelmente indicando eventos ou feriados que impulsionam as vendas.\n"
   ],
   "metadata": {
    "collapsed": false
   }
  },
  {
   "cell_type": "code",
   "execution_count": null,
   "outputs": [],
   "source": [
    "from pmdarima import auto_arima\n",
    "\n",
    "\n",
    "# Aggregating the sales data by date for time series forecasting\n",
    "time_series_data = train_df.groupby('date')['sales'].sum().reset_index()\n",
    "time_series_data.rename(columns={'date': 'ds', 'sales': 'y'}, inplace=True)"
   ],
   "metadata": {
    "collapsed": false
   }
  },
  {
   "cell_type": "code",
   "execution_count": null,
   "outputs": [],
   "source": [
    "best_arima_model_stepwise = auto_arima(time_series_data['y'], \n",
    "                              seasonal=True, \n",
    "                              m=12, # Assuming monthly seasonality\n",
    "                              trace=True, \n",
    "                              error_action='ignore', \n",
    "                              suppress_warnings=True, \n",
    "                              stepwise=True)\n",
    "\n",
    "# Displaying the best ARIMA order\n",
    "best_arima_model_stepwise.summary()"
   ],
   "metadata": {
    "collapsed": false
   }
  },
  {
   "cell_type": "code",
   "execution_count": null,
   "outputs": [],
   "source": [
    "best_arima_model= auto_arima(time_series_data['y'], \n",
    "                              seasonal=True, \n",
    "                              m=12, # Assuming monthly seasonality\n",
    "                              trace=True, \n",
    "                              error_action='ignore', \n",
    "                              suppress_warnings=True, \n",
    "                              stepwise=False)\n",
    "\n",
    "# Displaying the best ARIMA order\n",
    "best_arima_model.summary()"
   ],
   "metadata": {
    "collapsed": false
   }
  },
  {
   "cell_type": "markdown",
   "source": [
    "**ARIMA(5,1,0)**:\n",
    "Menos complexo, o que pode ser benéfico para evitar o sobreajuste.\n",
    "O AIC é 44204.715, que é relativamente mais alto em comparação com o outro modelo.\n",
    "O teste Ljung-Box indica autocorrelações nos resíduos, o que não é ideal.\n",
    "\n",
    "**ARIMA(5,1,5) (resultado do stepwise)**:\n",
    "Modelo mais complexo com 5 termos autoregressivos e 5 termos de média móvel.\n",
    "O AIC é 43560.904, que é mais baixo do que o ARIMA(5,1,0), indicando um melhor ajuste aos dados.\n",
    "O teste Ljung-Box indica que os resíduos são essencialmente aleatórios, o que é uma boa característica.\n",
    "O coeficiente de determinação é mais alto, indicando uma melhor adequação aos dados."
   ],
   "metadata": {
    "collapsed": false
   }
  },
  {
   "cell_type": "code",
   "execution_count": null,
   "outputs": [],
   "source": [
    "from statsmodels.tsa.statespace.sarimax import SARIMAX\n",
    "\n",
    "order_map = {\n",
    "    \"stepwise\": (5, 1, 5),\n",
    "    \"non-stepwise\": (5, 1, 0)\n",
    "}\n",
    "\n",
    "# Fit the SARIMAX model with the identified order\n",
    "model = SARIMAX(time_series_data['y'], order=order_map.get('stepwise'))\n",
    "results = model.fit(disp=-1)\n",
    "\n",
    "# Display the model summary\n",
    "results.summary()"
   ],
   "metadata": {
    "collapsed": false
   }
  },
  {
   "cell_type": "code",
   "execution_count": null,
   "outputs": [],
   "source": [
    "# Extracting the dates from the test dataset\n",
    "forecast_dates = test_df['date'].unique()\n",
    "\n",
    "# Using the ARIMA(5,1,5) model to forecast\n",
    "forecast = results.forecast(steps=len(forecast_dates))\n",
    "\n",
    "# Creating a DataFrame for the forecasted values\n",
    "forecast_df = pd.DataFrame({'date': forecast_dates, 'predicted_sales': forecast})\n",
    "\n",
    "forecast_df.head()"
   ],
   "metadata": {
    "collapsed": false
   }
  },
  {
   "cell_type": "code",
   "execution_count": null,
   "outputs": [],
   "source": [
    "from sklearn.metrics import mean_absolute_error, mean_squared_error\n",
    "import numpy as np\n",
    "\n",
    "# Aggregating the test data to get the actual sales for the forecasted dates\n",
    "actual_sales = test_df.groupby('date')['sales'].sum()\n",
    "\n",
    "# Calculating the validation metrics\n",
    "mae = mean_absolute_error(actual_sales, forecast)\n",
    "mse = mean_squared_error(actual_sales, forecast)\n",
    "rmse = np.sqrt(mse)\n",
    "\n",
    "mae, mse, rmse"
   ],
   "metadata": {
    "collapsed": false
   }
  },
  {
   "cell_type": "code",
   "execution_count": null,
   "outputs": [],
   "source": [
    "def mean_absolute_percentage_error(y_true, y_pred):\n",
    "    \"\"\"Calculate MAPE given true and predicted values\"\"\"\n",
    "    y_true, y_pred = np.array(y_true), np.array(y_pred)\n",
    "    return np.mean(np.abs((y_true - y_pred) / y_true)) * 100\n",
    "\n",
    "mape = mean_absolute_percentage_error(actual_sales, forecast)\n",
    "mape"
   ],
   "metadata": {
    "collapsed": false
   }
  }
 ],
 "metadata": {
  "kernelspec": {
   "display_name": "Python 3",
   "language": "python",
   "name": "python3"
  },
  "language_info": {
   "codemirror_mode": {
    "name": "ipython",
    "version": 2
   },
   "file_extension": ".py",
   "mimetype": "text/x-python",
   "name": "python",
   "nbconvert_exporter": "python",
   "pygments_lexer": "ipython2",
   "version": "2.7.6"
  }
 },
 "nbformat": 4,
 "nbformat_minor": 0
}
