{
 "cells": [
  {
   "cell_type": "markdown",
   "source": [
    "Instruções\n",
    "\n",
    "- Façam grupos até 4 alunos  (não, não pode ser mais e não precisa ser o mesmo do outro trabalho).\n",
    "- Escolham uma base de dados e apliquem  ao menos uma das técnicas vistas neste curso\n",
    "- Postem nessa tarefa quem são os alunos componentes do grupo, ao menos uma amostra da base escolhida com os respectivos metadados.\n",
    "- Pode ser uma base de outro trabalho de vocês ou uma base pública, desde que essa base não seja \"óbvia\" (tipo o Titanic). Outra observação, embora o grupo possa usar base pública, a análise deve ser feita pelo grupo com os códigos etc.. Se o trabalho apresentado for identificado como uma cópia de um trabalho publicado o grupo tira 0.\n",
    "- Apresentação em power point de 15 a 30 minutos, explicando o intuito da análise, o desenvolvimento, os achados e conclusões. Também devo receber a base e o código usado para fazer a análise (vocês podem utilizar outra ferramenta diferente do python)."
   ],
   "metadata": {
    "collapsed": false
   }
  },
  {
   "cell_type": "markdown",
   "source": [
    "### Grupo\n",
    "- Gustavo Schlieper Tessitore\n",
    "- Lucas Lopes Amorim\n"
   ],
   "metadata": {
    "collapsed": false
   }
  },
  {
   "cell_type": "markdown",
   "source": [
    "### Objetivo\n",
    "Nesta competição, você irá prever as vendas para as milhares de famílias de produtos vendidos nas lojas Favorita localizadas no Equador.\n",
    " Os dados de treinamento incluem:\n",
    "\n",
    "### Base de dados\n",
    "- [Vendas no varejo](https://www.kaggle.com/competitions/store-sales-time-series-forecasting)\n",
    "Colunas da base de dados:\n",
    "- `store_nbr`: O número da loja onde o produto foi vendido\n",
    "- `family`: A família de produtos a que o produto pertence\n",
    "- `sales`: O valor de venda\n",
    "- `onpromotion`: Quantidade de produtos vendidos em promoção dentro da família\n",
    "- `date`: A data em que o produto foi vendido\n",
    "\n"
   ],
   "metadata": {
    "collapsed": false
   }
  },
  {
   "cell_type": "code",
   "execution_count": 4,
   "outputs": [
    {
     "data": {
      "text/plain": "              id        date  store_nbr                      family     sales  \\\n0              0  2013-01-01          1                  AUTOMOTIVE     0.000   \n1              1  2013-01-01          1                   BABY CARE     0.000   \n2              2  2013-01-01          1                      BEAUTY     0.000   \n3              3  2013-01-01          1                   BEVERAGES     0.000   \n4              4  2013-01-01          1                       BOOKS     0.000   \n...          ...         ...        ...                         ...       ...   \n3000883  3000883  2017-08-15          9                     POULTRY   438.133   \n3000884  3000884  2017-08-15          9              PREPARED FOODS   154.553   \n3000885  3000885  2017-08-15          9                     PRODUCE  2419.729   \n3000886  3000886  2017-08-15          9  SCHOOL AND OFFICE SUPPLIES   121.000   \n3000887  3000887  2017-08-15          9                     SEAFOOD    16.000   \n\n         onpromotion  \n0                  0  \n1                  0  \n2                  0  \n3                  0  \n4                  0  \n...              ...  \n3000883            0  \n3000884            1  \n3000885          148  \n3000886            8  \n3000887            0  \n\n[3000888 rows x 6 columns]",
      "text/html": "<div>\n<style scoped>\n    .dataframe tbody tr th:only-of-type {\n        vertical-align: middle;\n    }\n\n    .dataframe tbody tr th {\n        vertical-align: top;\n    }\n\n    .dataframe thead th {\n        text-align: right;\n    }\n</style>\n<table border=\"1\" class=\"dataframe\">\n  <thead>\n    <tr style=\"text-align: right;\">\n      <th></th>\n      <th>id</th>\n      <th>date</th>\n      <th>store_nbr</th>\n      <th>family</th>\n      <th>sales</th>\n      <th>onpromotion</th>\n    </tr>\n  </thead>\n  <tbody>\n    <tr>\n      <th>0</th>\n      <td>0</td>\n      <td>2013-01-01</td>\n      <td>1</td>\n      <td>AUTOMOTIVE</td>\n      <td>0.000</td>\n      <td>0</td>\n    </tr>\n    <tr>\n      <th>1</th>\n      <td>1</td>\n      <td>2013-01-01</td>\n      <td>1</td>\n      <td>BABY CARE</td>\n      <td>0.000</td>\n      <td>0</td>\n    </tr>\n    <tr>\n      <th>2</th>\n      <td>2</td>\n      <td>2013-01-01</td>\n      <td>1</td>\n      <td>BEAUTY</td>\n      <td>0.000</td>\n      <td>0</td>\n    </tr>\n    <tr>\n      <th>3</th>\n      <td>3</td>\n      <td>2013-01-01</td>\n      <td>1</td>\n      <td>BEVERAGES</td>\n      <td>0.000</td>\n      <td>0</td>\n    </tr>\n    <tr>\n      <th>4</th>\n      <td>4</td>\n      <td>2013-01-01</td>\n      <td>1</td>\n      <td>BOOKS</td>\n      <td>0.000</td>\n      <td>0</td>\n    </tr>\n    <tr>\n      <th>...</th>\n      <td>...</td>\n      <td>...</td>\n      <td>...</td>\n      <td>...</td>\n      <td>...</td>\n      <td>...</td>\n    </tr>\n    <tr>\n      <th>3000883</th>\n      <td>3000883</td>\n      <td>2017-08-15</td>\n      <td>9</td>\n      <td>POULTRY</td>\n      <td>438.133</td>\n      <td>0</td>\n    </tr>\n    <tr>\n      <th>3000884</th>\n      <td>3000884</td>\n      <td>2017-08-15</td>\n      <td>9</td>\n      <td>PREPARED FOODS</td>\n      <td>154.553</td>\n      <td>1</td>\n    </tr>\n    <tr>\n      <th>3000885</th>\n      <td>3000885</td>\n      <td>2017-08-15</td>\n      <td>9</td>\n      <td>PRODUCE</td>\n      <td>2419.729</td>\n      <td>148</td>\n    </tr>\n    <tr>\n      <th>3000886</th>\n      <td>3000886</td>\n      <td>2017-08-15</td>\n      <td>9</td>\n      <td>SCHOOL AND OFFICE SUPPLIES</td>\n      <td>121.000</td>\n      <td>8</td>\n    </tr>\n    <tr>\n      <th>3000887</th>\n      <td>3000887</td>\n      <td>2017-08-15</td>\n      <td>9</td>\n      <td>SEAFOOD</td>\n      <td>16.000</td>\n      <td>0</td>\n    </tr>\n  </tbody>\n</table>\n<p>3000888 rows × 6 columns</p>\n</div>"
     },
     "execution_count": 4,
     "metadata": {},
     "output_type": "execute_result"
    }
   ],
   "source": [
    "# convertendo o arquivo train.csv para parquet\n",
    "import pandas as pd\n",
    "import numpy as np\n",
    "\n",
    "df = pd.read_csv('store-sales-time-series-forecasting/train.csv')\n",
    "df.to_parquet('store-sales-time-series-forecasting/train.parquet')\n",
    "df"
   ],
   "metadata": {
    "collapsed": false,
    "ExecuteTime": {
     "start_time": "2023-10-31T11:17:41.304245Z",
     "end_time": "2023-10-31T11:17:43.146468Z"
    }
   }
  }
 ],
 "metadata": {
  "kernelspec": {
   "display_name": "Python 3",
   "language": "python",
   "name": "python3"
  },
  "language_info": {
   "codemirror_mode": {
    "name": "ipython",
    "version": 2
   },
   "file_extension": ".py",
   "mimetype": "text/x-python",
   "name": "python",
   "nbconvert_exporter": "python",
   "pygments_lexer": "ipython2",
   "version": "2.7.6"
  }
 },
 "nbformat": 4,
 "nbformat_minor": 0
}
