{
 "cells": [
  {
   "cell_type": "markdown",
   "metadata": {},
   "source": [
    "1 – A base trabalhadores.xlsx mostra a quantidade de trabalhadores (em mil) de uma certa indústria, ao longo de 5 anos com variações mensais. Ajuste um modelo prophet para esses dados, prevendo os próximos 18 meses."
   ]
  },
  {
   "cell_type": "code",
   "execution_count": null,
   "metadata": {
    "pycharm": {
     "is_executing": true
    }
   },
   "outputs": [],
   "source": [
    "!pip install fbprophet"
   ]
  },
  {
   "cell_type": "code",
   "execution_count": 5,
   "metadata": {
    "collapsed": true
   },
   "outputs": [
    {
     "ename": "ModuleNotFoundError",
     "evalue": "No module named 'fbprophet'",
     "output_type": "error",
     "traceback": [
      "\u001b[1;31m---------------------------------------------------------------------------\u001b[0m",
      "\u001b[1;31mModuleNotFoundError\u001b[0m                       Traceback (most recent call last)",
      "Cell \u001b[1;32mIn[5], line 2\u001b[0m\n\u001b[0;32m      1\u001b[0m \u001b[38;5;28;01mimport\u001b[39;00m \u001b[38;5;21;01mpandas\u001b[39;00m \u001b[38;5;28;01mas\u001b[39;00m \u001b[38;5;21;01mpd\u001b[39;00m\n\u001b[1;32m----> 2\u001b[0m \u001b[38;5;28;01mfrom\u001b[39;00m \u001b[38;5;21;01mfbprophet\u001b[39;00m \u001b[38;5;28;01mimport\u001b[39;00m Prophet\n\u001b[0;32m      4\u001b[0m \u001b[38;5;66;03m# Carregar os dados\u001b[39;00m\n\u001b[0;32m      5\u001b[0m trabalhadores_df \u001b[38;5;241m=\u001b[39m pd\u001b[38;5;241m.\u001b[39mread_excel(\u001b[38;5;124m\"\u001b[39m\u001b[38;5;124mtrabalhadores.xlsx\u001b[39m\u001b[38;5;124m\"\u001b[39m)\n",
      "\u001b[1;31mModuleNotFoundError\u001b[0m: No module named 'fbprophet'"
     ]
    }
   ],
   "source": [
    "import pandas as pd\n",
    "from fbprophet import Prophet\n",
    "\n",
    "# Carregar os dados\n",
    "trabalhadores_df = pd.read_excel(\"trabalhadores.xlsx\")\n",
    "\n",
    "# Renomear colunas para o formato esperado pelo Prophet\n",
    "trabalhadores_df.rename(columns={'Data': 'ds', 'trabalhadores': 'y'}, inplace=True)\n",
    "\n",
    "# Inicializar e ajustar o modelo Prophet\n",
    "prophet_model = Prophet(yearly_seasonality=True)\n",
    "prophet_model.fit(trabalhadores_df)\n",
    "\n",
    "# Prever os próximos 18 meses\n",
    "future = prophet_model.make_future_dataframe(periods=18, freq='M')\n",
    "forecast = prophet_model.predict(future)\n",
    "\n",
    "# Plotar as previsões\n",
    "fig = prophet_model.plot(forecast)\n",
    "fig.show()"
   ]
  },
  {
   "cell_type": "markdown",
   "metadata": {},
   "source": [
    "2 - A base clientes.xlsx é uma base que mostra a evolução no número de clientes de uma certa indústria ao longo de um período de 144 meses (12 anos). Ajuste um modelo prophet para esses dados, prevendo os próximos 24 meses."
   ]
  },
  {
   "cell_type": "code",
   "execution_count": null,
   "metadata": {},
   "outputs": [],
   "source": []
  }
 ],
 "metadata": {
  "kernelspec": {
   "display_name": "Python 3 (ipykernel)",
   "language": "python",
   "name": "python3"
  },
  "language_info": {
   "codemirror_mode": {
    "name": "ipython",
    "version": 2
   },
   "file_extension": ".py",
   "mimetype": "text/x-python",
   "name": "python",
   "nbconvert_exporter": "python",
   "pygments_lexer": "ipython2",
   "version": "2.7.6"
  }
 },
 "nbformat": 4,
 "nbformat_minor": 1
}
