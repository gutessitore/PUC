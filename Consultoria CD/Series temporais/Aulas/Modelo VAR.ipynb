{
 "cells": [
  {
   "cell_type": "code",
   "execution_count": 12,
   "id": "2c8ff2e8",
   "metadata": {},
   "outputs": [],
   "source": [
    "import pandas as pd\n",
    "import numpy as np\n",
    "from statsmodels.tsa.api import VAR\n",
    "\n",
    "import matplotlib.pyplot as plt\n",
    "from statsmodels.tools.eval_measures import rmse, aic\n",
    "from statsmodels.tsa.stattools import adfuller"
   ]
  },
  {
   "cell_type": "code",
   "execution_count": 13,
   "id": "312ad493",
   "metadata": {},
   "outputs": [
    {
     "data": {
      "text/html": [
       "<div>\n",
       "<style scoped>\n",
       "    .dataframe tbody tr th:only-of-type {\n",
       "        vertical-align: middle;\n",
       "    }\n",
       "\n",
       "    .dataframe tbody tr th {\n",
       "        vertical-align: top;\n",
       "    }\n",
       "\n",
       "    .dataframe thead th {\n",
       "        text-align: right;\n",
       "    }\n",
       "</style>\n",
       "<table border=\"1\" class=\"dataframe\">\n",
       "  <thead>\n",
       "    <tr style=\"text-align: right;\">\n",
       "      <th></th>\n",
       "      <th>Date</th>\n",
       "      <th>Open</th>\n",
       "      <th>High</th>\n",
       "      <th>Low</th>\n",
       "      <th>Close</th>\n",
       "      <th>Adj Close</th>\n",
       "      <th>Volume</th>\n",
       "    </tr>\n",
       "  </thead>\n",
       "  <tbody>\n",
       "    <tr>\n",
       "      <th>0</th>\n",
       "      <td>2021-01-04</td>\n",
       "      <td>68.009369</td>\n",
       "      <td>68.071815</td>\n",
       "      <td>64.949257</td>\n",
       "      <td>65.386414</td>\n",
       "      <td>64.746658</td>\n",
       "      <td>12801914</td>\n",
       "    </tr>\n",
       "    <tr>\n",
       "      <th>1</th>\n",
       "      <td>2021-01-05</td>\n",
       "      <td>65.136612</td>\n",
       "      <td>67.946915</td>\n",
       "      <td>65.074158</td>\n",
       "      <td>67.259956</td>\n",
       "      <td>66.601852</td>\n",
       "      <td>13402511</td>\n",
       "    </tr>\n",
       "    <tr>\n",
       "      <th>2</th>\n",
       "      <td>2021-01-06</td>\n",
       "      <td>67.634659</td>\n",
       "      <td>72.568306</td>\n",
       "      <td>67.634659</td>\n",
       "      <td>70.944572</td>\n",
       "      <td>70.250420</td>\n",
       "      <td>21069984</td>\n",
       "    </tr>\n",
       "    <tr>\n",
       "      <th>3</th>\n",
       "      <td>2021-01-07</td>\n",
       "      <td>72.193596</td>\n",
       "      <td>72.256050</td>\n",
       "      <td>70.195160</td>\n",
       "      <td>70.382515</td>\n",
       "      <td>69.693871</td>\n",
       "      <td>12055779</td>\n",
       "    </tr>\n",
       "    <tr>\n",
       "      <th>4</th>\n",
       "      <td>2021-01-08</td>\n",
       "      <td>70.507416</td>\n",
       "      <td>71.444183</td>\n",
       "      <td>69.695549</td>\n",
       "      <td>70.819672</td>\n",
       "      <td>70.126740</td>\n",
       "      <td>11644242</td>\n",
       "    </tr>\n",
       "  </tbody>\n",
       "</table>\n",
       "</div>"
      ],
      "text/plain": [
       "         Date       Open       High        Low      Close  Adj Close    Volume\n",
       "0  2021-01-04  68.009369  68.071815  64.949257  65.386414  64.746658  12801914\n",
       "1  2021-01-05  65.136612  67.946915  65.074158  67.259956  66.601852  13402511\n",
       "2  2021-01-06  67.634659  72.568306  67.634659  70.944572  70.250420  21069984\n",
       "3  2021-01-07  72.193596  72.256050  70.195160  70.382515  69.693871  12055779\n",
       "4  2021-01-08  70.507416  71.444183  69.695549  70.819672  70.126740  11644242"
      ]
     },
     "execution_count": 13,
     "metadata": {},
     "output_type": "execute_result"
    }
   ],
   "source": [
    "#Lendo o arquivo\n",
    "data = pd.read_csv('C:/_Academico/PUC/Ciência de Dados I/GE.csv')\n",
    "data.head()"
   ]
  },
  {
   "cell_type": "code",
   "execution_count": 14,
   "id": "2e05c7ed",
   "metadata": {},
   "outputs": [],
   "source": [
    "#Selecionando as variáveis que farão parte da previsão\n",
    "data['Date'] = pd.to_datetime(data['Date'])\n",
    "\n",
    "data = data[['Date', 'Open', 'High', 'Low', 'Close', 'Adj Close']]"
   ]
  },
  {
   "cell_type": "code",
   "execution_count": 15,
   "id": "8c6f5ef8",
   "metadata": {},
   "outputs": [],
   "source": [
    "#Informando que a periodicidade é diária\n",
    "data.set_index('Date', inplace=True)\n",
    "data.index = pd.DatetimeIndex(data.index).to_period('D') "
   ]
  },
  {
   "cell_type": "code",
   "execution_count": 16,
   "id": "1e87db27",
   "metadata": {},
   "outputs": [
    {
     "name": "stdout",
     "output_type": "stream",
     "text": [
      "                  Open      High       Low     Close  Adj Close\n",
      "const        -0.082501  0.539938 -0.165079  0.473288   0.471212\n",
      "L1.Open      -0.016621  0.107591  0.063855  0.128069   0.128327\n",
      "L1.High      -0.003020  0.015433 -0.295013 -0.160472  -0.159979\n",
      "L1.Low        0.033160 -0.193846  0.149936 -0.058014  -0.059343\n",
      "L1.Close      1.119589  1.114846  0.630658  0.720471  -0.279208\n",
      "L1.Adj Close -0.132068 -0.040606  0.448528  0.367945   1.368218\n"
     ]
    }
   ],
   "source": [
    "model = VAR(data)\n",
    "results = model.fit()\n",
    "print(results.params)"
   ]
  },
  {
   "cell_type": "code",
   "execution_count": 17,
   "id": "1b801fea",
   "metadata": {},
   "outputs": [
    {
     "name": "stdout",
     "output_type": "stream",
     "text": [
      "Previsões:\n",
      "                  Open        High         Low       Close   Adj Close\n",
      "2023-09-30  110.519974  111.849572  109.547759  110.752495  110.754722\n",
      "2023-10-01  110.745424  111.896312  109.843873  110.868990  110.873059\n",
      "2023-10-02  110.866153  111.988958  110.015424  111.000657  111.006324\n",
      "2023-10-03  110.999368  112.111499  110.164333  111.135195  111.142389\n",
      "2023-10-04  111.134379  112.243322  110.304892  111.270948  111.279646\n",
      "2023-10-05  111.270258  112.378405  110.442876  111.407240  111.417435\n",
      "2023-10-06  111.406560  112.514711  110.580145  111.543852  111.555544\n",
      "2023-10-07  111.543144  112.651564  110.717320  111.680713  111.693905\n",
      "2023-10-08  111.679965  112.788741  110.854607  111.817800  111.832493\n",
      "2023-10-09  111.817007  112.926169  110.992075  111.955104  111.971301\n",
      "2023-10-10  111.954264  113.063824  111.129745  112.092624  112.110327\n",
      "2023-10-11  112.091737  113.201697  111.267627  112.230359  112.249571\n",
      "2023-10-12  112.229425  113.339787  111.405722  112.368309  112.389032\n",
      "2023-10-13  112.367328  113.478093  111.544033  112.506475  112.528711\n",
      "2023-10-14  112.505446  113.616615  111.682560  112.644856  112.668608\n",
      "2023-10-15  112.643779  113.755353  111.821303  112.783453  112.808724\n",
      "2023-10-16  112.782329  113.894308  111.960263  112.922267  112.949059\n",
      "2023-10-17  112.921095  114.033480  112.099440  113.061298  113.089614\n",
      "2023-10-18  113.060078  114.172869  112.238835  113.200546  113.230388\n",
      "2023-10-19  113.199278  114.312477  112.378447  113.340012  113.371383\n",
      "2023-10-20  113.338696  114.452302  112.518278  113.479696  113.512598\n",
      "2023-10-21  113.478331  114.592346  112.658328  113.619598  113.654034\n",
      "2023-10-22  113.618186  114.732610  112.798597  113.759719  113.795692\n",
      "2023-10-23  113.758258  114.873092  112.939085  113.900060  113.937571\n",
      "2023-10-24  113.898551  115.013795  113.079794  114.040620  114.079673\n",
      "2023-10-25  114.039062  115.154718  113.220722  114.181401  114.221997\n",
      "2023-10-26  114.179794  115.295861  113.361872  114.322402  114.364545\n",
      "2023-10-27  114.320746  115.437225  113.503243  114.463623  114.507316\n",
      "2023-10-28  114.461919  115.578811  113.644835  114.605066  114.650310\n",
      "2023-10-29  114.603313  115.720619  113.786649  114.746731  114.793529\n",
      "2023-10-30  114.744929  115.862649  113.928685  114.888618  114.936973\n",
      "2023-10-31  114.886767  116.004901  114.070945  115.030727  115.080642\n",
      "2023-11-01  115.028827  116.147377  114.213427  115.173059  115.224536\n",
      "2023-11-02  115.171110  116.290076  114.356133  115.315615  115.368656\n",
      "2023-11-03  115.313616  116.432999  114.499063  115.458394  115.513002\n",
      "2023-11-04  115.456345  116.576146  114.642217  115.601397  115.657575\n",
      "2023-11-05  115.599299  116.719517  114.785596  115.744624  115.802375\n",
      "2023-11-06  115.742477  116.863114  114.929200  115.888077  115.947402\n",
      "2023-11-07  115.885880  117.006936  115.073029  116.031755  116.092658\n",
      "2023-11-08  116.029508  117.150984  115.217085  116.175658  116.238141\n",
      "2023-11-09  116.173361  117.295258  115.361367  116.319788  116.383854\n",
      "2023-11-10  116.317441  117.439759  115.505875  116.464144  116.529795\n",
      "2023-11-11  116.461747  117.584487  115.650611  116.608727  116.675966\n",
      "2023-11-12  116.606279  117.729443  115.795575  116.753537  116.822367\n",
      "2023-11-13  116.751039  117.874626  115.940766  116.898575  116.968998\n",
      "2023-11-14  116.896027  118.020038  116.086186  117.043841  117.115860\n",
      "2023-11-15  117.041243  118.165678  116.231835  117.189336  117.262953\n",
      "2023-11-16  117.186687  118.311547  116.377712  117.335059  117.410278\n",
      "2023-11-17  117.332359  118.457646  116.523820  117.481012  117.557835\n",
      "2023-11-18  117.478262  118.603975  116.670157  117.627195  117.705624\n",
      "2023-11-19  117.624393  118.750534  116.816725  117.773607  117.853646\n",
      "2023-11-20  117.770755  118.897324  116.963524  117.920251  118.001901\n",
      "2023-11-21  117.917347  119.044344  117.110554  118.067125  118.150390\n",
      "2023-11-22  118.064171  119.191597  117.257815  118.214231  118.299113\n",
      "2023-11-23  118.211225  119.339081  117.405309  118.361568  118.448070\n",
      "2023-11-24  118.358511  119.486798  117.553035  118.509138  118.597262\n",
      "2023-11-25  118.506029  119.634748  117.700994  118.656940  118.746689\n",
      "2023-11-26  118.653780  119.782931  117.849186  118.804976  118.896353\n",
      "2023-11-27  118.801764  119.931347  117.997612  118.953244  119.046252\n",
      "2023-11-28  118.949981  120.079997  118.146272  119.101747  119.196388\n"
     ]
    }
   ],
   "source": [
    "# Faça previsões para os próximos 60 dias\n",
    "forecast_steps = 60\n",
    "forecast = results.forecast(data.values, steps=forecast_steps)\n",
    "\n",
    "# Crie manualmente as datas de previsão para coincidir com o número de previsões\n",
    "last_date = data.index.max()\n",
    "last_date_timestamp = last_date.to_timestamp()  # Converter para Timestamp\n",
    "forecast_index = pd.date_range(start=last_date_timestamp, periods=forecast_steps+1, closed='right')\n",
    "\n",
    "# Crie um DataFrame com as previsões\n",
    "forecast_df = pd.DataFrame(forecast, columns=data.columns, index=forecast_index)\n",
    "\n",
    "# Imprima as previsões\n",
    "print(\"Previsões:\")\n",
    "print(forecast_df)\n"
   ]
  },
  {
   "cell_type": "code",
   "execution_count": 18,
   "id": "79fe28c6",
   "metadata": {},
   "outputs": [
    {
     "name": "stdout",
     "output_type": "stream",
     "text": [
      "Estatísticas de Avaliação do Modelo:\n",
      "AIC (Critério de Informação Akaike): -11.798301561405962\n",
      "BIC (Critério de Informação Bayesiano): -11.600830969054135\n"
     ]
    }
   ],
   "source": [
    "\n",
    "# Calcule e exiba as estatísticas de avaliação do modelo\n",
    "print(\"Estatísticas de Avaliação do Modelo:\")\n",
    "print(\"AIC (Critério de Informação Akaike):\", results.aic)\n",
    "print(\"BIC (Critério de Informação Bayesiano):\", results.bic)\n"
   ]
  },
  {
   "cell_type": "code",
   "execution_count": 19,
   "id": "55541b1d",
   "metadata": {},
   "outputs": [
    {
     "data": {
      "image/png": "[encoded data removed]",
      "text/plain": [
       "<Figure size 864x432 with 1 Axes>"
      ]
     },
     "metadata": {
      "needs_background": "light"
     },
     "output_type": "display_data"
    }
   ],
   "source": [
    "# Converter o índice do DataFrame data para Timestamp\n",
    "data.index = data.index.to_timestamp()\n",
    "\n",
    "# Plote os dados reais e as previsões em um único gráfico\n",
    "plt.figure(figsize=(12, 6))\n",
    "plt.plot(data.index, data['Open'], label='Dados Reais', color='blue')\n",
    "plt.plot(forecast_df.index, forecast_df['Open'], label='Previsões', color='red')\n",
    "plt.xlabel('Data')\n",
    "plt.ylabel('Valor de Abertura')\n",
    "plt.legend()\n",
    "plt.title('Previsão do Valor de Abertura de Ações')\n",
    "plt.show()\n"
   ]
  },
  {
   "cell_type": "code",
   "execution_count": null,
   "id": "62779e03",
   "metadata": {},
   "outputs": [],
   "source": []
  }
 ],
 "metadata": {
  "kernelspec": {
   "display_name": "Python 3 (ipykernel)",
   "language": "python",
   "name": "python3"
  },
  "language_info": {
   "codemirror_mode": {
    "name": "ipython",
    "version": 3
   },
   "file_extension": ".py",
   "mimetype": "text/x-python",
   "name": "python",
   "nbconvert_exporter": "python",
   "pygments_lexer": "ipython3",
   "version": "3.9.7"
  }
 },
 "nbformat": 4,
 "nbformat_minor": 5
}
