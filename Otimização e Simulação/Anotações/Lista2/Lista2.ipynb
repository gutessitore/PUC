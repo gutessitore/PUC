{
 "cells": [
  {
   "cell_type": "markdown",
   "metadata": {
    "pycharm": {
     "name": "#%% md\n"
    }
   },
   "source": [
    "# 1ª Lista de Exercícios\n",
    "Aluno: Gustavo Schlieper Tessitore"
   ]
  },
  {
   "cell_type": "code",
   "execution_count": 7,
   "metadata": {
    "pycharm": {
     "name": "#%%\n"
    }
   },
   "outputs": [
    {
     "name": "stdout",
     "output_type": "stream",
     "text": [
      "\n",
      "Status: 4\n",
      "Custo mínimo: 1148340.0\n",
      "Distribuição:\n",
      "\n"
     ]
    },
    {
     "data": {
      "text/plain": [
       "array([[ 0, 10,  0,  0,  0],\n",
       "       [ 7,  5,  0,  0,  0],\n",
       "       [20,  0,  0,  0,  0],\n",
       "       [ 0,  0, 24,  0,  0],\n",
       "       [ 0,  0,  0,  0, 18],\n",
       "       [ 3,  0,  1, 33,  3]])"
      ]
     },
     "execution_count": 7,
     "metadata": {},
     "output_type": "execute_result"
    }
   ],
   "source": [
    "from ortools.sat.python import cp_model\n",
    "import numpy as np\n",
    "\n",
    "# Questão 1\n",
    "\n",
    "distancias = np.array([\n",
    "    [290, 115, 355, 715, 810],\n",
    "    [380, 340, 165, 380, 610],\n",
    "    [505, 530, 285, 220, 450],\n",
    "    [655, 450, 155, 240, 315],\n",
    "    [1010, 840, 550, 305, 95],\n",
    "    [1072, 1097, 747, 372, 333]\n",
    "])\n",
    "\n",
    "custo_de_transporte = distancias * 30\n",
    "\n",
    "modelo = cp_model.CpModel()\n",
    "\n",
    "inventario = {\n",
    "    1: 10,\n",
    "    2: 12,\n",
    "    3: 20,\n",
    "    4: 24,\n",
    "    5: 18,\n",
    "    6: 40\n",
    "}\n",
    "\n",
    "demanda = {\n",
    "    1: 30,\n",
    "    2: 15,\n",
    "    3: 25,\n",
    "    4: 33,\n",
    "    5: 21\n",
    "}\n",
    "\n",
    "variaveis = np.array(\n",
    "    [\n",
    "        [\n",
    "            modelo.NewIntVar(0, inventario[i], f'x{i}{j}')\n",
    "            for j in range(1, 6)\n",
    "        ]\n",
    "        for i in range(1, 7)\n",
    "    ]\n",
    ")\n",
    "\n",
    "for i in range(6):\n",
    "    modelo.Add(\n",
    "        sum(variaveis[i]) == inventario[i + 1]\n",
    "    )\n",
    "\n",
    "for j in range(5):\n",
    "    modelo.Add(\n",
    "        sum(\n",
    "            [variaveis[i][j] for i in range(6)]\n",
    "        ) <= demanda[j + 1]\n",
    "    )\n",
    "\n",
    "modelo.Minimize((custo_de_transporte * variaveis).sum())\n",
    "\n",
    "solver = cp_model.CpSolver()\n",
    "status = solver.Solve(modelo)\n",
    "\n",
    "custo_minimo = solver.ObjectiveValue()\n",
    "distribuicao = np.array([\n",
    "    [solver.Value(variaveis[i][j]) for j in range(5)]\n",
    "    for i in range(6)\n",
    "])\n",
    "\n",
    "resultado = f\"\"\"\n",
    "Status: {status}\n",
    "Custo mínimo: {custo_minimo}\n",
    "Distribuição:\n",
    "\"\"\"\n",
    "\n",
    "print(resultado)\n",
    "distribuicao"
   ]
  },
  {
   "cell_type": "code",
   "execution_count": 5,
   "metadata": {
    "pycharm": {
     "name": "#%%\n"
    }
   },
   "outputs": [
    {
     "name": "stdout",
     "output_type": "stream",
     "text": [
      "distancia_entre_1_e_3 = 101\n"
     ]
    },
    {
     "data": {
      "image/png": "[encoded data removed]",
      "text/plain": [
       "<Figure size 432x288 with 1 Axes>"
      ]
     },
     "metadata": {},
     "output_type": "display_data"
    }
   ],
   "source": [
    "import networkx as nx\n",
    "\n",
    "# Questão 2\n",
    "\n",
    "nos = {\n",
    "    0: (1, 2),\n",
    "    1: (2, 2),\n",
    "    2: (0, 2),\n",
    "    3: (0, 0),\n",
    "    4: (1, 0),\n",
    "    5: (0, 1),\n",
    "    6: (1, 1),\n",
    "    7: (2, 1)\n",
    "}\n",
    "\n",
    "\n",
    "distancias = {\n",
    "    (0, 2): 29,\n",
    "    (0, 5): 60,\n",
    "    (0, 6): 51,\n",
    "    (1, 0): 32,\n",
    "    (1, 7): 21,\n",
    "    (5, 3): 18,\n",
    "    (6, 4): 51,\n",
    "    (7, 0): 31,\n",
    "    (7, 6): 25,\n",
    "    (7, 4): 46,\n",
    "    (4, 3): 34,\n",
    "    (4, 5): 40\n",
    "}\n",
    "\n",
    "grafo = nx.Graph()\n",
    "\n",
    "for no, (x, y) in nos.items():\n",
    "    grafo.add_node(no, pos=(x, y))\n",
    "\n",
    "for no, distancia in distancias.items():\n",
    "    grafo.add_edge(no[0], no[1], weight=distancia)\n",
    "\n",
    "nx.draw(grafo, pos=nx.get_node_attributes(grafo, 'pos'), with_labels=True)\n",
    "\n",
    "distancia_entre_1_e_3 = nx.dijkstra_path_length(grafo, 1, 3)\n",
    "print(f\"{distancia_entre_1_e_3 = }\")"
   ]
  },
  {
   "cell_type": "markdown",
   "metadata": {
    "pycharm": {
     "name": "#%% md\n"
    }
   },
   "source": []
  },
  {
   "cell_type": "markdown",
   "metadata": {
    "pycharm": {
     "name": "#%% md\n"
    }
   },
   "source": [
    "Questão 3\n",
    "$$\\max 2x_1 + 3x_2 \\\\  x_1 + 2x_2 \\leq 3 \\\\ 6x_1 + 8x_2 \\leq 15 \\\\ x_1,x_2 \\in \\mathbb{Z}_+$$"
   ]
  },
  {
   "cell_type": "code",
   "execution_count": 16,
   "metadata": {
    "pycharm": {
     "name": "#%%\n"
    }
   },
   "outputs": [
    {
     "name": "stdout",
     "output_type": "stream",
     "text": [
      "Valor da função objetivo = 3.0\n",
      "Valor de x1 = 0.0\n",
      "Valor de x2 = 1.0\n"
     ]
    }
   ],
   "source": [
    "from ortools.linear_solver import pywraplp\n",
    "\n",
    "solver = pywraplp.Solver.CreateSolver('SCIP')\n",
    "\n",
    "# Variáveis\n",
    "x1 = solver.IntVar(0, solver.infinity(), 'x1')\n",
    "x2 = solver.IntVar(0, solver.infinity(), 'x2')\n",
    "\n",
    "# Função objetivo\n",
    "solver.Maximize(2 * x1 + 3 * x2)\n",
    "\n",
    "# Restrições\n",
    "solver.Add(2 * x1 + 3 * x2 <= 3)\n",
    "solver.Add(6 * x1 + 8 * x2 <= 15)\n",
    "\n",
    "solver.Solve()\n",
    "\n",
    "print(f\"Valor da função objetivo = {solver.Objective().Value()}\")\n",
    "print(f\"Valor de x1 = {x1.solution_value()}\")\n",
    "print(f\"Valor de x2 = {x2.solution_value()}\")"
   ]
  },
  {
   "cell_type": "code",
   "execution_count": 10,
   "metadata": {
    "pycharm": {
     "name": "#%%\n"
    }
   },
   "outputs": [
    {
     "name": "stdout",
     "output_type": "stream",
     "text": [
      "Valor investido = 42 milhões\n",
      "Investiu 7 milhões em 2\n",
      "Investiu 4 milhões em 3\n",
      "Investiu 3 milhões em 4\n"
     ]
    }
   ],
   "source": [
    "from ortools.algorithms import pywrapknapsack_solver\n",
    "\n",
    "# Questão 4\n",
    "\n",
    "receita = [16, 22, 12, 8]\n",
    "valor_investido = [[5, 7, 4, 3]]\n",
    "total = [14]\n",
    "\n",
    "# Solver\n",
    "solver = pywrapknapsack_solver.KnapsackSolver(\n",
    "    pywrapknapsack_solver.KnapsackSolver.\n",
    "    KNAPSACK_MULTIDIMENSION_BRANCH_AND_BOUND_SOLVER, 'Investimento'\n",
    ")\n",
    "solver.Init(receita, valor_investido, total)\n",
    "solucao = solver.Solve()\n",
    "print(f\"Valor investido = {solucao} milhões\")\n",
    "for i in range(len(receita)):\n",
    "    if solver.BestSolutionContains(i):\n",
    "        # print(f\"{valor_investido[0][i]=}\")\n",
    "        print(f\"Investiu {valor_investido[0][i]} milhões em {i+1}\")"
   ]
  }
 ],
 "metadata": {
  "kernelspec": {
   "display_name": "Python 3 (ipykernel)",
   "language": "python",
   "name": "python3"
  },
  "language_info": {
   "codemirror_mode": {
    "name": "ipython",
    "version": 3
   },
   "file_extension": ".py",
   "mimetype": "text/x-python",
   "name": "python",
   "nbconvert_exporter": "python",
   "pygments_lexer": "ipython3",
   "version": "3.9.13"
  }
 },
 "nbformat": 4,
 "nbformat_minor": 1
}