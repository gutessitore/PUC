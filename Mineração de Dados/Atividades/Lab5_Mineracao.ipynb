{
 "cells": [
  {
   "cell_type": "markdown",
   "metadata": {
    "id": "MJL7PlSCwyKs",
    "pycharm": {
     "name": "#%% md\n"
    }
   },
   "source": [
    "Pontifícia Universidade Católica de São Paulo \n",
    "\n",
    "`Ciência de Dados e Inteligência Artificial`\n",
    "\n",
    "🎓 Laboratório 5 - Árvore de decisão (Parte 2)\n",
    "\n",
    "---\n",
    "> 👨‍🏫*Professor Rooney Coelho (rracoelho@pucsp.br)*\n",
    "---\n",
    "\n",
    "\n"
   ]
  },
  {
   "cell_type": "markdown",
   "metadata": {
    "id": "yo-1fDsWPRoc",
    "pycharm": {
     "name": "#%% md\n"
    }
   },
   "source": [
    "## O problema de classificação\n",
    "Suponha que estejamos perdidos em uma floresta e com muita fome. Incapazes de continuar sem comer algo primeiro, damos uma olhada, apenas para encontrar nada imediatamente comestível - apenas cogumelos.\n",
    "\n",
    "<center>\n",
    "<a title=\"By OliBac from FRANCE [CC BY 2.0 (http://creativecommons.org/licenses/by/2.0)], via Wikimedia Commons\" href=\"https://commons.wikimedia.org/wiki/File%3AChampignons_mushrooms_(950475736).jpg\"><img width=\"400\" alt=\"Champignons mushrooms (950475736)\" src=\"https://upload.wikimedia.org/wikipedia/commons/thumb/6/66/Champignons_mushrooms_%28950475736%29.jpg/512px-Champignons_mushrooms_%28950475736%29.jpg\"/></a>\n",
    "\n",
    "*Muitos tipos diferentes de cogumelos. Eles são seguros para comer?*\n",
    "</center>\n",
    "\n",
    "Estamos morrendo de fome, então qualquer coisa parece ótimo para nós, mas comer um desses descuidadamente pode resultar em envenenamento. Para saber se podemos ou não comer um cogumelo, precisamos **classificá-lo com base em nosso conhecimento de suas características**, ou seja, temos um problema de classificação em nossas mãos.\n",
    "\n",
    "Esse tipo de problema não é simples de resolver de forma eficaz - há muitas variáveis ​​envolvidas na classificação correta de algo. Existem muitos tipos diferentes de modelos matemáticos que foram criados para nos ajudar nas tarefas de classificação. Um desses modelos é o **modelo de árvore de decisão**.\n",
    "\n",
    "A Árvore de Decisão é um modelo preditivo baseado na análise de um conjunto de pontos de dados que descrevem o tipo de objeto que desejamos classificar. Em nosso exemplo, pode ser um conjunto de observações do tipo de capa de um cogumelo, sua cor, odor, forma de seu caule, etc. Essas descrições de nosso objeto são chamadas de **características** e são muito importantes em muitos tipos diferentes de algoritmos de aprendizado de máquina, incluindo árvores de decisão. A classificação que queremos desses recursos é posta de lado como uma espécie de \"resultado\".\n"
   ]
  },
  {
   "cell_type": "code",
   "execution_count": 64,
   "metadata": {
    "id": "dp_ixU88awxR",
    "pycharm": {
     "name": "#%%\n"
    }
   },
   "outputs": [],
   "source": [
    "# Dependências\n",
    "from sklearn.metrics import confusion_matrix, f1_score, recall_score, precision_score, ConfusionMatrixDisplay\n",
    "from sklearn.model_selection import train_test_split\n",
    "from sklearn.ensemble import RandomForestClassifier\n",
    "from sklearn.tree import DecisionTreeClassifier\n",
    "from sklearn.preprocessing import LabelEncoder\n",
    "import pandas as pd\n",
    "\n",
    "\n",
    "\n",
    "# Avaliando o modelo\n",
    "def evaluate_classifier(model, features, target, pos_label=1):\n",
    "    predictions = model.predict(features)\n",
    "    accuracy = model.score(features, target)\n",
    "    precision = precision_score(target, predictions, pos_label=pos_label)\n",
    "    recall = recall_score(target, predictions, pos_label=pos_label)\n",
    "    f1 = f1_score(target, predictions, pos_label=pos_label)\n",
    "    conf_matrix = confusion_matrix(target, predictions)\n",
    "    ConfusionMatrixDisplay(conf_matrix, display_labels=model.classes_).plot(cmap='Blues')\n",
    "    print(f'Accuracy: {accuracy:.4}\\nPrecision: {precision:.4}\\nRecall: {recall:.4}\\nF1: {f1:.4}')"
   ]
  },
  {
   "cell_type": "markdown",
   "metadata": {
    "id": "enDw0-_eQfMv",
    "pycharm": {
     "name": "#%% md\n"
    }
   },
   "source": [
    "1) Importe os dados sem o cabeçalho"
   ]
  },
  {
   "cell_type": "code",
   "execution_count": 65,
   "metadata": {
    "id": "Qt6-dRXma0pw",
    "pycharm": {
     "name": "#%%\n"
    }
   },
   "outputs": [],
   "source": [
    "url = 'https://archive.ics.uci.edu/ml/machine-learning-databases/mushroom/agaricus-lepiota.data'"
   ]
  },
  {
   "cell_type": "markdown",
   "metadata": {
    "id": "Ul1FTF8EQnQp",
    "pycharm": {
     "name": "#%% md\n"
    }
   },
   "source": [
    "2) Use a seguinte lista para nomear as colunas do DataFrame"
   ]
  },
  {
   "cell_type": "code",
   "execution_count": 66,
   "metadata": {
    "id": "yFBZHRLoQZeN",
    "pycharm": {
     "name": "#%%\n"
    }
   },
   "outputs": [],
   "source": [
    "nomes = [\"Class\",\"cap.shape\",\"cap.surface\",\"cap.color\",\"bruises\",\"odor\",\"gill.attachment\",\"gill.spacing\",\n",
    "                         \"gill.size\",\"gill.color\",\"stalk.shape\",\"stalk.root\",\"stalk.surface.above.ring\",\n",
    "                         \"stalk.surface.below.ring\",\"stalk.color.above.ring\",\"stalk.color.below.ring\",\"veil.type\",\"veil.color\",\n",
    "                         \"ring.number\",\"ring.type\",\"print\",\"population\",\"habitat\"]"
   ]
  },
  {
   "cell_type": "code",
   "execution_count": 67,
   "metadata": {
    "id": "x4b46hVvIODC",
    "pycharm": {
     "name": "#%%\n"
    }
   },
   "outputs": [
    {
     "data": {
      "text/plain": "     Class cap.shape cap.surface cap.color bruises odor gill.attachment  \\\n0        e         x           s         y       t    a               f   \n1        e         b           s         w       t    l               f   \n2        p         x           y         w       t    p               f   \n3        e         x           s         g       f    n               f   \n4        e         x           y         y       t    a               f   \n...    ...       ...         ...       ...     ...  ...             ...   \n8118     e         k           s         n       f    n               a   \n8119     e         x           s         n       f    n               a   \n8120     e         f           s         n       f    n               a   \n8121     p         k           y         n       f    y               f   \n8122     e         x           s         n       f    n               a   \n\n     gill.spacing gill.size gill.color  ... stalk.surface.below.ring  \\\n0               c         b          k  ...                        s   \n1               c         b          n  ...                        s   \n2               c         n          n  ...                        s   \n3               w         b          k  ...                        s   \n4               c         b          n  ...                        s   \n...           ...       ...        ...  ...                      ...   \n8118            c         b          y  ...                        s   \n8119            c         b          y  ...                        s   \n8120            c         b          n  ...                        s   \n8121            c         n          b  ...                        k   \n8122            c         b          y  ...                        s   \n\n     stalk.color.above.ring stalk.color.below.ring veil.type veil.color  \\\n0                         w                      w         p          w   \n1                         w                      w         p          w   \n2                         w                      w         p          w   \n3                         w                      w         p          w   \n4                         w                      w         p          w   \n...                     ...                    ...       ...        ...   \n8118                      o                      o         p          o   \n8119                      o                      o         p          n   \n8120                      o                      o         p          o   \n8121                      w                      w         p          w   \n8122                      o                      o         p          o   \n\n     ring.number ring.type print population habitat  \n0              o         p     n          n       g  \n1              o         p     n          n       m  \n2              o         p     k          s       u  \n3              o         e     n          a       g  \n4              o         p     k          n       g  \n...          ...       ...   ...        ...     ...  \n8118           o         p     b          c       l  \n8119           o         p     b          v       l  \n8120           o         p     b          c       l  \n8121           o         e     w          v       l  \n8122           o         p     o          c       l  \n\n[8123 rows x 23 columns]",
      "text/html": "<div>\n<style scoped>\n    .dataframe tbody tr th:only-of-type {\n        vertical-align: middle;\n    }\n\n    .dataframe tbody tr th {\n        vertical-align: top;\n    }\n\n    .dataframe thead th {\n        text-align: right;\n    }\n</style>\n<table border=\"1\" class=\"dataframe\">\n  <thead>\n    <tr style=\"text-align: right;\">\n      <th></th>\n      <th>Class</th>\n      <th>cap.shape</th>\n      <th>cap.surface</th>\n      <th>cap.color</th>\n      <th>bruises</th>\n      <th>odor</th>\n      <th>gill.attachment</th>\n      <th>gill.spacing</th>\n      <th>gill.size</th>\n      <th>gill.color</th>\n      <th>...</th>\n      <th>stalk.surface.below.ring</th>\n      <th>stalk.color.above.ring</th>\n      <th>stalk.color.below.ring</th>\n      <th>veil.type</th>\n      <th>veil.color</th>\n      <th>ring.number</th>\n      <th>ring.type</th>\n      <th>print</th>\n      <th>population</th>\n      <th>habitat</th>\n    </tr>\n  </thead>\n  <tbody>\n    <tr>\n      <th>0</th>\n      <td>e</td>\n      <td>x</td>\n      <td>s</td>\n      <td>y</td>\n      <td>t</td>\n      <td>a</td>\n      <td>f</td>\n      <td>c</td>\n      <td>b</td>\n      <td>k</td>\n      <td>...</td>\n      <td>s</td>\n      <td>w</td>\n      <td>w</td>\n      <td>p</td>\n      <td>w</td>\n      <td>o</td>\n      <td>p</td>\n      <td>n</td>\n      <td>n</td>\n      <td>g</td>\n    </tr>\n    <tr>\n      <th>1</th>\n      <td>e</td>\n      <td>b</td>\n      <td>s</td>\n      <td>w</td>\n      <td>t</td>\n      <td>l</td>\n      <td>f</td>\n      <td>c</td>\n      <td>b</td>\n      <td>n</td>\n      <td>...</td>\n      <td>s</td>\n      <td>w</td>\n      <td>w</td>\n      <td>p</td>\n      <td>w</td>\n      <td>o</td>\n      <td>p</td>\n      <td>n</td>\n      <td>n</td>\n      <td>m</td>\n    </tr>\n    <tr>\n      <th>2</th>\n      <td>p</td>\n      <td>x</td>\n      <td>y</td>\n      <td>w</td>\n      <td>t</td>\n      <td>p</td>\n      <td>f</td>\n      <td>c</td>\n      <td>n</td>\n      <td>n</td>\n      <td>...</td>\n      <td>s</td>\n      <td>w</td>\n      <td>w</td>\n      <td>p</td>\n      <td>w</td>\n      <td>o</td>\n      <td>p</td>\n      <td>k</td>\n      <td>s</td>\n      <td>u</td>\n    </tr>\n    <tr>\n      <th>3</th>\n      <td>e</td>\n      <td>x</td>\n      <td>s</td>\n      <td>g</td>\n      <td>f</td>\n      <td>n</td>\n      <td>f</td>\n      <td>w</td>\n      <td>b</td>\n      <td>k</td>\n      <td>...</td>\n      <td>s</td>\n      <td>w</td>\n      <td>w</td>\n      <td>p</td>\n      <td>w</td>\n      <td>o</td>\n      <td>e</td>\n      <td>n</td>\n      <td>a</td>\n      <td>g</td>\n    </tr>\n    <tr>\n      <th>4</th>\n      <td>e</td>\n      <td>x</td>\n      <td>y</td>\n      <td>y</td>\n      <td>t</td>\n      <td>a</td>\n      <td>f</td>\n      <td>c</td>\n      <td>b</td>\n      <td>n</td>\n      <td>...</td>\n      <td>s</td>\n      <td>w</td>\n      <td>w</td>\n      <td>p</td>\n      <td>w</td>\n      <td>o</td>\n      <td>p</td>\n      <td>k</td>\n      <td>n</td>\n      <td>g</td>\n    </tr>\n    <tr>\n      <th>...</th>\n      <td>...</td>\n      <td>...</td>\n      <td>...</td>\n      <td>...</td>\n      <td>...</td>\n      <td>...</td>\n      <td>...</td>\n      <td>...</td>\n      <td>...</td>\n      <td>...</td>\n      <td>...</td>\n      <td>...</td>\n      <td>...</td>\n      <td>...</td>\n      <td>...</td>\n      <td>...</td>\n      <td>...</td>\n      <td>...</td>\n      <td>...</td>\n      <td>...</td>\n      <td>...</td>\n    </tr>\n    <tr>\n      <th>8118</th>\n      <td>e</td>\n      <td>k</td>\n      <td>s</td>\n      <td>n</td>\n      <td>f</td>\n      <td>n</td>\n      <td>a</td>\n      <td>c</td>\n      <td>b</td>\n      <td>y</td>\n      <td>...</td>\n      <td>s</td>\n      <td>o</td>\n      <td>o</td>\n      <td>p</td>\n      <td>o</td>\n      <td>o</td>\n      <td>p</td>\n      <td>b</td>\n      <td>c</td>\n      <td>l</td>\n    </tr>\n    <tr>\n      <th>8119</th>\n      <td>e</td>\n      <td>x</td>\n      <td>s</td>\n      <td>n</td>\n      <td>f</td>\n      <td>n</td>\n      <td>a</td>\n      <td>c</td>\n      <td>b</td>\n      <td>y</td>\n      <td>...</td>\n      <td>s</td>\n      <td>o</td>\n      <td>o</td>\n      <td>p</td>\n      <td>n</td>\n      <td>o</td>\n      <td>p</td>\n      <td>b</td>\n      <td>v</td>\n      <td>l</td>\n    </tr>\n    <tr>\n      <th>8120</th>\n      <td>e</td>\n      <td>f</td>\n      <td>s</td>\n      <td>n</td>\n      <td>f</td>\n      <td>n</td>\n      <td>a</td>\n      <td>c</td>\n      <td>b</td>\n      <td>n</td>\n      <td>...</td>\n      <td>s</td>\n      <td>o</td>\n      <td>o</td>\n      <td>p</td>\n      <td>o</td>\n      <td>o</td>\n      <td>p</td>\n      <td>b</td>\n      <td>c</td>\n      <td>l</td>\n    </tr>\n    <tr>\n      <th>8121</th>\n      <td>p</td>\n      <td>k</td>\n      <td>y</td>\n      <td>n</td>\n      <td>f</td>\n      <td>y</td>\n      <td>f</td>\n      <td>c</td>\n      <td>n</td>\n      <td>b</td>\n      <td>...</td>\n      <td>k</td>\n      <td>w</td>\n      <td>w</td>\n      <td>p</td>\n      <td>w</td>\n      <td>o</td>\n      <td>e</td>\n      <td>w</td>\n      <td>v</td>\n      <td>l</td>\n    </tr>\n    <tr>\n      <th>8122</th>\n      <td>e</td>\n      <td>x</td>\n      <td>s</td>\n      <td>n</td>\n      <td>f</td>\n      <td>n</td>\n      <td>a</td>\n      <td>c</td>\n      <td>b</td>\n      <td>y</td>\n      <td>...</td>\n      <td>s</td>\n      <td>o</td>\n      <td>o</td>\n      <td>p</td>\n      <td>o</td>\n      <td>o</td>\n      <td>p</td>\n      <td>o</td>\n      <td>c</td>\n      <td>l</td>\n    </tr>\n  </tbody>\n</table>\n<p>8123 rows × 23 columns</p>\n</div>"
     },
     "execution_count": 67,
     "metadata": {},
     "output_type": "execute_result"
    }
   ],
   "source": [
    "df = pd.read_csv(url)\n",
    "df.columns = nomes\n",
    "df"
   ]
  },
  {
   "cell_type": "markdown",
   "metadata": {
    "id": "6ePZC1CHQ48l",
    "pycharm": {
     "name": "#%% md\n"
    }
   },
   "source": [
    "3) Transforme todos os elementos em dados categóricos usando o método `factorize`. Devido ao alto número de colunas use um comando de repetição para isso."
   ]
  },
  {
   "cell_type": "code",
   "execution_count": 68,
   "metadata": {
    "id": "mph44KlvkZQI",
    "pycharm": {
     "name": "#%%\n"
    }
   },
   "outputs": [
    {
     "data": {
      "text/plain": "      Class  cap.shape  cap.surface  cap.color  bruises  odor  \\\n0         0          5            2          9        1     0   \n1         0          0            2          8        1     3   \n2         1          5            3          8        1     6   \n3         0          5            2          3        0     5   \n4         0          5            3          9        1     0   \n...     ...        ...          ...        ...      ...   ...   \n8118      0          3            2          4        0     5   \n8119      0          5            2          4        0     5   \n8120      0          2            2          4        0     5   \n8121      1          3            3          4        0     8   \n8122      0          5            2          4        0     5   \n\n      gill.attachment  gill.spacing  gill.size  gill.color  ...  \\\n0                   1             0          0           4  ...   \n1                   1             0          0           5  ...   \n2                   1             0          1           5  ...   \n3                   1             1          0           4  ...   \n4                   1             0          0           5  ...   \n...               ...           ...        ...         ...  ...   \n8118                0             0          0          11  ...   \n8119                0             0          0          11  ...   \n8120                0             0          0           5  ...   \n8121                1             0          1           0  ...   \n8122                0             0          0          11  ...   \n\n      stalk.surface.below.ring  stalk.color.above.ring  \\\n0                            2                       7   \n1                            2                       7   \n2                            2                       7   \n3                            2                       7   \n4                            2                       7   \n...                        ...                     ...   \n8118                         2                       5   \n8119                         2                       5   \n8120                         2                       5   \n8121                         1                       7   \n8122                         2                       5   \n\n      stalk.color.below.ring  veil.type  veil.color  ring.number  ring.type  \\\n0                          7          0           2            1          4   \n1                          7          0           2            1          4   \n2                          7          0           2            1          4   \n3                          7          0           2            1          0   \n4                          7          0           2            1          4   \n...                      ...        ...         ...          ...        ...   \n8118                       5          0           1            1          4   \n8119                       5          0           0            1          4   \n8120                       5          0           1            1          4   \n8121                       7          0           2            1          0   \n8122                       5          0           1            1          4   \n\n      print  population  habitat  \n0         3           2        1  \n1         3           2        3  \n2         2           3        5  \n3         3           0        1  \n4         2           2        1  \n...     ...         ...      ...  \n8118      0           1        2  \n8119      0           4        2  \n8120      0           1        2  \n8121      7           4        2  \n8122      4           1        2  \n\n[8123 rows x 23 columns]",
      "text/html": "<div>\n<style scoped>\n    .dataframe tbody tr th:only-of-type {\n        vertical-align: middle;\n    }\n\n    .dataframe tbody tr th {\n        vertical-align: top;\n    }\n\n    .dataframe thead th {\n        text-align: right;\n    }\n</style>\n<table border=\"1\" class=\"dataframe\">\n  <thead>\n    <tr style=\"text-align: right;\">\n      <th></th>\n      <th>Class</th>\n      <th>cap.shape</th>\n      <th>cap.surface</th>\n      <th>cap.color</th>\n      <th>bruises</th>\n      <th>odor</th>\n      <th>gill.attachment</th>\n      <th>gill.spacing</th>\n      <th>gill.size</th>\n      <th>gill.color</th>\n      <th>...</th>\n      <th>stalk.surface.below.ring</th>\n      <th>stalk.color.above.ring</th>\n      <th>stalk.color.below.ring</th>\n      <th>veil.type</th>\n      <th>veil.color</th>\n      <th>ring.number</th>\n      <th>ring.type</th>\n      <th>print</th>\n      <th>population</th>\n      <th>habitat</th>\n    </tr>\n  </thead>\n  <tbody>\n    <tr>\n      <th>0</th>\n      <td>0</td>\n      <td>5</td>\n      <td>2</td>\n      <td>9</td>\n      <td>1</td>\n      <td>0</td>\n      <td>1</td>\n      <td>0</td>\n      <td>0</td>\n      <td>4</td>\n      <td>...</td>\n      <td>2</td>\n      <td>7</td>\n      <td>7</td>\n      <td>0</td>\n      <td>2</td>\n      <td>1</td>\n      <td>4</td>\n      <td>3</td>\n      <td>2</td>\n      <td>1</td>\n    </tr>\n    <tr>\n      <th>1</th>\n      <td>0</td>\n      <td>0</td>\n      <td>2</td>\n      <td>8</td>\n      <td>1</td>\n      <td>3</td>\n      <td>1</td>\n      <td>0</td>\n      <td>0</td>\n      <td>5</td>\n      <td>...</td>\n      <td>2</td>\n      <td>7</td>\n      <td>7</td>\n      <td>0</td>\n      <td>2</td>\n      <td>1</td>\n      <td>4</td>\n      <td>3</td>\n      <td>2</td>\n      <td>3</td>\n    </tr>\n    <tr>\n      <th>2</th>\n      <td>1</td>\n      <td>5</td>\n      <td>3</td>\n      <td>8</td>\n      <td>1</td>\n      <td>6</td>\n      <td>1</td>\n      <td>0</td>\n      <td>1</td>\n      <td>5</td>\n      <td>...</td>\n      <td>2</td>\n      <td>7</td>\n      <td>7</td>\n      <td>0</td>\n      <td>2</td>\n      <td>1</td>\n      <td>4</td>\n      <td>2</td>\n      <td>3</td>\n      <td>5</td>\n    </tr>\n    <tr>\n      <th>3</th>\n      <td>0</td>\n      <td>5</td>\n      <td>2</td>\n      <td>3</td>\n      <td>0</td>\n      <td>5</td>\n      <td>1</td>\n      <td>1</td>\n      <td>0</td>\n      <td>4</td>\n      <td>...</td>\n      <td>2</td>\n      <td>7</td>\n      <td>7</td>\n      <td>0</td>\n      <td>2</td>\n      <td>1</td>\n      <td>0</td>\n      <td>3</td>\n      <td>0</td>\n      <td>1</td>\n    </tr>\n    <tr>\n      <th>4</th>\n      <td>0</td>\n      <td>5</td>\n      <td>3</td>\n      <td>9</td>\n      <td>1</td>\n      <td>0</td>\n      <td>1</td>\n      <td>0</td>\n      <td>0</td>\n      <td>5</td>\n      <td>...</td>\n      <td>2</td>\n      <td>7</td>\n      <td>7</td>\n      <td>0</td>\n      <td>2</td>\n      <td>1</td>\n      <td>4</td>\n      <td>2</td>\n      <td>2</td>\n      <td>1</td>\n    </tr>\n    <tr>\n      <th>...</th>\n      <td>...</td>\n      <td>...</td>\n      <td>...</td>\n      <td>...</td>\n      <td>...</td>\n      <td>...</td>\n      <td>...</td>\n      <td>...</td>\n      <td>...</td>\n      <td>...</td>\n      <td>...</td>\n      <td>...</td>\n      <td>...</td>\n      <td>...</td>\n      <td>...</td>\n      <td>...</td>\n      <td>...</td>\n      <td>...</td>\n      <td>...</td>\n      <td>...</td>\n      <td>...</td>\n    </tr>\n    <tr>\n      <th>8118</th>\n      <td>0</td>\n      <td>3</td>\n      <td>2</td>\n      <td>4</td>\n      <td>0</td>\n      <td>5</td>\n      <td>0</td>\n      <td>0</td>\n      <td>0</td>\n      <td>11</td>\n      <td>...</td>\n      <td>2</td>\n      <td>5</td>\n      <td>5</td>\n      <td>0</td>\n      <td>1</td>\n      <td>1</td>\n      <td>4</td>\n      <td>0</td>\n      <td>1</td>\n      <td>2</td>\n    </tr>\n    <tr>\n      <th>8119</th>\n      <td>0</td>\n      <td>5</td>\n      <td>2</td>\n      <td>4</td>\n      <td>0</td>\n      <td>5</td>\n      <td>0</td>\n      <td>0</td>\n      <td>0</td>\n      <td>11</td>\n      <td>...</td>\n      <td>2</td>\n      <td>5</td>\n      <td>5</td>\n      <td>0</td>\n      <td>0</td>\n      <td>1</td>\n      <td>4</td>\n      <td>0</td>\n      <td>4</td>\n      <td>2</td>\n    </tr>\n    <tr>\n      <th>8120</th>\n      <td>0</td>\n      <td>2</td>\n      <td>2</td>\n      <td>4</td>\n      <td>0</td>\n      <td>5</td>\n      <td>0</td>\n      <td>0</td>\n      <td>0</td>\n      <td>5</td>\n      <td>...</td>\n      <td>2</td>\n      <td>5</td>\n      <td>5</td>\n      <td>0</td>\n      <td>1</td>\n      <td>1</td>\n      <td>4</td>\n      <td>0</td>\n      <td>1</td>\n      <td>2</td>\n    </tr>\n    <tr>\n      <th>8121</th>\n      <td>1</td>\n      <td>3</td>\n      <td>3</td>\n      <td>4</td>\n      <td>0</td>\n      <td>8</td>\n      <td>1</td>\n      <td>0</td>\n      <td>1</td>\n      <td>0</td>\n      <td>...</td>\n      <td>1</td>\n      <td>7</td>\n      <td>7</td>\n      <td>0</td>\n      <td>2</td>\n      <td>1</td>\n      <td>0</td>\n      <td>7</td>\n      <td>4</td>\n      <td>2</td>\n    </tr>\n    <tr>\n      <th>8122</th>\n      <td>0</td>\n      <td>5</td>\n      <td>2</td>\n      <td>4</td>\n      <td>0</td>\n      <td>5</td>\n      <td>0</td>\n      <td>0</td>\n      <td>0</td>\n      <td>11</td>\n      <td>...</td>\n      <td>2</td>\n      <td>5</td>\n      <td>5</td>\n      <td>0</td>\n      <td>1</td>\n      <td>1</td>\n      <td>4</td>\n      <td>4</td>\n      <td>1</td>\n      <td>2</td>\n    </tr>\n  </tbody>\n</table>\n<p>8123 rows × 23 columns</p>\n</div>"
     },
     "execution_count": 68,
     "metadata": {},
     "output_type": "execute_result"
    }
   ],
   "source": [
    "le = LabelEncoder()\n",
    "for col in df.columns:\n",
    "    df[col] = le.fit_transform(df[col])\n",
    "df"
   ]
  },
  {
   "cell_type": "markdown",
   "metadata": {
    "id": "PLrsJE6sRQcF",
    "pycharm": {
     "name": "#%% md\n"
    }
   },
   "source": [
    "4) Crie um DataFrame `X` com todas as features. Lembrando que o target é o atributo Class."
   ]
  },
  {
   "cell_type": "code",
   "execution_count": 69,
   "metadata": {
    "id": "JSUESbK_0A2g",
    "pycharm": {
     "name": "#%%\n"
    }
   },
   "outputs": [
    {
     "data": {
      "text/plain": "      cap.shape  cap.surface  cap.color  bruises  odor  gill.attachment  \\\n0             5            2          9        1     0                1   \n1             0            2          8        1     3                1   \n2             5            3          8        1     6                1   \n3             5            2          3        0     5                1   \n4             5            3          9        1     0                1   \n...         ...          ...        ...      ...   ...              ...   \n8118          3            2          4        0     5                0   \n8119          5            2          4        0     5                0   \n8120          2            2          4        0     5                0   \n8121          3            3          4        0     8                1   \n8122          5            2          4        0     5                0   \n\n      gill.spacing  gill.size  gill.color  stalk.shape  ...  \\\n0                0          0           4            0  ...   \n1                0          0           5            0  ...   \n2                0          1           5            0  ...   \n3                1          0           4            1  ...   \n4                0          0           5            0  ...   \n...            ...        ...         ...          ...  ...   \n8118             0          0          11            0  ...   \n8119             0          0          11            0  ...   \n8120             0          0           5            0  ...   \n8121             0          1           0            1  ...   \n8122             0          0          11            0  ...   \n\n      stalk.surface.below.ring  stalk.color.above.ring  \\\n0                            2                       7   \n1                            2                       7   \n2                            2                       7   \n3                            2                       7   \n4                            2                       7   \n...                        ...                     ...   \n8118                         2                       5   \n8119                         2                       5   \n8120                         2                       5   \n8121                         1                       7   \n8122                         2                       5   \n\n      stalk.color.below.ring  veil.type  veil.color  ring.number  ring.type  \\\n0                          7          0           2            1          4   \n1                          7          0           2            1          4   \n2                          7          0           2            1          4   \n3                          7          0           2            1          0   \n4                          7          0           2            1          4   \n...                      ...        ...         ...          ...        ...   \n8118                       5          0           1            1          4   \n8119                       5          0           0            1          4   \n8120                       5          0           1            1          4   \n8121                       7          0           2            1          0   \n8122                       5          0           1            1          4   \n\n      print  population  habitat  \n0         3           2        1  \n1         3           2        3  \n2         2           3        5  \n3         3           0        1  \n4         2           2        1  \n...     ...         ...      ...  \n8118      0           1        2  \n8119      0           4        2  \n8120      0           1        2  \n8121      7           4        2  \n8122      4           1        2  \n\n[8123 rows x 22 columns]",
      "text/html": "<div>\n<style scoped>\n    .dataframe tbody tr th:only-of-type {\n        vertical-align: middle;\n    }\n\n    .dataframe tbody tr th {\n        vertical-align: top;\n    }\n\n    .dataframe thead th {\n        text-align: right;\n    }\n</style>\n<table border=\"1\" class=\"dataframe\">\n  <thead>\n    <tr style=\"text-align: right;\">\n      <th></th>\n      <th>cap.shape</th>\n      <th>cap.surface</th>\n      <th>cap.color</th>\n      <th>bruises</th>\n      <th>odor</th>\n      <th>gill.attachment</th>\n      <th>gill.spacing</th>\n      <th>gill.size</th>\n      <th>gill.color</th>\n      <th>stalk.shape</th>\n      <th>...</th>\n      <th>stalk.surface.below.ring</th>\n      <th>stalk.color.above.ring</th>\n      <th>stalk.color.below.ring</th>\n      <th>veil.type</th>\n      <th>veil.color</th>\n      <th>ring.number</th>\n      <th>ring.type</th>\n      <th>print</th>\n      <th>population</th>\n      <th>habitat</th>\n    </tr>\n  </thead>\n  <tbody>\n    <tr>\n      <th>0</th>\n      <td>5</td>\n      <td>2</td>\n      <td>9</td>\n      <td>1</td>\n      <td>0</td>\n      <td>1</td>\n      <td>0</td>\n      <td>0</td>\n      <td>4</td>\n      <td>0</td>\n      <td>...</td>\n      <td>2</td>\n      <td>7</td>\n      <td>7</td>\n      <td>0</td>\n      <td>2</td>\n      <td>1</td>\n      <td>4</td>\n      <td>3</td>\n      <td>2</td>\n      <td>1</td>\n    </tr>\n    <tr>\n      <th>1</th>\n      <td>0</td>\n      <td>2</td>\n      <td>8</td>\n      <td>1</td>\n      <td>3</td>\n      <td>1</td>\n      <td>0</td>\n      <td>0</td>\n      <td>5</td>\n      <td>0</td>\n      <td>...</td>\n      <td>2</td>\n      <td>7</td>\n      <td>7</td>\n      <td>0</td>\n      <td>2</td>\n      <td>1</td>\n      <td>4</td>\n      <td>3</td>\n      <td>2</td>\n      <td>3</td>\n    </tr>\n    <tr>\n      <th>2</th>\n      <td>5</td>\n      <td>3</td>\n      <td>8</td>\n      <td>1</td>\n      <td>6</td>\n      <td>1</td>\n      <td>0</td>\n      <td>1</td>\n      <td>5</td>\n      <td>0</td>\n      <td>...</td>\n      <td>2</td>\n      <td>7</td>\n      <td>7</td>\n      <td>0</td>\n      <td>2</td>\n      <td>1</td>\n      <td>4</td>\n      <td>2</td>\n      <td>3</td>\n      <td>5</td>\n    </tr>\n    <tr>\n      <th>3</th>\n      <td>5</td>\n      <td>2</td>\n      <td>3</td>\n      <td>0</td>\n      <td>5</td>\n      <td>1</td>\n      <td>1</td>\n      <td>0</td>\n      <td>4</td>\n      <td>1</td>\n      <td>...</td>\n      <td>2</td>\n      <td>7</td>\n      <td>7</td>\n      <td>0</td>\n      <td>2</td>\n      <td>1</td>\n      <td>0</td>\n      <td>3</td>\n      <td>0</td>\n      <td>1</td>\n    </tr>\n    <tr>\n      <th>4</th>\n      <td>5</td>\n      <td>3</td>\n      <td>9</td>\n      <td>1</td>\n      <td>0</td>\n      <td>1</td>\n      <td>0</td>\n      <td>0</td>\n      <td>5</td>\n      <td>0</td>\n      <td>...</td>\n      <td>2</td>\n      <td>7</td>\n      <td>7</td>\n      <td>0</td>\n      <td>2</td>\n      <td>1</td>\n      <td>4</td>\n      <td>2</td>\n      <td>2</td>\n      <td>1</td>\n    </tr>\n    <tr>\n      <th>...</th>\n      <td>...</td>\n      <td>...</td>\n      <td>...</td>\n      <td>...</td>\n      <td>...</td>\n      <td>...</td>\n      <td>...</td>\n      <td>...</td>\n      <td>...</td>\n      <td>...</td>\n      <td>...</td>\n      <td>...</td>\n      <td>...</td>\n      <td>...</td>\n      <td>...</td>\n      <td>...</td>\n      <td>...</td>\n      <td>...</td>\n      <td>...</td>\n      <td>...</td>\n      <td>...</td>\n    </tr>\n    <tr>\n      <th>8118</th>\n      <td>3</td>\n      <td>2</td>\n      <td>4</td>\n      <td>0</td>\n      <td>5</td>\n      <td>0</td>\n      <td>0</td>\n      <td>0</td>\n      <td>11</td>\n      <td>0</td>\n      <td>...</td>\n      <td>2</td>\n      <td>5</td>\n      <td>5</td>\n      <td>0</td>\n      <td>1</td>\n      <td>1</td>\n      <td>4</td>\n      <td>0</td>\n      <td>1</td>\n      <td>2</td>\n    </tr>\n    <tr>\n      <th>8119</th>\n      <td>5</td>\n      <td>2</td>\n      <td>4</td>\n      <td>0</td>\n      <td>5</td>\n      <td>0</td>\n      <td>0</td>\n      <td>0</td>\n      <td>11</td>\n      <td>0</td>\n      <td>...</td>\n      <td>2</td>\n      <td>5</td>\n      <td>5</td>\n      <td>0</td>\n      <td>0</td>\n      <td>1</td>\n      <td>4</td>\n      <td>0</td>\n      <td>4</td>\n      <td>2</td>\n    </tr>\n    <tr>\n      <th>8120</th>\n      <td>2</td>\n      <td>2</td>\n      <td>4</td>\n      <td>0</td>\n      <td>5</td>\n      <td>0</td>\n      <td>0</td>\n      <td>0</td>\n      <td>5</td>\n      <td>0</td>\n      <td>...</td>\n      <td>2</td>\n      <td>5</td>\n      <td>5</td>\n      <td>0</td>\n      <td>1</td>\n      <td>1</td>\n      <td>4</td>\n      <td>0</td>\n      <td>1</td>\n      <td>2</td>\n    </tr>\n    <tr>\n      <th>8121</th>\n      <td>3</td>\n      <td>3</td>\n      <td>4</td>\n      <td>0</td>\n      <td>8</td>\n      <td>1</td>\n      <td>0</td>\n      <td>1</td>\n      <td>0</td>\n      <td>1</td>\n      <td>...</td>\n      <td>1</td>\n      <td>7</td>\n      <td>7</td>\n      <td>0</td>\n      <td>2</td>\n      <td>1</td>\n      <td>0</td>\n      <td>7</td>\n      <td>4</td>\n      <td>2</td>\n    </tr>\n    <tr>\n      <th>8122</th>\n      <td>5</td>\n      <td>2</td>\n      <td>4</td>\n      <td>0</td>\n      <td>5</td>\n      <td>0</td>\n      <td>0</td>\n      <td>0</td>\n      <td>11</td>\n      <td>0</td>\n      <td>...</td>\n      <td>2</td>\n      <td>5</td>\n      <td>5</td>\n      <td>0</td>\n      <td>1</td>\n      <td>1</td>\n      <td>4</td>\n      <td>4</td>\n      <td>1</td>\n      <td>2</td>\n    </tr>\n  </tbody>\n</table>\n<p>8123 rows × 22 columns</p>\n</div>"
     },
     "execution_count": 69,
     "metadata": {},
     "output_type": "execute_result"
    }
   ],
   "source": [
    "features = df.drop('Class', axis=1)\n",
    "features"
   ]
  },
  {
   "cell_type": "markdown",
   "metadata": {
    "id": "3LASPCqcRpuB",
    "pycharm": {
     "name": "#%% md\n"
    }
   },
   "source": [
    "5) Segmente o Dataframe para a representação do Target (Class)"
   ]
  },
  {
   "cell_type": "code",
   "execution_count": 70,
   "metadata": {
    "id": "s6Qfntw3gr8o",
    "pycharm": {
     "name": "#%%\n"
    }
   },
   "outputs": [
    {
     "data": {
      "text/plain": "0       0\n1       0\n2       1\n3       0\n4       0\n       ..\n8118    0\n8119    0\n8120    0\n8121    1\n8122    0\nName: Class, Length: 8123, dtype: int64"
     },
     "execution_count": 70,
     "metadata": {},
     "output_type": "execute_result"
    }
   ],
   "source": [
    "target = df['Class']\n",
    "target"
   ]
  },
  {
   "cell_type": "markdown",
   "metadata": {
    "id": "ZrPAWB1KRz-d",
    "pycharm": {
     "name": "#%% md\n"
    }
   },
   "source": [
    "6) Crie o modelo de árvore de decisão com o critério de entropia"
   ]
  },
  {
   "cell_type": "code",
   "execution_count": 71,
   "metadata": {
    "id": "rVepGQ4eg3XX",
    "pycharm": {
     "name": "#%%\n"
    }
   },
   "outputs": [],
   "source": [
    "model = DecisionTreeClassifier(criterion='entropy')"
   ]
  },
  {
   "cell_type": "markdown",
   "metadata": {
    "id": "4cjaLgj1SC89",
    "pycharm": {
     "name": "#%% md\n"
    }
   },
   "source": [
    "7) Treine o modelo para a totalidade dos dados"
   ]
  },
  {
   "cell_type": "code",
   "execution_count": 72,
   "metadata": {
    "colab": {
     "base_uri": "https://localhost:8080/"
    },
    "id": "e07i6TPXg-vo",
    "outputId": "e6c9a512-f28a-4b2d-de1a-a88e8b181cf8",
    "pycharm": {
     "name": "#%%\n"
    }
   },
   "outputs": [
    {
     "data": {
      "text/plain": "DecisionTreeClassifier(criterion='entropy')"
     },
     "execution_count": 72,
     "metadata": {},
     "output_type": "execute_result"
    }
   ],
   "source": [
    "model.fit(features, target)"
   ]
  },
  {
   "cell_type": "markdown",
   "metadata": {
    "id": "Z37t1733SIDm",
    "pycharm": {
     "name": "#%% md\n"
    }
   },
   "source": [
    "8) Imprima o nome da feature e sua respectiva importância em ordem decrescente de importância."
   ]
  },
  {
   "cell_type": "code",
   "execution_count": 73,
   "metadata": {
    "colab": {
     "base_uri": "https://localhost:8080/"
    },
    "id": "7UQ4jyPxAzpw",
    "outputId": "62cbcf2d-344d-4925-f9fd-9d439f6d21ea",
    "pycharm": {
     "name": "#%%\n"
    }
   },
   "outputs": [
    {
     "data": {
      "text/plain": "                     feature  importance\n19                     print    0.379500\n8                 gill.color    0.269746\n7                  gill.size    0.149764\n10                stalk.root    0.101334\n3                    bruises    0.027194\n21                   habitat    0.027016\n4                       odor    0.023392\n20                population    0.016879\n11  stalk.surface.above.ring    0.005175\n9                stalk.shape    0.000000\n6               gill.spacing    0.000000\n1                cap.surface    0.000000\n12  stalk.surface.below.ring    0.000000\n13    stalk.color.above.ring    0.000000\n14    stalk.color.below.ring    0.000000\n15                 veil.type    0.000000\n16                veil.color    0.000000\n17               ring.number    0.000000\n18                 ring.type    0.000000\n5            gill.attachment    0.000000\n2                  cap.color    0.000000\n0                  cap.shape    0.000000",
      "text/html": "<div>\n<style scoped>\n    .dataframe tbody tr th:only-of-type {\n        vertical-align: middle;\n    }\n\n    .dataframe tbody tr th {\n        vertical-align: top;\n    }\n\n    .dataframe thead th {\n        text-align: right;\n    }\n</style>\n<table border=\"1\" class=\"dataframe\">\n  <thead>\n    <tr style=\"text-align: right;\">\n      <th></th>\n      <th>feature</th>\n      <th>importance</th>\n    </tr>\n  </thead>\n  <tbody>\n    <tr>\n      <th>19</th>\n      <td>print</td>\n      <td>0.379500</td>\n    </tr>\n    <tr>\n      <th>8</th>\n      <td>gill.color</td>\n      <td>0.269746</td>\n    </tr>\n    <tr>\n      <th>7</th>\n      <td>gill.size</td>\n      <td>0.149764</td>\n    </tr>\n    <tr>\n      <th>10</th>\n      <td>stalk.root</td>\n      <td>0.101334</td>\n    </tr>\n    <tr>\n      <th>3</th>\n      <td>bruises</td>\n      <td>0.027194</td>\n    </tr>\n    <tr>\n      <th>21</th>\n      <td>habitat</td>\n      <td>0.027016</td>\n    </tr>\n    <tr>\n      <th>4</th>\n      <td>odor</td>\n      <td>0.023392</td>\n    </tr>\n    <tr>\n      <th>20</th>\n      <td>population</td>\n      <td>0.016879</td>\n    </tr>\n    <tr>\n      <th>11</th>\n      <td>stalk.surface.above.ring</td>\n      <td>0.005175</td>\n    </tr>\n    <tr>\n      <th>9</th>\n      <td>stalk.shape</td>\n      <td>0.000000</td>\n    </tr>\n    <tr>\n      <th>6</th>\n      <td>gill.spacing</td>\n      <td>0.000000</td>\n    </tr>\n    <tr>\n      <th>1</th>\n      <td>cap.surface</td>\n      <td>0.000000</td>\n    </tr>\n    <tr>\n      <th>12</th>\n      <td>stalk.surface.below.ring</td>\n      <td>0.000000</td>\n    </tr>\n    <tr>\n      <th>13</th>\n      <td>stalk.color.above.ring</td>\n      <td>0.000000</td>\n    </tr>\n    <tr>\n      <th>14</th>\n      <td>stalk.color.below.ring</td>\n      <td>0.000000</td>\n    </tr>\n    <tr>\n      <th>15</th>\n      <td>veil.type</td>\n      <td>0.000000</td>\n    </tr>\n    <tr>\n      <th>16</th>\n      <td>veil.color</td>\n      <td>0.000000</td>\n    </tr>\n    <tr>\n      <th>17</th>\n      <td>ring.number</td>\n      <td>0.000000</td>\n    </tr>\n    <tr>\n      <th>18</th>\n      <td>ring.type</td>\n      <td>0.000000</td>\n    </tr>\n    <tr>\n      <th>5</th>\n      <td>gill.attachment</td>\n      <td>0.000000</td>\n    </tr>\n    <tr>\n      <th>2</th>\n      <td>cap.color</td>\n      <td>0.000000</td>\n    </tr>\n    <tr>\n      <th>0</th>\n      <td>cap.shape</td>\n      <td>0.000000</td>\n    </tr>\n  </tbody>\n</table>\n</div>"
     },
     "execution_count": 73,
     "metadata": {},
     "output_type": "execute_result"
    }
   ],
   "source": [
    "feature_importances_df = pd.DataFrame({'feature': features.columns, 'importance': model.feature_importances_})\n",
    "feature_importances_df.sort_values(by='importance', ascending=False)"
   ]
  },
  {
   "cell_type": "markdown",
   "metadata": {
    "id": "kCRqRAjGStnd",
    "pycharm": {
     "name": "#%% md\n"
    }
   },
   "source": [
    "9) Use a função `train_test_split` para separar parte dos dados para treinamento e outra para validação. Use 70% para treino e 30% dos dados para teste."
   ]
  },
  {
   "cell_type": "code",
   "execution_count": 74,
   "metadata": {
    "id": "YfcA_MaINm2X",
    "pycharm": {
     "name": "#%%\n"
    }
   },
   "outputs": [],
   "source": [
    "features_train, features_test, target_train, target_test = train_test_split(features, target, test_size=0.3, random_state=0)"
   ]
  },
  {
   "cell_type": "markdown",
   "metadata": {
    "id": "yf-EcdBATFJH",
    "pycharm": {
     "name": "#%% md\n"
    }
   },
   "source": [
    "10) Crie o classificador e calcule o percentual de acertos do modelo."
   ]
  },
  {
   "cell_type": "code",
   "execution_count": 75,
   "metadata": {
    "id": "dCNOX-AcKJGk",
    "pycharm": {
     "name": "#%%\n"
    }
   },
   "outputs": [
    {
     "name": "stdout",
     "output_type": "stream",
     "text": [
      "Accuracy: 1.0\n",
      "Precision: 1.0\n",
      "Recall: 1.0\n",
      "F1: 1.0\n"
     ]
    },
    {
     "data": {
      "text/plain": "<Figure size 432x288 with 2 Axes>",
      "image/png": "[encoded data removed]"
     },
     "metadata": {
      "needs_background": "light"
     },
     "output_type": "display_data"
    }
   ],
   "source": [
    "model = DecisionTreeClassifier(criterion='entropy')\n",
    "model.fit(features_train, target_train)\n",
    "evaluate_classifier(model, features_test, target_test)"
   ]
  },
  {
   "cell_type": "markdown",
   "metadata": {
    "pycharm": {
     "name": "#%% md\n"
    }
   },
   "source": [
    "**Leia com atenção o seguinte material sobre Random Forests e faça a seguir o que se pede.**"
   ]
  },
  {
   "cell_type": "markdown",
   "metadata": {
    "pycharm": {
     "name": "#%% md\n"
    }
   },
   "source": [
    "---"
   ]
  },
  {
   "cell_type": "markdown",
   "metadata": {
    "pycharm": {
     "name": "#%% md\n"
    }
   },
   "source": [
    "### Random Forests \n",
    "\n",
    "As Árvores de Decisão são muito interessantes porque pode-se seguir a estrutura criada para entender como a classe foi inferida. No entanto, esse tipo de modelo tem seus próprios problemas. Um dos principais problemas é o que chamamos de **overfitting**. O overfitting acontece quando o processo de criação da árvore torna a árvore extremamente ramificada e complexa - isso significa que o modelo não generalizará corretamente.\n",
    "\n",
    "Isso pode significar que os pontos de dados são muito variados ou talvez haja muitos recursos a serem analisados ao mesmo tempo. No entanto, se reduzirmos o número de pontos de dados ou recursos, isso pode piorar nosso modelo. Portanto, precisaríamos de outro tipo de solução para este problema.\n",
    "\n",
    "Isso pode significar que os pontos de dados são muito variados ou talvez haja muitos recursos a serem analisados ao mesmo tempo. No entanto, se reduzirmos o número de pontos de dados ou recursos, isso pode piorar nosso modelo. Portanto, precisaríamos de outro tipo de solução para este problema."
   ]
  },
  {
   "cell_type": "markdown",
   "metadata": {
    "pycharm": {
     "name": "#%% md\n"
    }
   },
   "source": [
    "### O que são random forests\n",
    "\n",
    "* Random forests são uma das soluções propostas. Como se pode inferir de seu nome, as Random Forests são compostas por várias Árvores de Decisão. Isso os torna parte de uma família de modelos - que são compostos por outros modelos trabalhando em conjunto - chamados de **modelos de aprendizagem por conjunto**. \n",
    "* O principal conceito por trás do Random Forests é que, se você particionar os dados que seriam usados para criar uma única árvore de decisão em diferentes partes, crie uma árvore para cada uma dessas partições e, em seguida, use um método para \"calcular a média\" dos resultados de todos dessas árvores diferentes, você deve acabar com um modelo melhor. \n",
    "* No caso das árvores utilizadas para classificação, essa \"média\" é a **moda** do conjunto de árvores da floresta. Para regressão, a \"média\" é a **média** do conjunto de árvores na floresta.\n"
   ]
  },
  {
   "cell_type": "markdown",
   "metadata": {
    "pycharm": {
     "name": "#%% md\n"
    }
   },
   "source": [
    "O principal mecanismo por trás do Random Forests é o **bagging**, que é uma forma abreviada de **agregação por bootstrap**. Bagging é o conceito de amostragem aleatória de alguns dados de um conjunto de dados, mas **com substituição**. O que isso significa na prática é que há alguma quantidade de dados que serão repetidos em cada partição, e alguma quantidade de dados que não serão representados nas amostras - cerca de 63% dos exemplos únicos são mantidos - isso torna de modo que o modelo gerado para aquela bolsa seja capaz de generalizar melhor em algum grau. Cada partição de dados de nossos dados de treinamento para a Random Forest aplica este conceito."
   ]
  },
  {
   "cell_type": "markdown",
   "metadata": {
    "pycharm": {
     "name": "#%% md\n"
    }
   },
   "source": [
    "<center>\n",
    "<img src=\"https://ibm.box.com/shared/static/5m7lep2u6fzt6ors1b0kpgv0jtzh3z7z.png\" width=\"480\">\n",
    "\n",
    "*Exemplo de ensacamento. Observe como alguns pontos de dados são repetidos - isso é intencional!*\n",
    "</center>"
   ]
  },
  {
   "cell_type": "markdown",
   "metadata": {
    "pycharm": {
     "name": "#%% md\n"
    }
   },
   "source": [
    "Você pode estar se perguntando o que acontece com os dados que não estão presentes nas \"bolsas\". Esses dados, apropriadamente chamados de *Out-Of-Bag Data*, servem como uma espécie de **dados de teste para o modelo gerado** - que serve como validação de que nosso modelo funciona!\n",
    "\n",
    "Além disso, Random Forests também são criadas usando **feature bagging**, o que faz com que não haja problemas de overfitting devido a uma grande quantidade de recursos para uma pequena quantidade de dados. Por exemplo, se alguns recursos são preditores muito fortes, eles estarão presentes em uma grande quantidade de \"bolsas\" e essas bolsas se tornarão correlacionadas. No entanto, isso também faz com que a própria Random Forest não se concentre apenas no que prediz fortemente os dados que foram alimentados, tornando o modelo mais generalizado. Tradicionalmente, um conjunto de dados com um número $f$ de recursos terá $\\left\\lceil{\\sqrt[2]{f}}\\ \\right\\rceil$ recursos em cada partição."
   ]
  },
  {
   "cell_type": "markdown",
   "metadata": {
    "pycharm": {
     "name": "#%% md\n"
    }
   },
   "source": [
    "<center>\n",
    "<img src=\"https://ibm.box.com/shared/static/a4b0d3eg7vtuh8wipj9eo4bat9szow67.png\" width=\"720\">\n",
    "\n",
    "*Exemplo de uma Random forest. Não se esqueça de que os sacos podem ter pontos de dados repetidos!*\n",
    "</center>"
   ]
  },
  {
   "cell_type": "markdown",
   "metadata": {
    "pycharm": {
     "name": "#%% md\n"
    }
   },
   "source": [
    "---"
   ]
  },
  {
   "cell_type": "markdown",
   "metadata": {
    "id": "2erYOl3QTUWo",
    "pycharm": {
     "name": "#%% md\n"
    }
   },
   "source": [
    "11) Faça a mesma coisa da questão anterior usando uma Random Forest com 20 bags (`n_estimators`)\n",
    "\n",
    "Busque no sklearn a função `RandomForestClassifier` e faça o que se solicitou."
   ]
  },
  {
   "cell_type": "code",
   "execution_count": 76,
   "metadata": {
    "id": "JfyooFdAOl0g",
    "pycharm": {
     "name": "#%%\n"
    }
   },
   "outputs": [
    {
     "name": "stdout",
     "output_type": "stream",
     "text": [
      "Accuracy: 1.0\n",
      "Precision: 1.0\n",
      "Recall: 1.0\n",
      "F1: 1.0\n"
     ]
    },
    {
     "data": {
      "text/plain": "<Figure size 432x288 with 2 Axes>",
      "image/png": "[encoded data removed]"
     },
     "metadata": {
      "needs_background": "light"
     },
     "output_type": "display_data"
    }
   ],
   "source": [
    "from sklearn.ensemble import RandomForestClassifier\n",
    "\n",
    "model = RandomForestClassifier(n_estimators=20)\n",
    "model.fit(features_train, target_train)\n",
    "evaluate_classifier(model, features_test, target_test)"
   ]
  }
 ],
 "metadata": {
  "colab": {
   "collapsed_sections": [],
   "provenance": []
  },
  "kernelspec": {
   "display_name": "Python 3 (ipykernel)",
   "language": "python",
   "name": "python3"
  },
  "language_info": {
   "codemirror_mode": {
    "name": "ipython",
    "version": 3
   },
   "file_extension": ".py",
   "mimetype": "text/x-python",
   "name": "python",
   "nbconvert_exporter": "python",
   "pygments_lexer": "ipython3",
   "version": "3.9.13"
  },
  "vscode": {
   "interpreter": {
    "hash": "19f8edf9f3d47184070387e5526ef4245906fb1893b7f74c12e591a863440618"
   }
  }
 },
 "nbformat": 4,
 "nbformat_minor": 1
}