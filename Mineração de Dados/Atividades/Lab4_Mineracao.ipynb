{
 "cells": [
  {
   "cell_type": "markdown",
   "metadata": {
    "id": "MJL7PlSCwyKs",
    "pycharm": {
     "name": "#%% md\n"
    }
   },
   "source": [
    "Pontifícia Universidade Católica de São Paulo \n",
    "\n",
    "`Ciência de Dados e Inteligência Artificial`\n",
    "\n",
    "🎓 Laboratório 4 - Árvore de decisão\n",
    "\n",
    "---\n",
    "> 👨‍🏫*Professor Dr. Rooney Coelho (rracoelho@pucsp.br)*\n",
    "---"
   ]
  },
  {
   "cell_type": "markdown",
   "metadata": {
    "id": "FG69xeBGnLAS",
    "pycharm": {
     "name": "#%% md\n"
    }
   },
   "source": [
    "### Sobre o exercício\n",
    "Neste exercício de laboratório, você aprenderá um algoritmo popular de aprendizado de máquina, a árvore de decisão. \n",
    "\n",
    "Você usará este algoritmo de classificação para construir um modelo a partir de dados históricos de pacientes e sua resposta a diferentes medicamentos. \n",
    "\n",
    "Em seguida, você usa a árvore de decisão treinada para prever a classe de um paciente desconhecido ou para encontrar um medicamento adequado para um novo paciente.\n",
    "\n",
    "### Sobre o Dataset\n",
    "Imagine que você seja um pesquisador médico compilando dados para um estudo. Você coletou dados sobre um conjunto de pacientes, todos com a mesma doença. Durante o curso do tratamento, cada paciente respondeu a um dos 5 medicamentos, medicamento A, medicamento B, medicamento c, medicamento X e Y.\n",
    "\n",
    "Parte do seu trabalho é construir um modelo para descobrir qual medicamento pode ser apropriado para um futuro paciente com a mesma doença. Os conjuntos de recursos desse conjunto de dados são idade, sexo, pressão arterial e colesterol dos pacientes, e o alvo é o medicamento ao qual cada paciente respondeu.\n",
    "\n",
    "É um exemplo de classificador binário e você pode usá-lo para construir uma árvore de decisão e, em seguida, usá-la para prever a classe de um paciente desconhecido ou prescrevê-la para um novo paciente."
   ]
  },
  {
   "cell_type": "markdown",
   "metadata": {
    "id": "oonYnfFWnz4G",
    "pycharm": {
     "name": "#%% md\n"
    }
   },
   "source": [
    "## Importação dos dados"
   ]
  },
  {
   "cell_type": "code",
   "execution_count": 1,
   "metadata": {
    "id": "dp_ixU88awxR",
    "pycharm": {
     "name": "#%%\n"
    }
   },
   "outputs": [],
   "source": [
    "from sklearn.tree import DecisionTreeClassifier\n",
    "from sklearn import tree\n",
    "import pandas as pd\n",
    "\n",
    "import matplotlib.pyplot as plt\n",
    "import numpy as np"
   ]
  },
  {
   "cell_type": "markdown",
   "metadata": {
    "id": "gcHmkRewn37v",
    "pycharm": {
     "name": "#%% md\n"
    }
   },
   "source": [
    "1) Importe o dataset usando o pandas:"
   ]
  },
  {
   "cell_type": "code",
   "execution_count": 2,
   "metadata": {
    "pycharm": {
     "name": "#%%\n"
    }
   },
   "outputs": [
    {
     "data": {
      "text/plain": "     Age Sex      BP Cholesterol  Na_to_K   Drug\n0     23   F    HIGH        HIGH   25.355  drugY\n1     47   M     LOW        HIGH   13.093  drugC\n2     47   M     LOW        HIGH   10.114  drugC\n3     28   F  NORMAL        HIGH    7.798  drugX\n4     61   F     LOW        HIGH   18.043  drugY\n..   ...  ..     ...         ...      ...    ...\n195   56   F     LOW        HIGH   11.567  drugC\n196   16   M     LOW        HIGH   12.006  drugC\n197   52   M  NORMAL        HIGH    9.894  drugX\n198   23   M  NORMAL      NORMAL   14.020  drugX\n199   40   F     LOW      NORMAL   11.349  drugX\n\n[200 rows x 6 columns]",
      "text/html": "<div>\n<style scoped>\n    .dataframe tbody tr th:only-of-type {\n        vertical-align: middle;\n    }\n\n    .dataframe tbody tr th {\n        vertical-align: top;\n    }\n\n    .dataframe thead th {\n        text-align: right;\n    }\n</style>\n<table border=\"1\" class=\"dataframe\">\n  <thead>\n    <tr style=\"text-align: right;\">\n      <th></th>\n      <th>Age</th>\n      <th>Sex</th>\n      <th>BP</th>\n      <th>Cholesterol</th>\n      <th>Na_to_K</th>\n      <th>Drug</th>\n    </tr>\n  </thead>\n  <tbody>\n    <tr>\n      <th>0</th>\n      <td>23</td>\n      <td>F</td>\n      <td>HIGH</td>\n      <td>HIGH</td>\n      <td>25.355</td>\n      <td>drugY</td>\n    </tr>\n    <tr>\n      <th>1</th>\n      <td>47</td>\n      <td>M</td>\n      <td>LOW</td>\n      <td>HIGH</td>\n      <td>13.093</td>\n      <td>drugC</td>\n    </tr>\n    <tr>\n      <th>2</th>\n      <td>47</td>\n      <td>M</td>\n      <td>LOW</td>\n      <td>HIGH</td>\n      <td>10.114</td>\n      <td>drugC</td>\n    </tr>\n    <tr>\n      <th>3</th>\n      <td>28</td>\n      <td>F</td>\n      <td>NORMAL</td>\n      <td>HIGH</td>\n      <td>7.798</td>\n      <td>drugX</td>\n    </tr>\n    <tr>\n      <th>4</th>\n      <td>61</td>\n      <td>F</td>\n      <td>LOW</td>\n      <td>HIGH</td>\n      <td>18.043</td>\n      <td>drugY</td>\n    </tr>\n    <tr>\n      <th>...</th>\n      <td>...</td>\n      <td>...</td>\n      <td>...</td>\n      <td>...</td>\n      <td>...</td>\n      <td>...</td>\n    </tr>\n    <tr>\n      <th>195</th>\n      <td>56</td>\n      <td>F</td>\n      <td>LOW</td>\n      <td>HIGH</td>\n      <td>11.567</td>\n      <td>drugC</td>\n    </tr>\n    <tr>\n      <th>196</th>\n      <td>16</td>\n      <td>M</td>\n      <td>LOW</td>\n      <td>HIGH</td>\n      <td>12.006</td>\n      <td>drugC</td>\n    </tr>\n    <tr>\n      <th>197</th>\n      <td>52</td>\n      <td>M</td>\n      <td>NORMAL</td>\n      <td>HIGH</td>\n      <td>9.894</td>\n      <td>drugX</td>\n    </tr>\n    <tr>\n      <th>198</th>\n      <td>23</td>\n      <td>M</td>\n      <td>NORMAL</td>\n      <td>NORMAL</td>\n      <td>14.020</td>\n      <td>drugX</td>\n    </tr>\n    <tr>\n      <th>199</th>\n      <td>40</td>\n      <td>F</td>\n      <td>LOW</td>\n      <td>NORMAL</td>\n      <td>11.349</td>\n      <td>drugX</td>\n    </tr>\n  </tbody>\n</table>\n<p>200 rows × 6 columns</p>\n</div>"
     },
     "execution_count": 2,
     "metadata": {},
     "output_type": "execute_result"
    }
   ],
   "source": [
    "url = 'https://s3-api.us-geo.objectstorage.softlayer.net/cf-courses-data/CognitiveClass/ML0101ENv3/labs/drug200.csv'\n",
    "df = pd.read_csv(url)\n",
    "df"
   ]
  },
  {
   "cell_type": "markdown",
   "metadata": {
    "id": "5LtLVJbLoR6w",
    "pycharm": {
     "name": "#%% md\n"
    }
   },
   "source": [
    "Confira se a importação foi bem sucedida ao executar o método `head()`. "
   ]
  },
  {
   "cell_type": "code",
   "execution_count": 4,
   "metadata": {
    "colab": {
     "base_uri": "https://localhost:8080/",
     "height": 204
    },
    "id": "FZN6MgD8oalG",
    "outputId": "891f2f79-ee58-4672-f882-3ae20ca66007",
    "pycharm": {
     "name": "#%%\n"
    }
   },
   "outputs": [
    {
     "data": {
      "text/plain": "   Age Sex      BP Cholesterol  Na_to_K   Drug\n0   23   F    HIGH        HIGH   25.355  drugY\n1   47   M     LOW        HIGH   13.093  drugC\n2   47   M     LOW        HIGH   10.114  drugC\n3   28   F  NORMAL        HIGH    7.798  drugX\n4   61   F     LOW        HIGH   18.043  drugY",
      "text/html": "<div>\n<style scoped>\n    .dataframe tbody tr th:only-of-type {\n        vertical-align: middle;\n    }\n\n    .dataframe tbody tr th {\n        vertical-align: top;\n    }\n\n    .dataframe thead th {\n        text-align: right;\n    }\n</style>\n<table border=\"1\" class=\"dataframe\">\n  <thead>\n    <tr style=\"text-align: right;\">\n      <th></th>\n      <th>Age</th>\n      <th>Sex</th>\n      <th>BP</th>\n      <th>Cholesterol</th>\n      <th>Na_to_K</th>\n      <th>Drug</th>\n    </tr>\n  </thead>\n  <tbody>\n    <tr>\n      <th>0</th>\n      <td>23</td>\n      <td>F</td>\n      <td>HIGH</td>\n      <td>HIGH</td>\n      <td>25.355</td>\n      <td>drugY</td>\n    </tr>\n    <tr>\n      <th>1</th>\n      <td>47</td>\n      <td>M</td>\n      <td>LOW</td>\n      <td>HIGH</td>\n      <td>13.093</td>\n      <td>drugC</td>\n    </tr>\n    <tr>\n      <th>2</th>\n      <td>47</td>\n      <td>M</td>\n      <td>LOW</td>\n      <td>HIGH</td>\n      <td>10.114</td>\n      <td>drugC</td>\n    </tr>\n    <tr>\n      <th>3</th>\n      <td>28</td>\n      <td>F</td>\n      <td>NORMAL</td>\n      <td>HIGH</td>\n      <td>7.798</td>\n      <td>drugX</td>\n    </tr>\n    <tr>\n      <th>4</th>\n      <td>61</td>\n      <td>F</td>\n      <td>LOW</td>\n      <td>HIGH</td>\n      <td>18.043</td>\n      <td>drugY</td>\n    </tr>\n  </tbody>\n</table>\n</div>"
     },
     "execution_count": 4,
     "metadata": {},
     "output_type": "execute_result"
    }
   ],
   "source": [
    "df.head()"
   ]
  },
  {
   "cell_type": "markdown",
   "metadata": {
    "id": "lcUV_g20b9bH",
    "pycharm": {
     "name": "#%% md\n"
    }
   },
   "source": [
    "## Pré-processamento\n",
    "\n",
    "Declare duas variáveis:\n",
    "* `X` para as features\n",
    "* `y` para o target (`Drug`)\n",
    "\n",
    "2) Preencha o bloco abaixo com um Dataframe para as features somente"
   ]
  },
  {
   "cell_type": "code",
   "execution_count": 35,
   "metadata": {
    "id": "U3P7NMwncACF",
    "pycharm": {
     "name": "#%%\n"
    }
   },
   "outputs": [
    {
     "data": {
      "text/plain": "     Age Sex      BP Cholesterol  Na_to_K\n0     23   F    HIGH        HIGH   25.355\n1     47   M     LOW        HIGH   13.093\n2     47   M     LOW        HIGH   10.114\n3     28   F  NORMAL        HIGH    7.798\n4     61   F     LOW        HIGH   18.043\n..   ...  ..     ...         ...      ...\n195   56   F     LOW        HIGH   11.567\n196   16   M     LOW        HIGH   12.006\n197   52   M  NORMAL        HIGH    9.894\n198   23   M  NORMAL      NORMAL   14.020\n199   40   F     LOW      NORMAL   11.349\n\n[200 rows x 5 columns]",
      "text/html": "<div>\n<style scoped>\n    .dataframe tbody tr th:only-of-type {\n        vertical-align: middle;\n    }\n\n    .dataframe tbody tr th {\n        vertical-align: top;\n    }\n\n    .dataframe thead th {\n        text-align: right;\n    }\n</style>\n<table border=\"1\" class=\"dataframe\">\n  <thead>\n    <tr style=\"text-align: right;\">\n      <th></th>\n      <th>Age</th>\n      <th>Sex</th>\n      <th>BP</th>\n      <th>Cholesterol</th>\n      <th>Na_to_K</th>\n    </tr>\n  </thead>\n  <tbody>\n    <tr>\n      <th>0</th>\n      <td>23</td>\n      <td>F</td>\n      <td>HIGH</td>\n      <td>HIGH</td>\n      <td>25.355</td>\n    </tr>\n    <tr>\n      <th>1</th>\n      <td>47</td>\n      <td>M</td>\n      <td>LOW</td>\n      <td>HIGH</td>\n      <td>13.093</td>\n    </tr>\n    <tr>\n      <th>2</th>\n      <td>47</td>\n      <td>M</td>\n      <td>LOW</td>\n      <td>HIGH</td>\n      <td>10.114</td>\n    </tr>\n    <tr>\n      <th>3</th>\n      <td>28</td>\n      <td>F</td>\n      <td>NORMAL</td>\n      <td>HIGH</td>\n      <td>7.798</td>\n    </tr>\n    <tr>\n      <th>4</th>\n      <td>61</td>\n      <td>F</td>\n      <td>LOW</td>\n      <td>HIGH</td>\n      <td>18.043</td>\n    </tr>\n    <tr>\n      <th>...</th>\n      <td>...</td>\n      <td>...</td>\n      <td>...</td>\n      <td>...</td>\n      <td>...</td>\n    </tr>\n    <tr>\n      <th>195</th>\n      <td>56</td>\n      <td>F</td>\n      <td>LOW</td>\n      <td>HIGH</td>\n      <td>11.567</td>\n    </tr>\n    <tr>\n      <th>196</th>\n      <td>16</td>\n      <td>M</td>\n      <td>LOW</td>\n      <td>HIGH</td>\n      <td>12.006</td>\n    </tr>\n    <tr>\n      <th>197</th>\n      <td>52</td>\n      <td>M</td>\n      <td>NORMAL</td>\n      <td>HIGH</td>\n      <td>9.894</td>\n    </tr>\n    <tr>\n      <th>198</th>\n      <td>23</td>\n      <td>M</td>\n      <td>NORMAL</td>\n      <td>NORMAL</td>\n      <td>14.020</td>\n    </tr>\n    <tr>\n      <th>199</th>\n      <td>40</td>\n      <td>F</td>\n      <td>LOW</td>\n      <td>NORMAL</td>\n      <td>11.349</td>\n    </tr>\n  </tbody>\n</table>\n<p>200 rows × 5 columns</p>\n</div>"
     },
     "execution_count": 35,
     "metadata": {},
     "output_type": "execute_result"
    }
   ],
   "source": [
    "x = df.drop('Drug', axis=1)\n",
    "x"
   ]
  },
  {
   "cell_type": "markdown",
   "metadata": {
    "id": "Y6t26_PSpF6b",
    "pycharm": {
     "name": "#%% md\n"
    }
   },
   "source": [
    "3) Preencha o bloco abaixo para o target. Use a estrutura Dataset do Pandas para isso"
   ]
  },
  {
   "cell_type": "code",
   "execution_count": 36,
   "metadata": {
    "id": "zHe71qhsdMhQ",
    "pycharm": {
     "name": "#%%\n"
    }
   },
   "outputs": [
    {
     "data": {
      "text/plain": "0      drugY\n1      drugC\n2      drugC\n3      drugX\n4      drugY\n       ...  \n195    drugC\n196    drugC\n197    drugX\n198    drugX\n199    drugX\nName: Drug, Length: 200, dtype: object"
     },
     "execution_count": 36,
     "metadata": {},
     "output_type": "execute_result"
    }
   ],
   "source": [
    "y = df['Drug']\n",
    "y"
   ]
  },
  {
   "cell_type": "markdown",
   "metadata": {
    "id": "7Dq0JBLgpWpf",
    "pycharm": {
     "name": "#%% md\n"
    }
   },
   "source": [
    "4) Como temos dados categóricos, é necessário que você transforme seus valores em fatores. Use o método `factorize()` do Pandas para isso. Lembre-se que isso te retornará dois argumentos.\n",
    "\n",
    "*Obs: faça uma pesquisa sobre como fatorizar todas as colunas categóricas. A intenção dessas atividades também é que você tenha facilidade em realizar esse tipo de pesquisa.*"
   ]
  },
  {
   "cell_type": "code",
   "execution_count": 37,
   "metadata": {
    "pycharm": {
     "name": "#%%\n"
    }
   },
   "outputs": [
    {
     "data": {
      "text/plain": "     Age  Sex  BP  Cholesterol  Na_to_K\n0     23    0   0            0   25.355\n1     47    1   1            0   13.093\n2     47    1   1            0   10.114\n3     28    0   2            0    7.798\n4     61    0   1            0   18.043\n..   ...  ...  ..          ...      ...\n195   56    0   1            0   11.567\n196   16    1   1            0   12.006\n197   52    1   2            0    9.894\n198   23    1   2            1   14.020\n199   40    0   1            1   11.349\n\n[200 rows x 5 columns]",
      "text/html": "<div>\n<style scoped>\n    .dataframe tbody tr th:only-of-type {\n        vertical-align: middle;\n    }\n\n    .dataframe tbody tr th {\n        vertical-align: top;\n    }\n\n    .dataframe thead th {\n        text-align: right;\n    }\n</style>\n<table border=\"1\" class=\"dataframe\">\n  <thead>\n    <tr style=\"text-align: right;\">\n      <th></th>\n      <th>Age</th>\n      <th>Sex</th>\n      <th>BP</th>\n      <th>Cholesterol</th>\n      <th>Na_to_K</th>\n    </tr>\n  </thead>\n  <tbody>\n    <tr>\n      <th>0</th>\n      <td>23</td>\n      <td>0</td>\n      <td>0</td>\n      <td>0</td>\n      <td>25.355</td>\n    </tr>\n    <tr>\n      <th>1</th>\n      <td>47</td>\n      <td>1</td>\n      <td>1</td>\n      <td>0</td>\n      <td>13.093</td>\n    </tr>\n    <tr>\n      <th>2</th>\n      <td>47</td>\n      <td>1</td>\n      <td>1</td>\n      <td>0</td>\n      <td>10.114</td>\n    </tr>\n    <tr>\n      <th>3</th>\n      <td>28</td>\n      <td>0</td>\n      <td>2</td>\n      <td>0</td>\n      <td>7.798</td>\n    </tr>\n    <tr>\n      <th>4</th>\n      <td>61</td>\n      <td>0</td>\n      <td>1</td>\n      <td>0</td>\n      <td>18.043</td>\n    </tr>\n    <tr>\n      <th>...</th>\n      <td>...</td>\n      <td>...</td>\n      <td>...</td>\n      <td>...</td>\n      <td>...</td>\n    </tr>\n    <tr>\n      <th>195</th>\n      <td>56</td>\n      <td>0</td>\n      <td>1</td>\n      <td>0</td>\n      <td>11.567</td>\n    </tr>\n    <tr>\n      <th>196</th>\n      <td>16</td>\n      <td>1</td>\n      <td>1</td>\n      <td>0</td>\n      <td>12.006</td>\n    </tr>\n    <tr>\n      <th>197</th>\n      <td>52</td>\n      <td>1</td>\n      <td>2</td>\n      <td>0</td>\n      <td>9.894</td>\n    </tr>\n    <tr>\n      <th>198</th>\n      <td>23</td>\n      <td>1</td>\n      <td>2</td>\n      <td>1</td>\n      <td>14.020</td>\n    </tr>\n    <tr>\n      <th>199</th>\n      <td>40</td>\n      <td>0</td>\n      <td>1</td>\n      <td>1</td>\n      <td>11.349</td>\n    </tr>\n  </tbody>\n</table>\n<p>200 rows × 5 columns</p>\n</div>"
     },
     "execution_count": 37,
     "metadata": {},
     "output_type": "execute_result"
    }
   ],
   "source": [
    "x.Sex, _ = pd.factorize(x.Sex)\n",
    "x.BP, _ = pd.factorize(x.BP)\n",
    "x.Cholesterol, _ = pd.factorize(x.Cholesterol)\n",
    "x"
   ]
  },
  {
   "cell_type": "markdown",
   "metadata": {
    "id": "KjCyasCYrCau",
    "pycharm": {
     "name": "#%% md\n"
    }
   },
   "source": [
    "## Criação do modelo\n",
    "\n",
    "Agora que você já converteu as features em valores numéricos (Com excessão da idade e Na_to_K), faça o que se pede.\n",
    "\n",
    "\n",
    "5) Crie um classificador árvore de decisão e use o argumento `entropy` para o parâmetro `criterion`. Use o parâmetro `max_depth` igual a 4."
   ]
  },
  {
   "cell_type": "code",
   "execution_count": 38,
   "metadata": {
    "id": "UtyYj5JTd1NK",
    "pycharm": {
     "name": "#%%\n"
    }
   },
   "outputs": [],
   "source": [
    "# Criar o modelo\n",
    "model = DecisionTreeClassifier(criterion='entropy', max_depth=4)"
   ]
  },
  {
   "cell_type": "markdown",
   "metadata": {
    "id": "ubjGVwJ2ruoj",
    "pycharm": {
     "name": "#%% md\n"
    }
   },
   "source": [
    "6) Treine sua árvore de decisão com a integralidade dos dados."
   ]
  },
  {
   "cell_type": "code",
   "execution_count": 39,
   "metadata": {
    "id": "MFPi6MUVrsbx",
    "pycharm": {
     "name": "#%%\n"
    }
   },
   "outputs": [],
   "source": [
    "# Treinar o modelo\n",
    "model.fit(x, y);"
   ]
  },
  {
   "cell_type": "markdown",
   "metadata": {
    "id": "37XeohZ7r_kO",
    "pycharm": {
     "name": "#%% md\n"
    }
   },
   "source": [
    "7) Gere um gráfico através do método `plot_tree` use nosso exemplo de sala para se basear (olhem o caderno enviado para vocês)."
   ]
  },
  {
   "cell_type": "code",
   "execution_count": 40,
   "metadata": {
    "colab": {
     "base_uri": "https://localhost:8080/",
     "height": 1000
    },
    "id": "wT29verCe8A4",
    "outputId": "59b13ffe-15d8-4b09-e466-d753aebad687",
    "pycharm": {
     "name": "#%%\n"
    }
   },
   "outputs": [
    {
     "data": {
      "text/plain": "<Figure size 432x288 with 1 Axes>",
      "image/png": "[encoded data removed]"
     },
     "metadata": {
      "needs_background": "light"
     },
     "output_type": "display_data"
    }
   ],
   "source": [
    "# Gera a figura\n",
    "tree.plot_tree(model, feature_names=x.columns, class_names=y.unique(), filled=True, rounded=True);"
   ]
  },
  {
   "cell_type": "markdown",
   "metadata": {
    "id": "KquzVGdVswH6",
    "pycharm": {
     "name": "#%% md\n"
    }
   },
   "source": [
    "8) Use a árvore de decisão para me indicar (método `predict`) qual remédio tomar:\n",
    "\n",
    "**Paciente:** \n",
    "Rooney Coelho\n",
    "* Age: 32\n",
    "* Sexo: M\n",
    "* BP: NORMAL\n",
    "* Cholesterol: NORMAL\n",
    "* Na_to_K: 12\n",
    "\n",
    "*Obs: Não me passe o medicamento errado!*"
   ]
  },
  {
   "cell_type": "code",
   "execution_count": 46,
   "metadata": {
    "colab": {
     "base_uri": "https://localhost:8080/"
    },
    "id": "NV97lHUugOfd",
    "outputId": "e0a5e925-32e4-4da8-9bfe-9305d22b62ea",
    "pycharm": {
     "name": "#%%\n"
    }
   },
   "outputs": [
    {
     "name": "stderr",
     "output_type": "stream",
     "text": [
      "/home/gustavo/lib/python3.10/site-packages/sklearn/base.py:450: UserWarning: X does not have valid feature names, but DecisionTreeClassifier was fitted with feature names\n",
      "  warnings.warn(\n"
     ]
    },
    {
     "data": {
      "text/plain": "array(['drugX'], dtype=object)"
     },
     "execution_count": 46,
     "metadata": {},
     "output_type": "execute_result"
    }
   ],
   "source": [
    "model.predict([[32, 1, 2, 1, 12]])"
   ]
  },
  {
   "cell_type": "markdown",
   "metadata": {
    "id": "JzgptOZLmg2I",
    "pycharm": {
     "name": "#%% md\n"
    }
   },
   "source": [
    "9) Qual a feature mais importante para a árvore? Eu acho que é o sexo. Estou correto? Use o método `feature_importances_` para justificar seu ponto."
   ]
  },
  {
   "cell_type": "code",
   "execution_count": 48,
   "metadata": {
    "colab": {
     "base_uri": "https://localhost:8080/"
    },
    "id": "kUkuIV2Th0SY",
    "outputId": "e6fbefdf-693b-4e2c-9162-e7fb0a7baa3d",
    "pycharm": {
     "name": "#%%\n"
    }
   },
   "outputs": [
    {
     "data": {
      "text/plain": "array([0.09673187, 0.        , 0.31217904, 0.08613222, 0.50495687])"
     },
     "execution_count": 48,
     "metadata": {},
     "output_type": "execute_result"
    }
   ],
   "source": [
    "model.feature_importances_"
   ]
  },
  {
   "cell_type": "markdown",
   "source": [
    "Aqui podemos ver que a feature com maior importancia é a de número 4 que representa o Na_to_K."
   ],
   "metadata": {
    "collapsed": false,
    "pycharm": {
     "name": "#%% md\n"
    }
   }
  },
  {
   "cell_type": "markdown",
   "metadata": {
    "id": "uteCPbcBh5_s",
    "pycharm": {
     "name": "#%% md\n"
    }
   },
   "source": [
    "## Segmentação dos dados e Validação do modelo"
   ]
  },
  {
   "cell_type": "code",
   "execution_count": 49,
   "metadata": {
    "id": "U1t8MVk6h-Tb",
    "pycharm": {
     "name": "#%%\n"
    }
   },
   "outputs": [],
   "source": [
    "from sklearn.model_selection import train_test_split"
   ]
  },
  {
   "cell_type": "markdown",
   "metadata": {
    "id": "30Zpu5tPuKFA",
    "pycharm": {
     "name": "#%% md\n"
    }
   },
   "source": [
    "10) Particione os dados em X_test e X_tran para as features e y_train e y_test para os targets. Use a proporção padrão do método `train_test_split` para isso."
   ]
  },
  {
   "cell_type": "code",
   "execution_count": 52,
   "metadata": {
    "id": "EIKwOVswh_Qm",
    "pycharm": {
     "name": "#%%\n"
    }
   },
   "outputs": [],
   "source": [
    "x_train, x_test, y_train, y_test = train_test_split(x, y, random_state=0)"
   ]
  },
  {
   "cell_type": "markdown",
   "metadata": {
    "id": "H3mmdD4lud3Q",
    "pycharm": {
     "name": "#%% md\n"
    }
   },
   "source": [
    "11) Confira se a quantidade de linhas dos dados para teste e validação são iguais à dos dados antes da particão."
   ]
  },
  {
   "cell_type": "code",
   "execution_count": 55,
   "metadata": {
    "colab": {
     "base_uri": "https://localhost:8080/"
    },
    "id": "PayPKr6MiRCx",
    "outputId": "a65caf85-76b7-468a-e6ec-5d1a27aeb67d",
    "pycharm": {
     "name": "#%%\n"
    }
   },
   "outputs": [
    {
     "data": {
      "text/plain": "((150, 5), (50, 5))"
     },
     "execution_count": 55,
     "metadata": {},
     "output_type": "execute_result"
    }
   ],
   "source": [
    "x_train.shape, x_test.shape"
   ]
  },
  {
   "cell_type": "markdown",
   "metadata": {
    "id": "STR9saU_vM06",
    "pycharm": {
     "name": "#%% md\n"
    }
   },
   "source": [
    "12) Treine o modelo com a partição referente ao treino das features e do target."
   ]
  },
  {
   "cell_type": "code",
   "execution_count": 59,
   "metadata": {
    "id": "LEGNIcZZiCeV",
    "pycharm": {
     "name": "#%%\n"
    }
   },
   "outputs": [],
   "source": [
    "# Treinar o modelo\n",
    "model = DecisionTreeClassifier(criterion='entropy', max_depth=4)\n",
    "model.fit(x_train, y_train);"
   ]
  },
  {
   "cell_type": "markdown",
   "metadata": {
    "id": "rBsfuUZXvh7v",
    "pycharm": {
     "name": "#%% md\n"
    }
   },
   "source": [
    "13) Qual é o percentual de acertos do modelo? Utilize a partição dedicada à testes para isso (é perto de 100%)"
   ]
  },
  {
   "cell_type": "code",
   "execution_count": 60,
   "metadata": {
    "colab": {
     "base_uri": "https://localhost:8080/"
    },
    "id": "hcv2hoiwiGXg",
    "outputId": "00d41439-1c2c-41e2-d334-1574cc36ccb4",
    "pycharm": {
     "name": "#%%\n"
    }
   },
   "outputs": [
    {
     "data": {
      "text/plain": "1.0"
     },
     "execution_count": 60,
     "metadata": {},
     "output_type": "execute_result"
    }
   ],
   "source": [
    "# Percentual de acertos\n",
    "model.score(x_test, y_test)"
   ]
  },
  {
   "cell_type": "markdown",
   "metadata": {
    "id": "wYKqpiY4v5Uo",
    "pycharm": {
     "name": "#%% md\n"
    }
   },
   "source": [
    "14) Gere a matriz de confusão para mostrar as classificações incorretas. Use a forma de texto ou gere um gráfico para isso."
   ]
  },
  {
   "cell_type": "code",
   "execution_count": 61,
   "metadata": {
    "colab": {
     "base_uri": "https://localhost:8080/",
     "height": 300
    },
    "id": "eklFAVrSke9r",
    "outputId": "33ab46e4-41ff-44e1-dcc7-35c49cad9d90",
    "pycharm": {
     "name": "#%%\n"
    }
   },
   "outputs": [
    {
     "name": "stderr",
     "output_type": "stream",
     "text": [
      "/home/gustavo/lib/python3.10/site-packages/sklearn/utils/deprecation.py:87: FutureWarning: Function plot_confusion_matrix is deprecated; Function `plot_confusion_matrix` is deprecated in 1.0 and will be removed in 1.2. Use one of the class methods: ConfusionMatrixDisplay.from_predictions or ConfusionMatrixDisplay.from_estimator.\n",
      "  warnings.warn(msg, category=FutureWarning)\n"
     ]
    },
    {
     "data": {
      "text/plain": "<Figure size 432x288 with 2 Axes>",
      "image/png": "[encoded data removed]"
     },
     "metadata": {
      "needs_background": "light"
     },
     "output_type": "display_data"
    }
   ],
   "source": [
    "from sklearn.metrics import plot_confusion_matrix\n",
    "plot_confusion_matrix(model, x_test, y_test, display_labels=y.unique(), cmap=plt.cm.Blues, normalize='true');\n"
   ]
  },
  {
   "cell_type": "markdown",
   "metadata": {
    "id": "EG6kDXXKxUD9",
    "pycharm": {
     "name": "#%% md\n"
    }
   },
   "source": [
    "**Dica:** Use os dados segmentados para validar o modelo. Depois de confirmar que o modelo atende as espectativas, use a totalidade dos dados para o treinamento. Assim um novo dado a ser checadovai contemplar um modelo treinado com a integralidade dos dados."
   ]
  }
 ],
 "metadata": {
  "colab": {
   "collapsed_sections": [],
   "name": "Enzo Lab4.ipynb",
   "provenance": []
  },
  "kernelspec": {
   "display_name": "Python 3.10.6 64-bit (windows store)",
   "language": "python",
   "name": "python3"
  },
  "language_info": {
   "codemirror_mode": {
    "name": "ipython",
    "version": 3
   },
   "file_extension": ".py",
   "mimetype": "text/x-python",
   "name": "python",
   "nbconvert_exporter": "python",
   "pygments_lexer": "ipython3",
   "version": "3.10.6"
  },
  "vscode": {
   "interpreter": {
    "hash": "19f8edf9f3d47184070387e5526ef4245906fb1893b7f74c12e591a863440618"
   }
  }
 },
 "nbformat": 4,
 "nbformat_minor": 0
}