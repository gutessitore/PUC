{
 "cells": [
  {
   "cell_type": "markdown",
   "metadata": {
    "id": "iJNL1gCnyq0f",
    "pycharm": {
     "name": "#%% md\n"
    }
   },
   "source": [
    "Pontifícia Universidade Católica de São Paulo \n",
    "\n",
    "`Ciência de Dados e Inteligência Artificial`\n",
    "\n",
    "🎓 Laboratório 11 - K-Means\n",
    "\n",
    "---\n",
    "> 👨‍🏫*Professor Rooney Coelho (rracoelho@pucsp.br)*\n",
    "---\n"
   ]
  },
  {
   "cell_type": "markdown",
   "metadata": {
    "id": "TQGXV_j0lqFz",
    "pycharm": {
     "name": "#%% md\n"
    }
   },
   "source": [
    "## Introdução\n",
    "\n",
    "Existem muitos modelos de **clustering** disponíveis. Neste notebook estaremos apresentando o modelo que é considerado o mais simples entre eles. Apesar de sua simplicidade, o **K-means** é amplamente usado para realizar agrupamentos em muitas aplicações de ciência de dados, e é especialmente útil se você precisar descobrir rapidamente insights de **dados não rotulados**. Neste exercício, você aprende como usar k-Means para segmentação de clientes.\n",
    "\n",
    "Algumas aplicações do mundo real de k-means:\n",
    "- Segmentação de clientes\n",
    "- Entender o que os visitantes de um site estão tentando realizar\n",
    "- Reconhecimento de padrões\n",
    "- Aprendizado de máquina\n",
    "- Compressão de dados"
   ]
  },
  {
   "cell_type": "markdown",
   "metadata": {
    "id": "R7ugN8n6nYGZ",
    "pycharm": {
     "name": "#%% md\n"
    }
   },
   "source": [
    "### Segmentação de clientes com K-Means\n",
    "\n",
    "Imagine que você tenha um conjunto de dados do cliente e precise aplicar a segmentação do cliente a esses dados históricos. A segmentação de clientes é a prática de particionar uma base de clientes em grupos de indivíduos com características semelhantes. É uma estratégia significativa, pois uma empresa pode ter como alvo esses grupos específicos de clientes e alocar recursos de marketing de forma eficaz. Por exemplo, um grupo pode conter clientes de alto lucro e baixo risco, ou seja, mais propensos a comprar produtos ou assinar um serviço. Uma tarefa empresarial é reter esses clientes. Outro grupo pode incluir clientes de organizações sem fins lucrativos. E assim por diante.\n"
   ]
  },
  {
   "cell_type": "code",
   "execution_count": 18,
   "metadata": {
    "id": "5y3ftZaCnvNp",
    "pycharm": {
     "name": "#%%\n"
    }
   },
   "outputs": [],
   "source": [
    "# Execute este bloco para satisfazer as dependências\n",
    "import pandas as pd\n",
    "import numpy as np\n",
    "from sklearn.preprocessing import StandardScaler\n",
    "from sklearn.cluster import KMeans \n",
    "\n",
    "import random # setar a semente"
   ]
  },
  {
   "cell_type": "code",
   "execution_count": 19,
   "metadata": {
    "id": "4xYnBoYywDBW",
    "pycharm": {
     "name": "#%%\n"
    }
   },
   "outputs": [],
   "source": [
    "np.random.seed(123) # execute esse bloco para poder reproduzir seus resultados posteriormente, use exatamente as mesmas etapas para isto!"
   ]
  },
  {
   "cell_type": "code",
   "execution_count": 20,
   "metadata": {
    "id": "ZKPTea6qmI3n",
    "pycharm": {
     "name": "#%%\n"
    }
   },
   "outputs": [
    {
     "data": {
      "text/plain": "     Customer Id  Age  Edu  Years Employed  Income  Card Debt  Other Debt  \\\n0              1   41    2               6      19      0.124       1.073   \n1              2   47    1              26     100      4.582       8.218   \n2              3   33    2              10      57      6.111       5.802   \n3              4   29    2               4      19      0.681       0.516   \n4              5   47    1              31     253      9.308       8.908   \n..           ...  ...  ...             ...     ...        ...         ...   \n845          846   27    1               5      26      0.548       1.220   \n846          847   28    2               7      34      0.359       2.021   \n847          848   25    4               0      18      2.802       3.210   \n848          849   32    1              12      28      0.116       0.696   \n849          850   52    1              16      64      1.866       3.638   \n\n     Defaulted Address  DebtIncomeRatio  \n0          0.0  NBA001              6.3  \n1          0.0  NBA021             12.8  \n2          1.0  NBA013             20.9  \n3          0.0  NBA009              6.3  \n4          0.0  NBA008              7.2  \n..         ...     ...              ...  \n845        NaN  NBA007              6.8  \n846        0.0  NBA002              7.0  \n847        1.0  NBA001             33.4  \n848        0.0  NBA012              2.9  \n849        0.0  NBA025              8.6  \n\n[850 rows x 10 columns]",
      "text/html": "<div>\n<style scoped>\n    .dataframe tbody tr th:only-of-type {\n        vertical-align: middle;\n    }\n\n    .dataframe tbody tr th {\n        vertical-align: top;\n    }\n\n    .dataframe thead th {\n        text-align: right;\n    }\n</style>\n<table border=\"1\" class=\"dataframe\">\n  <thead>\n    <tr style=\"text-align: right;\">\n      <th></th>\n      <th>Customer Id</th>\n      <th>Age</th>\n      <th>Edu</th>\n      <th>Years Employed</th>\n      <th>Income</th>\n      <th>Card Debt</th>\n      <th>Other Debt</th>\n      <th>Defaulted</th>\n      <th>Address</th>\n      <th>DebtIncomeRatio</th>\n    </tr>\n  </thead>\n  <tbody>\n    <tr>\n      <th>0</th>\n      <td>1</td>\n      <td>41</td>\n      <td>2</td>\n      <td>6</td>\n      <td>19</td>\n      <td>0.124</td>\n      <td>1.073</td>\n      <td>0.0</td>\n      <td>NBA001</td>\n      <td>6.3</td>\n    </tr>\n    <tr>\n      <th>1</th>\n      <td>2</td>\n      <td>47</td>\n      <td>1</td>\n      <td>26</td>\n      <td>100</td>\n      <td>4.582</td>\n      <td>8.218</td>\n      <td>0.0</td>\n      <td>NBA021</td>\n      <td>12.8</td>\n    </tr>\n    <tr>\n      <th>2</th>\n      <td>3</td>\n      <td>33</td>\n      <td>2</td>\n      <td>10</td>\n      <td>57</td>\n      <td>6.111</td>\n      <td>5.802</td>\n      <td>1.0</td>\n      <td>NBA013</td>\n      <td>20.9</td>\n    </tr>\n    <tr>\n      <th>3</th>\n      <td>4</td>\n      <td>29</td>\n      <td>2</td>\n      <td>4</td>\n      <td>19</td>\n      <td>0.681</td>\n      <td>0.516</td>\n      <td>0.0</td>\n      <td>NBA009</td>\n      <td>6.3</td>\n    </tr>\n    <tr>\n      <th>4</th>\n      <td>5</td>\n      <td>47</td>\n      <td>1</td>\n      <td>31</td>\n      <td>253</td>\n      <td>9.308</td>\n      <td>8.908</td>\n      <td>0.0</td>\n      <td>NBA008</td>\n      <td>7.2</td>\n    </tr>\n    <tr>\n      <th>...</th>\n      <td>...</td>\n      <td>...</td>\n      <td>...</td>\n      <td>...</td>\n      <td>...</td>\n      <td>...</td>\n      <td>...</td>\n      <td>...</td>\n      <td>...</td>\n      <td>...</td>\n    </tr>\n    <tr>\n      <th>845</th>\n      <td>846</td>\n      <td>27</td>\n      <td>1</td>\n      <td>5</td>\n      <td>26</td>\n      <td>0.548</td>\n      <td>1.220</td>\n      <td>NaN</td>\n      <td>NBA007</td>\n      <td>6.8</td>\n    </tr>\n    <tr>\n      <th>846</th>\n      <td>847</td>\n      <td>28</td>\n      <td>2</td>\n      <td>7</td>\n      <td>34</td>\n      <td>0.359</td>\n      <td>2.021</td>\n      <td>0.0</td>\n      <td>NBA002</td>\n      <td>7.0</td>\n    </tr>\n    <tr>\n      <th>847</th>\n      <td>848</td>\n      <td>25</td>\n      <td>4</td>\n      <td>0</td>\n      <td>18</td>\n      <td>2.802</td>\n      <td>3.210</td>\n      <td>1.0</td>\n      <td>NBA001</td>\n      <td>33.4</td>\n    </tr>\n    <tr>\n      <th>848</th>\n      <td>849</td>\n      <td>32</td>\n      <td>1</td>\n      <td>12</td>\n      <td>28</td>\n      <td>0.116</td>\n      <td>0.696</td>\n      <td>0.0</td>\n      <td>NBA012</td>\n      <td>2.9</td>\n    </tr>\n    <tr>\n      <th>849</th>\n      <td>850</td>\n      <td>52</td>\n      <td>1</td>\n      <td>16</td>\n      <td>64</td>\n      <td>1.866</td>\n      <td>3.638</td>\n      <td>0.0</td>\n      <td>NBA025</td>\n      <td>8.6</td>\n    </tr>\n  </tbody>\n</table>\n<p>850 rows × 10 columns</p>\n</div>"
     },
     "execution_count": 20,
     "metadata": {},
     "output_type": "execute_result"
    }
   ],
   "source": [
    "# Importe a base de dados executando este bloco\n",
    "df = pd.read_csv('https://s3-api.us-geo.objectstorage.softlayer.net/cf-courses-data/CognitiveClass/ML0101ENv3/labs/Cust_Segmentation.csv')\n",
    "df"
   ]
  },
  {
   "cell_type": "markdown",
   "metadata": {
    "id": "GCCF4oKfoPWg",
    "pycharm": {
     "name": "#%% md\n"
    }
   },
   "source": [
    "1) Remova a chave primária 'Customer Id' e o campo de texto 'Address'. Esses valores não são features para nosso problema."
   ]
  },
  {
   "cell_type": "code",
   "execution_count": 21,
   "metadata": {
    "id": "dg5HMLIjohOa",
    "pycharm": {
     "name": "#%%\n"
    }
   },
   "outputs": [
    {
     "data": {
      "text/plain": "   Age  Edu  Years Employed  Income  Card Debt  Other Debt  Defaulted  \\\n0   41    2               6      19      0.124       1.073        0.0   \n1   47    1              26     100      4.582       8.218        0.0   \n2   33    2              10      57      6.111       5.802        1.0   \n3   29    2               4      19      0.681       0.516        0.0   \n4   47    1              31     253      9.308       8.908        0.0   \n\n   DebtIncomeRatio  \n0              6.3  \n1             12.8  \n2             20.9  \n3              6.3  \n4              7.2  ",
      "text/html": "<div>\n<style scoped>\n    .dataframe tbody tr th:only-of-type {\n        vertical-align: middle;\n    }\n\n    .dataframe tbody tr th {\n        vertical-align: top;\n    }\n\n    .dataframe thead th {\n        text-align: right;\n    }\n</style>\n<table border=\"1\" class=\"dataframe\">\n  <thead>\n    <tr style=\"text-align: right;\">\n      <th></th>\n      <th>Age</th>\n      <th>Edu</th>\n      <th>Years Employed</th>\n      <th>Income</th>\n      <th>Card Debt</th>\n      <th>Other Debt</th>\n      <th>Defaulted</th>\n      <th>DebtIncomeRatio</th>\n    </tr>\n  </thead>\n  <tbody>\n    <tr>\n      <th>0</th>\n      <td>41</td>\n      <td>2</td>\n      <td>6</td>\n      <td>19</td>\n      <td>0.124</td>\n      <td>1.073</td>\n      <td>0.0</td>\n      <td>6.3</td>\n    </tr>\n    <tr>\n      <th>1</th>\n      <td>47</td>\n      <td>1</td>\n      <td>26</td>\n      <td>100</td>\n      <td>4.582</td>\n      <td>8.218</td>\n      <td>0.0</td>\n      <td>12.8</td>\n    </tr>\n    <tr>\n      <th>2</th>\n      <td>33</td>\n      <td>2</td>\n      <td>10</td>\n      <td>57</td>\n      <td>6.111</td>\n      <td>5.802</td>\n      <td>1.0</td>\n      <td>20.9</td>\n    </tr>\n    <tr>\n      <th>3</th>\n      <td>29</td>\n      <td>2</td>\n      <td>4</td>\n      <td>19</td>\n      <td>0.681</td>\n      <td>0.516</td>\n      <td>0.0</td>\n      <td>6.3</td>\n    </tr>\n    <tr>\n      <th>4</th>\n      <td>47</td>\n      <td>1</td>\n      <td>31</td>\n      <td>253</td>\n      <td>9.308</td>\n      <td>8.908</td>\n      <td>0.0</td>\n      <td>7.2</td>\n    </tr>\n  </tbody>\n</table>\n</div>"
     },
     "execution_count": 21,
     "metadata": {},
     "output_type": "execute_result"
    }
   ],
   "source": [
    "df.drop([\"Customer Id\", \"Address\"], axis = 1, inplace = True)\n",
    "df.head()"
   ]
  },
  {
   "cell_type": "markdown",
   "metadata": {
    "id": "c-WeN6MusjsK",
    "pycharm": {
     "name": "#%% md\n"
    }
   },
   "source": [
    "2) A coluna Defaulted contém valores faltantes, substitua todos esses valores pelo número de maior frequência. Converta depois a colunas para inteiro."
   ]
  },
  {
   "cell_type": "code",
   "execution_count": 22,
   "metadata": {
    "id": "gVpeUEEork_Y",
    "pycharm": {
     "name": "#%%\n"
    }
   },
   "outputs": [
    {
     "data": {
      "text/plain": "Age                0\nEdu                0\nYears Employed     0\nIncome             0\nCard Debt          0\nOther Debt         0\nDefaulted          0\nDebtIncomeRatio    0\ndtype: int64"
     },
     "execution_count": 22,
     "metadata": {},
     "output_type": "execute_result"
    }
   ],
   "source": [
    "df.Defaulted.fillna(df.Defaulted.mode()[0], inplace = True)\n",
    "df.isna().sum()"
   ]
  },
  {
   "cell_type": "markdown",
   "metadata": {
    "id": "IvfEcQtYt840",
    "pycharm": {
     "name": "#%% md\n"
    }
   },
   "source": [
    "3)  Normalizando sobre o desvio padrão\n",
    "Agora vamos normalizar o conjunto de dados. Mas por que precisamos de normalização em primeiro lugar? A normalização é um método estatístico que ajuda algoritmos que envolvem cálculos de distâncias a interpretar recursos com diferentes magnitudes e distribuições de forma equalitária. Usamos o __StandardScaler()__ para normalizar nosso conjunto de dados.\n",
    "\n",
    "* Normalize os dados e salve na variável `X`, note que ela é um objeto do numpy."
   ]
  },
  {
   "cell_type": "code",
   "execution_count": 23,
   "metadata": {
    "id": "iCt-hjmxtpwq",
    "pycharm": {
     "name": "#%%\n"
    }
   },
   "outputs": [],
   "source": [
    "scaler = StandardScaler()\n",
    "X = scaler.fit_transform(df)"
   ]
  },
  {
   "cell_type": "markdown",
   "metadata": {
    "id": "p9B_6zFPu2q2",
    "pycharm": {
     "name": "#%% md\n"
    }
   },
   "source": [
    "Para validar o procedimento feito pegue todos os dados da primeira coluna (use fatiamento do array) e calcule sua média e desvio padrão."
   ]
  },
  {
   "cell_type": "code",
   "execution_count": 24,
   "metadata": {
    "id": "YIW3NNmSuX2Y",
    "pycharm": {
     "name": "#%%\n"
    }
   },
   "outputs": [
    {
     "data": {
      "text/plain": "(-2.1525265230379505e-16, 1.0)"
     },
     "execution_count": 24,
     "metadata": {},
     "output_type": "execute_result"
    }
   ],
   "source": [
    "X[:,0].mean(), X[:,0].std()"
   ]
  },
  {
   "cell_type": "markdown",
   "metadata": {
    "button": false,
    "deletable": true,
    "id": "Ps9FmR6DtwNH",
    "new_sheet": false,
    "run_control": {
     "read_only": false
    },
    "pycharm": {
     "name": "#%% md\n"
    }
   },
   "source": [
    "Em nosso exemplo (se não tivéssemos acesso ao algoritmo k-means), seria o mesmo que adivinhar que cada grupo de clientes teria certa idade, renda, escolaridade, etc, com vários testes e experimentos. No entanto, usando o cluster K-means podemos fazer todo esse processo muito mais fácil.\n",
    "\n",
    "Vamos aplicar k-means em nosso conjunto de dados e dar uma olhada nos rótulos do cluster."
   ]
  },
  {
   "cell_type": "markdown",
   "metadata": {
    "id": "4mm4_6Z7mP_3",
    "pycharm": {
     "name": "#%% md\n"
    }
   },
   "source": [
    "### Configurando o K-means\n",
    "A classe KMeans tem muitos parâmetros que podem ser usados, mas usaremos estes três:\n",
    "<ul>\n",
    "     <li> <b> init </b>: Método de inicialização dos centróides. </li>\n",
    "     <ul>\n",
    "         <li> O valor será: \"k-means ++\" </li>\n",
    "         <li> k-means ++: Seleciona os centros de cluster iniciais para o cluster k-mean de uma forma inteligente para acelerar a convergência. Este é o algoritmo padrão da biblioteca. </li>\n",
    "     </ul>\n",
    "     <li> <b> n_clusters </b>: O número de clusters a serem formados, bem como o número de centróides a serem gerados. </li>\n",
    "     <li> <b> n_init </b>: Número de vezes que o algoritmo k-means será executado com diferentes sementes de centróide. Os resultados finais serão o melhor resultado de n_init execuções consecutivas em termos de inércia. </li>\n",
    "</ul>"
   ]
  },
  {
   "cell_type": "markdown",
   "metadata": {
    "id": "ZOuRy_bVvlfZ",
    "pycharm": {
     "name": "#%% md\n"
    }
   },
   "source": [
    "4) Configure e treine o algoritmo K-means para 3 clusters e utilize 12 inicializações distintas."
   ]
  },
  {
   "cell_type": "code",
   "execution_count": 25,
   "metadata": {
    "id": "XxJCBXxmvjdK",
    "pycharm": {
     "name": "#%%\n"
    }
   },
   "outputs": [
    {
     "data": {
      "text/plain": "KMeans(n_clusters=3, n_init=12)",
      "text/html": "<style>#sk-container-id-2 {color: black;background-color: white;}#sk-container-id-2 pre{padding: 0;}#sk-container-id-2 div.sk-toggleable {background-color: white;}#sk-container-id-2 label.sk-toggleable__label {cursor: pointer;display: block;width: 100%;margin-bottom: 0;padding: 0.3em;box-sizing: border-box;text-align: center;}#sk-container-id-2 label.sk-toggleable__label-arrow:before {content: \"▸\";float: left;margin-right: 0.25em;color: #696969;}#sk-container-id-2 label.sk-toggleable__label-arrow:hover:before {color: black;}#sk-container-id-2 div.sk-estimator:hover label.sk-toggleable__label-arrow:before {color: black;}#sk-container-id-2 div.sk-toggleable__content {max-height: 0;max-width: 0;overflow: hidden;text-align: left;background-color: #f0f8ff;}#sk-container-id-2 div.sk-toggleable__content pre {margin: 0.2em;color: black;border-radius: 0.25em;background-color: #f0f8ff;}#sk-container-id-2 input.sk-toggleable__control:checked~div.sk-toggleable__content {max-height: 200px;max-width: 100%;overflow: auto;}#sk-container-id-2 input.sk-toggleable__control:checked~label.sk-toggleable__label-arrow:before {content: \"▾\";}#sk-container-id-2 div.sk-estimator input.sk-toggleable__control:checked~label.sk-toggleable__label {background-color: #d4ebff;}#sk-container-id-2 div.sk-label input.sk-toggleable__control:checked~label.sk-toggleable__label {background-color: #d4ebff;}#sk-container-id-2 input.sk-hidden--visually {border: 0;clip: rect(1px 1px 1px 1px);clip: rect(1px, 1px, 1px, 1px);height: 1px;margin: -1px;overflow: hidden;padding: 0;position: absolute;width: 1px;}#sk-container-id-2 div.sk-estimator {font-family: monospace;background-color: #f0f8ff;border: 1px dotted black;border-radius: 0.25em;box-sizing: border-box;margin-bottom: 0.5em;}#sk-container-id-2 div.sk-estimator:hover {background-color: #d4ebff;}#sk-container-id-2 div.sk-parallel-item::after {content: \"\";width: 100%;border-bottom: 1px solid gray;flex-grow: 1;}#sk-container-id-2 div.sk-label:hover label.sk-toggleable__label {background-color: #d4ebff;}#sk-container-id-2 div.sk-serial::before {content: \"\";position: absolute;border-left: 1px solid gray;box-sizing: border-box;top: 0;bottom: 0;left: 50%;z-index: 0;}#sk-container-id-2 div.sk-serial {display: flex;flex-direction: column;align-items: center;background-color: white;padding-right: 0.2em;padding-left: 0.2em;position: relative;}#sk-container-id-2 div.sk-item {position: relative;z-index: 1;}#sk-container-id-2 div.sk-parallel {display: flex;align-items: stretch;justify-content: center;background-color: white;position: relative;}#sk-container-id-2 div.sk-item::before, #sk-container-id-2 div.sk-parallel-item::before {content: \"\";position: absolute;border-left: 1px solid gray;box-sizing: border-box;top: 0;bottom: 0;left: 50%;z-index: -1;}#sk-container-id-2 div.sk-parallel-item {display: flex;flex-direction: column;z-index: 1;position: relative;background-color: white;}#sk-container-id-2 div.sk-parallel-item:first-child::after {align-self: flex-end;width: 50%;}#sk-container-id-2 div.sk-parallel-item:last-child::after {align-self: flex-start;width: 50%;}#sk-container-id-2 div.sk-parallel-item:only-child::after {width: 0;}#sk-container-id-2 div.sk-dashed-wrapped {border: 1px dashed gray;margin: 0 0.4em 0.5em 0.4em;box-sizing: border-box;padding-bottom: 0.4em;background-color: white;}#sk-container-id-2 div.sk-label label {font-family: monospace;font-weight: bold;display: inline-block;line-height: 1.2em;}#sk-container-id-2 div.sk-label-container {text-align: center;}#sk-container-id-2 div.sk-container {/* jupyter's `normalize.less` sets `[hidden] { display: none; }` but bootstrap.min.css set `[hidden] { display: none !important; }` so we also need the `!important` here to be able to override the default hidden behavior on the sphinx rendered scikit-learn.org. See: https://github.com/scikit-learn/scikit-learn/issues/21755 */display: inline-block !important;position: relative;}#sk-container-id-2 div.sk-text-repr-fallback {display: none;}</style><div id=\"sk-container-id-2\" class=\"sk-top-container\"><div class=\"sk-text-repr-fallback\"><pre>KMeans(n_clusters=3, n_init=12)</pre><b>In a Jupyter environment, please rerun this cell to show the HTML representation or trust the notebook. <br />On GitHub, the HTML representation is unable to render, please try loading this page with nbviewer.org.</b></div><div class=\"sk-container\" hidden><div class=\"sk-item\"><div class=\"sk-estimator sk-toggleable\"><input class=\"sk-toggleable__control sk-hidden--visually\" id=\"sk-estimator-id-2\" type=\"checkbox\" checked><label for=\"sk-estimator-id-2\" class=\"sk-toggleable__label sk-toggleable__label-arrow\">KMeans</label><div class=\"sk-toggleable__content\"><pre>KMeans(n_clusters=3, n_init=12)</pre></div></div></div></div></div>"
     },
     "execution_count": 25,
     "metadata": {},
     "output_type": "execute_result"
    }
   ],
   "source": [
    "k_means = KMeans(init = \"k-means++\", n_clusters = 3, n_init = 12)\n",
    "k_means.fit(X)"
   ]
  },
  {
   "cell_type": "markdown",
   "metadata": {
    "id": "hqeQNzRTwY76",
    "pycharm": {
     "name": "#%% md\n"
    }
   },
   "source": [
    "Imprima os rótulos de cada cliente:"
   ]
  },
  {
   "cell_type": "code",
   "execution_count": 26,
   "metadata": {
    "id": "7o4eIUG5wWet",
    "pycharm": {
     "name": "#%%\n"
    }
   },
   "outputs": [
    {
     "data": {
      "text/plain": "array([2, 0, 1, 2, 0, 0, 2, 2, 2, 0, 1, 2, 2, 2, 1, 2, 2, 2, 0, 2, 2, 2,\n       1, 0, 0, 2, 2, 2, 2, 2, 2, 0, 1, 2, 2, 2, 1, 1, 2, 0, 1, 0, 2, 0,\n       2, 0, 2, 2, 2, 2, 0, 0, 1, 2, 1, 1, 1, 2, 2, 2, 0, 2, 0, 0, 2, 2,\n       2, 1, 2, 1, 2, 2, 2, 2, 2, 2, 2, 2, 0, 2, 2, 1, 0, 2, 0, 2, 2, 2,\n       1, 1, 2, 2, 1, 1, 2, 2, 2, 2, 1, 2, 1, 0, 2, 1, 1, 0, 2, 2, 2, 2,\n       2, 2, 2, 1, 2, 2, 2, 2, 0, 2, 2, 2, 2, 2, 2, 2, 2, 2, 2, 2, 2, 2,\n       2, 2, 2, 2, 2, 2, 2, 1, 1, 2, 2, 2, 0, 2, 2, 1, 2, 2, 2, 0, 1, 2,\n       2, 2, 2, 0, 1, 1, 2, 0, 2, 2, 2, 2, 2, 2, 2, 2, 0, 2, 2, 1, 2, 1,\n       2, 2, 1, 0, 1, 2, 2, 0, 1, 0, 2, 2, 2, 2, 2, 0, 2, 1, 2, 2, 2, 0,\n       0, 2, 0, 2, 1, 2, 2, 1, 2, 0, 2, 1, 2, 2, 2, 2, 2, 1, 1, 0, 2, 2,\n       1, 0, 2, 2, 2, 2, 0, 2, 2, 1, 2, 2, 2, 2, 0, 2, 2, 1, 0, 2, 2, 2,\n       2, 2, 2, 0, 2, 0, 2, 2, 2, 2, 2, 2, 0, 1, 2, 1, 2, 2, 2, 0, 2, 1,\n       0, 1, 2, 0, 2, 2, 1, 2, 2, 2, 2, 1, 1, 1, 2, 2, 2, 0, 2, 2, 0, 2,\n       0, 2, 2, 0, 2, 2, 2, 1, 2, 2, 1, 2, 1, 0, 2, 2, 2, 2, 1, 2, 2, 1,\n       1, 2, 2, 2, 2, 2, 2, 2, 2, 1, 2, 1, 0, 2, 1, 2, 2, 2, 1, 1, 2, 2,\n       2, 0, 1, 2, 2, 1, 2, 0, 2, 2, 2, 2, 2, 1, 0, 2, 2, 2, 2, 2, 0, 2,\n       2, 2, 2, 2, 0, 2, 2, 2, 0, 1, 2, 1, 2, 2, 2, 0, 0, 2, 1, 2, 0, 1,\n       1, 2, 2, 2, 1, 2, 2, 2, 2, 2, 0, 2, 0, 2, 2, 2, 2, 1, 2, 1, 2, 2,\n       2, 0, 2, 2, 2, 2, 1, 2, 2, 1, 1, 0, 2, 2, 2, 2, 2, 1, 1, 2, 0, 1,\n       0, 2, 2, 1, 2, 2, 0, 0, 2, 1, 2, 2, 0, 2, 1, 2, 0, 2, 2, 2, 0, 2,\n       2, 2, 2, 0, 2, 1, 2, 2, 2, 2, 0, 1, 2, 2, 0, 2, 1, 2, 2, 0, 2, 0,\n       2, 2, 2, 2, 2, 2, 2, 0, 0, 2, 2, 0, 2, 1, 2, 2, 2, 1, 2, 1, 2, 2,\n       2, 2, 2, 0, 1, 1, 2, 0, 2, 0, 2, 2, 1, 0, 2, 1, 1, 1, 0, 0, 1, 2,\n       2, 1, 2, 1, 1, 2, 1, 0, 2, 2, 1, 2, 1, 0, 1, 2, 2, 1, 2, 2, 1, 1,\n       1, 2, 2, 2, 0, 0, 2, 2, 1, 2, 2, 1, 0, 2, 1, 2, 2, 2, 1, 2, 0, 2,\n       0, 0, 2, 0, 2, 2, 0, 2, 1, 2, 2, 2, 2, 1, 1, 2, 0, 2, 0, 2, 2, 0,\n       2, 1, 2, 1, 2, 1, 1, 1, 0, 1, 2, 2, 2, 1, 2, 2, 2, 0, 2, 0, 2, 1,\n       1, 2, 2, 2, 2, 2, 2, 2, 1, 0, 2, 0, 2, 2, 1, 2, 2, 2, 1, 2, 2, 1,\n       1, 1, 1, 2, 0, 2, 1, 1, 2, 2, 2, 2, 0, 0, 2, 1, 2, 2, 0, 2, 2, 0,\n       2, 0, 2, 2, 0, 1, 0, 0, 0, 1, 2, 2, 1, 2, 0, 0, 2, 2, 2, 0, 1, 2,\n       2, 2, 2, 0, 2, 2, 2, 2, 2, 1, 2, 2, 0, 2, 2, 0, 2, 2, 2, 2, 2, 2,\n       1, 0, 2, 2, 1, 2, 2, 2, 2, 1, 2, 0, 2, 2, 0, 2, 2, 1, 2, 1, 2, 1,\n       1, 2, 2, 2, 0, 1, 0, 2, 0, 0, 2, 1, 2, 0, 2, 0, 2, 2, 2, 2, 2, 0,\n       2, 1, 2, 2, 0, 0, 2, 2, 0, 2, 2, 2, 2, 2, 2, 2, 2, 1, 2, 2, 0, 2,\n       2, 2, 2, 2, 2, 2, 1, 2, 2, 2, 0, 1, 0, 0, 2, 2, 2, 1, 2, 2, 2, 1,\n       1, 2, 1, 2, 2, 2, 0, 2, 2, 2, 2, 2, 2, 2, 0, 2, 2, 2, 2, 2, 2, 0,\n       0, 1, 1, 2, 1, 2, 2, 2, 2, 0, 1, 2, 2, 2, 2, 2, 0, 1, 2, 2, 2, 1,\n       2, 2, 1, 2, 2, 2, 2, 2, 2, 1, 1, 0, 0, 2, 2, 2, 1, 2, 2, 2, 2, 2,\n       2, 2, 2, 2, 2, 2, 2, 2, 2, 2, 2, 1, 2, 0], dtype=int32)"
     },
     "execution_count": 26,
     "metadata": {},
     "output_type": "execute_result"
    }
   ],
   "source": [
    "k_means.labels_"
   ]
  },
  {
   "cell_type": "markdown",
   "metadata": {
    "id": "S63-Zrb1wovi",
    "pycharm": {
     "name": "#%% md\n"
    }
   },
   "source": [
    "5) Obtenção dos Insights\n",
    "\n",
    "Adicione os rótulos de cada grupo ao dataframe (antes da normalização) e chame essa coluna de grupo."
   ]
  },
  {
   "cell_type": "code",
   "execution_count": 27,
   "metadata": {
    "id": "RjduWURaw_mi",
    "pycharm": {
     "name": "#%%\n"
    }
   },
   "outputs": [
    {
     "data": {
      "text/plain": "   Age  Edu  Years Employed  Income  Card Debt  Other Debt  Defaulted  \\\n0   41    2               6      19      0.124       1.073        0.0   \n1   47    1              26     100      4.582       8.218        0.0   \n2   33    2              10      57      6.111       5.802        1.0   \n3   29    2               4      19      0.681       0.516        0.0   \n4   47    1              31     253      9.308       8.908        0.0   \n\n   DebtIncomeRatio  Group  \n0              6.3      2  \n1             12.8      0  \n2             20.9      1  \n3              6.3      2  \n4              7.2      0  ",
      "text/html": "<div>\n<style scoped>\n    .dataframe tbody tr th:only-of-type {\n        vertical-align: middle;\n    }\n\n    .dataframe tbody tr th {\n        vertical-align: top;\n    }\n\n    .dataframe thead th {\n        text-align: right;\n    }\n</style>\n<table border=\"1\" class=\"dataframe\">\n  <thead>\n    <tr style=\"text-align: right;\">\n      <th></th>\n      <th>Age</th>\n      <th>Edu</th>\n      <th>Years Employed</th>\n      <th>Income</th>\n      <th>Card Debt</th>\n      <th>Other Debt</th>\n      <th>Defaulted</th>\n      <th>DebtIncomeRatio</th>\n      <th>Group</th>\n    </tr>\n  </thead>\n  <tbody>\n    <tr>\n      <th>0</th>\n      <td>41</td>\n      <td>2</td>\n      <td>6</td>\n      <td>19</td>\n      <td>0.124</td>\n      <td>1.073</td>\n      <td>0.0</td>\n      <td>6.3</td>\n      <td>2</td>\n    </tr>\n    <tr>\n      <th>1</th>\n      <td>47</td>\n      <td>1</td>\n      <td>26</td>\n      <td>100</td>\n      <td>4.582</td>\n      <td>8.218</td>\n      <td>0.0</td>\n      <td>12.8</td>\n      <td>0</td>\n    </tr>\n    <tr>\n      <th>2</th>\n      <td>33</td>\n      <td>2</td>\n      <td>10</td>\n      <td>57</td>\n      <td>6.111</td>\n      <td>5.802</td>\n      <td>1.0</td>\n      <td>20.9</td>\n      <td>1</td>\n    </tr>\n    <tr>\n      <th>3</th>\n      <td>29</td>\n      <td>2</td>\n      <td>4</td>\n      <td>19</td>\n      <td>0.681</td>\n      <td>0.516</td>\n      <td>0.0</td>\n      <td>6.3</td>\n      <td>2</td>\n    </tr>\n    <tr>\n      <th>4</th>\n      <td>47</td>\n      <td>1</td>\n      <td>31</td>\n      <td>253</td>\n      <td>9.308</td>\n      <td>8.908</td>\n      <td>0.0</td>\n      <td>7.2</td>\n      <td>0</td>\n    </tr>\n  </tbody>\n</table>\n</div>"
     },
     "execution_count": 27,
     "metadata": {},
     "output_type": "execute_result"
    }
   ],
   "source": [
    "df[\"Group\"] = k_means.labels_\n",
    "df.head()"
   ]
  },
  {
   "cell_type": "markdown",
   "metadata": {
    "id": "gbtrTsK4xPvd",
    "pycharm": {
     "name": "#%% md\n"
    }
   },
   "source": [
    "Use agora o método `group_by` do pandas para ver o perfil de cada grupo criado. Faça a média dos valores, assim obtendo a informação do centróide."
   ]
  },
  {
   "cell_type": "code",
   "execution_count": 28,
   "metadata": {
    "id": "wtYUOfFvxXka",
    "pycharm": {
     "name": "#%%\n"
    }
   },
   "outputs": [
    {
     "data": {
      "text/plain": "             Age       Edu  Years Employed      Income  Card Debt  Other Debt  \\\nGroup                                                                           \n0      43.000000  1.931973       17.197279  101.959184   4.220673    7.954483   \n1      31.891566  1.861446        3.963855   31.789157   1.576675    2.843355   \n2      33.817505  1.603352        7.625698   36.143389   0.853128    1.816855   \n\n       Defaulted  DebtIncomeRatio  \nGroup                              \n0       0.129252        13.915646  \n1       0.987952        13.994578  \n2       0.000000         7.964991  ",
      "text/html": "<div>\n<style scoped>\n    .dataframe tbody tr th:only-of-type {\n        vertical-align: middle;\n    }\n\n    .dataframe tbody tr th {\n        vertical-align: top;\n    }\n\n    .dataframe thead th {\n        text-align: right;\n    }\n</style>\n<table border=\"1\" class=\"dataframe\">\n  <thead>\n    <tr style=\"text-align: right;\">\n      <th></th>\n      <th>Age</th>\n      <th>Edu</th>\n      <th>Years Employed</th>\n      <th>Income</th>\n      <th>Card Debt</th>\n      <th>Other Debt</th>\n      <th>Defaulted</th>\n      <th>DebtIncomeRatio</th>\n    </tr>\n    <tr>\n      <th>Group</th>\n      <th></th>\n      <th></th>\n      <th></th>\n      <th></th>\n      <th></th>\n      <th></th>\n      <th></th>\n      <th></th>\n    </tr>\n  </thead>\n  <tbody>\n    <tr>\n      <th>0</th>\n      <td>43.000000</td>\n      <td>1.931973</td>\n      <td>17.197279</td>\n      <td>101.959184</td>\n      <td>4.220673</td>\n      <td>7.954483</td>\n      <td>0.129252</td>\n      <td>13.915646</td>\n    </tr>\n    <tr>\n      <th>1</th>\n      <td>31.891566</td>\n      <td>1.861446</td>\n      <td>3.963855</td>\n      <td>31.789157</td>\n      <td>1.576675</td>\n      <td>2.843355</td>\n      <td>0.987952</td>\n      <td>13.994578</td>\n    </tr>\n    <tr>\n      <th>2</th>\n      <td>33.817505</td>\n      <td>1.603352</td>\n      <td>7.625698</td>\n      <td>36.143389</td>\n      <td>0.853128</td>\n      <td>1.816855</td>\n      <td>0.000000</td>\n      <td>7.964991</td>\n    </tr>\n  </tbody>\n</table>\n</div>"
     },
     "execution_count": 28,
     "metadata": {},
     "output_type": "execute_result"
    }
   ],
   "source": [
    "df.groupby(\"Group\").mean()"
   ]
  },
  {
   "cell_type": "markdown",
   "metadata": {
    "id": "yrG0HoOVx2gf",
    "pycharm": {
     "name": "#%% md\n"
    }
   },
   "source": [
    "O k-means irá dividir seus clientes em grupos mutuamente exclusivos, por exemplo, em 3 clusters. Os clientes em cada cluster são semelhantes entre si demograficamente.\n",
    "\n",
    "**Agora podemos criar um perfil para cada grupo, considerando as características comuns de cada cluster!**\n",
    "\n",
    "Isso que acabamos de fazer é a análise dos centróides.\n",
    "\n"
   ]
  }
 ],
 "metadata": {
  "colab": {
   "collapsed_sections": [],
   "provenance": []
  },
  "kernelspec": {
   "display_name": "Python 3",
   "name": "python3"
  },
  "language_info": {
   "name": "python"
  }
 },
 "nbformat": 4,
 "nbformat_minor": 0
}