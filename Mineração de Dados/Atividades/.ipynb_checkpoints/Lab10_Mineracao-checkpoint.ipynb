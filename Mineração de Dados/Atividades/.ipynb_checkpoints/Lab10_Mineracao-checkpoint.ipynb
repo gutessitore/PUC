{
 "cells": [
  {
   "cell_type": "markdown",
   "metadata": {
    "id": "MJL7PlSCwyKs"
   },
   "source": [
    "Pontifícia Universidade Católica de São Paulo \n",
    "\n",
    "`Ciência de Dados e Inteligência Artificial`\n",
    "\n",
    "🎓 Laboratório 10 - Support Vector Machines\n",
    "\n",
    "13 de outubro de 2022\n",
    "\n",
    "\n",
    "---\n",
    "> 👨‍🏫*Professor Rooney Coelho (rracoelho@pucsp.br)*\n",
    "---\n",
    "\n",
    "\n"
   ]
  },
  {
   "cell_type": "markdown",
   "metadata": {
    "id": "yo-1fDsWPRoc"
   },
   "source": [
    "Neste aula você usará SVM (Support Vector Machines) para construir e treinar um modelo usando registros de células humanas e classificar as células se as amostras são benignas ou malignas.\n",
    "\n",
    "O SVM funciona mapeando dados para um espaço de recursos de alta dimensão para que os pontos de dados possam ser categorizados, mesmo quando os dados não são linearmente separáveis. Um separador entre as categorias é encontrado, então os dados são transformados de tal forma que o separador pode ser desenhado como um hiperplano. Em seguida, as características dos novos dados podem ser usadas para prever o grupo ao qual um novo registro deve pertencer."
   ]
  },
  {
   "cell_type": "code",
   "execution_count": 1,
   "metadata": {
    "id": "dp_ixU88awxR"
   },
   "outputs": [],
   "source": [
    "# Dependências\n",
    "import pandas as pd\n",
    "from sklearn import svm\n",
    "from sklearn.preprocessing import StandardScaler\n",
    "from sklearn.model_selection import train_test_split"
   ]
  },
  {
   "cell_type": "markdown",
   "metadata": {
    "id": "an7g0Qzv2A3i"
   },
   "source": [
    "### Importação e limpeza dos dados"
   ]
  },
  {
   "cell_type": "markdown",
   "metadata": {
    "id": "enDw0-_eQfMv"
   },
   "source": [
    "1) Importe os dados da seguinte url: https://s3-api.us-geo.objectstorage.softlayer.net/cf-courses-data/CognitiveClass/ML0101ENv3/labs/cell_samples.csv"
   ]
  },
  {
   "cell_type": "code",
   "execution_count": null,
   "metadata": {
    "colab": {
     "base_uri": "https://localhost:8080/",
     "height": 419
    },
    "id": "Qt6-dRXma0pw",
    "outputId": "ce611948-2af7-4a30-c30f-2128339770e7"
   },
   "outputs": [],
   "source": []
  },
  {
   "cell_type": "markdown",
   "metadata": {
    "id": "Rwe9ewpbvlRz"
   },
   "source": [
    "O campo ID contém os identificadores do paciente. As características das amostras de células de cada paciente estão contidas nos campos Clump à Mit. Os valores são classificados de 1 a 10, sendo 1 o mais próximo de benigno.\n",
    "\n",
    "O campo Class contém o diagnóstico, conforme confirmado por procedimentos médicos separados, se as amostras são benignas (valor = 2) ou malignas (valor = 4).\n",
    "\n",
    "Vejamos a distribuição das classes com base Clump thickness e Uniformity of cell size:"
   ]
  },
  {
   "cell_type": "markdown",
   "metadata": {
    "id": "Ul1FTF8EQnQp"
   },
   "source": [
    "2) Use o método `info()` para chechar quais colunas possuem valroes não numéricos."
   ]
  },
  {
   "cell_type": "code",
   "execution_count": null,
   "metadata": {
    "colab": {
     "base_uri": "https://localhost:8080/"
    },
    "id": "x4b46hVvIODC",
    "outputId": "ed898ff2-ea7e-4c6d-b093-97248e4e07dd"
   },
   "outputs": [],
   "source": []
  },
  {
   "cell_type": "markdown",
   "metadata": {
    "id": "nD4FXPCtwWwX"
   },
   "source": [
    "Note que a coluna `BareNuc`possui valores não numéricos. Vamos usar agora o método `unique()`nesta coluna para ver quais são os valores únicos dessa coluna."
   ]
  },
  {
   "cell_type": "code",
   "execution_count": null,
   "metadata": {
    "colab": {
     "base_uri": "https://localhost:8080/"
    },
    "id": "gB_F2kQ4wmgc",
    "outputId": "bc4e3836-253b-466c-88eb-3eefaf0a22dc"
   },
   "outputs": [],
   "source": []
  },
  {
   "cell_type": "markdown",
   "metadata": {
    "id": "xLPHjMZRwxFS"
   },
   "source": [
    "3) Veja que os valores faltantes na coluna `BareNuc`são iguais a `'?'`. Use o método `replace()` em `df` para substituir `'?'` por `np.NaN`. Sobreescreva `df`para não perder a alteração realizada."
   ]
  },
  {
   "cell_type": "code",
   "execution_count": null,
   "metadata": {
    "id": "Y6UwgiafyI5g"
   },
   "outputs": [],
   "source": []
  },
  {
   "cell_type": "markdown",
   "metadata": {},
   "source": [
    "4. Remova agora os dados faltantes usando `dropna()`"
   ]
  },
  {
   "cell_type": "code",
   "execution_count": null,
   "metadata": {
    "colab": {
     "base_uri": "https://localhost:8080/",
     "height": 419
    },
    "id": "AXDDngYXXdMS",
    "outputId": "b1362609-4edc-46f2-8e9c-ce2d7af5e584"
   },
   "outputs": [],
   "source": []
  },
  {
   "cell_type": "markdown",
   "metadata": {},
   "source": [
    "Converta a coluna para `int` usando o método `astype()`."
   ]
  },
  {
   "cell_type": "code",
   "execution_count": null,
   "metadata": {
    "id": "AKuj8XipXzvf"
   },
   "outputs": [],
   "source": []
  },
  {
   "cell_type": "markdown",
   "metadata": {
    "id": "b58KjCzn2Mbf"
   },
   "source": [
    "### Identificação das features e target"
   ]
  },
  {
   "cell_type": "markdown",
   "metadata": {
    "id": "PLrsJE6sRQcF"
   },
   "source": [
    "4) Crie um DataFrame `X` com todas as features. Lembrando que o target é o atributo Class e que ID não é uma feature."
   ]
  },
  {
   "cell_type": "code",
   "execution_count": null,
   "metadata": {
    "colab": {
     "base_uri": "https://localhost:8080/",
     "height": 419
    },
    "id": "JSUESbK_0A2g",
    "outputId": "9bd8ab62-2b67-4edc-bfe5-9f0d6e6ac545"
   },
   "outputs": [],
   "source": []
  },
  {
   "cell_type": "markdown",
   "metadata": {
    "id": "3LASPCqcRpuB"
   },
   "source": [
    "5) Segmente o Dataframe para a representação do Target (Class)"
   ]
  },
  {
   "cell_type": "code",
   "execution_count": null,
   "metadata": {
    "colab": {
     "base_uri": "https://localhost:8080/",
     "height": 419
    },
    "id": "s6Qfntw3gr8o",
    "outputId": "d21ad257-ba11-47f9-9eba-369b05c70adc"
   },
   "outputs": [],
   "source": []
  },
  {
   "cell_type": "markdown",
   "metadata": {},
   "source": [
    "## Padronização dos dados\n",
    "\n",
    "A padronização de recursos é crucial para alguns algoritmos de aprendizado de máquina que consideram distâncias entre observações porque a distância entre duas observações difere para casos não padronizados e padronizados.\n",
    "\n",
    "Maximizamos no SVM a distância até os pontos de dados mais próximos de diferentes classes. Portanto, a distância calculado entre os pontos de dados afeta o limite de decisão que o SVM escolhe. Em outras palavras, treinar um SVM sobre os dados padronizados e não padronizados leva à geração de modelos diferentes."
   ]
  },
  {
   "cell_type": "markdown",
   "metadata": {},
   "source": [
    "6. Use o `StandardScaler()` para padronizar os dados."
   ]
  },
  {
   "cell_type": "code",
   "execution_count": null,
   "metadata": {},
   "outputs": [],
   "source": []
  },
  {
   "cell_type": "markdown",
   "metadata": {
    "id": "KeRGsF332TCI"
   },
   "source": [
    "### Separação dos dados para teste e validação."
   ]
  },
  {
   "cell_type": "markdown",
   "metadata": {
    "id": "ufLrft-CzceJ"
   },
   "source": [
    "7) Divida os dados em treino e teste com a função `train_test_split()`. Separe 20% dos dados para validação."
   ]
  },
  {
   "cell_type": "code",
   "execution_count": null,
   "metadata": {
    "id": "uJbLnNNLz4fE"
   },
   "outputs": [],
   "source": []
  },
  {
   "cell_type": "markdown",
   "metadata": {
    "id": "vtvLRppE2mhN"
   },
   "source": [
    "Verifique se as dimensões dos dados de teste e validação estão coerentes usando o método `shape()`."
   ]
  },
  {
   "cell_type": "code",
   "execution_count": null,
   "metadata": {
    "colab": {
     "base_uri": "https://localhost:8080/"
    },
    "id": "EFzJtcRz2l5M",
    "outputId": "6b0c0741-d3b4-4ed5-ddbb-15729d5f6164"
   },
   "outputs": [],
   "source": []
  },
  {
   "cell_type": "markdown",
   "metadata": {
    "id": "i3WKQlHo2cwD"
   },
   "source": [
    "### Treinamento e avaliação da SVM criada"
   ]
  },
  {
   "cell_type": "markdown",
   "metadata": {
    "id": "RAU_Z9p20NvG"
   },
   "source": [
    "O algoritmo SVM oferece uma escolha de funções de kernel para realizar seu processamento. Basicamente, o mapeamento de dados em um espaço dimensional superior é chamado de kernelling. A função matemática usada para a transformação é conhecida como função kernel e pode ser de diferentes tipos, como:\n",
    "\n",
    "     1. Linear\n",
    "     2. Polinômio\n",
    "     3. Função de base radial (RBF)\n",
    "     4. Sigmóide\n",
    "Cada uma dessas funções tem suas características, seus prós e contras e sua equação, mas como não há uma maneira fácil de saber qual função tem o melhor desempenho com qualquer dataset, geralmente escolhemos funções diferentes e comparamos os resultados. \n",
    "\n",
    "8) Utilize a Função de base radial (RBF) como kernel. O classificador SVM é representado pelo método `SVC`"
   ]
  },
  {
   "cell_type": "code",
   "execution_count": null,
   "metadata": {
    "colab": {
     "base_uri": "https://localhost:8080/"
    },
    "id": "IILahwAF0mmQ",
    "outputId": "f4513ca1-6a6d-4ef1-9af8-9f04fd1036e5"
   },
   "outputs": [],
   "source": []
  },
  {
   "cell_type": "markdown",
   "metadata": {
    "id": "ut4kxBlK1mrW"
   },
   "source": [
    "9) Use o método `score()` para avaliar a performance de seu classificador."
   ]
  },
  {
   "cell_type": "code",
   "execution_count": null,
   "metadata": {
    "colab": {
     "base_uri": "https://localhost:8080/"
    },
    "id": "Whq6P7IV0ryi",
    "outputId": "b5955c76-feb0-4962-89ca-995c13ae922d"
   },
   "outputs": [],
   "source": []
  }
 ],
 "metadata": {
  "colab": {
   "collapsed_sections": [],
   "provenance": []
  },
  "kernelspec": {
   "display_name": "Python 3 (ipykernel)",
   "language": "python",
   "name": "python3"
  },
  "language_info": {
   "codemirror_mode": {
    "name": "ipython",
    "version": 3
   },
   "file_extension": ".py",
   "mimetype": "text/x-python",
   "name": "python",
   "nbconvert_exporter": "python",
   "pygments_lexer": "ipython3",
   "version": "3.10.6"
  },
  "vscode": {
   "interpreter": {
    "hash": "63767213aaebcaecbbda46b6e2b43016e38195c6870cd661fd2c66e2289ab1df"
   }
  }
 },
 "nbformat": 4,
 "nbformat_minor": 1
}
