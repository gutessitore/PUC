{
 "cells": [
  {
   "cell_type": "markdown",
   "metadata": {
    "id": "iJNL1gCnyq0f",
    "pycharm": {
     "name": "#%% md\n"
    }
   },
   "source": [
    "Pontifícia Universidade Católica de São Paulo \n",
    "\n",
    "`Ciência de Dados e Inteligência Artificial`\n",
    "\n",
    "## Laboratório 12 - Clustering hierárquico\n",
    "\n",
    "\n",
    "---\n",
    "> 👨‍🏫*Professor Dr. Rooney Coelho (rracoelho@pucsp.br)*\n",
    "---\n"
   ]
  },
  {
   "cell_type": "markdown",
   "metadata": {
    "id": "TQGXV_j0lqFz",
    "pycharm": {
     "name": "#%% md\n"
    }
   },
   "source": [
    "## Descrição do problema\n",
    "\n",
    "Imagine que um fabricante de automóveis tenha desenvolvido protótipos para um novo veículo. Antes de introduzir o novo modelo em sua gama, o fabricante quer determinar quais veículos existentes no mercado são mais parecidos com os protótipos - ou seja, como os veículos podem ser agrupados, qual grupo é mais semelhante ao modelo e, portanto, quais modelos eles estarão competindo contra.\n",
    "\n",
    "Nosso objetivo aqui é usar métodos de agrupamento, para encontrar os agrupamentos mais distintos de veículos. Ele resumirá os veículos existentes e ajudará a manufatura a tomar decisões sobre novos modelos de maneira simples."
   ]
  },
  {
   "cell_type": "code",
   "execution_count": 22,
   "metadata": {
    "id": "3NX2WP4KyYzK",
    "pycharm": {
     "name": "#%%\n"
    }
   },
   "outputs": [],
   "source": [
    "import numpy as np\n",
    "import pandas as pd\n",
    "import matplotlib.pyplot as plt\n",
    "from sklearn.preprocessing import MinMaxScaler # Normalização\n",
    "from scipy.spatial import distance_matrix # Cálculo da matriz de distâncias\n",
    "from scipy.cluster import hierarchy # Cluster hierárquico"
   ]
  },
  {
   "cell_type": "markdown",
   "metadata": {
    "pycharm": {
     "name": "#%% md\n"
    }
   },
   "source": [
    "Carregue o arquivo disponível em https://s3-api.us-geo.objectstorage.softlayer.net/cf-courses-data/CognitiveClass/ML0101ENv3/labs/cars_clus.csv e armazene em df."
   ]
  },
  {
   "cell_type": "code",
   "execution_count": 17,
   "metadata": {
    "id": "yHzJbdsFykzH",
    "pycharm": {
     "name": "#%%\n"
    }
   },
   "outputs": [
    {
     "data": {
      "text/plain": "    manufact     model   sales  resale    type   price engine_s horsepow  \\\n0      Acura   Integra  16.919  16.360   0.000  21.500    1.800  140.000   \n1      Acura        TL  39.384  19.875   0.000  28.400    3.200  225.000   \n2      Acura        CL  14.114  18.225   0.000  $null$    3.200  225.000   \n3      Acura        RL   8.588  29.725   0.000  42.000    3.500  210.000   \n4       Audi        A4  20.397  22.255   0.000  23.990    1.800  150.000   \n..       ...       ...     ...     ...     ...     ...      ...      ...   \n154    Volvo       V70  17.531  $null$   0.000  28.800    2.400  168.000   \n155    Volvo       C70   3.493  $null$   0.000  45.500    2.300  236.000   \n156    Volvo       S80  18.969  $null$   0.000  36.000    2.900  201.000   \n157      NaN    newCar  $null$  $null$  $null$  21.500    1.500   76.000   \n158      NaN  newTruck  $null$  $null$  $null$  34.200    3.500  167.000   \n\n    wheelbas   width   length curb_wgt fuel_cap     mpg lnsales  partition  \n0    101.200  67.300  172.400    2.639   13.200  28.000   2.828        0.0  \n1    108.100  70.300  192.900    3.517   17.200  25.000   3.673        0.0  \n2    106.900  70.600  192.000    3.470   17.200  26.000   2.647        0.0  \n3    114.600  71.400  196.600    3.850   18.000  22.000   2.150        0.0  \n4    102.600  68.200  178.000    2.998   16.400  27.000   3.015        0.0  \n..       ...     ...      ...      ...      ...     ...     ...        ...  \n154  104.900  69.300  186.200    3.259   17.900  25.000   2.864        0.0  \n155  104.900  71.500  185.700    3.601   18.500  23.000   1.251        0.0  \n156  109.900  72.100  189.800    3.600   21.100  24.000   2.943        0.0  \n157  106.300  67.900  175.000    2.932   11.900  46.000  $null$        1.0  \n158  109.800  75.200  188.400    4.508   17.200  26.000  $null$        1.0  \n\n[159 rows x 16 columns]",
      "text/html": "<div>\n<style scoped>\n    .dataframe tbody tr th:only-of-type {\n        vertical-align: middle;\n    }\n\n    .dataframe tbody tr th {\n        vertical-align: top;\n    }\n\n    .dataframe thead th {\n        text-align: right;\n    }\n</style>\n<table border=\"1\" class=\"dataframe\">\n  <thead>\n    <tr style=\"text-align: right;\">\n      <th></th>\n      <th>manufact</th>\n      <th>model</th>\n      <th>sales</th>\n      <th>resale</th>\n      <th>type</th>\n      <th>price</th>\n      <th>engine_s</th>\n      <th>horsepow</th>\n      <th>wheelbas</th>\n      <th>width</th>\n      <th>length</th>\n      <th>curb_wgt</th>\n      <th>fuel_cap</th>\n      <th>mpg</th>\n      <th>lnsales</th>\n      <th>partition</th>\n    </tr>\n  </thead>\n  <tbody>\n    <tr>\n      <th>0</th>\n      <td>Acura</td>\n      <td>Integra</td>\n      <td>16.919</td>\n      <td>16.360</td>\n      <td>0.000</td>\n      <td>21.500</td>\n      <td>1.800</td>\n      <td>140.000</td>\n      <td>101.200</td>\n      <td>67.300</td>\n      <td>172.400</td>\n      <td>2.639</td>\n      <td>13.200</td>\n      <td>28.000</td>\n      <td>2.828</td>\n      <td>0.0</td>\n    </tr>\n    <tr>\n      <th>1</th>\n      <td>Acura</td>\n      <td>TL</td>\n      <td>39.384</td>\n      <td>19.875</td>\n      <td>0.000</td>\n      <td>28.400</td>\n      <td>3.200</td>\n      <td>225.000</td>\n      <td>108.100</td>\n      <td>70.300</td>\n      <td>192.900</td>\n      <td>3.517</td>\n      <td>17.200</td>\n      <td>25.000</td>\n      <td>3.673</td>\n      <td>0.0</td>\n    </tr>\n    <tr>\n      <th>2</th>\n      <td>Acura</td>\n      <td>CL</td>\n      <td>14.114</td>\n      <td>18.225</td>\n      <td>0.000</td>\n      <td>$null$</td>\n      <td>3.200</td>\n      <td>225.000</td>\n      <td>106.900</td>\n      <td>70.600</td>\n      <td>192.000</td>\n      <td>3.470</td>\n      <td>17.200</td>\n      <td>26.000</td>\n      <td>2.647</td>\n      <td>0.0</td>\n    </tr>\n    <tr>\n      <th>3</th>\n      <td>Acura</td>\n      <td>RL</td>\n      <td>8.588</td>\n      <td>29.725</td>\n      <td>0.000</td>\n      <td>42.000</td>\n      <td>3.500</td>\n      <td>210.000</td>\n      <td>114.600</td>\n      <td>71.400</td>\n      <td>196.600</td>\n      <td>3.850</td>\n      <td>18.000</td>\n      <td>22.000</td>\n      <td>2.150</td>\n      <td>0.0</td>\n    </tr>\n    <tr>\n      <th>4</th>\n      <td>Audi</td>\n      <td>A4</td>\n      <td>20.397</td>\n      <td>22.255</td>\n      <td>0.000</td>\n      <td>23.990</td>\n      <td>1.800</td>\n      <td>150.000</td>\n      <td>102.600</td>\n      <td>68.200</td>\n      <td>178.000</td>\n      <td>2.998</td>\n      <td>16.400</td>\n      <td>27.000</td>\n      <td>3.015</td>\n      <td>0.0</td>\n    </tr>\n    <tr>\n      <th>...</th>\n      <td>...</td>\n      <td>...</td>\n      <td>...</td>\n      <td>...</td>\n      <td>...</td>\n      <td>...</td>\n      <td>...</td>\n      <td>...</td>\n      <td>...</td>\n      <td>...</td>\n      <td>...</td>\n      <td>...</td>\n      <td>...</td>\n      <td>...</td>\n      <td>...</td>\n      <td>...</td>\n    </tr>\n    <tr>\n      <th>154</th>\n      <td>Volvo</td>\n      <td>V70</td>\n      <td>17.531</td>\n      <td>$null$</td>\n      <td>0.000</td>\n      <td>28.800</td>\n      <td>2.400</td>\n      <td>168.000</td>\n      <td>104.900</td>\n      <td>69.300</td>\n      <td>186.200</td>\n      <td>3.259</td>\n      <td>17.900</td>\n      <td>25.000</td>\n      <td>2.864</td>\n      <td>0.0</td>\n    </tr>\n    <tr>\n      <th>155</th>\n      <td>Volvo</td>\n      <td>C70</td>\n      <td>3.493</td>\n      <td>$null$</td>\n      <td>0.000</td>\n      <td>45.500</td>\n      <td>2.300</td>\n      <td>236.000</td>\n      <td>104.900</td>\n      <td>71.500</td>\n      <td>185.700</td>\n      <td>3.601</td>\n      <td>18.500</td>\n      <td>23.000</td>\n      <td>1.251</td>\n      <td>0.0</td>\n    </tr>\n    <tr>\n      <th>156</th>\n      <td>Volvo</td>\n      <td>S80</td>\n      <td>18.969</td>\n      <td>$null$</td>\n      <td>0.000</td>\n      <td>36.000</td>\n      <td>2.900</td>\n      <td>201.000</td>\n      <td>109.900</td>\n      <td>72.100</td>\n      <td>189.800</td>\n      <td>3.600</td>\n      <td>21.100</td>\n      <td>24.000</td>\n      <td>2.943</td>\n      <td>0.0</td>\n    </tr>\n    <tr>\n      <th>157</th>\n      <td>NaN</td>\n      <td>newCar</td>\n      <td>$null$</td>\n      <td>$null$</td>\n      <td>$null$</td>\n      <td>21.500</td>\n      <td>1.500</td>\n      <td>76.000</td>\n      <td>106.300</td>\n      <td>67.900</td>\n      <td>175.000</td>\n      <td>2.932</td>\n      <td>11.900</td>\n      <td>46.000</td>\n      <td>$null$</td>\n      <td>1.0</td>\n    </tr>\n    <tr>\n      <th>158</th>\n      <td>NaN</td>\n      <td>newTruck</td>\n      <td>$null$</td>\n      <td>$null$</td>\n      <td>$null$</td>\n      <td>34.200</td>\n      <td>3.500</td>\n      <td>167.000</td>\n      <td>109.800</td>\n      <td>75.200</td>\n      <td>188.400</td>\n      <td>4.508</td>\n      <td>17.200</td>\n      <td>26.000</td>\n      <td>$null$</td>\n      <td>1.0</td>\n    </tr>\n  </tbody>\n</table>\n<p>159 rows × 16 columns</p>\n</div>"
     },
     "execution_count": 17,
     "metadata": {},
     "output_type": "execute_result"
    }
   ],
   "source": [
    "df = pd.read_csv('https://s3-api.us-geo.objectstorage.softlayer.net/cf-courses-data/CognitiveClass/ML0101ENv3/labs/cars_clus.csv')\n",
    "df"
   ]
  },
  {
   "cell_type": "markdown",
   "metadata": {
    "id": "8XRCoI5S3wej",
    "pycharm": {
     "name": "#%% md\n"
    }
   },
   "source": [
    "### 1) Limpeza dos dados\n",
    "\n",
    "Execute `df.dtypes` para checar o tipo dos dados."
   ]
  },
  {
   "cell_type": "code",
   "execution_count": 18,
   "metadata": {
    "id": "7pn-4oyAzLfX",
    "pycharm": {
     "name": "#%%\n"
    }
   },
   "outputs": [
    {
     "data": {
      "text/plain": "manufact      object\nmodel         object\nsales         object\nresale        object\ntype          object\nprice         object\nengine_s      object\nhorsepow      object\nwheelbas      object\nwidth         object\nlength        object\ncurb_wgt      object\nfuel_cap      object\nmpg           object\nlnsales       object\npartition    float64\ndtype: object"
     },
     "execution_count": 18,
     "metadata": {},
     "output_type": "execute_result"
    }
   ],
   "source": [
    "df.dtypes"
   ]
  },
  {
   "cell_type": "markdown",
   "metadata": {
    "id": "00eLzKc0z1q9",
    "pycharm": {
     "name": "#%% md\n"
    }
   },
   "source": [
    "Note que a maioria das colunas não contém valores numéricos e estão como texto e é necessário fazer uma limpeza desses dados para remover os não nulos.\n",
    "\n",
    "Use o seguinte exemplo como base para converter as colunas de texto para numéricas. Faça isso para todas as colunas após `sales`.\n",
    "```\n",
    "df.iloc[:,2] = df.iloc[:,2].apply( pd.to_numeric, errors='coerce' )\n",
    "```"
   ]
  },
  {
   "cell_type": "code",
   "execution_count": 23,
   "metadata": {
    "id": "un9CuYDN0iFy",
    "pycharm": {
     "name": "#%%\n"
    }
   },
   "outputs": [
    {
     "data": {
      "text/plain": "manufact      object\nmodel         object\nsales        float64\nresale       float64\ntype         float64\nprice        float64\nengine_s     float64\nhorsepow     float64\nwheelbas     float64\nwidth        float64\nlength       float64\ncurb_wgt     float64\nfuel_cap     float64\nmpg          float64\nlnsales      float64\npartition    float64\ndtype: object"
     },
     "execution_count": 23,
     "metadata": {},
     "output_type": "execute_result"
    }
   ],
   "source": [
    "df.replace(\"$null$\", np.nan, inplace=True)\n",
    "\n",
    "for col in df.columns[2:]:\n",
    "    df[col] = df[col].astype('float64')\n",
    "\n",
    "df.dtypes"
   ]
  },
  {
   "cell_type": "markdown",
   "metadata": {
    "id": "C4vv4XlG3ouN",
    "pycharm": {
     "name": "#%% md\n"
    }
   },
   "source": [
    "Uma vez que você atribuiu `NaN` para os dados faltantes use o método `dropna()` do seu Dataframe para remover as linhas que contém dados faltantes. Use em seguida o método `reset_index(drop=True)` para corrigir a numeração."
   ]
  },
  {
   "cell_type": "code",
   "execution_count": 24,
   "metadata": {
    "id": "5YoGQ3z227dW",
    "pycharm": {
     "name": "#%%\n"
    }
   },
   "outputs": [
    {
     "data": {
      "text/plain": "       manufact    model   sales  resale  type  price  engine_s  horsepow  \\\n0         Acura  Integra  16.919  16.360   0.0  21.50       1.8     140.0   \n1         Acura       TL  39.384  19.875   0.0  28.40       3.2     225.0   \n2         Acura       RL   8.588  29.725   0.0  42.00       3.5     210.0   \n3          Audi       A4  20.397  22.255   0.0  23.99       1.8     150.0   \n4          Audi       A6  18.780  23.555   0.0  33.95       2.8     200.0   \n..          ...      ...     ...     ...   ...    ...       ...       ...   \n112  Volkswagen     Golf   9.761  11.425   0.0  14.90       2.0     115.0   \n113  Volkswagen    Jetta  83.721  13.240   0.0  16.70       2.0     115.0   \n114  Volkswagen   Passat  51.102  16.725   0.0  21.20       1.8     150.0   \n115  Volkswagen   Cabrio   9.569  16.575   0.0  19.99       2.0     115.0   \n116  Volkswagen      GTI   5.596  13.760   0.0  17.50       2.0     115.0   \n\n     wheelbas  width  length  curb_wgt  fuel_cap   mpg  lnsales  partition  \n0       101.2   67.3   172.4     2.639      13.2  28.0    2.828        0.0  \n1       108.1   70.3   192.9     3.517      17.2  25.0    3.673        0.0  \n2       114.6   71.4   196.6     3.850      18.0  22.0    2.150        0.0  \n3       102.6   68.2   178.0     2.998      16.4  27.0    3.015        0.0  \n4       108.7   76.1   192.0     3.561      18.5  22.0    2.933        0.0  \n..        ...    ...     ...       ...       ...   ...      ...        ...  \n112      98.9   68.3   163.3     2.767      14.5  26.0    2.278        0.0  \n113      98.9   68.3   172.3     2.853      14.5  26.0    4.427        0.0  \n114     106.4   68.5   184.1     3.043      16.4  27.0    3.934        0.0  \n115      97.4   66.7   160.4     3.079      13.7  26.0    2.259        0.0  \n116      98.9   68.3   163.3     2.762      14.6  26.0    1.722        0.0  \n\n[117 rows x 16 columns]",
      "text/html": "<div>\n<style scoped>\n    .dataframe tbody tr th:only-of-type {\n        vertical-align: middle;\n    }\n\n    .dataframe tbody tr th {\n        vertical-align: top;\n    }\n\n    .dataframe thead th {\n        text-align: right;\n    }\n</style>\n<table border=\"1\" class=\"dataframe\">\n  <thead>\n    <tr style=\"text-align: right;\">\n      <th></th>\n      <th>manufact</th>\n      <th>model</th>\n      <th>sales</th>\n      <th>resale</th>\n      <th>type</th>\n      <th>price</th>\n      <th>engine_s</th>\n      <th>horsepow</th>\n      <th>wheelbas</th>\n      <th>width</th>\n      <th>length</th>\n      <th>curb_wgt</th>\n      <th>fuel_cap</th>\n      <th>mpg</th>\n      <th>lnsales</th>\n      <th>partition</th>\n    </tr>\n  </thead>\n  <tbody>\n    <tr>\n      <th>0</th>\n      <td>Acura</td>\n      <td>Integra</td>\n      <td>16.919</td>\n      <td>16.360</td>\n      <td>0.0</td>\n      <td>21.50</td>\n      <td>1.8</td>\n      <td>140.0</td>\n      <td>101.2</td>\n      <td>67.3</td>\n      <td>172.4</td>\n      <td>2.639</td>\n      <td>13.2</td>\n      <td>28.0</td>\n      <td>2.828</td>\n      <td>0.0</td>\n    </tr>\n    <tr>\n      <th>1</th>\n      <td>Acura</td>\n      <td>TL</td>\n      <td>39.384</td>\n      <td>19.875</td>\n      <td>0.0</td>\n      <td>28.40</td>\n      <td>3.2</td>\n      <td>225.0</td>\n      <td>108.1</td>\n      <td>70.3</td>\n      <td>192.9</td>\n      <td>3.517</td>\n      <td>17.2</td>\n      <td>25.0</td>\n      <td>3.673</td>\n      <td>0.0</td>\n    </tr>\n    <tr>\n      <th>2</th>\n      <td>Acura</td>\n      <td>RL</td>\n      <td>8.588</td>\n      <td>29.725</td>\n      <td>0.0</td>\n      <td>42.00</td>\n      <td>3.5</td>\n      <td>210.0</td>\n      <td>114.6</td>\n      <td>71.4</td>\n      <td>196.6</td>\n      <td>3.850</td>\n      <td>18.0</td>\n      <td>22.0</td>\n      <td>2.150</td>\n      <td>0.0</td>\n    </tr>\n    <tr>\n      <th>3</th>\n      <td>Audi</td>\n      <td>A4</td>\n      <td>20.397</td>\n      <td>22.255</td>\n      <td>0.0</td>\n      <td>23.99</td>\n      <td>1.8</td>\n      <td>150.0</td>\n      <td>102.6</td>\n      <td>68.2</td>\n      <td>178.0</td>\n      <td>2.998</td>\n      <td>16.4</td>\n      <td>27.0</td>\n      <td>3.015</td>\n      <td>0.0</td>\n    </tr>\n    <tr>\n      <th>4</th>\n      <td>Audi</td>\n      <td>A6</td>\n      <td>18.780</td>\n      <td>23.555</td>\n      <td>0.0</td>\n      <td>33.95</td>\n      <td>2.8</td>\n      <td>200.0</td>\n      <td>108.7</td>\n      <td>76.1</td>\n      <td>192.0</td>\n      <td>3.561</td>\n      <td>18.5</td>\n      <td>22.0</td>\n      <td>2.933</td>\n      <td>0.0</td>\n    </tr>\n    <tr>\n      <th>...</th>\n      <td>...</td>\n      <td>...</td>\n      <td>...</td>\n      <td>...</td>\n      <td>...</td>\n      <td>...</td>\n      <td>...</td>\n      <td>...</td>\n      <td>...</td>\n      <td>...</td>\n      <td>...</td>\n      <td>...</td>\n      <td>...</td>\n      <td>...</td>\n      <td>...</td>\n      <td>...</td>\n    </tr>\n    <tr>\n      <th>112</th>\n      <td>Volkswagen</td>\n      <td>Golf</td>\n      <td>9.761</td>\n      <td>11.425</td>\n      <td>0.0</td>\n      <td>14.90</td>\n      <td>2.0</td>\n      <td>115.0</td>\n      <td>98.9</td>\n      <td>68.3</td>\n      <td>163.3</td>\n      <td>2.767</td>\n      <td>14.5</td>\n      <td>26.0</td>\n      <td>2.278</td>\n      <td>0.0</td>\n    </tr>\n    <tr>\n      <th>113</th>\n      <td>Volkswagen</td>\n      <td>Jetta</td>\n      <td>83.721</td>\n      <td>13.240</td>\n      <td>0.0</td>\n      <td>16.70</td>\n      <td>2.0</td>\n      <td>115.0</td>\n      <td>98.9</td>\n      <td>68.3</td>\n      <td>172.3</td>\n      <td>2.853</td>\n      <td>14.5</td>\n      <td>26.0</td>\n      <td>4.427</td>\n      <td>0.0</td>\n    </tr>\n    <tr>\n      <th>114</th>\n      <td>Volkswagen</td>\n      <td>Passat</td>\n      <td>51.102</td>\n      <td>16.725</td>\n      <td>0.0</td>\n      <td>21.20</td>\n      <td>1.8</td>\n      <td>150.0</td>\n      <td>106.4</td>\n      <td>68.5</td>\n      <td>184.1</td>\n      <td>3.043</td>\n      <td>16.4</td>\n      <td>27.0</td>\n      <td>3.934</td>\n      <td>0.0</td>\n    </tr>\n    <tr>\n      <th>115</th>\n      <td>Volkswagen</td>\n      <td>Cabrio</td>\n      <td>9.569</td>\n      <td>16.575</td>\n      <td>0.0</td>\n      <td>19.99</td>\n      <td>2.0</td>\n      <td>115.0</td>\n      <td>97.4</td>\n      <td>66.7</td>\n      <td>160.4</td>\n      <td>3.079</td>\n      <td>13.7</td>\n      <td>26.0</td>\n      <td>2.259</td>\n      <td>0.0</td>\n    </tr>\n    <tr>\n      <th>116</th>\n      <td>Volkswagen</td>\n      <td>GTI</td>\n      <td>5.596</td>\n      <td>13.760</td>\n      <td>0.0</td>\n      <td>17.50</td>\n      <td>2.0</td>\n      <td>115.0</td>\n      <td>98.9</td>\n      <td>68.3</td>\n      <td>163.3</td>\n      <td>2.762</td>\n      <td>14.6</td>\n      <td>26.0</td>\n      <td>1.722</td>\n      <td>0.0</td>\n    </tr>\n  </tbody>\n</table>\n<p>117 rows × 16 columns</p>\n</div>"
     },
     "execution_count": 24,
     "metadata": {},
     "output_type": "execute_result"
    }
   ],
   "source": [
    "df.dropna(inplace=True)\n",
    "df.reset_index(drop=True, inplace=True)\n",
    "df"
   ]
  },
  {
   "cell_type": "markdown",
   "metadata": {
    "id": "HJBK0_MS4Lt3",
    "pycharm": {
     "name": "#%% md\n"
    }
   },
   "source": [
    "Confira que a operação foi bem sucedida usando `df.isna().any()`. Ainda há algum dado faltante no DataFrame?"
   ]
  },
  {
   "cell_type": "code",
   "execution_count": 25,
   "metadata": {
    "id": "AZWW9vtoyzyS",
    "pycharm": {
     "name": "#%%\n"
    }
   },
   "outputs": [
    {
     "data": {
      "text/plain": "manufact     False\nmodel        False\nsales        False\nresale       False\ntype         False\nprice        False\nengine_s     False\nhorsepow     False\nwheelbas     False\nwidth        False\nlength       False\ncurb_wgt     False\nfuel_cap     False\nmpg          False\nlnsales      False\npartition    False\ndtype: bool"
     },
     "execution_count": 25,
     "metadata": {},
     "output_type": "execute_result"
    }
   ],
   "source": [
    "df.isna().any()"
   ]
  },
  {
   "cell_type": "markdown",
   "metadata": {
    "id": "D50d9Xts6aFt",
    "pycharm": {
     "name": "#%% md\n"
    }
   },
   "source": [
    "### 2) Atribuição das features\n",
    "\n",
    "Para a nossa classificação use come features as seguintes colunas do Dataset:\n",
    "\n",
    "\n",
    "* 'engine_s'  \n",
    "* 'horsepow' \n",
    "* 'wheelbas' \n",
    "* 'width' \n",
    "* 'length' \n",
    "* 'curb_wgt' \n",
    "* 'fuel_cap' \n",
    "* 'mpg'\n",
    "\n"
   ]
  },
  {
   "cell_type": "code",
   "execution_count": 26,
   "metadata": {
    "id": "DRGuHYsz6fSw",
    "pycharm": {
     "name": "#%%\n"
    }
   },
   "outputs": [],
   "source": [
    "feature_names = ['engine_s', 'horsepow', 'wheelbas', 'width', 'length', 'curb_wgt', 'fuel_cap', 'mpg']\n",
    "features = df[feature_names]"
   ]
  },
  {
   "cell_type": "markdown",
   "metadata": {
    "id": "xmxVErl_64yY",
    "pycharm": {
     "name": "#%% md\n"
    }
   },
   "source": [
    "### 3) Normalização dos dados\n",
    "\n",
    "Use o método `fit_transform()` da do objeto `MinMaxScaler()` que foi importado para a normalzação dos dados entre 0-1."
   ]
  },
  {
   "cell_type": "code",
   "execution_count": 27,
   "metadata": {
    "id": "XFhxLiDD67ld",
    "pycharm": {
     "name": "#%%\n"
    }
   },
   "outputs": [],
   "source": [
    "scaler = MinMaxScaler()\n",
    "features = scaler.fit_transform(features)"
   ]
  },
  {
   "cell_type": "markdown",
   "metadata": {
    "id": "VzkpBwQE8O75",
    "pycharm": {
     "name": "#%% md\n"
    }
   },
   "source": [
    "### 4) Cluster hierárquico\n",
    "\n",
    "Para fazer o agrupamento dos dados use a biblioteca Scipy. Antes de tudo calcule a matriz de distâncias usando a função `distance_matrix()` que foi importada no cabeçalho do caderno. "
   ]
  },
  {
   "cell_type": "code",
   "execution_count": 29,
   "metadata": {
    "id": "Jk2eKwXA8n7h",
    "pycharm": {
     "name": "#%%\n"
    }
   },
   "outputs": [
    {
     "data": {
      "text/plain": "array([[0.        , 0.57777143, 0.75455727, ..., 0.28530295, 0.24917241,\n        0.18879995],\n       [0.57777143, 0.        , 0.22798938, ..., 0.36087756, 0.66346677,\n        0.62201282],\n       [0.75455727, 0.22798938, 0.        , ..., 0.51727787, 0.81786095,\n        0.77930119],\n       ...,\n       [0.28530295, 0.36087756, 0.51727787, ..., 0.        , 0.41797928,\n        0.35720492],\n       [0.24917241, 0.66346677, 0.81786095, ..., 0.41797928, 0.        ,\n        0.15212198],\n       [0.18879995, 0.62201282, 0.77930119, ..., 0.35720492, 0.15212198,\n        0.        ]])"
     },
     "execution_count": 29,
     "metadata": {},
     "output_type": "execute_result"
    }
   ],
   "source": [
    "dist_matrix = distance_matrix(features, features)\n",
    "dist_matrix"
   ]
  },
  {
   "cell_type": "markdown",
   "metadata": {
    "id": "3Q6BZNZO9K64",
    "pycharm": {
     "name": "#%% md\n"
    }
   },
   "source": [
    "No agrupamento aglomerativo, a cada iteração, o algoritmo deve atualizar a matriz de distância para refletir a distância do cluster recém-formado com os clusters restantes. Os seguintes métodos são suportados no Scipy para calcular a distância entre o cluster recém-formado e cada um: único, completo, médio, ponderado, centróide.\n",
    "\n",
    "Agora que você calculou a matriz de distâncias configure a função de ligamento entre clusters `linkage` como do tipo `complete`. Use a biblioteca hierachy do scipy para isso. Usamos o completo em nosso caso, mas fique à vontade para alterá-lo para ver como os resultados mudam."
   ]
  },
  {
   "cell_type": "code",
   "execution_count": 31,
   "metadata": {
    "colab": {
     "base_uri": "https://localhost:8080/"
    },
    "id": "fmEcRgoC818G",
    "outputId": "b6427ae5-6355-42f6-d30b-4e73a4b69612",
    "pycharm": {
     "name": "#%%\n"
    }
   },
   "outputs": [
    {
     "name": "stderr",
     "output_type": "stream",
     "text": [
      "/tmp/ipykernel_30322/2263504671.py:1: ClusterWarning: scipy.cluster: The symmetric non-negative hollow observation matrix looks suspiciously like an uncondensed distance matrix\n",
      "  Z = hierarchy.linkage(dist_matrix, 'complete')\n"
     ]
    }
   ],
   "source": [
    "Z = hierarchy.linkage(dist_matrix, 'complete')"
   ]
  },
  {
   "cell_type": "markdown",
   "metadata": {
    "id": "rbqU5KrZAuNh",
    "pycharm": {
     "name": "#%% md\n"
    }
   },
   "source": [
    "Gere agora o dendrograma para o cluster hierárquico que você acabou de caluclar. Salve a figura como `dendro.pdf` usando o método `savefig` do pyplot. Analise o arquivo gerado e veja as relações."
   ]
  },
  {
   "cell_type": "code",
   "execution_count": 32,
   "metadata": {
    "colab": {
     "base_uri": "https://localhost:8080/",
     "height": 1000
    },
    "id": "2kd1QJ9R_IXC",
    "outputId": "08b51772-679e-4189-b523-1265e632b395",
    "pycharm": {
     "name": "#%%\n"
    }
   },
   "outputs": [
    {
     "data": {
      "text/plain": "<Figure size 1800x720 with 1 Axes>",
      "image/png": "[encoded data removed]"
     },
     "metadata": {
      "needs_background": "light"
     },
     "output_type": "display_data"
    }
   ],
   "source": [
    "plt.figure(figsize=(25, 10))\n",
    "dn = hierarchy.dendrogram(Z)\n",
    "plt.savefig('dendro.pdf')"
   ]
  },
  {
   "cell_type": "markdown",
   "metadata": {
    "id": "xTc_f8r8BG5d",
    "pycharm": {
     "name": "#%% md\n"
    }
   },
   "source": [
    "Essencialmente, o clustering hierárquico não requer um número pré-especificado de clusters. No entanto, em alguns aplicativos, queremos uma partição de clusters separados, assim como no cluster simples. Então você pode usar uma linha de corte, execute o código a seguir para isso.\n",
    "\n",
    "```python\n",
    "from scipy.cluster.hierarchy import fcluster\n",
    "k = 5 # número de clusters\n",
    "clusters = fcluster(Z, k, criterion='maxclust')\n",
    "clusters\n",
    "```"
   ]
  },
  {
   "cell_type": "code",
   "execution_count": 33,
   "metadata": {
    "colab": {
     "base_uri": "https://localhost:8080/"
    },
    "id": "Zv4bJrkC_4zT",
    "outputId": "92e92165-ac31-4583-c84e-8a65d4e0841e",
    "pycharm": {
     "name": "#%%\n"
    }
   },
   "outputs": [
    {
     "data": {
      "text/plain": "array([1, 3, 3, 3, 3, 2, 3, 3, 3, 3, 3, 3, 2, 2, 3, 1, 3, 3, 3, 3, 2, 1,\n       5, 3, 3, 3, 3, 3, 1, 3, 3, 4, 4, 4, 4, 2, 3, 1, 3, 3, 3, 2, 3, 2,\n       4, 3, 4, 1, 3, 3, 3, 2, 1, 1, 3, 3, 1, 3, 3, 3, 3, 2, 2, 2, 1, 3,\n       3, 3, 3, 2, 3, 3, 3, 3, 2, 3, 3, 3, 3, 2, 2, 1, 3, 3, 3, 3, 3, 2,\n       3, 2, 1, 3, 3, 3, 3, 3, 3, 3, 3, 3, 3, 1, 1, 1, 1, 3, 3, 1, 1, 1,\n       3, 4, 1, 1, 3, 1, 1], dtype=int32)"
     },
     "execution_count": 33,
     "metadata": {},
     "output_type": "execute_result"
    }
   ],
   "source": [
    "from scipy.cluster.hierarchy import fcluster\n",
    "k = 5 # número de clusters\n",
    "clusters = fcluster(Z, k, criterion='maxclust')\n",
    "clusters"
   ]
  },
  {
   "cell_type": "markdown",
   "metadata": {
    "id": "QPoSxoJ9BeO0",
    "pycharm": {
     "name": "#%% md\n"
    }
   },
   "source": [
    "Adicione esses grupos recém criados a uma nova coluna do DataFrame original."
   ]
  },
  {
   "cell_type": "code",
   "execution_count": 34,
   "metadata": {
    "colab": {
     "base_uri": "https://localhost:8080/",
     "height": 437
    },
    "id": "4aowgJ6jBVp3",
    "outputId": "d434fac2-bb68-4ea5-b6a4-1e7ba94d4703",
    "pycharm": {
     "name": "#%%\n"
    }
   },
   "outputs": [
    {
     "data": {
      "text/plain": "       manufact    model   sales  resale  type  price  engine_s  horsepow  \\\n0         Acura  Integra  16.919  16.360   0.0  21.50       1.8     140.0   \n1         Acura       TL  39.384  19.875   0.0  28.40       3.2     225.0   \n2         Acura       RL   8.588  29.725   0.0  42.00       3.5     210.0   \n3          Audi       A4  20.397  22.255   0.0  23.99       1.8     150.0   \n4          Audi       A6  18.780  23.555   0.0  33.95       2.8     200.0   \n..          ...      ...     ...     ...   ...    ...       ...       ...   \n112  Volkswagen     Golf   9.761  11.425   0.0  14.90       2.0     115.0   \n113  Volkswagen    Jetta  83.721  13.240   0.0  16.70       2.0     115.0   \n114  Volkswagen   Passat  51.102  16.725   0.0  21.20       1.8     150.0   \n115  Volkswagen   Cabrio   9.569  16.575   0.0  19.99       2.0     115.0   \n116  Volkswagen      GTI   5.596  13.760   0.0  17.50       2.0     115.0   \n\n     wheelbas  width  length  curb_wgt  fuel_cap   mpg  lnsales  partition  \\\n0       101.2   67.3   172.4     2.639      13.2  28.0    2.828        0.0   \n1       108.1   70.3   192.9     3.517      17.2  25.0    3.673        0.0   \n2       114.6   71.4   196.6     3.850      18.0  22.0    2.150        0.0   \n3       102.6   68.2   178.0     2.998      16.4  27.0    3.015        0.0   \n4       108.7   76.1   192.0     3.561      18.5  22.0    2.933        0.0   \n..        ...    ...     ...       ...       ...   ...      ...        ...   \n112      98.9   68.3   163.3     2.767      14.5  26.0    2.278        0.0   \n113      98.9   68.3   172.3     2.853      14.5  26.0    4.427        0.0   \n114     106.4   68.5   184.1     3.043      16.4  27.0    3.934        0.0   \n115      97.4   66.7   160.4     3.079      13.7  26.0    2.259        0.0   \n116      98.9   68.3   163.3     2.762      14.6  26.0    1.722        0.0   \n\n     cluster  \n0          1  \n1          3  \n2          3  \n3          3  \n4          3  \n..       ...  \n112        1  \n113        1  \n114        3  \n115        1  \n116        1  \n\n[117 rows x 17 columns]",
      "text/html": "<div>\n<style scoped>\n    .dataframe tbody tr th:only-of-type {\n        vertical-align: middle;\n    }\n\n    .dataframe tbody tr th {\n        vertical-align: top;\n    }\n\n    .dataframe thead th {\n        text-align: right;\n    }\n</style>\n<table border=\"1\" class=\"dataframe\">\n  <thead>\n    <tr style=\"text-align: right;\">\n      <th></th>\n      <th>manufact</th>\n      <th>model</th>\n      <th>sales</th>\n      <th>resale</th>\n      <th>type</th>\n      <th>price</th>\n      <th>engine_s</th>\n      <th>horsepow</th>\n      <th>wheelbas</th>\n      <th>width</th>\n      <th>length</th>\n      <th>curb_wgt</th>\n      <th>fuel_cap</th>\n      <th>mpg</th>\n      <th>lnsales</th>\n      <th>partition</th>\n      <th>cluster</th>\n    </tr>\n  </thead>\n  <tbody>\n    <tr>\n      <th>0</th>\n      <td>Acura</td>\n      <td>Integra</td>\n      <td>16.919</td>\n      <td>16.360</td>\n      <td>0.0</td>\n      <td>21.50</td>\n      <td>1.8</td>\n      <td>140.0</td>\n      <td>101.2</td>\n      <td>67.3</td>\n      <td>172.4</td>\n      <td>2.639</td>\n      <td>13.2</td>\n      <td>28.0</td>\n      <td>2.828</td>\n      <td>0.0</td>\n      <td>1</td>\n    </tr>\n    <tr>\n      <th>1</th>\n      <td>Acura</td>\n      <td>TL</td>\n      <td>39.384</td>\n      <td>19.875</td>\n      <td>0.0</td>\n      <td>28.40</td>\n      <td>3.2</td>\n      <td>225.0</td>\n      <td>108.1</td>\n      <td>70.3</td>\n      <td>192.9</td>\n      <td>3.517</td>\n      <td>17.2</td>\n      <td>25.0</td>\n      <td>3.673</td>\n      <td>0.0</td>\n      <td>3</td>\n    </tr>\n    <tr>\n      <th>2</th>\n      <td>Acura</td>\n      <td>RL</td>\n      <td>8.588</td>\n      <td>29.725</td>\n      <td>0.0</td>\n      <td>42.00</td>\n      <td>3.5</td>\n      <td>210.0</td>\n      <td>114.6</td>\n      <td>71.4</td>\n      <td>196.6</td>\n      <td>3.850</td>\n      <td>18.0</td>\n      <td>22.0</td>\n      <td>2.150</td>\n      <td>0.0</td>\n      <td>3</td>\n    </tr>\n    <tr>\n      <th>3</th>\n      <td>Audi</td>\n      <td>A4</td>\n      <td>20.397</td>\n      <td>22.255</td>\n      <td>0.0</td>\n      <td>23.99</td>\n      <td>1.8</td>\n      <td>150.0</td>\n      <td>102.6</td>\n      <td>68.2</td>\n      <td>178.0</td>\n      <td>2.998</td>\n      <td>16.4</td>\n      <td>27.0</td>\n      <td>3.015</td>\n      <td>0.0</td>\n      <td>3</td>\n    </tr>\n    <tr>\n      <th>4</th>\n      <td>Audi</td>\n      <td>A6</td>\n      <td>18.780</td>\n      <td>23.555</td>\n      <td>0.0</td>\n      <td>33.95</td>\n      <td>2.8</td>\n      <td>200.0</td>\n      <td>108.7</td>\n      <td>76.1</td>\n      <td>192.0</td>\n      <td>3.561</td>\n      <td>18.5</td>\n      <td>22.0</td>\n      <td>2.933</td>\n      <td>0.0</td>\n      <td>3</td>\n    </tr>\n    <tr>\n      <th>...</th>\n      <td>...</td>\n      <td>...</td>\n      <td>...</td>\n      <td>...</td>\n      <td>...</td>\n      <td>...</td>\n      <td>...</td>\n      <td>...</td>\n      <td>...</td>\n      <td>...</td>\n      <td>...</td>\n      <td>...</td>\n      <td>...</td>\n      <td>...</td>\n      <td>...</td>\n      <td>...</td>\n      <td>...</td>\n    </tr>\n    <tr>\n      <th>112</th>\n      <td>Volkswagen</td>\n      <td>Golf</td>\n      <td>9.761</td>\n      <td>11.425</td>\n      <td>0.0</td>\n      <td>14.90</td>\n      <td>2.0</td>\n      <td>115.0</td>\n      <td>98.9</td>\n      <td>68.3</td>\n      <td>163.3</td>\n      <td>2.767</td>\n      <td>14.5</td>\n      <td>26.0</td>\n      <td>2.278</td>\n      <td>0.0</td>\n      <td>1</td>\n    </tr>\n    <tr>\n      <th>113</th>\n      <td>Volkswagen</td>\n      <td>Jetta</td>\n      <td>83.721</td>\n      <td>13.240</td>\n      <td>0.0</td>\n      <td>16.70</td>\n      <td>2.0</td>\n      <td>115.0</td>\n      <td>98.9</td>\n      <td>68.3</td>\n      <td>172.3</td>\n      <td>2.853</td>\n      <td>14.5</td>\n      <td>26.0</td>\n      <td>4.427</td>\n      <td>0.0</td>\n      <td>1</td>\n    </tr>\n    <tr>\n      <th>114</th>\n      <td>Volkswagen</td>\n      <td>Passat</td>\n      <td>51.102</td>\n      <td>16.725</td>\n      <td>0.0</td>\n      <td>21.20</td>\n      <td>1.8</td>\n      <td>150.0</td>\n      <td>106.4</td>\n      <td>68.5</td>\n      <td>184.1</td>\n      <td>3.043</td>\n      <td>16.4</td>\n      <td>27.0</td>\n      <td>3.934</td>\n      <td>0.0</td>\n      <td>3</td>\n    </tr>\n    <tr>\n      <th>115</th>\n      <td>Volkswagen</td>\n      <td>Cabrio</td>\n      <td>9.569</td>\n      <td>16.575</td>\n      <td>0.0</td>\n      <td>19.99</td>\n      <td>2.0</td>\n      <td>115.0</td>\n      <td>97.4</td>\n      <td>66.7</td>\n      <td>160.4</td>\n      <td>3.079</td>\n      <td>13.7</td>\n      <td>26.0</td>\n      <td>2.259</td>\n      <td>0.0</td>\n      <td>1</td>\n    </tr>\n    <tr>\n      <th>116</th>\n      <td>Volkswagen</td>\n      <td>GTI</td>\n      <td>5.596</td>\n      <td>13.760</td>\n      <td>0.0</td>\n      <td>17.50</td>\n      <td>2.0</td>\n      <td>115.0</td>\n      <td>98.9</td>\n      <td>68.3</td>\n      <td>163.3</td>\n      <td>2.762</td>\n      <td>14.6</td>\n      <td>26.0</td>\n      <td>1.722</td>\n      <td>0.0</td>\n      <td>1</td>\n    </tr>\n  </tbody>\n</table>\n<p>117 rows × 17 columns</p>\n</div>"
     },
     "execution_count": 34,
     "metadata": {},
     "output_type": "execute_result"
    }
   ],
   "source": [
    "df['cluster'] = clusters\n",
    "df"
   ]
  }
 ],
 "metadata": {
  "colab": {
   "collapsed_sections": [],
   "provenance": []
  },
  "kernelspec": {
   "display_name": "Python 3.10.8 64-bit (microsoft store)",
   "language": "python",
   "name": "python3"
  },
  "language_info": {
   "name": "python",
   "version": "3.10.8"
  },
  "vscode": {
   "interpreter": {
    "hash": "19f8edf9f3d47184070387e5526ef4245906fb1893b7f74c12e591a863440618"
   }
  }
 },
 "nbformat": 4,
 "nbformat_minor": 0
}