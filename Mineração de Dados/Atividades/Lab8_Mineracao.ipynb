{
 "cells": [
  {
   "cell_type": "markdown",
   "metadata": {},
   "source": [
    "Pontifícia Universidade Católica de São Paulo \n",
    "\n",
    "`Ciência de Dados e Inteligência Artificial`\n",
    "\n",
    "🎓 Laboratório 8 - Regressão Logística\n",
    "\n",
    "---\n",
    "> 👨‍🏫*Professor Rooney Coelho (rracoelho@pucsp.br)*\n",
    "---"
   ]
  },
  {
   "cell_type": "code",
   "execution_count": 35,
   "metadata": {},
   "outputs": [],
   "source": [
    "import pandas as pd\n",
    "import matplotlib.pyplot as plt\n",
    "from sklearn.feature_extraction.text import CountVectorizer\n",
    "from sklearn.model_selection import train_test_split\n",
    "from sklearn.linear_model import LogisticRegression\n",
    "from sklearn.metrics import classification_report\n",
    "from sklearn.linear_model import LogisticRegressionCV\n",
    "from sklearn.metrics import accuracy_score"
   ]
  },
  {
   "cell_type": "markdown",
   "metadata": {},
   "source": [
    "## Como funciona a regressão logística?\n",
    "\n",
    "Temos apenas dois pratos, $x_1$ e $x_2$. Eles são pratos japoneses e italianos, respectivamente, e indicamos suas características de ingredientes com 0's e 1's.\n",
    "\n",
    "* Passo 1\n",
    "\n",
    "Imagine que já treinamos nosso regressor logístico binário e os *Parâmetros* já foram determinados. Cada $\\beta$ representa um parâmetro que treinamos. Vamos agora conectar os recursos de nossos dois pratos na equação de regressão $f(x)$ que é a **soma** do **produto** de nossas entradas e parâmetros.\n",
    "\n",
    "* Passo 2\n",
    "\n",
    "Essa é a parte importante! Agora, inserimos o resultado anterior na função logística (logit) que gerará um valor entre 0 e 1. Esse valor pode ser interpretado como uma *probabilidade* de qualquer classe.\n",
    "\n",
    "Nossos dois pratos, depois de serem passados por meio de regressão logística, foram mapeados em uma função logit com seus valores $y$ significando o quanto eles pertencem a qualquer classe. Quanto mais à direita você for, mais italiano será o prato e quanto mais à esquerda mais japonês."
   ]
  },
  {
   "cell_type": "markdown",
   "metadata": {},
   "source": [
    "<img src=\"https://cf-courses-data.s3.us.cloud-object-storage.appdomain.cloud/IBM-PY0181EN-SkillsNetwork/labs/2_linear_classifiers/images/summary.png\" alt=\"drawing\" width=\"1150\">\n",
    "<!-- ![Diagram](Picture1.png){ width : 50% } -->"
   ]
  },
  {
   "cell_type": "markdown",
   "metadata": {},
   "source": [
    "## Exemplo 1 - Problema de Classificação: Prevendo os tipos de cozinha\n",
    "\n",
    "Vamos realizar um exercício de classificação simples nos dados da receita. Sua tarefa é encontrar o tipo específico de cozinha com base nesses dados.\n",
    "\n",
    "Vamos começar carregando os dados da receita em um `pandas.DataFrame`:\n",
    "\n",
    "*NOTA: Algumas células levarão muito tempo para serem executadas!!!*"
   ]
  },
  {
   "cell_type": "code",
   "execution_count": 36,
   "metadata": {},
   "outputs": [
    {
     "data": {
      "text/plain": "           cuisine                                        ingredients\nid                                                                   \n10259        greek  [romaine lettuce, black olives, grape tomatoes...\n25693  southern_us  [plain flour, ground pepper, salt, tomatoes, g...\n20130     filipino  [eggs, pepper, salt, mayonaise, cooking oil, g...\n22213       indian                [water, vegetable oil, wheat, salt]\n13162       indian  [black pepper, shallots, cornflour, cayenne pe...\n...            ...                                                ...\n29109        irish  [light brown sugar, granulated sugar, butter, ...\n11462      italian  [KRAFT Zesty Italian Dressing, purple onion, b...\n2238         irish  [eggs, citrus fruit, raisins, sourdough starte...\n41882      chinese  [boneless chicken skinless thigh, minced garli...\n2362       mexican  [green chile, jalapeno chilies, onions, ground...\n\n[39774 rows x 2 columns]",
      "text/html": "<div>\n<style scoped>\n    .dataframe tbody tr th:only-of-type {\n        vertical-align: middle;\n    }\n\n    .dataframe tbody tr th {\n        vertical-align: top;\n    }\n\n    .dataframe thead th {\n        text-align: right;\n    }\n</style>\n<table border=\"1\" class=\"dataframe\">\n  <thead>\n    <tr style=\"text-align: right;\">\n      <th></th>\n      <th>cuisine</th>\n      <th>ingredients</th>\n    </tr>\n    <tr>\n      <th>id</th>\n      <th></th>\n      <th></th>\n    </tr>\n  </thead>\n  <tbody>\n    <tr>\n      <th>10259</th>\n      <td>greek</td>\n      <td>[romaine lettuce, black olives, grape tomatoes...</td>\n    </tr>\n    <tr>\n      <th>25693</th>\n      <td>southern_us</td>\n      <td>[plain flour, ground pepper, salt, tomatoes, g...</td>\n    </tr>\n    <tr>\n      <th>20130</th>\n      <td>filipino</td>\n      <td>[eggs, pepper, salt, mayonaise, cooking oil, g...</td>\n    </tr>\n    <tr>\n      <th>22213</th>\n      <td>indian</td>\n      <td>[water, vegetable oil, wheat, salt]</td>\n    </tr>\n    <tr>\n      <th>13162</th>\n      <td>indian</td>\n      <td>[black pepper, shallots, cornflour, cayenne pe...</td>\n    </tr>\n    <tr>\n      <th>...</th>\n      <td>...</td>\n      <td>...</td>\n    </tr>\n    <tr>\n      <th>29109</th>\n      <td>irish</td>\n      <td>[light brown sugar, granulated sugar, butter, ...</td>\n    </tr>\n    <tr>\n      <th>11462</th>\n      <td>italian</td>\n      <td>[KRAFT Zesty Italian Dressing, purple onion, b...</td>\n    </tr>\n    <tr>\n      <th>2238</th>\n      <td>irish</td>\n      <td>[eggs, citrus fruit, raisins, sourdough starte...</td>\n    </tr>\n    <tr>\n      <th>41882</th>\n      <td>chinese</td>\n      <td>[boneless chicken skinless thigh, minced garli...</td>\n    </tr>\n    <tr>\n      <th>2362</th>\n      <td>mexican</td>\n      <td>[green chile, jalapeno chilies, onions, ground...</td>\n    </tr>\n  </tbody>\n</table>\n<p>39774 rows × 2 columns</p>\n</div>"
     },
     "execution_count": 36,
     "metadata": {},
     "output_type": "execute_result"
    }
   ],
   "source": [
    "df = pd.read_json('data.json').set_index(\"id\")\n",
    "df"
   ]
  },
  {
   "cell_type": "markdown",
   "metadata": {},
   "source": [
    "Como você pode ver, cada prato tem uma lista completa de ingredientes associados a ele. Precisamos processá-los de alguma forma para conectá-los à nossa função de regressão logística, que nos ajudará a classificar cada prato em suas cozinhas."
   ]
  },
  {
   "cell_type": "markdown",
   "metadata": {},
   "source": [
    "Mostre aqui todas as cozinhas presentes na base de dados usando valores únicos."
   ]
  },
  {
   "cell_type": "code",
   "execution_count": 37,
   "metadata": {},
   "outputs": [
    {
     "data": {
      "text/plain": "array(['greek', 'southern_us', 'filipino', 'indian', 'jamaican',\n       'spanish', 'italian', 'mexican', 'chinese', 'british', 'thai',\n       'vietnamese', 'cajun_creole', 'brazilian', 'french', 'japanese',\n       'irish', 'korean', 'moroccan', 'russian'], dtype=object)"
     },
     "execution_count": 37,
     "metadata": {},
     "output_type": "execute_result"
    }
   ],
   "source": [
    "df['cuisine'].unique()"
   ]
  },
  {
   "cell_type": "markdown",
   "metadata": {},
   "source": [
    "Faça um histograma para a origem dos pratos"
   ]
  },
  {
   "cell_type": "code",
   "execution_count": 38,
   "metadata": {},
   "outputs": [
    {
     "data": {
      "text/plain": "<Figure size 1080x504 with 1 Axes>",
      "image/png": "[encoded data removed]"
     },
     "metadata": {
      "needs_background": "light"
     },
     "output_type": "display_data"
    }
   ],
   "source": [
    "plt.figure(figsize=(15, 7))\n",
    "df['cuisine'].hist();"
   ]
  },
  {
   "cell_type": "markdown",
   "metadata": {},
   "source": [
    "Agora, vamos pensar em como podemos usar ingredientes para representar um prato. Você pode pensar imediatamente em usar apenas os nomes dos ingredientes para representar um prato. Antes de fazermos isso, vamos analisar os ingredientes.\n",
    "\n",
    "Faça um histograma que descreve a frequência de cada comprimento da lista de ingredientes. Lembre-se que cada ingrediente é uma lista, então calcule o comprimento de cada lista de ingredientes para gerar este histograma.\n",
    "\n",
    " Vemos que o comprimento médio da lista de ingredientes é em torno de 10, com o máximo próximo a 30."
   ]
  },
  {
   "cell_type": "code",
   "execution_count": 39,
   "metadata": {},
   "outputs": [
    {
     "data": {
      "text/plain": "<AxesSubplot:>"
     },
     "execution_count": 39,
     "metadata": {},
     "output_type": "execute_result"
    },
    {
     "data": {
      "text/plain": "<Figure size 1080x504 with 1 Axes>",
      "image/png": "[encoded data removed]"
     },
     "metadata": {
      "needs_background": "light"
     },
     "output_type": "display_data"
    }
   ],
   "source": [
    "plt.figure(figsize=(15, 7))\n",
    "df['ingredients'].apply(len).hist()"
   ]
  },
  {
   "cell_type": "markdown",
   "metadata": {},
   "source": [
    "Se criássemos uma matriz onde cada ingrediente fosse uma coluna, e tudo o que significasse se esse ingrediente estivesse em um determinado prato, quantas colunas teríamos?\n",
    "\n",
    "Podemos usar o método `pd.Series.explode()` na coluna `ingredients` para mesclar as listas de ingredientes em uma grande série de pandas de todos os ingredientes."
   ]
  },
  {
   "cell_type": "code",
   "execution_count": 40,
   "metadata": {},
   "outputs": [
    {
     "data": {
      "text/plain": "id\n10259    romaine lettuce\n10259       black olives\n10259     grape tomatoes\n10259             garlic\n10259             pepper\n              ...       \n2362              garlic\n2362         white sugar\n2362       roma tomatoes\n2362              celery\n2362       dried oregano\nName: ingredients, Length: 428275, dtype: object"
     },
     "execution_count": 40,
     "metadata": {},
     "output_type": "execute_result"
    }
   ],
   "source": [
    "all_ingredients = df['ingredients'].explode()\n",
    "all_ingredients"
   ]
  },
  {
   "cell_type": "markdown",
   "metadata": {},
   "source": [
    "Esta lista contém todos os ingredientes de cada receita, mas isso não é útil porque temos duplicatas como `alho` e muitos outros. Se executarmos um `pd.Series.unique()` podemos eliminar todas as duplicatas.\n",
    "\n",
    "Faça a contagem de ingredientes únicos:"
   ]
  },
  {
   "cell_type": "code",
   "execution_count": 41,
   "metadata": {},
   "outputs": [
    {
     "data": {
      "text/plain": "(6714,)"
     },
     "execution_count": 41,
     "metadata": {},
     "output_type": "execute_result"
    }
   ],
   "source": [
    "all_ingredients.unique().shape"
   ]
  },
  {
   "cell_type": "markdown",
   "metadata": {},
   "source": [
    "Isso é um monte de ingredientes; se tivéssemos colunas `6714` para linhas de dados `39774`, teríamos uma matriz de células `267.042.636`! Isso é muito grande. Precisamos de uma maneira de extrair informações importantes sem sobrecarregar nosso sistema com uma quantidade louca de cálculos."
   ]
  },
  {
   "cell_type": "markdown",
   "metadata": {},
   "source": [
    "### Modelo Bag-of-Words\n",
    "\n",
    "Como estamos trabalhando com texto, uma coisa simples e fácil de fazer é mesclar a lista de ingredientes de cada prato em uma string e usar as palavras dessa string para representar o prato.\n",
    "Isso nos dará uma compreensão rápida e fácil de quais ingredientes entram em um prato.\n",
    "\n",
    "Essa representação de um prato pela contagem de cada ingrediente é chamada de **Bag-of-Words** de um ponto de dados usando suas\n",
    "palavras/ingredientes em um espaço dimensional $n$.\n",
    "\n",
    "Para fazer isso, usaremos o método sklearn `CountVectorizer`.\n",
    "\n",
    "```python\n",
    "CountVectorizer(*, input='content', encoding='utf-8', decode_error='strict', strip_accents=None, lowercase=True, preprocessor=None, tokenizer=None, stop_words=None, token_pattern='(?u)\\b\\w\\w+\\b', ngram_range=(1, 1), analyzer='word', max_df=1.0, min_df=1, max_features=None, vocabulary=None, binary=False, dtype=<class 'numpy.int64'>)\n",
    "```"
   ]
  },
  {
   "cell_type": "code",
   "execution_count": 42,
   "metadata": {},
   "outputs": [
    {
     "data": {
      "text/plain": "\"'mussels', 'ground black pepper', 'garlic cloves', 'saffron threads', 'olive oil', 'stewed tomatoes', 'arborio rice', 'minced onion', 'medium shrimp', 'fat free less sodium chicken broth', 'green peas'\""
     },
     "execution_count": 42,
     "metadata": {},
     "output_type": "execute_result"
    }
   ],
   "source": [
    "# Converter uma lista em uma string\n",
    "df['ingredients'].astype(str)[0].strip('[]')"
   ]
  },
  {
   "cell_type": "markdown",
   "metadata": {},
   "source": [
    "Parece uma boa e detalhada lista de ingredientes! Uma preocupação que podemos ter é o quão detalhados queremos que nossos ingredientes sejam. A especificação de `'fat free less sodium chicken broth'` fornece mais informações sobre um termo mais simples como `'chicken broth'`?\n",
    "\n",
    "## n-gramas\n",
    "\n",
    "Podemos usar o argumento `ngram_range` para limitar o número de palavras em um determinado ingrediente. Se definirmos para `(1,2)`, nosso `CountVectorizer` irá olhar apenas uma ou duas palavras de cada vez, como `chicken` e `chicken broth`, mas não `fat free less sodium chicken broth`. Isso pode significar que termos como \"fat free\" ou \"less sodium\" se tornarão \"ingredients\", mas não terão sentido! Isso pode ser ignorado, pois selecionaremos os principais recursos por sua frequência em todas as receitas."
   ]
  },
  {
   "cell_type": "code",
   "execution_count": 43,
   "metadata": {},
   "outputs": [],
   "source": [
    "#pegue os ingredientes do conjunto de treinamento\n",
    "ingredients = df['ingredients'].astype(str).apply(lambda x: x.strip('[]'))"
   ]
  },
  {
   "cell_type": "markdown",
   "metadata": {},
   "source": [
    "Use a função `CountVectorizer` para bigramas, usando um range `(1,2)` e para `200` features: "
   ]
  },
  {
   "cell_type": "code",
   "execution_count": 44,
   "metadata": {},
   "outputs": [],
   "source": [
    "cv = CountVectorizer(ngram_range=(1, 2), max_features=200)"
   ]
  },
  {
   "cell_type": "markdown",
   "metadata": {},
   "source": [
    "Sendo `cv` o resultado do processamento de `CountVectorizer`, crie um DataFrame da seguinte forma:\n",
    "\n",
    "```python\n",
    "tf = cv.fit_transform(ingredients)\n",
    "\n",
    "df_vectorized = pd.DataFrame(tf.toarray(), columns=cv.get_feature_names_out())\n",
    "df_vectorized\n",
    "```"
   ]
  },
  {
   "cell_type": "code",
   "execution_count": 45,
   "metadata": {},
   "outputs": [
    {
     "data": {
      "text/plain": "       all  all purpose  avocado  baking  baking powder  basil  bay  beans  \\\n0        0            0        0       0              0      0    0      1   \n1        0            0        0       0              0      0    0      0   \n2        0            0        0       0              0      0    0      0   \n3        0            0        0       0              0      0    0      0   \n4        0            0        0       0              0      0    1      0   \n...    ...          ...      ...     ...            ...    ...  ...    ...   \n39769    1            1        0       0              0      0    0      0   \n39770    0            0        0       0              0      0    0      0   \n39771    0            0        0       0              0      0    0      0   \n39772    0            0        0       2              1      0    0      0   \n39773    0            0        0       0              0      0    0      0   \n\n       beef  bell  ...  vegetable oil  vinegar  virgin  virgin olive  water  \\\n0         0     0  ...              0        0       0             0      0   \n1         0     0  ...              1        0       0             0      0   \n2         0     0  ...              0        0       0             0      0   \n3         0     0  ...              1        0       0             0      1   \n4         0     0  ...              0        0       0             0      1   \n...     ...   ...  ...            ...      ...     ...           ...    ...   \n39769     0     0  ...              0        0       0             0      2   \n39770     0     0  ...              0        0       0             0      0   \n39771     0     0  ...              0        0       0             0      0   \n39772     0     0  ...              0        1       0             0      0   \n39773     0     1  ...              0        0       0             0      0   \n\n       white  white wine  whole  wine  yellow  \n0          0           0      0     0       0  \n1          0           0      0     0       1  \n2          0           0      0     0       1  \n3          0           0      0     0       0  \n4          0           0      0     0       0  \n...      ...         ...    ...   ...     ...  \n39769      0           0      1     0       0  \n39770      0           0      0     0       0  \n39771      0           0      0     0       0  \n39772      1           0      0     1       0  \n39773      1           0      0     0       0  \n\n[39774 rows x 200 columns]",
      "text/html": "<div>\n<style scoped>\n    .dataframe tbody tr th:only-of-type {\n        vertical-align: middle;\n    }\n\n    .dataframe tbody tr th {\n        vertical-align: top;\n    }\n\n    .dataframe thead th {\n        text-align: right;\n    }\n</style>\n<table border=\"1\" class=\"dataframe\">\n  <thead>\n    <tr style=\"text-align: right;\">\n      <th></th>\n      <th>all</th>\n      <th>all purpose</th>\n      <th>avocado</th>\n      <th>baking</th>\n      <th>baking powder</th>\n      <th>basil</th>\n      <th>bay</th>\n      <th>beans</th>\n      <th>beef</th>\n      <th>bell</th>\n      <th>...</th>\n      <th>vegetable oil</th>\n      <th>vinegar</th>\n      <th>virgin</th>\n      <th>virgin olive</th>\n      <th>water</th>\n      <th>white</th>\n      <th>white wine</th>\n      <th>whole</th>\n      <th>wine</th>\n      <th>yellow</th>\n    </tr>\n  </thead>\n  <tbody>\n    <tr>\n      <th>0</th>\n      <td>0</td>\n      <td>0</td>\n      <td>0</td>\n      <td>0</td>\n      <td>0</td>\n      <td>0</td>\n      <td>0</td>\n      <td>1</td>\n      <td>0</td>\n      <td>0</td>\n      <td>...</td>\n      <td>0</td>\n      <td>0</td>\n      <td>0</td>\n      <td>0</td>\n      <td>0</td>\n      <td>0</td>\n      <td>0</td>\n      <td>0</td>\n      <td>0</td>\n      <td>0</td>\n    </tr>\n    <tr>\n      <th>1</th>\n      <td>0</td>\n      <td>0</td>\n      <td>0</td>\n      <td>0</td>\n      <td>0</td>\n      <td>0</td>\n      <td>0</td>\n      <td>0</td>\n      <td>0</td>\n      <td>0</td>\n      <td>...</td>\n      <td>1</td>\n      <td>0</td>\n      <td>0</td>\n      <td>0</td>\n      <td>0</td>\n      <td>0</td>\n      <td>0</td>\n      <td>0</td>\n      <td>0</td>\n      <td>1</td>\n    </tr>\n    <tr>\n      <th>2</th>\n      <td>0</td>\n      <td>0</td>\n      <td>0</td>\n      <td>0</td>\n      <td>0</td>\n      <td>0</td>\n      <td>0</td>\n      <td>0</td>\n      <td>0</td>\n      <td>0</td>\n      <td>...</td>\n      <td>0</td>\n      <td>0</td>\n      <td>0</td>\n      <td>0</td>\n      <td>0</td>\n      <td>0</td>\n      <td>0</td>\n      <td>0</td>\n      <td>0</td>\n      <td>1</td>\n    </tr>\n    <tr>\n      <th>3</th>\n      <td>0</td>\n      <td>0</td>\n      <td>0</td>\n      <td>0</td>\n      <td>0</td>\n      <td>0</td>\n      <td>0</td>\n      <td>0</td>\n      <td>0</td>\n      <td>0</td>\n      <td>...</td>\n      <td>1</td>\n      <td>0</td>\n      <td>0</td>\n      <td>0</td>\n      <td>1</td>\n      <td>0</td>\n      <td>0</td>\n      <td>0</td>\n      <td>0</td>\n      <td>0</td>\n    </tr>\n    <tr>\n      <th>4</th>\n      <td>0</td>\n      <td>0</td>\n      <td>0</td>\n      <td>0</td>\n      <td>0</td>\n      <td>0</td>\n      <td>1</td>\n      <td>0</td>\n      <td>0</td>\n      <td>0</td>\n      <td>...</td>\n      <td>0</td>\n      <td>0</td>\n      <td>0</td>\n      <td>0</td>\n      <td>1</td>\n      <td>0</td>\n      <td>0</td>\n      <td>0</td>\n      <td>0</td>\n      <td>0</td>\n    </tr>\n    <tr>\n      <th>...</th>\n      <td>...</td>\n      <td>...</td>\n      <td>...</td>\n      <td>...</td>\n      <td>...</td>\n      <td>...</td>\n      <td>...</td>\n      <td>...</td>\n      <td>...</td>\n      <td>...</td>\n      <td>...</td>\n      <td>...</td>\n      <td>...</td>\n      <td>...</td>\n      <td>...</td>\n      <td>...</td>\n      <td>...</td>\n      <td>...</td>\n      <td>...</td>\n      <td>...</td>\n      <td>...</td>\n    </tr>\n    <tr>\n      <th>39769</th>\n      <td>1</td>\n      <td>1</td>\n      <td>0</td>\n      <td>0</td>\n      <td>0</td>\n      <td>0</td>\n      <td>0</td>\n      <td>0</td>\n      <td>0</td>\n      <td>0</td>\n      <td>...</td>\n      <td>0</td>\n      <td>0</td>\n      <td>0</td>\n      <td>0</td>\n      <td>2</td>\n      <td>0</td>\n      <td>0</td>\n      <td>1</td>\n      <td>0</td>\n      <td>0</td>\n    </tr>\n    <tr>\n      <th>39770</th>\n      <td>0</td>\n      <td>0</td>\n      <td>0</td>\n      <td>0</td>\n      <td>0</td>\n      <td>0</td>\n      <td>0</td>\n      <td>0</td>\n      <td>0</td>\n      <td>0</td>\n      <td>...</td>\n      <td>0</td>\n      <td>0</td>\n      <td>0</td>\n      <td>0</td>\n      <td>0</td>\n      <td>0</td>\n      <td>0</td>\n      <td>0</td>\n      <td>0</td>\n      <td>0</td>\n    </tr>\n    <tr>\n      <th>39771</th>\n      <td>0</td>\n      <td>0</td>\n      <td>0</td>\n      <td>0</td>\n      <td>0</td>\n      <td>0</td>\n      <td>0</td>\n      <td>0</td>\n      <td>0</td>\n      <td>0</td>\n      <td>...</td>\n      <td>0</td>\n      <td>0</td>\n      <td>0</td>\n      <td>0</td>\n      <td>0</td>\n      <td>0</td>\n      <td>0</td>\n      <td>0</td>\n      <td>0</td>\n      <td>0</td>\n    </tr>\n    <tr>\n      <th>39772</th>\n      <td>0</td>\n      <td>0</td>\n      <td>0</td>\n      <td>2</td>\n      <td>1</td>\n      <td>0</td>\n      <td>0</td>\n      <td>0</td>\n      <td>0</td>\n      <td>0</td>\n      <td>...</td>\n      <td>0</td>\n      <td>1</td>\n      <td>0</td>\n      <td>0</td>\n      <td>0</td>\n      <td>1</td>\n      <td>0</td>\n      <td>0</td>\n      <td>1</td>\n      <td>0</td>\n    </tr>\n    <tr>\n      <th>39773</th>\n      <td>0</td>\n      <td>0</td>\n      <td>0</td>\n      <td>0</td>\n      <td>0</td>\n      <td>0</td>\n      <td>0</td>\n      <td>0</td>\n      <td>0</td>\n      <td>1</td>\n      <td>...</td>\n      <td>0</td>\n      <td>0</td>\n      <td>0</td>\n      <td>0</td>\n      <td>0</td>\n      <td>1</td>\n      <td>0</td>\n      <td>0</td>\n      <td>0</td>\n      <td>0</td>\n    </tr>\n  </tbody>\n</table>\n<p>39774 rows × 200 columns</p>\n</div>"
     },
     "execution_count": 45,
     "metadata": {},
     "output_type": "execute_result"
    }
   ],
   "source": [
    "tf = cv.fit_transform(ingredients)\n",
    "df_vectorized = pd.DataFrame(tf.toarray(), columns=cv.get_feature_names_out())\n",
    "df_vectorized"
   ]
  },
  {
   "cell_type": "markdown",
   "metadata": {},
   "source": [
    "* A matriz é muito esparsa! Muitos pratos (linhas) terão uma tonelada de 0s\n",
    "* Os números são muito pequenos, geralmente 1 ou no máximo 2\n",
    "* Palavras como `all, all purpose, baking, virgin, white e yellow` não têm muito significado. Provavelmente devemos removê-los."
   ]
  },
  {
   "cell_type": "markdown",
   "metadata": {},
   "source": [
    "Remova as seguintes palavras sem sentido que podem ser geradas pelo n-grama."
   ]
  },
  {
   "cell_type": "code",
   "execution_count": 46,
   "metadata": {},
   "outputs": [],
   "source": [
    "excludedWords = ['all', 'all purpose', 'baking', 'brown', 'cooked', 'cooking', 'diced', 'dried', 'dry',\n",
    "                 'extra', 'extra virgin', 'extract', 'grated', 'green', 'ground', 'heavy', 'hot', \n",
    "                 'italian', 'kosher', 'large', 'low', 'minced', 'light', 'powder', 'purple', 'purpose',\n",
    "                 'purpose flour', 'red', 'sea', 'skinless', 'sliced', 'sodium chicken','sour','unsalted',\n",
    "                 'virgin', 'white','whole','yellow']"
   ]
  },
  {
   "cell_type": "markdown",
   "metadata": {},
   "source": [
    "Quando você trabalha com dados de texto, especialmente incorporações de palavras, geralmente não é recomendado remover recursos manualmente dessa forma, pois é subjetivo e não reproduzível. Com o raciocínio apropriado, no entanto, poderia ser aceitável.\n",
    "\n",
    "Use o método `drop` do pandas para remover as colunas cujo nome são `excludedWords`."
   ]
  },
  {
   "cell_type": "code",
   "execution_count": 47,
   "metadata": {},
   "outputs": [
    {
     "data": {
      "text/plain": "       avocado  baking powder  basil  bay  beans  beef  bell  bell pepper  \\\n0            0              0      0    0      1     0     0            0   \n1            0              0      0    0      0     0     0            0   \n2            0              0      0    0      0     0     0            0   \n3            0              0      0    0      0     0     0            0   \n4            0              0      0    1      0     0     0            0   \n...        ...            ...    ...  ...    ...   ...   ...          ...   \n39769        0              0      0    0      0     0     0            0   \n39770        0              0      0    0      0     0     0            0   \n39771        0              0      0    0      0     0     0            0   \n39772        0              1      0    0      0     0     0            0   \n39773        0              0      0    0      0     0     1            1   \n\n       black  black pepper  ...  unsalted butter  vanilla  vanilla extract  \\\n0          1             0  ...                0        0                0   \n1          1             1  ...                0        0                0   \n2          0             0  ...                0        0                0   \n3          0             0  ...                0        0                0   \n4          1             1  ...                0        0                0   \n...      ...           ...  ...              ...      ...              ...   \n39769      0             0  ...                0        0                0   \n39770      1             0  ...                0        0                0   \n39771      0             0  ...                0        0                0   \n39772      0             0  ...                0        0                0   \n39773      1             1  ...                0        0                0   \n\n       vegetable  vegetable oil  vinegar  virgin olive  water  white wine  \\\n0              0              0        0             0      0           0   \n1              1              1        0             0      0           0   \n2              0              0        0             0      0           0   \n3              1              1        0             0      1           0   \n4              0              0        0             0      1           0   \n...          ...            ...      ...           ...    ...         ...   \n39769          0              0        0             0      2           0   \n39770          0              0        0             0      0           0   \n39771          0              0        0             0      0           0   \n39772          0              0        1             0      0           0   \n39773          0              0        0             0      0           0   \n\n       wine  \n0         0  \n1         0  \n2         0  \n3         0  \n4         0  \n...     ...  \n39769     0  \n39770     0  \n39771     0  \n39772     1  \n39773     0  \n\n[39774 rows x 162 columns]",
      "text/html": "<div>\n<style scoped>\n    .dataframe tbody tr th:only-of-type {\n        vertical-align: middle;\n    }\n\n    .dataframe tbody tr th {\n        vertical-align: top;\n    }\n\n    .dataframe thead th {\n        text-align: right;\n    }\n</style>\n<table border=\"1\" class=\"dataframe\">\n  <thead>\n    <tr style=\"text-align: right;\">\n      <th></th>\n      <th>avocado</th>\n      <th>baking powder</th>\n      <th>basil</th>\n      <th>bay</th>\n      <th>beans</th>\n      <th>beef</th>\n      <th>bell</th>\n      <th>bell pepper</th>\n      <th>black</th>\n      <th>black pepper</th>\n      <th>...</th>\n      <th>unsalted butter</th>\n      <th>vanilla</th>\n      <th>vanilla extract</th>\n      <th>vegetable</th>\n      <th>vegetable oil</th>\n      <th>vinegar</th>\n      <th>virgin olive</th>\n      <th>water</th>\n      <th>white wine</th>\n      <th>wine</th>\n    </tr>\n  </thead>\n  <tbody>\n    <tr>\n      <th>0</th>\n      <td>0</td>\n      <td>0</td>\n      <td>0</td>\n      <td>0</td>\n      <td>1</td>\n      <td>0</td>\n      <td>0</td>\n      <td>0</td>\n      <td>1</td>\n      <td>0</td>\n      <td>...</td>\n      <td>0</td>\n      <td>0</td>\n      <td>0</td>\n      <td>0</td>\n      <td>0</td>\n      <td>0</td>\n      <td>0</td>\n      <td>0</td>\n      <td>0</td>\n      <td>0</td>\n    </tr>\n    <tr>\n      <th>1</th>\n      <td>0</td>\n      <td>0</td>\n      <td>0</td>\n      <td>0</td>\n      <td>0</td>\n      <td>0</td>\n      <td>0</td>\n      <td>0</td>\n      <td>1</td>\n      <td>1</td>\n      <td>...</td>\n      <td>0</td>\n      <td>0</td>\n      <td>0</td>\n      <td>1</td>\n      <td>1</td>\n      <td>0</td>\n      <td>0</td>\n      <td>0</td>\n      <td>0</td>\n      <td>0</td>\n    </tr>\n    <tr>\n      <th>2</th>\n      <td>0</td>\n      <td>0</td>\n      <td>0</td>\n      <td>0</td>\n      <td>0</td>\n      <td>0</td>\n      <td>0</td>\n      <td>0</td>\n      <td>0</td>\n      <td>0</td>\n      <td>...</td>\n      <td>0</td>\n      <td>0</td>\n      <td>0</td>\n      <td>0</td>\n      <td>0</td>\n      <td>0</td>\n      <td>0</td>\n      <td>0</td>\n      <td>0</td>\n      <td>0</td>\n    </tr>\n    <tr>\n      <th>3</th>\n      <td>0</td>\n      <td>0</td>\n      <td>0</td>\n      <td>0</td>\n      <td>0</td>\n      <td>0</td>\n      <td>0</td>\n      <td>0</td>\n      <td>0</td>\n      <td>0</td>\n      <td>...</td>\n      <td>0</td>\n      <td>0</td>\n      <td>0</td>\n      <td>1</td>\n      <td>1</td>\n      <td>0</td>\n      <td>0</td>\n      <td>1</td>\n      <td>0</td>\n      <td>0</td>\n    </tr>\n    <tr>\n      <th>4</th>\n      <td>0</td>\n      <td>0</td>\n      <td>0</td>\n      <td>1</td>\n      <td>0</td>\n      <td>0</td>\n      <td>0</td>\n      <td>0</td>\n      <td>1</td>\n      <td>1</td>\n      <td>...</td>\n      <td>0</td>\n      <td>0</td>\n      <td>0</td>\n      <td>0</td>\n      <td>0</td>\n      <td>0</td>\n      <td>0</td>\n      <td>1</td>\n      <td>0</td>\n      <td>0</td>\n    </tr>\n    <tr>\n      <th>...</th>\n      <td>...</td>\n      <td>...</td>\n      <td>...</td>\n      <td>...</td>\n      <td>...</td>\n      <td>...</td>\n      <td>...</td>\n      <td>...</td>\n      <td>...</td>\n      <td>...</td>\n      <td>...</td>\n      <td>...</td>\n      <td>...</td>\n      <td>...</td>\n      <td>...</td>\n      <td>...</td>\n      <td>...</td>\n      <td>...</td>\n      <td>...</td>\n      <td>...</td>\n      <td>...</td>\n    </tr>\n    <tr>\n      <th>39769</th>\n      <td>0</td>\n      <td>0</td>\n      <td>0</td>\n      <td>0</td>\n      <td>0</td>\n      <td>0</td>\n      <td>0</td>\n      <td>0</td>\n      <td>0</td>\n      <td>0</td>\n      <td>...</td>\n      <td>0</td>\n      <td>0</td>\n      <td>0</td>\n      <td>0</td>\n      <td>0</td>\n      <td>0</td>\n      <td>0</td>\n      <td>2</td>\n      <td>0</td>\n      <td>0</td>\n    </tr>\n    <tr>\n      <th>39770</th>\n      <td>0</td>\n      <td>0</td>\n      <td>0</td>\n      <td>0</td>\n      <td>0</td>\n      <td>0</td>\n      <td>0</td>\n      <td>0</td>\n      <td>1</td>\n      <td>0</td>\n      <td>...</td>\n      <td>0</td>\n      <td>0</td>\n      <td>0</td>\n      <td>0</td>\n      <td>0</td>\n      <td>0</td>\n      <td>0</td>\n      <td>0</td>\n      <td>0</td>\n      <td>0</td>\n    </tr>\n    <tr>\n      <th>39771</th>\n      <td>0</td>\n      <td>0</td>\n      <td>0</td>\n      <td>0</td>\n      <td>0</td>\n      <td>0</td>\n      <td>0</td>\n      <td>0</td>\n      <td>0</td>\n      <td>0</td>\n      <td>...</td>\n      <td>0</td>\n      <td>0</td>\n      <td>0</td>\n      <td>0</td>\n      <td>0</td>\n      <td>0</td>\n      <td>0</td>\n      <td>0</td>\n      <td>0</td>\n      <td>0</td>\n    </tr>\n    <tr>\n      <th>39772</th>\n      <td>0</td>\n      <td>1</td>\n      <td>0</td>\n      <td>0</td>\n      <td>0</td>\n      <td>0</td>\n      <td>0</td>\n      <td>0</td>\n      <td>0</td>\n      <td>0</td>\n      <td>...</td>\n      <td>0</td>\n      <td>0</td>\n      <td>0</td>\n      <td>0</td>\n      <td>0</td>\n      <td>1</td>\n      <td>0</td>\n      <td>0</td>\n      <td>0</td>\n      <td>1</td>\n    </tr>\n    <tr>\n      <th>39773</th>\n      <td>0</td>\n      <td>0</td>\n      <td>0</td>\n      <td>0</td>\n      <td>0</td>\n      <td>0</td>\n      <td>1</td>\n      <td>1</td>\n      <td>1</td>\n      <td>1</td>\n      <td>...</td>\n      <td>0</td>\n      <td>0</td>\n      <td>0</td>\n      <td>0</td>\n      <td>0</td>\n      <td>0</td>\n      <td>0</td>\n      <td>0</td>\n      <td>0</td>\n      <td>0</td>\n    </tr>\n  </tbody>\n</table>\n<p>39774 rows × 162 columns</p>\n</div>"
     },
     "execution_count": 47,
     "metadata": {},
     "output_type": "execute_result"
    }
   ],
   "source": [
    "df_vectorized.drop(excludedWords, axis=1, inplace=True)\n",
    "df_vectorized"
   ]
  },
  {
   "cell_type": "markdown",
   "metadata": {},
   "source": [
    "Usando esse conjunto de dados, agora podemos aplicar a **Regressão Logística**."
   ]
  },
  {
   "cell_type": "markdown",
   "metadata": {},
   "source": [
    "### Nota sobre embeddings \n",
    "\n",
    "O que temos aqui é uma matriz de frequência de termos muito simples. Como é essencialmente uma codificação one-hot, é muito simples em comparação com matrizes de frequência de termos para outros tópicos de PLN.\n",
    "\n",
    "Outra matriz popular para usar em PLN é a matriz **tf-idf**, que significa a matriz **frequência do termo - frequência inversa do documento**. Essa matriz aumenta os termos na matriz de frequência de termos de modo que mais palavras *importantes/especiais* para um determinado documento tenham valores mais altos do que palavras que ocorrem com frequência, como *\"o\" ou \"e\"*. Usando essa matriz, você pode criar incorporações de documentos mais significativas, o que pode ajudar em vários aplicativos que exigem representações precisas de documentos."
   ]
  },
  {
   "cell_type": "markdown",
   "metadata": {},
   "source": [
    "### Divisão dos dados\n",
    "\n",
    "Faça aqui a divisão dos dados usando o train_test_split, separe 25% dos dados para teste. Uma vez que os dados estão desbalanceados, use `stratify=df['cuisine']` como argumento desta função para dividir os dados na mesma proporção."
   ]
  },
  {
   "cell_type": "code",
   "execution_count": 48,
   "metadata": {},
   "outputs": [],
   "source": [
    "X_train, X_test, y_train, y_test = train_test_split(df_vectorized, df['cuisine'], test_size=0.25, stratify=df['cuisine'])"
   ]
  },
  {
   "cell_type": "markdown",
   "metadata": {},
   "source": [
    "Execute a célula abaixo para conferir se a mesma proporção de treino e teste foi respeitada:"
   ]
  },
  {
   "cell_type": "code",
   "execution_count": 49,
   "metadata": {},
   "outputs": [
    {
     "data": {
      "text/plain": "                cuisine    cuisine\nitalian       19.704995  19.710378\nmexican       16.185049  16.190668\nsouthern_us   10.861549  10.860821\nindian         7.549447   7.552293\nchinese        6.721421   6.717619\nfrench         6.651022   6.657281\ncajun_creole   3.888703   3.881738\nthai           3.868589   3.871681\njapanese       3.576936   3.580048\ngreek          2.953403   2.956557\nspanish        2.487429   2.483910\nkorean         2.088502   2.081657\nvietnamese     2.075092   2.071601\nmoroccan       2.065035   2.061545\nbritish        2.021455   2.021319\nfilipino       1.897419   1.900644\nirish          1.676165   1.679405\njamaican       1.324170   1.317377\nrussian        1.230305   1.226870\nbrazilian      1.173315   1.176589",
      "text/html": "<div>\n<style scoped>\n    .dataframe tbody tr th:only-of-type {\n        vertical-align: middle;\n    }\n\n    .dataframe tbody tr th {\n        vertical-align: top;\n    }\n\n    .dataframe thead th {\n        text-align: right;\n    }\n</style>\n<table border=\"1\" class=\"dataframe\">\n  <thead>\n    <tr style=\"text-align: right;\">\n      <th></th>\n      <th>cuisine</th>\n      <th>cuisine</th>\n    </tr>\n  </thead>\n  <tbody>\n    <tr>\n      <th>italian</th>\n      <td>19.704995</td>\n      <td>19.710378</td>\n    </tr>\n    <tr>\n      <th>mexican</th>\n      <td>16.185049</td>\n      <td>16.190668</td>\n    </tr>\n    <tr>\n      <th>southern_us</th>\n      <td>10.861549</td>\n      <td>10.860821</td>\n    </tr>\n    <tr>\n      <th>indian</th>\n      <td>7.549447</td>\n      <td>7.552293</td>\n    </tr>\n    <tr>\n      <th>chinese</th>\n      <td>6.721421</td>\n      <td>6.717619</td>\n    </tr>\n    <tr>\n      <th>french</th>\n      <td>6.651022</td>\n      <td>6.657281</td>\n    </tr>\n    <tr>\n      <th>cajun_creole</th>\n      <td>3.888703</td>\n      <td>3.881738</td>\n    </tr>\n    <tr>\n      <th>thai</th>\n      <td>3.868589</td>\n      <td>3.871681</td>\n    </tr>\n    <tr>\n      <th>japanese</th>\n      <td>3.576936</td>\n      <td>3.580048</td>\n    </tr>\n    <tr>\n      <th>greek</th>\n      <td>2.953403</td>\n      <td>2.956557</td>\n    </tr>\n    <tr>\n      <th>spanish</th>\n      <td>2.487429</td>\n      <td>2.483910</td>\n    </tr>\n    <tr>\n      <th>korean</th>\n      <td>2.088502</td>\n      <td>2.081657</td>\n    </tr>\n    <tr>\n      <th>vietnamese</th>\n      <td>2.075092</td>\n      <td>2.071601</td>\n    </tr>\n    <tr>\n      <th>moroccan</th>\n      <td>2.065035</td>\n      <td>2.061545</td>\n    </tr>\n    <tr>\n      <th>british</th>\n      <td>2.021455</td>\n      <td>2.021319</td>\n    </tr>\n    <tr>\n      <th>filipino</th>\n      <td>1.897419</td>\n      <td>1.900644</td>\n    </tr>\n    <tr>\n      <th>irish</th>\n      <td>1.676165</td>\n      <td>1.679405</td>\n    </tr>\n    <tr>\n      <th>jamaican</th>\n      <td>1.324170</td>\n      <td>1.317377</td>\n    </tr>\n    <tr>\n      <th>russian</th>\n      <td>1.230305</td>\n      <td>1.226870</td>\n    </tr>\n    <tr>\n      <th>brazilian</th>\n      <td>1.173315</td>\n      <td>1.176589</td>\n    </tr>\n  </tbody>\n</table>\n</div>"
     },
     "execution_count": 49,
     "metadata": {},
     "output_type": "execute_result"
    }
   ],
   "source": [
    "aux1 = y_train.value_counts().sort_values(ascending=False)\n",
    "aux2 = y_test.value_counts().sort_values(ascending=False)\n",
    "\n",
    "aux1 = aux1/sum(aux1) * 100\n",
    "aux2 = aux2/sum(aux2) * 100\n",
    "\n",
    "# Imprir de forma tabelada para comparação\n",
    "pd.concat([aux1, aux2], axis=1)"
   ]
  },
  {
   "cell_type": "markdown",
   "metadata": {},
   "source": [
    "Podemos confirmar que cada conjunto de dados tem a mesma distribuição de classes, portanto, ao treinar a regressão logística, poderemos generalizar e reduzir o risco de overfitting aos dados de treinamento! "
   ]
  },
  {
   "cell_type": "markdown",
   "metadata": {},
   "source": [
    "## Regressão Logística\n",
    "\n",
    "Faça a regressão logística e coloque como argumento a quantidade máxima de iterações igual a `500`."
   ]
  },
  {
   "cell_type": "code",
   "execution_count": 50,
   "metadata": {},
   "outputs": [
    {
     "data": {
      "text/plain": "LogisticRegression(max_iter=500)"
     },
     "execution_count": 50,
     "metadata": {},
     "output_type": "execute_result"
    }
   ],
   "source": [
    "model = LogisticRegression(max_iter=500)\n",
    "model.fit(X_train, y_train)"
   ]
  },
  {
   "cell_type": "markdown",
   "metadata": {},
   "source": [
    "Imprima agora o `classification_report` para analisarmos a performance do algoritmo."
   ]
  },
  {
   "cell_type": "code",
   "execution_count": 51,
   "metadata": {},
   "outputs": [
    {
     "name": "stdout",
     "output_type": "stream",
     "text": [
      "              precision    recall  f1-score   support\n",
      "\n",
      "   brazilian       0.47      0.25      0.32       117\n",
      "     british       0.42      0.16      0.23       201\n",
      "cajun_creole       0.72      0.59      0.64       386\n",
      "     chinese       0.71      0.75      0.73       668\n",
      "    filipino       0.68      0.48      0.57       189\n",
      "      french       0.49      0.44      0.46       662\n",
      "       greek       0.57      0.37      0.45       294\n",
      "      indian       0.78      0.80      0.79       751\n",
      "       irish       0.44      0.26      0.32       167\n",
      "     italian       0.66      0.82      0.73      1960\n",
      "    jamaican       0.82      0.50      0.62       131\n",
      "    japanese       0.51      0.44      0.47       356\n",
      "      korean       0.66      0.66      0.66       207\n",
      "     mexican       0.85      0.86      0.85      1610\n",
      "    moroccan       0.71      0.59      0.64       205\n",
      "     russian       0.45      0.20      0.28       122\n",
      " southern_us       0.49      0.66      0.56      1080\n",
      "     spanish       0.48      0.30      0.37       247\n",
      "        thai       0.75      0.70      0.72       385\n",
      "  vietnamese       0.63      0.47      0.53       206\n",
      "\n",
      "    accuracy                           0.66      9944\n",
      "   macro avg       0.61      0.51      0.55      9944\n",
      "weighted avg       0.66      0.66      0.65      9944\n",
      "\n"
     ]
    }
   ],
   "source": [
    "print(classification_report(y_test, model.predict(X_test)))"
   ]
  },
  {
   "cell_type": "markdown",
   "metadata": {},
   "source": [
    "Os resultados são meio sem graça... o que podemos fazer?"
   ]
  },
  {
   "cell_type": "markdown",
   "metadata": {},
   "source": [
    "* Implementando validação cruzada\n",
    "* Aumente a quantidade de features!\n",
    "* Usando mais ngramas para o Count Vectorizer\n",
    "* Algoritmos de redução de dimensionalidade\n",
    "* Testar vários tamanhos de conjuntos de treinamento/teste"
   ]
  },
  {
   "cell_type": "markdown",
   "metadata": {},
   "source": [
    "### Implementação da validação cruzada\n",
    "\n",
    "A validação cruzada é a prática de pegar um conjunto aleatório de dentro dos dados de treinamento e usá-lo para otimizar o algoritmo. Isso melhora a capacidade de generalizar (desempenha bem quando recebe novos dados)\n",
    "\n",
    "![CV-Example](https://cf-courses-data.s3.us.cloud-object-storage.appdomain.cloud/IBM-PY0181EN-SkillsNetwork/labs/2\\_linear_classifiers/images/K-fold_cross_validation.svg)\n",
    "\n",
    "Faça agora o `LogisticRegressionCV` para a validação cruzada use 5 folds para isso e aumente o limite para 1000 iterações ou mais."
   ]
  },
  {
   "cell_type": "code",
   "execution_count": 52,
   "metadata": {},
   "outputs": [
    {
     "name": "stderr",
     "output_type": "stream",
     "text": [
      "/home/gustavo/lib/python3.9/site-packages/sklearn/linear_model/_logistic.py:814: ConvergenceWarning: lbfgs failed to converge (status=1):\n",
      "STOP: TOTAL NO. of ITERATIONS REACHED LIMIT.\n",
      "\n",
      "Increase the number of iterations (max_iter) or scale the data as shown in:\n",
      "    https://scikit-learn.org/stable/modules/preprocessing.html\n",
      "Please also refer to the documentation for alternative solver options:\n",
      "    https://scikit-learn.org/stable/modules/linear_model.html#logistic-regression\n",
      "  n_iter_i = _check_optimize_result(\n",
      "/home/gustavo/lib/python3.9/site-packages/sklearn/linear_model/_logistic.py:814: ConvergenceWarning: lbfgs failed to converge (status=1):\n",
      "STOP: TOTAL NO. of ITERATIONS REACHED LIMIT.\n",
      "\n",
      "Increase the number of iterations (max_iter) or scale the data as shown in:\n",
      "    https://scikit-learn.org/stable/modules/preprocessing.html\n",
      "Please also refer to the documentation for alternative solver options:\n",
      "    https://scikit-learn.org/stable/modules/linear_model.html#logistic-regression\n",
      "  n_iter_i = _check_optimize_result(\n",
      "/home/gustavo/lib/python3.9/site-packages/sklearn/linear_model/_logistic.py:814: ConvergenceWarning: lbfgs failed to converge (status=1):\n",
      "STOP: TOTAL NO. of ITERATIONS REACHED LIMIT.\n",
      "\n",
      "Increase the number of iterations (max_iter) or scale the data as shown in:\n",
      "    https://scikit-learn.org/stable/modules/preprocessing.html\n",
      "Please also refer to the documentation for alternative solver options:\n",
      "    https://scikit-learn.org/stable/modules/linear_model.html#logistic-regression\n",
      "  n_iter_i = _check_optimize_result(\n"
     ]
    },
    {
     "name": "stdout",
     "output_type": "stream",
     "text": [
      "CPU times: user 51.9 s, sys: 1min 12s, total: 2min 4s\n",
      "Wall time: 2min 17s\n"
     ]
    },
    {
     "data": {
      "text/plain": "LogisticRegressionCV(cv=5, max_iter=1000, n_jobs=-1)"
     },
     "execution_count": 52,
     "metadata": {},
     "output_type": "execute_result"
    }
   ],
   "source": [
    "%%time\n",
    "# LEVA UM BOM TEMPO... Se sua máquina for limitada faça no Google Colab\n",
    "model_cv = LogisticRegressionCV(max_iter=1000, cv=5, n_jobs=-1)\n",
    "model_cv.fit(X_train, y_train)"
   ]
  },
  {
   "cell_type": "markdown",
   "metadata": {},
   "source": [
    "Veja agora se a validação cruzada melhora a performance neste caso através do `classification_report`."
   ]
  },
  {
   "cell_type": "code",
   "execution_count": 53,
   "outputs": [
    {
     "name": "stdout",
     "output_type": "stream",
     "text": [
      "              precision    recall  f1-score   support\n",
      "\n",
      "   brazilian       0.45      0.23      0.31       117\n",
      "     british       0.41      0.15      0.22       201\n",
      "cajun_creole       0.71      0.59      0.65       386\n",
      "     chinese       0.71      0.76      0.73       668\n",
      "    filipino       0.69      0.47      0.56       189\n",
      "      french       0.50      0.44      0.47       662\n",
      "       greek       0.61      0.36      0.45       294\n",
      "      indian       0.79      0.80      0.80       751\n",
      "       irish       0.45      0.25      0.32       167\n",
      "     italian       0.66      0.82      0.73      1960\n",
      "    jamaican       0.82      0.48      0.61       131\n",
      "    japanese       0.52      0.45      0.48       356\n",
      "      korean       0.68      0.65      0.66       207\n",
      "     mexican       0.85      0.86      0.85      1610\n",
      "    moroccan       0.73      0.59      0.65       205\n",
      "     russian       0.47      0.20      0.28       122\n",
      " southern_us       0.48      0.66      0.56      1080\n",
      "     spanish       0.48      0.29      0.36       247\n",
      "        thai       0.74      0.67      0.70       385\n",
      "  vietnamese       0.62      0.46      0.53       206\n",
      "\n",
      "    accuracy                           0.66      9944\n",
      "   macro avg       0.62      0.51      0.55      9944\n",
      "weighted avg       0.66      0.66      0.65      9944\n",
      "\n"
     ]
    }
   ],
   "source": [
    "print(classification_report(y_test, model_cv.predict(X_test)))"
   ],
   "metadata": {
    "collapsed": false
   }
  },
  {
   "cell_type": "markdown",
   "metadata": {},
   "source": [
    "## Aumentando a quantidade de features\n",
    "\n",
    "Escreva neste bloco o código para refazer todo o processamento considerando agora `1000` features ao invés das `200` usadas anteriormente."
   ]
  },
  {
   "cell_type": "code",
   "execution_count": null,
   "metadata": {
    "pycharm": {
     "is_executing": true
    }
   },
   "outputs": [
    {
     "name": "stdout",
     "output_type": "stream",
     "text": [
      "CPU times: user 2 µs, sys: 0 ns, total: 2 µs\n",
      "Wall time: 3.34 µs\n"
     ]
    },
    {
     "name": "stderr",
     "output_type": "stream",
     "text": [
      "/home/gustavo/lib/python3.9/site-packages/sklearn/linear_model/_logistic.py:814: ConvergenceWarning: lbfgs failed to converge (status=1):\n",
      "STOP: TOTAL NO. of ITERATIONS REACHED LIMIT.\n",
      "\n",
      "Increase the number of iterations (max_iter) or scale the data as shown in:\n",
      "    https://scikit-learn.org/stable/modules/preprocessing.html\n",
      "Please also refer to the documentation for alternative solver options:\n",
      "    https://scikit-learn.org/stable/modules/linear_model.html#logistic-regression\n",
      "  n_iter_i = _check_optimize_result(\n",
      "/home/gustavo/lib/python3.9/site-packages/sklearn/linear_model/_logistic.py:814: ConvergenceWarning: lbfgs failed to converge (status=1):\n",
      "STOP: TOTAL NO. of ITERATIONS REACHED LIMIT.\n",
      "\n",
      "Increase the number of iterations (max_iter) or scale the data as shown in:\n",
      "    https://scikit-learn.org/stable/modules/preprocessing.html\n",
      "Please also refer to the documentation for alternative solver options:\n",
      "    https://scikit-learn.org/stable/modules/linear_model.html#logistic-regression\n",
      "  n_iter_i = _check_optimize_result(\n",
      "/home/gustavo/lib/python3.9/site-packages/sklearn/linear_model/_logistic.py:814: ConvergenceWarning: lbfgs failed to converge (status=1):\n",
      "STOP: TOTAL NO. of ITERATIONS REACHED LIMIT.\n",
      "\n",
      "Increase the number of iterations (max_iter) or scale the data as shown in:\n",
      "    https://scikit-learn.org/stable/modules/preprocessing.html\n",
      "Please also refer to the documentation for alternative solver options:\n",
      "    https://scikit-learn.org/stable/modules/linear_model.html#logistic-regression\n",
      "  n_iter_i = _check_optimize_result(\n",
      "/home/gustavo/lib/python3.9/site-packages/sklearn/linear_model/_logistic.py:814: ConvergenceWarning: lbfgs failed to converge (status=1):\n",
      "STOP: TOTAL NO. of ITERATIONS REACHED LIMIT.\n",
      "\n",
      "Increase the number of iterations (max_iter) or scale the data as shown in:\n",
      "    https://scikit-learn.org/stable/modules/preprocessing.html\n",
      "Please also refer to the documentation for alternative solver options:\n",
      "    https://scikit-learn.org/stable/modules/linear_model.html#logistic-regression\n",
      "  n_iter_i = _check_optimize_result(\n",
      "/home/gustavo/lib/python3.9/site-packages/sklearn/linear_model/_logistic.py:814: ConvergenceWarning: lbfgs failed to converge (status=1):\n",
      "STOP: TOTAL NO. of ITERATIONS REACHED LIMIT.\n",
      "\n",
      "Increase the number of iterations (max_iter) or scale the data as shown in:\n",
      "    https://scikit-learn.org/stable/modules/preprocessing.html\n",
      "Please also refer to the documentation for alternative solver options:\n",
      "    https://scikit-learn.org/stable/modules/linear_model.html#logistic-regression\n",
      "  n_iter_i = _check_optimize_result(\n"
     ]
    }
   ],
   "source": [
    "%time\n",
    "cv = CountVectorizer(ngram_range=(1, 2), max_features=1000)\n",
    "tf = cv.fit_transform(ingredients)\n",
    "df_vectorized = pd.DataFrame(tf.toarray(), columns=cv.get_feature_names_out())\n",
    "df_vectorized.drop(excludedWords, axis=1, inplace=True)\n",
    "\n",
    "\n",
    "X_train, X_test, y_train, y_test = train_test_split(df_vectorized, df['cuisine'], test_size=0.25, stratify=df['cuisine'])\n",
    "\n",
    "model_cv2 = LogisticRegressionCV(max_iter=1000, cv=5, n_jobs=-1)\n",
    "model_cv2.fit(X_train, y_train)\n",
    "\n",
    "print(classification_report(y_test, model_cv2.predict(X_test)))"
   ]
  },
  {
   "cell_type": "markdown",
   "metadata": {},
   "source": [
    "Podemos ver que agora a precisão do modelo aumentou consideravelmente!"
   ]
  },
  {
   "cell_type": "markdown",
   "metadata": {},
   "source": [
    "## Conclusão\n",
    "\n",
    "Fizemos o nosso melhor para classificar as cozinhas usando a análise textual, mas parece que ainda é muito difícil alcançar uma precisão super alta devido aos dados que temos. Muitas vezes, no aprendizado de máquina, você encontrará problemas que simplesmente não consegue resolver para determinados requisitos, como uma precisão de 90% ou mais. Os dados que você recebe podem não ter informações, você pode precisar limpar ainda mais seus dados ou o algoritmo que você emprega pode simplesmente não funcionar bem com o caso de uso. Neste exemplo, tentamos muitos métodos para processar nossos dados e aumentar a precisão, mas apenas marginalmente."
   ]
  }
 ],
 "metadata": {
  "kernelspec": {
   "display_name": "Python 3 (ipykernel)",
   "language": "python",
   "name": "python3"
  },
  "language_info": {
   "codemirror_mode": {
    "name": "ipython",
    "version": 3
   },
   "file_extension": ".py",
   "mimetype": "text/x-python",
   "name": "python",
   "nbconvert_exporter": "python",
   "pygments_lexer": "ipython3",
   "version": "3.9.14"
  },
  "vscode": {
   "interpreter": {
    "hash": "19f8edf9f3d47184070387e5526ef4245906fb1893b7f74c12e591a863440618"
   }
  }
 },
 "nbformat": 4,
 "nbformat_minor": 2
}
