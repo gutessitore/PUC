{
 "cells": [
  {
   "cell_type": "code",
   "execution_count": 2,
   "metadata": {
    "collapsed": true
   },
   "outputs": [
    {
     "name": "stderr",
     "output_type": "stream",
     "text": [
      "ERROR: Could not find a version that satisfies the requirement getpass (from versions: none)\n",
      "ERROR: No matching distribution found for getpass\n"
     ]
    },
    {
     "ename": "NameError",
     "evalue": "name 'SentinelAPI' is not defined",
     "output_type": "error",
     "traceback": [
      "\u001B[1;31m---------------------------------------------------------------------------\u001B[0m",
      "\u001B[1;31mNameError\u001B[0m                                 Traceback (most recent call last)",
      "Cell \u001B[1;32mIn [2], line 7\u001B[0m\n\u001B[0;32m      4\u001B[0m user \u001B[38;5;241m=\u001B[39m \u001B[38;5;124m'\u001B[39m\u001B[38;5;124mgutessitore\u001B[39m\u001B[38;5;124m'\u001B[39m\n\u001B[0;32m      6\u001B[0m password \u001B[38;5;241m=\u001B[39m getpass\u001B[38;5;241m.\u001B[39mgetpass(\u001B[38;5;124m\"\u001B[39m\u001B[38;5;124mEnter password, please: \u001B[39m\u001B[38;5;124m\"\u001B[39m)\n\u001B[1;32m----> 7\u001B[0m api \u001B[38;5;241m=\u001B[39m \u001B[43mSentinelAPI\u001B[49m(user, password, \u001B[38;5;124m'\u001B[39m\u001B[38;5;124mhttps://scihub.copernicus.eu/dhus\u001B[39m\u001B[38;5;124m'\u001B[39m)\n",
      "\u001B[1;31mNameError\u001B[0m: name 'SentinelAPI' is not defined"
     ]
    }
   ],
   "source": [
    "from sentinelsat import SentinelAPI, read_geojson, geojson_to_wkt\n",
    "from shapely.geometry import MultiPolygon, Polygon\n",
    "import matplotlib.pyplot as plt\n",
    "from rasterio.plot import show\n",
    "import geopandas as gpd\n",
    "import rasterio as rio\n",
    "import rasterio.mask\n",
    "import pandas as pd\n",
    "import numpy as np\n",
    "import getpass\n",
    "import folium\n",
    "import fiona\n",
    "import os\n",
    "\n",
    "\n",
    "\n",
    "user = 'gutessitore'\n",
    "\n",
    "password = getpass.getpass(\"Enter password, please: \")\n",
    "api = SentinelAPI(user, password, 'https://scihub.copernicus.eu/dhus')"
   ]
  }
 ],
 "metadata": {
  "kernelspec": {
   "display_name": "Python 3",
   "language": "python",
   "name": "python3"
  },
  "language_info": {
   "codemirror_mode": {
    "name": "ipython",
    "version": 2
   },
   "file_extension": ".py",
   "mimetype": "text/x-python",
   "name": "python",
   "nbconvert_exporter": "python",
   "pygments_lexer": "ipython2",
   "version": "2.7.6"
  }
 },
 "nbformat": 4,
 "nbformat_minor": 0
}
