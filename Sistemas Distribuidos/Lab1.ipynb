{
 "cells": [
  {
   "cell_type": "markdown",
   "source": [
    "Experimento 01<br>\n",
    "Sistemas Distribuídos e Computação Paralela<br>\n",
    "Prof. Carlos Paes."
   ],
   "metadata": {
    "collapsed": false
   }
  },
  {
   "cell_type": "markdown",
   "source": [
    "Gustavo Schlieper Tessitore RA00297844 <br>\n",
    "Joao Pedro Taves Araujo RA00297753 <br>\n",
    "Thiago Rodrigues de Jesus RA00297767"
   ],
   "metadata": {
    "collapsed": false
   }
  },
  {
   "cell_type": "code",
   "execution_count": 1,
   "metadata": {
    "collapsed": true,
    "ExecuteTime": {
     "start_time": "2023-04-12T16:51:58.035806Z",
     "end_time": "2023-04-12T16:51:58.880331Z"
    }
   },
   "outputs": [],
   "source": [
    "from numba import njit, prange, set_num_threads\n",
    "from functools import wraps\n",
    "import numpy as np\n",
    "import timeit\n",
    "import time\n",
    "\n",
    "set_num_threads(4)\n",
    "\n",
    "\n",
    "def timeme(function):\n",
    "    \"\"\"\n",
    "    Decorator to measure and print the execution time of a function.\n",
    "\n",
    "    Example:\n",
    "    >>> @timeme\n",
    "    >>> def example_function():\n",
    "    >>>    # Some code here\n",
    "    >>>\n",
    "    >>> example_function()  # Will print the execution time upon completion.\n",
    "    \"\"\"\n",
    "    @wraps(function)\n",
    "    def wrapper(*args, **kwargs):\n",
    "        start_time = time.perf_counter()\n",
    "        result = function(*args, **kwargs)\n",
    "        end_time = time.perf_counter()\n",
    "        elapsed_time = end_time - start_time\n",
    "        print(f\"{function.__name__} took {elapsed_time:.4f} seconds to run.\")\n",
    "        return result\n",
    "\n",
    "    return wrapper"
   ]
  },
  {
   "cell_type": "markdown",
   "metadata": {},
   "source": [
    "### Calculando multiplicação de matrizes\n",
    "\n",
    "$$\n",
    "\\begin{bmatrix}\n",
    "a_{11} & a_{12} \\\\\n",
    "a_{21} & a_{22}\n",
    "\\end{bmatrix}\n",
    "\\begin{bmatrix}\n",
    "b_{11} & b_{12} \\\\\n",
    "b_{21} & b_{22}\n",
    "\\end{bmatrix}\n",
    "=\n",
    "\\begin{bmatrix}\n",
    "a_{11}b_{11} + a_{12}b_{21} & a_{11}b_{12} + a_{12}b_{22} \\\\\n",
    "a_{21}b_{11} + a_{22}b_{21} & a_{21}b_{12} + a_{22}b_{22}\n",
    "\\end{bmatrix}\n",
    "$$\n",
    "\n",
    "Para converter essa lógica em codigo precisamos primeiro verificar se a matriz A tem dimensões m x n, e a matriz B tem dimensões n x p. Se essas condições forem verdadeiras, podemos multiplicar as matrizes.\n",
    "Crie uma matriz resultante C de dimensões m x p, inicialmente preenchida com zeros.\n",
    "Percorra cada elemento $c_{ij}$ da matriz resultante C. Para cada $c_{ij}$, calcule a soma dos produtos dos elementos correspondentes nas matrizes A e B usando um loop interno. Em outras palavras:\n",
    "\n",
    "$$c_{ij} = a_{i1} * b_{1j} + a_{i2} * b_{2j} + ... + a_{in} * b_{nj}$$\n",
    "\n",
    "Faça isso usando três loops aninhados: um para as linhas de A (índice i), um para as colunas de B (índice j) e um para as colunas de A/linhas de B (índice k)."
   ]
  },
  {
   "cell_type": "code",
   "execution_count": 2,
   "metadata": {
    "ExecuteTime": {
     "start_time": "2023-04-12T16:51:58.889291Z",
     "end_time": "2023-04-12T16:51:58.987596Z"
    }
   },
   "outputs": [],
   "source": [
    "def sequential_matrix_multiplication(matrix_A, matrix_B):\n",
    "    \"\"\"\n",
    "    Performs matrix multiplication between two numpy arrays.\n",
    "    \"\"\"\n",
    "\n",
    "    rows_a = matrix_A.shape[0]\n",
    "    cols_a = matrix_A.shape[1]\n",
    "    rows_b = matrix_B.shape[0]\n",
    "    cols_b = matrix_B.shape[1]\n",
    "\n",
    "    if cols_a != rows_b:\n",
    "        raise ValueError(\"O número de colunas da matriz A deve ser igual ao número de linhas da matriz B.\")\n",
    "\n",
    "    result_matrix = np.zeros((rows_a, cols_b))\n",
    "\n",
    "    for row_idx in prange(rows_a):\n",
    "        for col_idx in range(cols_b):\n",
    "            for shared_dim in range(cols_a):\n",
    "                result_matrix[row_idx][col_idx] += matrix_A[row_idx][shared_dim] * matrix_B[shared_dim][col_idx]\n",
    "\n",
    "    return result_matrix\n",
    "\n",
    "\n",
    "@njit(parallel=True)\n",
    "def parallel_matrix_multiplication(matrix_A, matrix_B):\n",
    "\n",
    "    rows_a = matrix_A.shape[0]\n",
    "    cols_a = matrix_A.shape[1]\n",
    "    rows_b = matrix_B.shape[0]\n",
    "    cols_b = matrix_B.shape[1]\n",
    "\n",
    "    if cols_a != rows_b:\n",
    "        raise ValueError(\"O número de colunas da matriz A deve ser igual ao número de linhas da matriz B.\")\n",
    "\n",
    "    result_matrix = np.zeros((rows_a, cols_b))\n",
    "\n",
    "    for row_idx in prange(rows_a):\n",
    "        for col_idx in range(cols_b):\n",
    "            for shared_dim in range(cols_a):\n",
    "                result_matrix[row_idx][col_idx] += matrix_A[row_idx][shared_dim] * matrix_B[shared_dim][col_idx]\n",
    "\n",
    "    return result_matrix"
   ]
  },
  {
   "cell_type": "code",
   "execution_count": 3,
   "metadata": {
    "ExecuteTime": {
     "start_time": "2023-04-12T16:51:58.991107Z",
     "end_time": "2023-04-12T16:52:56.144220Z"
    }
   },
   "outputs": [
    {
     "name": "stdout",
     "output_type": "stream",
     "text": [
      "run_parallel took 0.7700 seconds to run.\n",
      "run_sequential took 56.3724 seconds to run.\n"
     ]
    }
   ],
   "source": [
    "n = 500\n",
    "matrix_A = np.random.randint(0, 100, size=(n, n))\n",
    "matrix_B = np.random.randint(0, 100, size=(n, n))\n",
    "\n",
    "# Medindo o tempo de execução da solução sequencial\n",
    "@timeme\n",
    "def run_sequential():\n",
    "    sequential_matrix_multiplication(matrix_A, matrix_B)\n",
    "\n",
    "\n",
    "# Medindo o tempo de execução da solução paralela\n",
    "@timeme\n",
    "def run_parallel():\n",
    "    parallel_matrix_multiplication(matrix_A, matrix_B)\n",
    "\n",
    "run_parallel()\n",
    "run_sequential()"
   ]
  },
  {
   "cell_type": "markdown",
   "metadata": {},
   "source": [
    "### Calculando o tempo de execução com número de threads diferentes"
   ]
  },
  {
   "cell_type": "code",
   "execution_count": 4,
   "metadata": {
    "ExecuteTime": {
     "start_time": "2023-04-12T16:52:56.145222Z",
     "end_time": "2023-04-12T16:52:56.449221Z"
    }
   },
   "outputs": [
    {
     "name": "stdout",
     "output_type": "stream",
     "text": [
      "Running with 1 threads...\n",
      "run_parallel took 0.0945 seconds to run.\n",
      "Running with 2 threads...\n",
      "run_parallel took 0.0496 seconds to run.\n",
      "Running with 4 threads...\n",
      "run_parallel took 0.0281 seconds to run.\n",
      "Running with 8 threads...\n",
      "run_parallel took 0.0262 seconds to run.\n",
      "Running with 9 threads...\n",
      "run_parallel took 0.0281 seconds to run.\n",
      "Running with 16 threads...\n",
      "run_parallel took 0.0188 seconds to run.\n"
     ]
    }
   ],
   "source": [
    "def run_parallel_with_threads(n_threads):\n",
    "    set_num_threads(n_threads)\n",
    "    run_parallel()\n",
    "\n",
    "\n",
    "def test_parallel_function(function, threads_to_run):\n",
    "    for n_threads in threads_to_run:\n",
    "        print(f\"Running with {n_threads} threads...\")\n",
    "        function(n_threads)\n",
    "\n",
    "test_parallel_function(run_parallel_with_threads, [1, 2, 4, 8, 9, 16])"
   ]
  },
  {
   "cell_type": "markdown",
   "metadata": {},
   "source": [
    "### Calculando o Speedup"
   ]
  },
  {
   "cell_type": "code",
   "execution_count": 5,
   "metadata": {
    "ExecuteTime": {
     "start_time": "2023-04-12T16:52:56.579355Z",
     "end_time": "2023-04-12T17:01:58.975706Z"
    }
   },
   "outputs": [
    {
     "name": "stdout",
     "output_type": "stream",
     "text": [
      "run_sequential took 55.1122 seconds to run.\n",
      "run_sequential took 54.6838 seconds to run.\n",
      "run_sequential took 54.6663 seconds to run.\n",
      "run_sequential took 54.1000 seconds to run.\n",
      "run_sequential took 54.5132 seconds to run.\n",
      "run_sequential took 53.9434 seconds to run.\n",
      "run_sequential took 53.9949 seconds to run.\n",
      "run_sequential took 54.1210 seconds to run.\n",
      "run_sequential took 53.6324 seconds to run.\n",
      "run_sequential took 53.6385 seconds to run.\n",
      "run_parallel took 0.0144 seconds to run.\n",
      "run_parallel took 0.0140 seconds to run.\n",
      "run_parallel took 0.0139 seconds to run.\n",
      "run_parallel took 0.0144 seconds to run.\n",
      "run_parallel took 0.0168 seconds to run.\n",
      "run_parallel took 0.0151 seconds to run.\n",
      "run_parallel took 0.0151 seconds to run.\n",
      "run_parallel took 0.0154 seconds to run.\n",
      "run_parallel took 0.0153 seconds to run.\n",
      "run_parallel took 0.0148 seconds to run.\n",
      "Speedup: 3630.036666610834\n"
     ]
    }
   ],
   "source": [
    "def speedup(sequential_time, parallel_time):\n",
    "    return sequential_time / parallel_time\n",
    "\n",
    "times_to_run = 10\n",
    "sequential_time = timeit.timeit(run_sequential, number=times_to_run) / times_to_run\n",
    "parallel_time = timeit.timeit(run_parallel, number=times_to_run) / times_to_run\n",
    "\n",
    "print(f\"Speedup: {speedup(sequential_time, parallel_time)}\")"
   ]
  },
  {
   "cell_type": "code",
   "execution_count": 6,
   "metadata": {
    "ExecuteTime": {
     "start_time": "2023-04-12T17:01:58.975706Z",
     "end_time": "2023-04-12T17:02:00.568984Z"
    }
   },
   "outputs": [
    {
     "name": "stdout",
     "output_type": "stream",
     "text": [
      "CPU: Intel64 Family 6 Model 154 Stepping 3, GenuineIntel | Clock: 2300.00MHz | Cores: 14 | Threads: 20\n",
      "Cache: L2 4194304, L3 25165824\n",
      "Memória RAM: 15.69GB\n",
      "Sistema Operacional: Windows 10 (10.0.22621)\n"
     ]
    }
   ],
   "source": [
    "import platform\n",
    "import psutil\n",
    "import cpuinfo\n",
    "import os\n",
    "\n",
    "def get_cpu_info():\n",
    "    cpu_freq = psutil.cpu_freq()\n",
    "    cpu_count = psutil.cpu_count(logical=False)\n",
    "    cpu_cores = os.cpu_count()\n",
    "    return f\"CPU: {platform.processor()} | Clock: {cpu_freq.current:.2f}MHz | Cores: {cpu_count} | Threads: {cpu_cores}\"\n",
    "\n",
    "def get_cache_info():\n",
    "    cpu_info = cpuinfo.get_cpu_info()\n",
    "    cache_sizes = {\n",
    "        \"L1\": cpu_info.get(\"l1_data_cache_size\"),\n",
    "        \"L2\": cpu_info.get(\"l2_cache_size\"),\n",
    "        \"L3\": cpu_info.get(\"l3_cache_size\")\n",
    "    }\n",
    "    cache_info = \", \".join([f\"{level} {size}\" for level, size in cache_sizes.items() if size])\n",
    "    return f\"Cache: {cache_info}\"\n",
    "\n",
    "def get_memory_info():\n",
    "    virtual_memory = psutil.virtual_memory()\n",
    "    total_memory = virtual_memory.total / (1024 ** 3)  # Convert to GB\n",
    "    return f\"Memória RAM: {total_memory:.2f}GB\"\n",
    "\n",
    "def get_os_info():\n",
    "    os_info = f\"Sistema Operacional: {platform.system()} {platform.release()} ({platform.version()})\"\n",
    "    return os_info\n",
    "\n",
    "def print_system_info():\n",
    "    print(get_cpu_info())\n",
    "    print(get_cache_info())\n",
    "    print(get_memory_info())\n",
    "    print(get_os_info())\n",
    "\n",
    "\n",
    "print_system_info()"
   ]
  },
  {
   "cell_type": "markdown",
   "source": [
    "# Produto Escalar"
   ],
   "metadata": {
    "collapsed": false
   }
  },
  {
   "cell_type": "code",
   "execution_count": 7,
   "outputs": [],
   "source": [
    "set_num_threads(4)\n",
    "\n",
    "def dot_product(u, v):\n",
    "    result = 0\n",
    "    for i in range(u.shape[0]):\n",
    "        result += u[i] * v[i]\n",
    "    return result\n",
    "\n",
    "\n",
    "@njit(parallel=True)\n",
    "def dot_product_parallel(u, v):\n",
    "    result = 0\n",
    "    for i in prange(u.shape[0]):\n",
    "        result += u[i] * v[i]\n",
    "    return result"
   ],
   "metadata": {
    "collapsed": false,
    "ExecuteTime": {
     "start_time": "2023-04-12T17:02:00.569932Z",
     "end_time": "2023-04-12T17:02:00.587696Z"
    }
   }
  },
  {
   "cell_type": "code",
   "execution_count": 8,
   "outputs": [
    {
     "name": "stdout",
     "output_type": "stream",
     "text": [
      "run_dot_sequential took 0.0000 seconds to run.\n",
      "run_dot_parallel took 0.3044 seconds to run.\n"
     ]
    }
   ],
   "source": [
    "u = np.random.rand(100)\n",
    "v = np.random.rand(100)\n",
    "\n",
    "@timeme\n",
    "def run_dot_sequential():\n",
    "    dot_product(u, v)\n",
    "\n",
    "\n",
    "@timeme\n",
    "def run_dot_parallel():\n",
    "    dot_product_parallel(u, v)\n",
    "\n",
    "\n",
    "run_dot_sequential()\n",
    "run_dot_parallel()"
   ],
   "metadata": {
    "collapsed": false,
    "ExecuteTime": {
     "start_time": "2023-04-12T17:02:00.585110Z",
     "end_time": "2023-04-12T17:02:00.899169Z"
    }
   }
  },
  {
   "cell_type": "code",
   "execution_count": 9,
   "outputs": [
    {
     "name": "stdout",
     "output_type": "stream",
     "text": [
      "Running with 1 threads...\n",
      "run_parallel took 0.0985 seconds to run.\n",
      "Running with 2 threads...\n",
      "run_parallel took 0.0498 seconds to run.\n",
      "Running with 4 threads...\n",
      "run_parallel took 0.0251 seconds to run.\n",
      "Running with 8 threads...\n",
      "run_parallel took 0.0267 seconds to run.\n",
      "Running with 9 threads...\n",
      "run_parallel took 0.0249 seconds to run.\n",
      "Running with 16 threads...\n",
      "run_parallel took 0.0183 seconds to run.\n"
     ]
    }
   ],
   "source": [
    "def run_dot_parallel_with_threads(n_threads):\n",
    "    set_num_threads(n_threads)\n",
    "    run_dot_parallel()\n",
    "\n",
    "\n",
    "test_parallel_function(run_parallel_with_threads, [1, 2, 4, 8, 9, 16])"
   ],
   "metadata": {
    "collapsed": false,
    "ExecuteTime": {
     "start_time": "2023-04-12T17:02:00.898106Z",
     "end_time": "2023-04-12T17:02:01.187198Z"
    }
   }
  },
  {
   "cell_type": "code",
   "execution_count": 10,
   "outputs": [
    {
     "name": "stdout",
     "output_type": "stream",
     "text": [
      "run_dot_sequential took 0.0001 seconds to run.\n",
      "run_dot_sequential took 0.0001 seconds to run.\n",
      "run_dot_sequential took 0.0000 seconds to run.\n",
      "run_dot_sequential took 0.0001 seconds to run.\n",
      "run_dot_sequential took 0.0000 seconds to run.\n",
      "run_dot_sequential took 0.0000 seconds to run.\n",
      "run_dot_sequential took 0.0000 seconds to run.\n",
      "run_dot_sequential took 0.0000 seconds to run.\n",
      "run_dot_sequential took 0.0000 seconds to run.\n",
      "run_dot_sequential took 0.0000 seconds to run.\n",
      "run_dot_parallel took 0.0000 seconds to run.\n",
      "run_dot_parallel took 0.0000 seconds to run.\n",
      "run_dot_parallel took 0.0000 seconds to run.\n",
      "run_dot_parallel took 0.0000 seconds to run.\n",
      "run_dot_parallel took 0.0000 seconds to run.\n",
      "run_dot_parallel took 0.0000 seconds to run.\n",
      "run_dot_parallel took 0.0000 seconds to run.\n",
      "run_dot_parallel took 0.0000 seconds to run.\n",
      "run_dot_parallel took 0.0000 seconds to run.\n",
      "run_dot_parallel took 0.0000 seconds to run.\n",
      "Speedup: 4.338673778720534\n"
     ]
    }
   ],
   "source": [
    "sequential_time = timeit.timeit(run_dot_sequential, number=times_to_run) / times_to_run\n",
    "parallel_time = timeit.timeit(run_dot_parallel, number=times_to_run) / times_to_run\n",
    "\n",
    "print(f\"Speedup: {speedup(sequential_time, parallel_time)}\")"
   ],
   "metadata": {
    "collapsed": false,
    "ExecuteTime": {
     "start_time": "2023-04-12T17:02:01.165193Z",
     "end_time": "2023-04-12T17:02:01.188705Z"
    }
   }
  },
  {
   "cell_type": "code",
   "execution_count": 11,
   "outputs": [
    {
     "name": "stdout",
     "output_type": "stream",
     "text": [
      "CPU: Intel64 Family 6 Model 154 Stepping 3, GenuineIntel | Clock: 2300.00MHz | Cores: 14 | Threads: 20\n",
      "Cache: L2 4194304, L3 25165824\n",
      "Memória RAM: 15.69GB\n",
      "Sistema Operacional: Windows 10 (10.0.22621)\n"
     ]
    }
   ],
   "source": [
    "print_system_info()"
   ],
   "metadata": {
    "collapsed": false,
    "ExecuteTime": {
     "start_time": "2023-04-12T17:02:01.179195Z",
     "end_time": "2023-04-12T17:02:02.552384Z"
    }
   }
  },
  {
   "cell_type": "code",
   "execution_count": 11,
   "outputs": [],
   "source": [],
   "metadata": {
    "collapsed": false,
    "ExecuteTime": {
     "start_time": "2023-04-12T17:02:02.551389Z",
     "end_time": "2023-04-12T17:02:02.568424Z"
    }
   }
  }
 ],
 "metadata": {
  "kernelspec": {
   "display_name": "Python 3 (ipykernel)",
   "language": "python",
   "name": "python3"
  },
  "language_info": {
   "codemirror_mode": {
    "name": "ipython",
    "version": 3
   },
   "file_extension": ".py",
   "mimetype": "text/x-python",
   "name": "python",
   "nbconvert_exporter": "python",
   "pygments_lexer": "ipython3",
   "version": "3.10.4"
  }
 },
 "nbformat": 4,
 "nbformat_minor": 1
}
