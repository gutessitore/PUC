{
 "cells": [
  {
   "cell_type": "code",
   "execution_count": 1,
   "metadata": {
    "collapsed": true
   },
   "outputs": [],
   "source": [
    "from numba import njit, prange, set_num_threads\n",
    "from functools import wraps\n",
    "import numpy as np\n",
    "import timeit\n",
    "import time\n",
    "\n",
    "set_num_threads(4)\n",
    "\n",
    "\n",
    "def timeme(function):\n",
    "    \"\"\"\n",
    "    Decorator to measure and print the execution time of a function.\n",
    "\n",
    "    This decorator wraps the provided function and measures its execution time\n",
    "    using the time.perf_counter() function. Upon completion, it prints the\n",
    "    function name and the elapsed time in seconds with 4 decimal places.\n",
    "\n",
    "    Args:\n",
    "    function (Callable): The function to be timed.\n",
    "\n",
    "    Returns:\n",
    "    Callable: The wrapped function with added timing functionality.\n",
    "\n",
    "    Example:\n",
    "    >>> @timeme\n",
    "    >>> def example_function():\n",
    "    >>>    # Some code here\n",
    "    >>>\n",
    "    >>> example_function()  # Will print the execution time upon completion.\n",
    "    \"\"\"\n",
    "    @wraps(function)\n",
    "    def wrapper(*args, **kwargs):\n",
    "        start_time = time.perf_counter()\n",
    "        result = function(*args, **kwargs)\n",
    "        end_time = time.perf_counter()\n",
    "        elapsed_time = end_time - start_time\n",
    "        print(f\"{function.__name__} took {elapsed_time:.4f} seconds to run.\")\n",
    "        return result\n",
    "\n",
    "    return wrapper"
   ]
  },
  {
   "cell_type": "markdown",
   "metadata": {},
   "source": [
    "### Calculando multiplicação de matrizes"
   ]
  },
  {
   "cell_type": "code",
   "execution_count": 2,
   "metadata": {},
   "outputs": [],
   "source": [
    "def sequential_matrix_multiplication(matrix_A, matrix_B):\n",
    "    \"\"\"\n",
    "    Performs matrix multiplication between two numpy arrays.\n",
    "\n",
    "    Args:\n",
    "    matrix_A (numpy.ndarray): The first matrix, with dimensions (rows_A, cols_A).\n",
    "    matrix_B (numpy.ndarray): The second matrix, with dimensions (rows_B, cols_B).\n",
    "\n",
    "    Returns:\n",
    "    numpy.ndarray: The resulting matrix after multiplication, with dimensions (rows_A, cols_B).\n",
    "\n",
    "    Raises:\n",
    "    ValueError: If the number of columns in matrix_A does not match the number of rows in matrix_B.\n",
    "\n",
    "    Example:\n",
    "\n",
    "    >>> import numpy as np\n",
    "    >>>\n",
    "    >>> matrix_A = np.array([\n",
    "    >>>    [1, 2, 3],\n",
    "    >>>    [4, 5, 6]\n",
    "    >>> ])\n",
    "    >>>\n",
    "    >>> matrix_B = np.array([\n",
    "    >>>    [7, 8],\n",
    "    >>>    [9, 10],\n",
    "    >>>    [11, 12]\n",
    "    >>> ])\n",
    "    >>>\n",
    "    >>> result_matrix = matrix_multiply(matrix_A, matrix_B)\n",
    "\n",
    "    result_matrix would be:\n",
    "    array([[ 58,  64],\n",
    "           [139, 154]])\n",
    "    \"\"\"\n",
    "    if matrix_A.shape[1] != matrix_B.shape[0]:\n",
    "        raise ValueError(\n",
    "            \"The number of columns of the first matrix must be equal to the number of rows of the second matrix.\"\n",
    "        )\n",
    "\n",
    "    rows_a = matrix_A.shape[0]\n",
    "    cols_a = matrix_A.shape[1]\n",
    "    rows_b = matrix_B.shape[0]\n",
    "    cols_b = matrix_B.shape[1]\n",
    "\n",
    "    if cols_a != rows_b:\n",
    "        raise ValueError(\"O número de colunas da matriz A deve ser igual ao número de linhas da matriz B.\")\n",
    "\n",
    "    result_matrix = np.zeros((rows_a, cols_b))\n",
    "\n",
    "    for row_idx in prange(rows_a):\n",
    "        for col_idx in range(cols_b):\n",
    "            for shared_dim in range(cols_a):\n",
    "                result_matrix[row_idx][col_idx] += matrix_A[row_idx][shared_dim] * matrix_B[shared_dim][col_idx]\n",
    "\n",
    "    return result_matrix\n",
    "\n",
    "\n",
    "@njit(parallel=True)\n",
    "def parallel_matrix_multiplication(matrix_A, matrix_B):\n",
    "\n",
    "    if matrix_A.shape[1] != matrix_B.shape[0]:\n",
    "        raise ValueError(\n",
    "            \"The number of columns of the first matrix must be equal to the number of rows of the second matrix.\"\n",
    "        )\n",
    "\n",
    "    rows_a = matrix_A.shape[0]\n",
    "    cols_a = matrix_A.shape[1]\n",
    "    rows_b = matrix_B.shape[0]\n",
    "    cols_b = matrix_B.shape[1]\n",
    "\n",
    "    if cols_a != rows_b:\n",
    "        raise ValueError(\"O número de colunas da matriz A deve ser igual ao número de linhas da matriz B.\")\n",
    "\n",
    "    result_matrix = np.zeros((rows_a, cols_b))\n",
    "\n",
    "    for row_idx in prange(rows_a):\n",
    "        for col_idx in range(cols_b):\n",
    "            for shared_dim in range(cols_a):\n",
    "                result_matrix[row_idx][col_idx] += matrix_A[row_idx][shared_dim] * matrix_B[shared_dim][col_idx]\n",
    "\n",
    "    return result_matrix"
   ]
  },
  {
   "cell_type": "code",
   "execution_count": 3,
   "metadata": {},
   "outputs": [],
   "source": [
    "n = 500\n",
    "matrix_A = np.random.randint(0, 100, size=(n, n))\n",
    "matrix_B = np.random.randint(0, 100, size=(n, n))\n",
    "\n",
    "# Medindo o tempo de execução da solução sequencial\n",
    "@timeme\n",
    "def run_sequential():\n",
    "    sequential_matrix_multiplication(matrix_A, matrix_B)\n",
    "\n",
    "\n",
    "# Medindo o tempo de execução da solução paralela\n",
    "@timeme\n",
    "def run_parallel():\n",
    "    parallel_matrix_multiplication(matrix_A, matrix_B)\n",
    "\n",
    "run_parallel()\n",
    "run_sequential()"
   ]
  },
  {
   "cell_type": "markdown",
   "metadata": {},
   "source": [
    "### Calculando o tempo de execução com número de threads diferentes"
   ]
  },
  {
   "cell_type": "code",
   "execution_count": 6,
   "metadata": {},
   "outputs": [
    {
     "name": "stdout",
     "output_type": "stream",
     "text": [
      "run_parallel took 0.0988 seconds to run.\n",
      "run_parallel took 0.0530 seconds to run.\n",
      "run_parallel took 0.0273 seconds to run.\n",
      "run_parallel took 0.0279 seconds to run.\n",
      "run_parallel took 0.0265 seconds to run.\n",
      "run_parallel took 0.0185 seconds to run.\n"
     ]
    }
   ],
   "source": [
    "def run_parallel_with_threads(n_threads):\n",
    "    set_num_threads(n_threads)\n",
    "    run_parallel()\n",
    "\n",
    "run_parallel_with_threads(1)\n",
    "run_parallel_with_threads(2)\n",
    "run_parallel_with_threads(4)\n",
    "run_parallel_with_threads(8)\n",
    "run_parallel_with_threads(9)\n",
    "run_parallel_with_threads(16)"
   ]
  },
  {
   "cell_type": "markdown",
   "metadata": {},
   "source": [
    "### Calculando o Speedup"
   ]
  },
  {
   "cell_type": "code",
   "execution_count": 7,
   "metadata": {},
   "outputs": [
    {
     "name": "stdout",
     "output_type": "stream",
     "text": [
      "run_sequential took 55.5915 seconds to run.\n",
      "run_sequential took 54.0645 seconds to run.\n",
      "run_sequential took 53.5986 seconds to run.\n",
      "run_sequential took 53.0502 seconds to run.\n",
      "run_sequential took 53.2894 seconds to run.\n",
      "run_sequential took 52.7536 seconds to run.\n",
      "run_sequential took 53.4580 seconds to run.\n",
      "run_sequential took 53.0444 seconds to run.\n",
      "run_sequential took 53.2295 seconds to run.\n",
      "run_sequential took 54.2504 seconds to run.\n",
      "run_parallel took 0.0154 seconds to run.\n",
      "run_parallel took 0.0147 seconds to run.\n",
      "run_parallel took 0.0157 seconds to run.\n",
      "run_parallel took 0.0151 seconds to run.\n",
      "run_parallel took 0.0178 seconds to run.\n",
      "run_parallel took 0.0153 seconds to run.\n",
      "run_parallel took 0.0148 seconds to run.\n",
      "run_parallel took 0.0165 seconds to run.\n",
      "run_parallel took 0.0155 seconds to run.\n",
      "run_parallel took 0.0145 seconds to run.\n",
      "Speedup: 3449.312169184997\n"
     ]
    }
   ],
   "source": [
    "def speedup(sequential_time, parallel_time):\n",
    "    return sequential_time / parallel_time\n",
    "\n",
    "sequential_time = timeit.timeit(run_sequential, number=10) / 10\n",
    "parallel_time = timeit.timeit(run_parallel, number=10) / 10\n",
    "\n",
    "print(f\"Speedup: {speedup(sequential_time, parallel_time)}\")"
   ]
  },
  {
   "cell_type": "code",
   "execution_count": 11,
   "metadata": {},
   "outputs": [
    {
     "name": "stdout",
     "output_type": "stream",
     "text": [
      "CPU: Intel64 Family 6 Model 154 Stepping 3, GenuineIntel | Clock: 2300.00MHz | Cores: 14 | Threads: 20\n",
      "Cache: L2 4194304, L3 25165824\n",
      "Memória RAM: 15.69GB\n",
      "Sistema Operacional: Windows 10 (10.0.22621)\n"
     ]
    }
   ],
   "source": [
    "import platform\n",
    "import psutil\n",
    "import cpuinfo\n",
    "import os\n",
    "\n",
    "def get_cpu_info():\n",
    "    cpu_freq = psutil.cpu_freq()\n",
    "    cpu_count = psutil.cpu_count(logical=False)\n",
    "    cpu_cores = os.cpu_count()\n",
    "    return f\"CPU: {platform.processor()} | Clock: {cpu_freq.current:.2f}MHz | Cores: {cpu_count} | Threads: {cpu_cores}\"\n",
    "\n",
    "def get_cache_info():\n",
    "    cpu_info = cpuinfo.get_cpu_info()\n",
    "    cache_sizes = {\n",
    "        \"L1\": cpu_info.get(\"l1_data_cache_size\"),\n",
    "        \"L2\": cpu_info.get(\"l2_cache_size\"),\n",
    "        \"L3\": cpu_info.get(\"l3_cache_size\")\n",
    "    }\n",
    "    cache_info = \", \".join([f\"{level} {size}\" for level, size in cache_sizes.items() if size])\n",
    "    return f\"Cache: {cache_info}\"\n",
    "\n",
    "def get_memory_info():\n",
    "    virtual_memory = psutil.virtual_memory()\n",
    "    total_memory = virtual_memory.total / (1024 ** 3)  # Convert to GB\n",
    "    return f\"Memória RAM: {total_memory:.2f}GB\"\n",
    "\n",
    "def get_os_info():\n",
    "    os_info = f\"Sistema Operacional: {platform.system()} {platform.release()} ({platform.version()})\"\n",
    "    return os_info\n",
    "\n",
    "def print_system_info():\n",
    "    print(get_cpu_info())\n",
    "    print(get_cache_info())\n",
    "    print(get_memory_info())\n",
    "    print(get_os_info())\n",
    "\n",
    "\n",
    "print_system_info()"
   ]
  },
  {
   "cell_type": "markdown",
   "source": [
    "# Produto Escalar"
   ],
   "metadata": {
    "collapsed": false
   }
  },
  {
   "cell_type": "code",
   "execution_count": 18,
   "outputs": [],
   "source": [
    "set_num_threads(4)\n",
    "\n",
    "def dot_product(u, v):\n",
    "    return sum(u_i * v_i for u_i, v_i in zip(u, v))\n",
    "\n",
    "\n",
    "@njit(parallel=True)\n",
    "def dot_product_parallel(u, v, num_threads=4):\n",
    "    result = 0\n",
    "    for i in prange(u.shape[0]):\n",
    "        result += u[i] * v[i]\n",
    "    return result"
   ],
   "metadata": {
    "collapsed": false
   }
  },
  {
   "cell_type": "code",
   "execution_count": 19,
   "outputs": [
    {
     "name": "stdout",
     "output_type": "stream",
     "text": [
      "run_dot_sequential took 0.0001 seconds to run.\n",
      "run_dot_parallel took 0.2663 seconds to run.\n"
     ]
    }
   ],
   "source": [
    "u = np.random.rand(100)\n",
    "v = np.random.rand(100)\n",
    "\n",
    "@timeme\n",
    "def run_dot_sequential():\n",
    "    dot_product(u, v)\n",
    "\n",
    "\n",
    "@timeme\n",
    "def run_dot_parallel():\n",
    "    dot_product_parallel(u, v)\n",
    "\n",
    "\n",
    "run_dot_sequential()\n",
    "run_dot_parallel()"
   ],
   "metadata": {
    "collapsed": false
   }
  },
  {
   "cell_type": "code",
   "execution_count": 21,
   "outputs": [
    {
     "name": "stdout",
     "output_type": "stream",
     "text": [
      "run_dot_parallel took 0.0003 seconds to run.\n",
      "run_dot_parallel took 0.0006 seconds to run.\n",
      "run_dot_parallel took 0.0005 seconds to run.\n",
      "run_dot_parallel took 0.0009 seconds to run.\n",
      "run_dot_parallel took 0.0014 seconds to run.\n",
      "CPU: Intel64 Family 6 Model 154 Stepping 3, GenuineIntel | Clock: 2300.00MHz | Cores: 14 | Threads: 20\n",
      "Cache: L2 4194304, L3 25165824\n",
      "Memória RAM: 15.69GB\n",
      "Sistema Operacional: Windows 10 (10.0.22621)\n"
     ]
    }
   ],
   "source": [
    "def run_dot_parallel_with_threads(n_threads):\n",
    "    set_num_threads(n_threads)\n",
    "    run_dot_parallel()\n",
    "\n",
    "run_dot_parallel_with_threads(1)\n",
    "run_dot_parallel_with_threads(2)\n",
    "run_dot_parallel_with_threads(4)\n",
    "run_dot_parallel_with_threads(8)\n",
    "run_dot_parallel_with_threads(16)"
   ],
   "metadata": {
    "collapsed": false
   }
  },
  {
   "cell_type": "code",
   "execution_count": 24,
   "outputs": [
    {
     "name": "stdout",
     "output_type": "stream",
     "text": [
      "run_dot_sequential took 0.0000 seconds to run.\n",
      "run_dot_sequential took 0.0000 seconds to run.\n",
      "run_dot_sequential took 0.0000 seconds to run.\n",
      "run_dot_sequential took 0.0000 seconds to run.\n",
      "run_dot_sequential took 0.0000 seconds to run.\n",
      "run_dot_sequential took 0.0000 seconds to run.\n",
      "run_dot_sequential took 0.0000 seconds to run.\n",
      "run_dot_sequential took 0.0000 seconds to run.\n",
      "run_dot_sequential took 0.0000 seconds to run.\n",
      "run_dot_sequential took 0.0000 seconds to run.\n",
      "run_dot_parallel took 0.0005 seconds to run.\n",
      "run_dot_parallel took 0.0003 seconds to run.\n",
      "run_dot_parallel took 0.0002 seconds to run.\n",
      "run_dot_parallel took 0.0001 seconds to run.\n",
      "run_dot_parallel took 0.0000 seconds to run.\n",
      "run_dot_parallel took 0.0000 seconds to run.\n",
      "run_dot_parallel took 0.0000 seconds to run.\n",
      "run_dot_parallel took 0.0000 seconds to run.\n",
      "run_dot_parallel took 0.0000 seconds to run.\n",
      "run_dot_parallel took 0.0000 seconds to run.\n",
      "Speedup: 0.31305791595286303\n"
     ]
    }
   ],
   "source": [
    "sequential_time = timeit.timeit(run_dot_sequential, number=10) / 10\n",
    "parallel_time = timeit.timeit(run_dot_parallel, number=10) / 10\n",
    "\n",
    "print(f\"Speedup: {speedup(sequential_time, parallel_time)}\")"
   ],
   "metadata": {
    "collapsed": false
   }
  },
  {
   "cell_type": "code",
   "execution_count": 25,
   "outputs": [
    {
     "name": "stdout",
     "output_type": "stream",
     "text": [
      "CPU: Intel64 Family 6 Model 154 Stepping 3, GenuineIntel | Clock: 2300.00MHz | Cores: 14 | Threads: 20\n",
      "Cache: L2 4194304, L3 25165824\n",
      "Memória RAM: 15.69GB\n",
      "Sistema Operacional: Windows 10 (10.0.22621)\n"
     ]
    }
   ],
   "source": [
    "print_system_info()"
   ],
   "metadata": {
    "collapsed": false
   }
  }
 ],
 "metadata": {
  "kernelspec": {
   "display_name": "Python 3 (ipykernel)",
   "language": "python",
   "name": "python3"
  },
  "language_info": {
   "codemirror_mode": {
    "name": "ipython",
    "version": 3
   },
   "file_extension": ".py",
   "mimetype": "text/x-python",
   "name": "python",
   "nbconvert_exporter": "python",
   "pygments_lexer": "ipython3",
   "version": "3.10.4"
  }
 },
 "nbformat": 4,
 "nbformat_minor": 1
}
